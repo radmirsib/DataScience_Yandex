{
 "cells": [
  {
   "cell_type": "markdown",
   "metadata": {
    "toc": true
   },
   "source": [
    "<h1>Содержание<span class=\"tocSkip\"></span></h1>\n",
    "<div class=\"toc\"><ul class=\"toc-item\"><li><span><a href=\"#Загрузка-данных\" data-toc-modified-id=\"Загрузка-данных-1\"><span class=\"toc-item-num\">1&nbsp;&nbsp;</span>Загрузка данных</a></span></li><li><span><a href=\"#Умножение-матриц\" data-toc-modified-id=\"Умножение-матриц-2\"><span class=\"toc-item-num\">2&nbsp;&nbsp;</span>Умножение матриц</a></span></li><li><span><a href=\"#Алгоритм-преобразования\" data-toc-modified-id=\"Алгоритм-преобразования-3\"><span class=\"toc-item-num\">3&nbsp;&nbsp;</span>Алгоритм преобразования</a></span></li><li><span><a href=\"#Проверка-алгоритма\" data-toc-modified-id=\"Проверка-алгоритма-4\"><span class=\"toc-item-num\">4&nbsp;&nbsp;</span>Проверка алгоритма</a></span></li><li><span><a href=\"#Чек-лист-проверки\" data-toc-modified-id=\"Чек-лист-проверки-5\"><span class=\"toc-item-num\">5&nbsp;&nbsp;</span>Чек-лист проверки</a></span></li></ul></div>"
   ]
  },
  {
   "cell_type": "markdown",
   "metadata": {},
   "source": [
    "# Защита персональных данных клиентов"
   ]
  },
  {
   "cell_type": "markdown",
   "metadata": {},
   "source": [
    "Вам нужно защитить данные клиентов страховой компании «Хоть потоп». Разработайте такой метод преобразования данных, чтобы по ним было сложно восстановить персональную информацию. Обоснуйте корректность его работы.\n",
    "\n",
    "Нужно защитить данные, чтобы при преобразовании качество моделей машинного обучения не ухудшилось. Подбирать наилучшую модель не требуется."
   ]
  },
  {
   "cell_type": "markdown",
   "metadata": {},
   "source": [
    "## Загрузка данных"
   ]
  },
  {
   "cell_type": "markdown",
   "metadata": {},
   "source": [
    "Загрузите и изучите данные."
   ]
  },
  {
   "cell_type": "code",
   "execution_count": 1,
   "metadata": {},
   "outputs": [],
   "source": [
    "# Загрузим все необходимые библиотеки\n",
    "\n",
    "import pandas as pd # импорт библиотеки pandas \n",
    "import matplotlib.pyplot as plt # импорт библиотеки matplotlib\n",
    "plt.style.use('seaborn-pastel')\n",
    "import numpy as np # импорт библиотеки numpy\n",
    "\n",
    "from sklearn.model_selection import train_test_split\n",
    "from sklearn.metrics import r2_score\n",
    "\n",
    "from sklearn.linear_model import LinearRegression\n",
    "\n",
    "import time\n",
    "from tqdm import tqdm # импорт библиотеки tqdm для просмотра прогресса обучения модели"
   ]
  },
  {
   "cell_type": "code",
   "execution_count": 2,
   "metadata": {},
   "outputs": [
    {
     "data": {
      "text/html": [
       "<div>\n",
       "<style scoped>\n",
       "    .dataframe tbody tr th:only-of-type {\n",
       "        vertical-align: middle;\n",
       "    }\n",
       "\n",
       "    .dataframe tbody tr th {\n",
       "        vertical-align: top;\n",
       "    }\n",
       "\n",
       "    .dataframe thead th {\n",
       "        text-align: right;\n",
       "    }\n",
       "</style>\n",
       "<table border=\"1\" class=\"dataframe\">\n",
       "  <thead>\n",
       "    <tr style=\"text-align: right;\">\n",
       "      <th></th>\n",
       "      <th>Пол</th>\n",
       "      <th>Возраст</th>\n",
       "      <th>Зарплата</th>\n",
       "      <th>Члены семьи</th>\n",
       "      <th>Страховые выплаты</th>\n",
       "    </tr>\n",
       "  </thead>\n",
       "  <tbody>\n",
       "    <tr>\n",
       "      <th>0</th>\n",
       "      <td>1</td>\n",
       "      <td>41.0</td>\n",
       "      <td>49600.0</td>\n",
       "      <td>1</td>\n",
       "      <td>0</td>\n",
       "    </tr>\n",
       "    <tr>\n",
       "      <th>1</th>\n",
       "      <td>0</td>\n",
       "      <td>46.0</td>\n",
       "      <td>38000.0</td>\n",
       "      <td>1</td>\n",
       "      <td>1</td>\n",
       "    </tr>\n",
       "    <tr>\n",
       "      <th>2</th>\n",
       "      <td>0</td>\n",
       "      <td>29.0</td>\n",
       "      <td>21000.0</td>\n",
       "      <td>0</td>\n",
       "      <td>0</td>\n",
       "    </tr>\n",
       "    <tr>\n",
       "      <th>3</th>\n",
       "      <td>0</td>\n",
       "      <td>21.0</td>\n",
       "      <td>41700.0</td>\n",
       "      <td>2</td>\n",
       "      <td>0</td>\n",
       "    </tr>\n",
       "    <tr>\n",
       "      <th>4</th>\n",
       "      <td>1</td>\n",
       "      <td>28.0</td>\n",
       "      <td>26100.0</td>\n",
       "      <td>0</td>\n",
       "      <td>0</td>\n",
       "    </tr>\n",
       "  </tbody>\n",
       "</table>\n",
       "</div>"
      ],
      "text/plain": [
       "   Пол  Возраст  Зарплата  Члены семьи  Страховые выплаты\n",
       "0    1     41.0   49600.0            1                  0\n",
       "1    0     46.0   38000.0            1                  1\n",
       "2    0     29.0   21000.0            0                  0\n",
       "3    0     21.0   41700.0            2                  0\n",
       "4    1     28.0   26100.0            0                  0"
      ]
     },
     "execution_count": 2,
     "metadata": {},
     "output_type": "execute_result"
    }
   ],
   "source": [
    "# Загрузим данные и просмотрим таблтицу\n",
    "\n",
    "df = pd.read_csv('/datasets/insurance.csv')\n",
    "\n",
    "df.head()"
   ]
  },
  {
   "cell_type": "code",
   "execution_count": 3,
   "metadata": {},
   "outputs": [
    {
     "name": "stdout",
     "output_type": "stream",
     "text": [
      "<class 'pandas.core.frame.DataFrame'>\n",
      "RangeIndex: 5000 entries, 0 to 4999\n",
      "Data columns (total 5 columns):\n",
      " #   Column             Non-Null Count  Dtype  \n",
      "---  ------             --------------  -----  \n",
      " 0   Пол                5000 non-null   int64  \n",
      " 1   Возраст            5000 non-null   float64\n",
      " 2   Зарплата           5000 non-null   float64\n",
      " 3   Члены семьи        5000 non-null   int64  \n",
      " 4   Страховые выплаты  5000 non-null   int64  \n",
      "dtypes: float64(2), int64(3)\n",
      "memory usage: 195.4 KB\n"
     ]
    }
   ],
   "source": [
    "df.info()"
   ]
  },
  {
   "cell_type": "code",
   "execution_count": 4,
   "metadata": {},
   "outputs": [
    {
     "data": {
      "image/png": "[encoded data removed]",
      "text/plain": [
       "<Figure size 504x360 with 1 Axes>"
      ]
     },
     "metadata": {
      "needs_background": "light"
     },
     "output_type": "display_data"
    },
    {
     "data": {
      "image/png": "[encoded data removed]",
      "text/plain": [
       "<Figure size 504x360 with 1 Axes>"
      ]
     },
     "metadata": {
      "needs_background": "light"
     },
     "output_type": "display_data"
    },
    {
     "data": {
      "image/png": "[encoded data removed]",
      "text/plain": [
       "<Figure size 504x360 with 1 Axes>"
      ]
     },
     "metadata": {
      "needs_background": "light"
     },
     "output_type": "display_data"
    },
    {
     "data": {
      "image/png": "[encoded data removed]",
      "text/plain": [
       "<Figure size 504x360 with 1 Axes>"
      ]
     },
     "metadata": {
      "needs_background": "light"
     },
     "output_type": "display_data"
    },
    {
     "data": {
      "image/png": "[encoded data removed]",
      "text/plain": [
       "<Figure size 504x360 with 1 Axes>"
      ]
     },
     "metadata": {
      "needs_background": "light"
     },
     "output_type": "display_data"
    }
   ],
   "source": [
    "# Рассмотрим гистограммы столбцов\n",
    "\n",
    "for column in df.columns:\n",
    "    plt.figure(figsize=(7,5))\n",
    "    df[column].hist(bins=25, edgecolor='k', color='purple')\n",
    "    plt.title(f'Распределение столбца {column}')\n",
    "    plt.show()"
   ]
  },
  {
   "cell_type": "markdown",
   "metadata": {},
   "source": [
    "**Вывод:**\n",
    "\n",
    "- Пропусков нет.\n",
    "- Выбросов нет.\n",
    "- Лишних столбцов нет.\n",
    "\n",
    "Приступим к выполнении условий задачи."
   ]
  },
  {
   "cell_type": "markdown",
   "metadata": {},
   "source": [
    "## Умножение матриц"
   ]
  },
  {
   "cell_type": "markdown",
   "metadata": {},
   "source": [
    "В этом задании вы можете записывать формулы в *Jupyter Notebook.*\n",
    "\n",
    "Чтобы записать формулу внутри текста, окружите её символами доллара \\\\$; если снаружи —  двойными символами \\\\$\\\\$. Эти формулы записываются на языке вёрстки *LaTeX.* \n",
    "\n",
    "Для примера мы записали формулы линейной регрессии. Можете их скопировать и отредактировать, чтобы решить задачу.\n",
    "\n",
    "Работать в *LaTeX* необязательно."
   ]
  },
  {
   "cell_type": "markdown",
   "metadata": {},
   "source": [
    "Обозначения:\n",
    "\n",
    "- $X$ — матрица признаков (нулевой столбец состоит из единиц)\n",
    "\n",
    "- $y$ — вектор целевого признака\n",
    "\n",
    "- $P$ — матрица, на которую умножаются признаки\n",
    "\n",
    "- $w$ — вектор весов линейной регрессии (нулевой элемент равен сдвигу)"
   ]
  },
  {
   "cell_type": "markdown",
   "metadata": {},
   "source": [
    "Предсказания:\n",
    "\n",
    "$$\n",
    "a = Xw\n",
    "$$\n",
    "\n",
    "Задача обучения:\n",
    "\n",
    "$$\n",
    "w = \\arg\\min_w MSE(Xw, y)\n",
    "$$\n",
    "\n",
    "Формула обучения:\n",
    "\n",
    "$$\n",
    "w = (X^T X)^{-1} X^T y\n",
    "$$"
   ]
  },
  {
   "cell_type": "markdown",
   "metadata": {},
   "source": [
    "**Ответ:** Качество модели не изменится"
   ]
  },
  {
   "cell_type": "markdown",
   "metadata": {},
   "source": [
    "**Обоснование:** Воспользуемся следующими свойствами матриц:\n",
    "1. $AA^{-1} = E$\n",
    "2. $(AB)^T = B^TA^T$\n",
    "3. $(AB)^{-1} = B^{-1}A^{-1}$\n",
    "4. $(AB)C = A(BC)$"
   ]
  },
  {
   "cell_type": "markdown",
   "metadata": {},
   "source": [
    "Подставим в формулу обучения:\n",
    "$$\n",
    "w^{'} = ((XP)^TXP)^{-1}(XP)^Ty\n",
    "$$"
   ]
  },
  {
   "cell_type": "markdown",
   "metadata": {},
   "source": [
    "Раскроем скобки:\n",
    "$$\n",
    "w^{'} = (X^TP^TXP)^{-1}X^TP^Ty\n",
    "$$"
   ]
  },
  {
   "cell_type": "markdown",
   "metadata": {},
   "source": [
    "Заключим $X^TX$ в скобки и раскроем внешние:\n",
    "$$\n",
    "w^{'} = P^{-1}(X^TX)^{-1}(P^T)^{-1}P^TX^Ty\n",
    "$$"
   ]
  },
  {
   "cell_type": "markdown",
   "metadata": {},
   "source": [
    "При перемножении $(P^T)^{-1}P^T$ выходит единичная матрица и уравнение сокращается:\n",
    "\n",
    "$$\n",
    "w^{'} = P^{-1}(X^TX)^{-1}X^Ty\n",
    "$$"
   ]
  },
  {
   "cell_type": "markdown",
   "metadata": {},
   "source": [
    "Подставим $w$ в $w^{'}$:\n",
    "$$\n",
    "w^{'} = P^{-1}w\n",
    "$$"
   ]
  },
  {
   "cell_type": "markdown",
   "metadata": {},
   "source": [
    "Подставим в предсказания перемноженные матрицы и посмотрим результат:\n",
    "$$\n",
    "a^{'} = XPw^{'}\n",
    "$$"
   ]
  },
  {
   "cell_type": "markdown",
   "metadata": {},
   "source": [
    "Образуется единичная матрица:\n",
    "$$\n",
    "a^{'} = XPP^{-1}w\n",
    "$$\n",
    "$$\n",
    "a^{'} = Xw = a\n",
    "$$"
   ]
  },
  {
   "cell_type": "markdown",
   "metadata": {},
   "source": [
    "**Вывод:**\n",
    "\n",
    "При использовании обратимой матрицы признаков, как метод шифрования - метрика не изменится, так как предсказания $a$ равны $a^{'}$."
   ]
  },
  {
   "cell_type": "markdown",
   "metadata": {},
   "source": [
    "## Алгоритм преобразования"
   ]
  },
  {
   "cell_type": "markdown",
   "metadata": {},
   "source": [
    "**Предложите алгоритм преобразования данных для решения задачи. Обоснуйте, почему качество линейной регрессии не поменяется.**"
   ]
  },
  {
   "cell_type": "markdown",
   "metadata": {},
   "source": [
    "**Алгоритм**\n",
    "\n",
    "Для преобразования воспользуемся данным алгоритмом:\n",
    "\n",
    "1. Разделим данные на признаки и целевой признак.\n",
    "2. Создадим рандомизированную квадратную матрицу, ширина которой будет равняться количеству признаков.\n",
    "3. Проверим матрицу на обратимость. Если необратима - зададим другие параметры рандомизации.\n",
    "4. Преобразуем признаки, умножив их на матрицу и сохраним их в новой переменной - зашифрованной таблице.\n",
    "5. Сохраним обратную матрицу, чтобы была возможность дешифровать признаки.\n",
    "6. Разделим изначальный датасет и зашифрованный на тестовую и тренировочную выборку.\n",
    "7. Проверим метрики. Если не отличаются - задача выполнена."
   ]
  },
  {
   "cell_type": "markdown",
   "metadata": {},
   "source": [
    "**Обоснование**\n",
    "\n",
    "Так как на основании полученной ранее формулы, где предсказания $a$ равны $a^{'}$, при умножении матрицы признаков на обратимую матрицу, метрики качества не изменятся.\n",
    "\n",
    "Проверим наш алгоритм."
   ]
  },
  {
   "cell_type": "markdown",
   "metadata": {},
   "source": [
    "## Проверка алгоритма"
   ]
  },
  {
   "cell_type": "markdown",
   "metadata": {},
   "source": [
    "Запрограммируйте этот алгоритм, применив матричные операции. Проверьте, что качество линейной регрессии из sklearn не отличается до и после преобразования. Примените метрику R2.\n",
    "\n",
    "Создадим функцию, которая выполняет необходимые операции:"
   ]
  },
  {
   "cell_type": "code",
   "execution_count": 5,
   "metadata": {},
   "outputs": [],
   "source": [
    "# Создаём функцию, которая преобразовывает данные:\n",
    "\n",
    "def encode(data, randomstate=12345, randint=1000):\n",
    "    try:\n",
    "        # задаём рандом\n",
    "        rng = np.random.RandomState(randomstate)\n",
    "        \n",
    "        # создаём матрицу, где идет разброс значений от 0 до 1000\n",
    "        P = rng.randint(randint, size=(data.shape[1], data.shape[1]))\n",
    "        \n",
    "        # проверяем обратимость. Если будет необратимая - перенесет на except\n",
    "        Pinv = np.linalg.inv(P)\n",
    "        \n",
    "        # преобразуем таблицу и снова задаём столбцы\n",
    "        encoded_data = np.dot(data, P)\n",
    "        encoded_data = pd.DataFrame(encoded_data, columns=data.columns)\n",
    "        \n",
    "        # возвращаем ключ шифрования и преобразованную таблицу\n",
    "        return encoded_data, Pinv\n",
    "    except:\n",
    "        print('Cannot create inverted matrix. Try another RandInt or RandomState.')"
   ]
  },
  {
   "cell_type": "markdown",
   "metadata": {},
   "source": [
    "Разделим датасет на признаки и целевой признак, проверим шифрацию данных:"
   ]
  },
  {
   "cell_type": "code",
   "execution_count": 6,
   "metadata": {},
   "outputs": [
    {
     "data": {
      "text/html": [
       "<div>\n",
       "<style scoped>\n",
       "    .dataframe tbody tr th:only-of-type {\n",
       "        vertical-align: middle;\n",
       "    }\n",
       "\n",
       "    .dataframe tbody tr th {\n",
       "        vertical-align: top;\n",
       "    }\n",
       "\n",
       "    .dataframe thead th {\n",
       "        text-align: right;\n",
       "    }\n",
       "</style>\n",
       "<table border=\"1\" class=\"dataframe\">\n",
       "  <thead>\n",
       "    <tr style=\"text-align: right;\">\n",
       "      <th></th>\n",
       "      <th>Пол</th>\n",
       "      <th>Возраст</th>\n",
       "      <th>Зарплата</th>\n",
       "      <th>Члены семьи</th>\n",
       "    </tr>\n",
       "  </thead>\n",
       "  <tbody>\n",
       "    <tr>\n",
       "      <th>0</th>\n",
       "      <td>27099671.0</td>\n",
       "      <td>26851825.0</td>\n",
       "      <td>38159001.0</td>\n",
       "      <td>5867671.0</td>\n",
       "    </tr>\n",
       "    <tr>\n",
       "      <th>1</th>\n",
       "      <td>20767689.0</td>\n",
       "      <td>20577865.0</td>\n",
       "      <td>29240226.0</td>\n",
       "      <td>4500527.0</td>\n",
       "    </tr>\n",
       "    <tr>\n",
       "      <th>2</th>\n",
       "      <td>11478180.0</td>\n",
       "      <td>11373325.0</td>\n",
       "      <td>16160078.0</td>\n",
       "      <td>2488353.0</td>\n",
       "    </tr>\n",
       "    <tr>\n",
       "      <th>3</th>\n",
       "      <td>22777758.0</td>\n",
       "      <td>22569255.0</td>\n",
       "      <td>32076630.0</td>\n",
       "      <td>4928307.0</td>\n",
       "    </tr>\n",
       "    <tr>\n",
       "      <th>4</th>\n",
       "      <td>14262842.0</td>\n",
       "      <td>14132485.0</td>\n",
       "      <td>20081881.0</td>\n",
       "      <td>3089925.0</td>\n",
       "    </tr>\n",
       "    <tr>\n",
       "      <th>...</th>\n",
       "      <td>...</td>\n",
       "      <td>...</td>\n",
       "      <td>...</td>\n",
       "      <td>...</td>\n",
       "    </tr>\n",
       "    <tr>\n",
       "      <th>4995</th>\n",
       "      <td>19504698.0</td>\n",
       "      <td>19326230.0</td>\n",
       "      <td>27465304.0</td>\n",
       "      <td>4222806.0</td>\n",
       "    </tr>\n",
       "    <tr>\n",
       "      <th>4996</th>\n",
       "      <td>28625049.0</td>\n",
       "      <td>28363165.0</td>\n",
       "      <td>40309242.0</td>\n",
       "      <td>6195443.0</td>\n",
       "    </tr>\n",
       "    <tr>\n",
       "      <th>4997</th>\n",
       "      <td>18518538.0</td>\n",
       "      <td>18349030.0</td>\n",
       "      <td>26078048.0</td>\n",
       "      <td>4007550.0</td>\n",
       "    </tr>\n",
       "    <tr>\n",
       "      <th>4998</th>\n",
       "      <td>17865029.0</td>\n",
       "      <td>17701480.0</td>\n",
       "      <td>25156951.0</td>\n",
       "      <td>3866898.0</td>\n",
       "    </tr>\n",
       "    <tr>\n",
       "      <th>4999</th>\n",
       "      <td>22180211.0</td>\n",
       "      <td>21977300.0</td>\n",
       "      <td>31233035.0</td>\n",
       "      <td>4801030.0</td>\n",
       "    </tr>\n",
       "  </tbody>\n",
       "</table>\n",
       "<p>5000 rows × 4 columns</p>\n",
       "</div>"
      ],
      "text/plain": [
       "             Пол     Возраст    Зарплата  Члены семьи\n",
       "0     27099671.0  26851825.0  38159001.0    5867671.0\n",
       "1     20767689.0  20577865.0  29240226.0    4500527.0\n",
       "2     11478180.0  11373325.0  16160078.0    2488353.0\n",
       "3     22777758.0  22569255.0  32076630.0    4928307.0\n",
       "4     14262842.0  14132485.0  20081881.0    3089925.0\n",
       "...          ...         ...         ...          ...\n",
       "4995  19504698.0  19326230.0  27465304.0    4222806.0\n",
       "4996  28625049.0  28363165.0  40309242.0    6195443.0\n",
       "4997  18518538.0  18349030.0  26078048.0    4007550.0\n",
       "4998  17865029.0  17701480.0  25156951.0    3866898.0\n",
       "4999  22180211.0  21977300.0  31233035.0    4801030.0\n",
       "\n",
       "[5000 rows x 4 columns]"
      ]
     },
     "execution_count": 6,
     "metadata": {},
     "output_type": "execute_result"
    }
   ],
   "source": [
    "features = df.drop('Страховые выплаты', axis=1)\n",
    "target = df['Страховые выплаты']\n",
    "\n",
    "features_encoded, encode_key = encode(features)\n",
    "\n",
    "features_encoded"
   ]
  },
  {
   "cell_type": "markdown",
   "metadata": {},
   "source": [
    "**Матрица преобразована.**\n",
    "\n",
    "Создадим функцию, которая принимает в виде аргументов: `признаки`, `целевой признак` и `модель обучения`.\n",
    "\n",
    "Внутри функции разделение матрицы на тестовую и тренировочную выборку в соотношении 4 к 1, обучает модель на выборках и показывает метрики качества модели - как на тренировочной, так и на тестовой."
   ]
  },
  {
   "cell_type": "code",
   "execution_count": 7,
   "metadata": {},
   "outputs": [],
   "source": [
    "def check_r2(features, target, model=LinearRegression()):\n",
    "    \n",
    "    train_features, test_features, train_target, test_target = train_test_split(features,\n",
    "                                                                                target,\n",
    "                                                                                test_size=0.2,\n",
    "                                                                                random_state=12345)\n",
    "    \n",
    "    model = model\n",
    "    model.fit(train_features, train_target)\n",
    "    \n",
    "    train_predicted = model.predict(train_features)\n",
    "    test_predicted = model.predict(test_features)\n",
    "    \n",
    "    train_score = r2_score(train_target, train_predicted)\n",
    "    test_score = r2_score(test_target, test_predicted)\n",
    "    \n",
    "    print('Метрика R2 на тренировочной выборке:', round(train_score, 4), \n",
    "          '\\nМетрика R2 на тестовой выборке:', round(test_score, 4))"
   ]
  },
  {
   "cell_type": "markdown",
   "metadata": {},
   "source": [
    "Проверим не преобразованный датасет:"
   ]
  },
  {
   "cell_type": "code",
   "execution_count": 8,
   "metadata": {},
   "outputs": [
    {
     "name": "stdout",
     "output_type": "stream",
     "text": [
      "Метрика R2 на тренировочной выборке: 0.4273 \n",
      "Метрика R2 на тестовой выборке: 0.4118\n"
     ]
    }
   ],
   "source": [
    "check_r2(features, target)"
   ]
  },
  {
   "cell_type": "markdown",
   "metadata": {},
   "source": [
    "Проверим шифрованный:"
   ]
  },
  {
   "cell_type": "code",
   "execution_count": 9,
   "metadata": {},
   "outputs": [
    {
     "name": "stdout",
     "output_type": "stream",
     "text": [
      "Метрика R2 на тренировочной выборке: 0.4273 \n",
      "Метрика R2 на тестовой выборке: 0.4118\n"
     ]
    }
   ],
   "source": [
    "check_r2(features_encoded, target)"
   ]
  },
  {
   "cell_type": "markdown",
   "metadata": {},
   "source": [
    "**Вывод**\n",
    "\n",
    "Метрики качества моделей до и после преобразования не изменились.\n",
    "\n",
    "Функцией `encode`, можно защитить данные клиентов страховой компании «Хоть потоп». При этом качество модели не будет меняться."
   ]
  }
 ],
 "metadata": {
  "ExecuteTimeLog": [
   {
    "duration": 1494,
    "start_time": "2023-05-12T19:23:24.692Z"
   },
   {
    "duration": 109,
    "start_time": "2023-05-12T19:23:35.101Z"
   },
   {
    "duration": 15,
    "start_time": "2023-05-12T19:23:43.883Z"
   },
   {
    "duration": 1055,
    "start_time": "2023-05-12T19:23:51.699Z"
   },
   {
    "duration": 81,
    "start_time": "2023-05-15T17:42:35.701Z"
   },
   {
    "duration": 60,
    "start_time": "2023-05-15T17:42:52.794Z"
   },
   {
    "duration": 4,
    "start_time": "2023-05-15T21:15:47.606Z"
   },
   {
    "duration": 42,
    "start_time": "2023-05-15T21:16:09.510Z"
   },
   {
    "duration": 1403,
    "start_time": "2023-05-15T21:16:19.486Z"
   },
   {
    "duration": 101,
    "start_time": "2023-05-15T21:16:20.891Z"
   },
   {
    "duration": 12,
    "start_time": "2023-05-15T21:16:20.994Z"
   },
   {
    "duration": 806,
    "start_time": "2023-05-15T21:16:21.009Z"
   },
   {
    "duration": 8,
    "start_time": "2023-05-15T21:16:21.817Z"
   },
   {
    "duration": 99,
    "start_time": "2023-05-15T21:16:21.827Z"
   },
   {
    "duration": 4,
    "start_time": "2023-05-15T21:18:17.206Z"
   },
   {
    "duration": 14,
    "start_time": "2023-05-15T21:18:36.992Z"
   },
   {
    "duration": 61,
    "start_time": "2023-05-15T21:18:44.152Z"
   },
   {
    "duration": 13,
    "start_time": "2023-05-15T21:18:59.216Z"
   },
   {
    "duration": 1329,
    "start_time": "2023-05-15T21:20:50.498Z"
   },
   {
    "duration": 42,
    "start_time": "2023-05-15T21:20:51.830Z"
   },
   {
    "duration": 13,
    "start_time": "2023-05-15T21:20:51.874Z"
   },
   {
    "duration": 761,
    "start_time": "2023-05-15T21:20:51.889Z"
   },
   {
    "duration": 4,
    "start_time": "2023-05-15T21:20:52.652Z"
   },
   {
    "duration": 21,
    "start_time": "2023-05-15T21:20:52.658Z"
   },
   {
    "duration": 6,
    "start_time": "2023-05-15T21:20:52.726Z"
   },
   {
    "duration": 202,
    "start_time": "2023-05-15T21:20:52.734Z"
   },
   {
    "duration": 187,
    "start_time": "2023-05-15T21:20:52.939Z"
   },
   {
    "duration": 767,
    "start_time": "2023-05-15T21:25:50.919Z"
   },
   {
    "duration": 693,
    "start_time": "2023-05-15T21:25:57.001Z"
   },
   {
    "duration": 832,
    "start_time": "2023-05-15T21:26:04.394Z"
   },
   {
    "duration": 805,
    "start_time": "2023-05-15T21:26:24.806Z"
   },
   {
    "duration": 833,
    "start_time": "2023-05-15T21:26:30.625Z"
   },
   {
    "duration": 853,
    "start_time": "2023-05-15T21:27:09.764Z"
   },
   {
    "duration": 897,
    "start_time": "2023-05-15T21:27:18.877Z"
   },
   {
    "duration": 100,
    "start_time": "2023-05-15T21:29:02.039Z"
   },
   {
    "duration": 12,
    "start_time": "2023-05-15T21:29:07.674Z"
   },
   {
    "duration": 119,
    "start_time": "2023-05-15T21:29:18.006Z"
   },
   {
    "duration": 687,
    "start_time": "2023-05-15T21:29:26.183Z"
   },
   {
    "duration": 813,
    "start_time": "2023-05-15T21:29:32.634Z"
   },
   {
    "duration": 782,
    "start_time": "2023-05-15T21:29:38.590Z"
   },
   {
    "duration": 798,
    "start_time": "2023-05-15T21:30:15.718Z"
   },
   {
    "duration": 758,
    "start_time": "2023-05-15T21:30:20.738Z"
   },
   {
    "duration": 838,
    "start_time": "2023-05-15T21:30:27.908Z"
   },
   {
    "duration": 731,
    "start_time": "2023-05-15T21:30:33.053Z"
   },
   {
    "duration": 113,
    "start_time": "2023-05-15T21:30:46.986Z"
   },
   {
    "duration": 788,
    "start_time": "2023-05-15T21:30:51.978Z"
   },
   {
    "duration": 719,
    "start_time": "2023-05-15T21:31:13.310Z"
   },
   {
    "duration": 104,
    "start_time": "2023-05-15T21:31:32.170Z"
   },
   {
    "duration": 101,
    "start_time": "2023-05-15T21:31:37.142Z"
   },
   {
    "duration": 109,
    "start_time": "2023-05-15T21:31:45.844Z"
   },
   {
    "duration": 844,
    "start_time": "2023-05-15T21:31:51.482Z"
   },
   {
    "duration": 776,
    "start_time": "2023-05-15T21:31:58.748Z"
   },
   {
    "duration": 856,
    "start_time": "2023-05-15T21:32:06.755Z"
   },
   {
    "duration": 115,
    "start_time": "2023-05-15T21:32:54.470Z"
   },
   {
    "duration": 121,
    "start_time": "2023-05-15T21:33:03.077Z"
   },
   {
    "duration": 795,
    "start_time": "2023-05-15T21:33:10.381Z"
   },
   {
    "duration": 107,
    "start_time": "2023-05-15T21:36:36.542Z"
   },
   {
    "duration": 915,
    "start_time": "2023-05-15T21:36:40.419Z"
   },
   {
    "duration": 1422,
    "start_time": "2023-05-15T21:36:48.999Z"
   },
   {
    "duration": 46,
    "start_time": "2023-05-15T21:36:50.424Z"
   },
   {
    "duration": 13,
    "start_time": "2023-05-15T21:36:50.472Z"
   },
   {
    "duration": 844,
    "start_time": "2023-05-15T21:36:50.487Z"
   },
   {
    "duration": 5,
    "start_time": "2023-05-15T21:36:51.332Z"
   },
   {
    "duration": 92,
    "start_time": "2023-05-15T21:36:51.338Z"
   },
   {
    "duration": 6,
    "start_time": "2023-05-15T21:36:51.435Z"
   },
   {
    "duration": 189,
    "start_time": "2023-05-15T21:36:51.444Z"
   },
   {
    "duration": 190,
    "start_time": "2023-05-15T21:36:51.636Z"
   },
   {
    "duration": 1608,
    "start_time": "2023-05-24T01:44:30.837Z"
   },
   {
    "duration": 101,
    "start_time": "2023-05-24T01:44:32.447Z"
   },
   {
    "duration": 12,
    "start_time": "2023-05-24T01:44:32.550Z"
   },
   {
    "duration": 830,
    "start_time": "2023-05-24T01:44:32.564Z"
   },
   {
    "duration": 6,
    "start_time": "2023-05-24T01:44:33.398Z"
   },
   {
    "duration": 35,
    "start_time": "2023-05-24T01:44:33.407Z"
   },
   {
    "duration": 8,
    "start_time": "2023-05-24T01:44:33.524Z"
   },
   {
    "duration": 291,
    "start_time": "2023-05-24T01:44:33.534Z"
   },
   {
    "duration": 198,
    "start_time": "2023-05-24T01:44:33.828Z"
   },
   {
    "duration": 1529,
    "start_time": "2023-05-25T03:36:40.729Z"
   },
   {
    "duration": 96,
    "start_time": "2023-05-25T03:36:42.261Z"
   },
   {
    "duration": 14,
    "start_time": "2023-05-25T03:36:42.359Z"
   },
   {
    "duration": 837,
    "start_time": "2023-05-25T03:36:42.376Z"
   },
   {
    "duration": 6,
    "start_time": "2023-05-25T03:36:43.215Z"
   },
   {
    "duration": 150,
    "start_time": "2023-05-25T03:36:43.223Z"
   },
   {
    "duration": 6,
    "start_time": "2023-05-25T03:36:43.375Z"
   },
   {
    "duration": 125,
    "start_time": "2023-05-25T03:36:43.383Z"
   },
   {
    "duration": 104,
    "start_time": "2023-05-25T03:36:43.573Z"
   }
  ],
  "kernelspec": {
   "display_name": "Python 3 (ipykernel)",
   "language": "python",
   "name": "python3"
  },
  "language_info": {
   "codemirror_mode": {
    "name": "ipython",
    "version": 3
   },
   "file_extension": ".py",
   "mimetype": "text/x-python",
   "name": "python",
   "nbconvert_exporter": "python",
   "pygments_lexer": "ipython3",
   "version": "3.9.13"
  },
  "toc": {
   "base_numbering": 1,
   "nav_menu": {},
   "number_sections": true,
   "sideBar": true,
   "skip_h1_title": true,
   "title_cell": "Содержание",
   "title_sidebar": "Contents",
   "toc_cell": true,
   "toc_position": {},
   "toc_section_display": true,
   "toc_window_display": true
  }
 },
 "nbformat": 4,
 "nbformat_minor": 2
}
