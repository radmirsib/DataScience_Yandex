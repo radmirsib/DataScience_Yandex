{
 "cells": [
  {
   "cell_type": "markdown",
   "metadata": {
    "toc": true
   },
   "source": [
    "<h1>Содержание<span class=\"tocSkip\"></span></h1>\n",
    "<div class=\"toc\"><ul class=\"toc-item\"><li><span><a href=\"#Подготовка-данных\" data-toc-modified-id=\"Подготовка-данных-1\"><span class=\"toc-item-num\">1&nbsp;&nbsp;</span>Подготовка данных</a></span><ul class=\"toc-item\"><li><span><a href=\"#Удаление-признака-Surname,-идентификатора-строки,-идентификатора-клиента\" data-toc-modified-id=\"Удаление-признака-Surname,-идентификатора-строки,-идентификатора-клиента-1.1\"><span class=\"toc-item-num\">1.1&nbsp;&nbsp;</span>Удаление признака Surname, идентификатора строки, идентификатора клиента</a></span></li><li><span><a href=\"#Применение-демми-признаков-(ohe)\" data-toc-modified-id=\"Применение-демми-признаков-(ohe)-1.2\"><span class=\"toc-item-num\">1.2&nbsp;&nbsp;</span>Применение демми-признаков (ohe)</a></span></li><li><span><a href=\"#Создадим-выборки-и-приведём-объекты-выборок-к-единому-масштабу\" data-toc-modified-id=\"Создадим-выборки-и-приведём-объекты-выборок-к-единому-масштабу-1.3\"><span class=\"toc-item-num\">1.3&nbsp;&nbsp;</span>Создадим выборки и приведём объекты выборок к единому масштабу</a></span></li><li><span><a href=\"#Проанализируем-баланс-классов\" data-toc-modified-id=\"Проанализируем-баланс-классов-1.4\"><span class=\"toc-item-num\">1.4&nbsp;&nbsp;</span>Проанализируем баланс классов</a></span></li></ul></li><li><span><a href=\"#Исследование-задачи\" data-toc-modified-id=\"Исследование-задачи-2\"><span class=\"toc-item-num\">2&nbsp;&nbsp;</span>Исследование задачи</a></span><ul class=\"toc-item\"><li><span><a href=\"#Произведём-обучение-модели-RandomForestClassifier\" data-toc-modified-id=\"Произведём-обучение-модели-RandomForestClassifier-2.1\"><span class=\"toc-item-num\">2.1&nbsp;&nbsp;</span>Произведём обучение модели RandomForestClassifier</a></span></li></ul></li><li><span><a href=\"#Борьба-с-дисбалансом\" data-toc-modified-id=\"Борьба-с-дисбалансом-3\"><span class=\"toc-item-num\">3&nbsp;&nbsp;</span>Борьба с дисбалансом</a></span><ul class=\"toc-item\"><li><span><a href=\"#Upsampling\" data-toc-modified-id=\"Upsampling-3.1\"><span class=\"toc-item-num\">3.1&nbsp;&nbsp;</span>Upsampling</a></span></li><li><span><a href=\"#Downsample\" data-toc-modified-id=\"Downsample-3.2\"><span class=\"toc-item-num\">3.2&nbsp;&nbsp;</span>Downsample</a></span></li><li><span><a href=\"#Подбор-параметров-модели-по-обновленому-сету-данных\" data-toc-modified-id=\"Подбор-параметров-модели-по-обновленому-сету-данных-3.3\"><span class=\"toc-item-num\">3.3&nbsp;&nbsp;</span>Подбор параметров модели по обновленому сету данных</a></span></li></ul></li><li><span><a href=\"#Тестирование-модели\" data-toc-modified-id=\"Тестирование-модели-4\"><span class=\"toc-item-num\">4&nbsp;&nbsp;</span>Тестирование модели</a></span></li><li><span><a href=\"#Чек-лист-готовности-проекта\" data-toc-modified-id=\"Чек-лист-готовности-проекта-5\"><span class=\"toc-item-num\">5&nbsp;&nbsp;</span>Чек-лист готовности проекта</a></span></li></ul></div>"
   ]
  },
  {
   "cell_type": "markdown",
   "metadata": {},
   "source": [
    "# Отток клиентов"
   ]
  },
  {
   "cell_type": "markdown",
   "metadata": {},
   "source": [
    "Из «Бета-Банка» стали уходить клиенты. Каждый месяц. Немного, но заметно. Банковские маркетологи посчитали: сохранять текущих клиентов дешевле, чем привлекать новых.\n",
    "\n",
    "Нужно спрогнозировать, уйдёт клиент из банка в ближайшее время или нет. Вам предоставлены исторические данные о поведении клиентов и расторжении договоров с банком. \n",
    "\n",
    "Постройте модель с предельно большим значением *F1*-меры. Чтобы сдать проект успешно, нужно довести метрику до 0.59. Проверьте *F1*-меру на тестовой выборке самостоятельно.\n",
    "\n",
    "Дополнительно измеряйте *AUC-ROC*, сравнивайте её значение с *F1*-мерой.\n",
    "\n",
    "Источник данных: [https://www.kaggle.com/barelydedicated/bank-customer-churn-modeling](https://www.kaggle.com/barelydedicated/bank-customer-churn-modeling)"
   ]
  },
  {
   "cell_type": "markdown",
   "metadata": {},
   "source": [
    "## Подготовка данных"
   ]
  },
  {
   "cell_type": "code",
   "execution_count": 182,
   "metadata": {},
   "outputs": [],
   "source": [
    "import pandas as pd\n",
    "from sklearn import metrics\n",
    "from sklearn.metrics import roc_curve, roc_auc_score, confusion_matrix, recall_score, precision_score, f1_score\n",
    "from sklearn.preprocessing import StandardScaler\n",
    "from sklearn.tree import DecisionTreeClassifier\n",
    "from sklearn.ensemble import RandomForestClassifier\n",
    "from sklearn.linear_model import LogisticRegression\n",
    "from sklearn.model_selection import train_test_split,cross_val_score, GridSearchCV, StratifiedShuffleSplit\n",
    "from sklearn.utils import shuffle\n",
    "\n",
    "import matplotlib.pyplot as plt\n",
    "import numpy as np\n",
    "import itertools\n",
    "import operator\n",
    "import seaborn as sns\n",
    "sns.set()\n",
    "\n",
    "import warnings\n",
    "warnings.filterwarnings('ignore')"
   ]
  },
  {
   "cell_type": "markdown",
   "metadata": {},
   "source": [
    "Сделаем сразу замену типа у признака Exited на uint8, т.к. данный тип является стандартным для цифровых булевых значений в pandas."
   ]
  },
  {
   "cell_type": "code",
   "execution_count": 183,
   "metadata": {},
   "outputs": [
    {
     "name": "stdout",
     "output_type": "stream",
     "text": [
      "(10000, 14)\n",
      "\n",
      "<class 'pandas.core.frame.DataFrame'>\n",
      "RangeIndex: 10000 entries, 0 to 9999\n",
      "Data columns (total 14 columns):\n",
      " #   Column           Non-Null Count  Dtype  \n",
      "---  ------           --------------  -----  \n",
      " 0   RowNumber        10000 non-null  int64  \n",
      " 1   CustomerId       10000 non-null  int64  \n",
      " 2   Surname          10000 non-null  object \n",
      " 3   CreditScore      10000 non-null  int64  \n",
      " 4   Geography        10000 non-null  object \n",
      " 5   Gender           10000 non-null  object \n",
      " 6   Age              10000 non-null  int64  \n",
      " 7   Tenure           9091 non-null   float64\n",
      " 8   Balance          10000 non-null  float64\n",
      " 9   NumOfProducts    10000 non-null  int64  \n",
      " 10  HasCrCard        10000 non-null  int64  \n",
      " 11  IsActiveMember   10000 non-null  int64  \n",
      " 12  EstimatedSalary  10000 non-null  float64\n",
      " 13  Exited           10000 non-null  uint8  \n",
      "dtypes: float64(3), int64(7), object(3), uint8(1)\n",
      "memory usage: 1.0+ MB\n",
      "None\n",
      "\n"
     ]
    },
    {
     "data": {
      "text/html": [
       "<div>\n",
       "<style scoped>\n",
       "    .dataframe tbody tr th:only-of-type {\n",
       "        vertical-align: middle;\n",
       "    }\n",
       "\n",
       "    .dataframe tbody tr th {\n",
       "        vertical-align: top;\n",
       "    }\n",
       "\n",
       "    .dataframe thead th {\n",
       "        text-align: right;\n",
       "    }\n",
       "</style>\n",
       "<table border=\"1\" class=\"dataframe\">\n",
       "  <thead>\n",
       "    <tr style=\"text-align: right;\">\n",
       "      <th></th>\n",
       "      <th>RowNumber</th>\n",
       "      <th>CustomerId</th>\n",
       "      <th>Surname</th>\n",
       "      <th>CreditScore</th>\n",
       "      <th>Geography</th>\n",
       "      <th>Gender</th>\n",
       "      <th>Age</th>\n",
       "      <th>Tenure</th>\n",
       "      <th>Balance</th>\n",
       "      <th>NumOfProducts</th>\n",
       "      <th>HasCrCard</th>\n",
       "      <th>IsActiveMember</th>\n",
       "      <th>EstimatedSalary</th>\n",
       "      <th>Exited</th>\n",
       "    </tr>\n",
       "  </thead>\n",
       "  <tbody>\n",
       "    <tr>\n",
       "      <th>0</th>\n",
       "      <td>1</td>\n",
       "      <td>15634602</td>\n",
       "      <td>Hargrave</td>\n",
       "      <td>619</td>\n",
       "      <td>France</td>\n",
       "      <td>Female</td>\n",
       "      <td>42</td>\n",
       "      <td>2.0</td>\n",
       "      <td>0.00</td>\n",
       "      <td>1</td>\n",
       "      <td>1</td>\n",
       "      <td>1</td>\n",
       "      <td>101348.88</td>\n",
       "      <td>1</td>\n",
       "    </tr>\n",
       "    <tr>\n",
       "      <th>1</th>\n",
       "      <td>2</td>\n",
       "      <td>15647311</td>\n",
       "      <td>Hill</td>\n",
       "      <td>608</td>\n",
       "      <td>Spain</td>\n",
       "      <td>Female</td>\n",
       "      <td>41</td>\n",
       "      <td>1.0</td>\n",
       "      <td>83807.86</td>\n",
       "      <td>1</td>\n",
       "      <td>0</td>\n",
       "      <td>1</td>\n",
       "      <td>112542.58</td>\n",
       "      <td>0</td>\n",
       "    </tr>\n",
       "    <tr>\n",
       "      <th>2</th>\n",
       "      <td>3</td>\n",
       "      <td>15619304</td>\n",
       "      <td>Onio</td>\n",
       "      <td>502</td>\n",
       "      <td>France</td>\n",
       "      <td>Female</td>\n",
       "      <td>42</td>\n",
       "      <td>8.0</td>\n",
       "      <td>159660.80</td>\n",
       "      <td>3</td>\n",
       "      <td>1</td>\n",
       "      <td>0</td>\n",
       "      <td>113931.57</td>\n",
       "      <td>1</td>\n",
       "    </tr>\n",
       "    <tr>\n",
       "      <th>3</th>\n",
       "      <td>4</td>\n",
       "      <td>15701354</td>\n",
       "      <td>Boni</td>\n",
       "      <td>699</td>\n",
       "      <td>France</td>\n",
       "      <td>Female</td>\n",
       "      <td>39</td>\n",
       "      <td>1.0</td>\n",
       "      <td>0.00</td>\n",
       "      <td>2</td>\n",
       "      <td>0</td>\n",
       "      <td>0</td>\n",
       "      <td>93826.63</td>\n",
       "      <td>0</td>\n",
       "    </tr>\n",
       "    <tr>\n",
       "      <th>4</th>\n",
       "      <td>5</td>\n",
       "      <td>15737888</td>\n",
       "      <td>Mitchell</td>\n",
       "      <td>850</td>\n",
       "      <td>Spain</td>\n",
       "      <td>Female</td>\n",
       "      <td>43</td>\n",
       "      <td>2.0</td>\n",
       "      <td>125510.82</td>\n",
       "      <td>1</td>\n",
       "      <td>1</td>\n",
       "      <td>1</td>\n",
       "      <td>79084.10</td>\n",
       "      <td>0</td>\n",
       "    </tr>\n",
       "  </tbody>\n",
       "</table>\n",
       "</div>"
      ],
      "text/plain": [
       "   RowNumber  CustomerId   Surname  CreditScore Geography  Gender  Age  \\\n",
       "0          1    15634602  Hargrave          619    France  Female   42   \n",
       "1          2    15647311      Hill          608     Spain  Female   41   \n",
       "2          3    15619304      Onio          502    France  Female   42   \n",
       "3          4    15701354      Boni          699    France  Female   39   \n",
       "4          5    15737888  Mitchell          850     Spain  Female   43   \n",
       "\n",
       "   Tenure    Balance  NumOfProducts  HasCrCard  IsActiveMember  \\\n",
       "0     2.0       0.00              1          1               1   \n",
       "1     1.0   83807.86              1          0               1   \n",
       "2     8.0  159660.80              3          1               0   \n",
       "3     1.0       0.00              2          0               0   \n",
       "4     2.0  125510.82              1          1               1   \n",
       "\n",
       "   EstimatedSalary  Exited  \n",
       "0        101348.88       1  \n",
       "1        112542.58       0  \n",
       "2        113931.57       1  \n",
       "3         93826.63       0  \n",
       "4         79084.10       0  "
      ]
     },
     "execution_count": 183,
     "metadata": {},
     "output_type": "execute_result"
    }
   ],
   "source": [
    "data = pd.read_csv('/datasets/Churn.csv')\n",
    "data['Exited'] = data['Exited'].astype('uint8')\n",
    "print(data.shape)\n",
    "print()\n",
    "print(data.info())\n",
    "print()\n",
    "data.head()"
   ]
  },
  {
   "cell_type": "markdown",
   "metadata": {},
   "source": [
    "Сделаем замену наименований на нижний регистр с раздением нижней чертой, для корректной работы с признаками"
   ]
  },
  {
   "cell_type": "code",
   "execution_count": 184,
   "metadata": {},
   "outputs": [
    {
     "data": {
      "text/html": [
       "<div>\n",
       "<style scoped>\n",
       "    .dataframe tbody tr th:only-of-type {\n",
       "        vertical-align: middle;\n",
       "    }\n",
       "\n",
       "    .dataframe tbody tr th {\n",
       "        vertical-align: top;\n",
       "    }\n",
       "\n",
       "    .dataframe thead th {\n",
       "        text-align: right;\n",
       "    }\n",
       "</style>\n",
       "<table border=\"1\" class=\"dataframe\">\n",
       "  <thead>\n",
       "    <tr style=\"text-align: right;\">\n",
       "      <th></th>\n",
       "      <th>row_number</th>\n",
       "      <th>customer_id</th>\n",
       "      <th>surname</th>\n",
       "      <th>credit_score</th>\n",
       "      <th>geography</th>\n",
       "      <th>gender</th>\n",
       "      <th>age</th>\n",
       "      <th>tenure</th>\n",
       "      <th>balance</th>\n",
       "      <th>num_of_products</th>\n",
       "      <th>has_cr_card</th>\n",
       "      <th>is_active_member</th>\n",
       "      <th>estimated_salary</th>\n",
       "      <th>exited</th>\n",
       "    </tr>\n",
       "  </thead>\n",
       "  <tbody>\n",
       "    <tr>\n",
       "      <th>0</th>\n",
       "      <td>1</td>\n",
       "      <td>15634602</td>\n",
       "      <td>Hargrave</td>\n",
       "      <td>619</td>\n",
       "      <td>France</td>\n",
       "      <td>Female</td>\n",
       "      <td>42</td>\n",
       "      <td>2.0</td>\n",
       "      <td>0.00</td>\n",
       "      <td>1</td>\n",
       "      <td>1</td>\n",
       "      <td>1</td>\n",
       "      <td>101348.88</td>\n",
       "      <td>1</td>\n",
       "    </tr>\n",
       "    <tr>\n",
       "      <th>1</th>\n",
       "      <td>2</td>\n",
       "      <td>15647311</td>\n",
       "      <td>Hill</td>\n",
       "      <td>608</td>\n",
       "      <td>Spain</td>\n",
       "      <td>Female</td>\n",
       "      <td>41</td>\n",
       "      <td>1.0</td>\n",
       "      <td>83807.86</td>\n",
       "      <td>1</td>\n",
       "      <td>0</td>\n",
       "      <td>1</td>\n",
       "      <td>112542.58</td>\n",
       "      <td>0</td>\n",
       "    </tr>\n",
       "    <tr>\n",
       "      <th>2</th>\n",
       "      <td>3</td>\n",
       "      <td>15619304</td>\n",
       "      <td>Onio</td>\n",
       "      <td>502</td>\n",
       "      <td>France</td>\n",
       "      <td>Female</td>\n",
       "      <td>42</td>\n",
       "      <td>8.0</td>\n",
       "      <td>159660.80</td>\n",
       "      <td>3</td>\n",
       "      <td>1</td>\n",
       "      <td>0</td>\n",
       "      <td>113931.57</td>\n",
       "      <td>1</td>\n",
       "    </tr>\n",
       "    <tr>\n",
       "      <th>3</th>\n",
       "      <td>4</td>\n",
       "      <td>15701354</td>\n",
       "      <td>Boni</td>\n",
       "      <td>699</td>\n",
       "      <td>France</td>\n",
       "      <td>Female</td>\n",
       "      <td>39</td>\n",
       "      <td>1.0</td>\n",
       "      <td>0.00</td>\n",
       "      <td>2</td>\n",
       "      <td>0</td>\n",
       "      <td>0</td>\n",
       "      <td>93826.63</td>\n",
       "      <td>0</td>\n",
       "    </tr>\n",
       "    <tr>\n",
       "      <th>4</th>\n",
       "      <td>5</td>\n",
       "      <td>15737888</td>\n",
       "      <td>Mitchell</td>\n",
       "      <td>850</td>\n",
       "      <td>Spain</td>\n",
       "      <td>Female</td>\n",
       "      <td>43</td>\n",
       "      <td>2.0</td>\n",
       "      <td>125510.82</td>\n",
       "      <td>1</td>\n",
       "      <td>1</td>\n",
       "      <td>1</td>\n",
       "      <td>79084.10</td>\n",
       "      <td>0</td>\n",
       "    </tr>\n",
       "  </tbody>\n",
       "</table>\n",
       "</div>"
      ],
      "text/plain": [
       "   row_number  customer_id   surname  credit_score geography  gender  age  \\\n",
       "0           1     15634602  Hargrave           619    France  Female   42   \n",
       "1           2     15647311      Hill           608     Spain  Female   41   \n",
       "2           3     15619304      Onio           502    France  Female   42   \n",
       "3           4     15701354      Boni           699    France  Female   39   \n",
       "4           5     15737888  Mitchell           850     Spain  Female   43   \n",
       "\n",
       "   tenure    balance  num_of_products  has_cr_card  is_active_member  \\\n",
       "0     2.0       0.00                1            1                 1   \n",
       "1     1.0   83807.86                1            0                 1   \n",
       "2     8.0  159660.80                3            1                 0   \n",
       "3     1.0       0.00                2            0                 0   \n",
       "4     2.0  125510.82                1            1                 1   \n",
       "\n",
       "   estimated_salary  exited  \n",
       "0         101348.88       1  \n",
       "1         112542.58       0  \n",
       "2         113931.57       1  \n",
       "3          93826.63       0  \n",
       "4          79084.10       0  "
      ]
     },
     "execution_count": 184,
     "metadata": {},
     "output_type": "execute_result"
    }
   ],
   "source": [
    "new_columns = []\n",
    "for item in list(data.columns):\n",
    "    item = item.lower()\n",
    "    new_columns.append(item)\n",
    "\n",
    "#', '.join(new_columns)\n",
    "new_columns = ['row_number', 'customer_id', 'surname', 'credit_score', 'geography', 'gender', 'age', 'tenure', 'balance',\\\n",
    "               'num_of_products', 'has_cr_card', 'is_active_member', 'estimated_salary', 'exited']\n",
    "data.columns = new_columns\n",
    "data.head()"
   ]
  },
  {
   "cell_type": "markdown",
   "metadata": {},
   "source": [
    "Проверка на дубли, чтобы не обучить на некорректных данных"
   ]
  },
  {
   "cell_type": "code",
   "execution_count": 185,
   "metadata": {},
   "outputs": [
    {
     "data": {
      "text/plain": [
       "0"
      ]
     },
     "execution_count": 185,
     "metadata": {},
     "output_type": "execute_result"
    }
   ],
   "source": [
    "data.duplicated().sum()"
   ]
  },
  {
   "cell_type": "markdown",
   "metadata": {},
   "source": [
    "Дубликатов нет, проверим на пропуски"
   ]
  },
  {
   "cell_type": "code",
   "execution_count": 186,
   "metadata": {},
   "outputs": [
    {
     "name": "stdout",
     "output_type": "stream",
     "text": [
      "None пропусков нет в таблице\n",
      "В столбце - tenure - пропущено: 909 ;\n",
      "\n",
      "\n"
     ]
    }
   ],
   "source": [
    "def search_nan(data, parametr=''):\n",
    "    if parametr == '':\n",
    "        series_null_list =[]\n",
    "        series_null = data.isnull().sum().sort_values(ascending=False)\n",
    "        for i in series_null.index:\n",
    "            if series_null[i] > 0:\n",
    "                print('В столбце -', i, '- пропущено:', series_null[i], ';')\n",
    "                series_null_list.append(i)\n",
    "        print()\n",
    "    elif parametr != '':\n",
    "        if data[parametr].isnull().sum() > 0:\n",
    "            print('В столбце -', parametr, '- пропущено:', data[parametr].isnull().sum(), ';')\n",
    "        else:\n",
    "            print('нет пропусков')\n",
    "    #return series_null_list\n",
    "    print()\n",
    "    \n",
    "\n",
    "            \n",
    "def search_none(data):\n",
    "    problem =[]\n",
    "    for column in data.columns:\n",
    "        if data.loc[data[column] == 'None'][column].count() > 0:\n",
    "            print('None обнаружен в столбце - ', column, '- в количестве', data.loc[data[column] == 'None'][column].count())\n",
    "            problem.append(column)\n",
    "    if len(problem) == 0:\n",
    "        print('None пропусков нет в таблице')\n",
    "\n",
    "    \n",
    "search_none(data)\n",
    "search_nan(data)"
   ]
  },
  {
   "cell_type": "markdown",
   "metadata": {},
   "source": [
    "Сделаем замену на 0, в выводе дам более подробный анализ"
   ]
  },
  {
   "cell_type": "code",
   "execution_count": 187,
   "metadata": {},
   "outputs": [
    {
     "name": "stdout",
     "output_type": "stream",
     "text": [
      "\n",
      "\n"
     ]
    }
   ],
   "source": [
    "data = data.dropna(subset=['tenure'])\n",
    "search_nan(data)"
   ]
  },
  {
   "cell_type": "markdown",
   "metadata": {},
   "source": [
    "**Предварительный вывод:**\n",
    "\n",
    "Заполнение константой признака \"tenure\" (сколько лет человек является клиентом банка) искажает представление, поэтому удалим пропуски, так как их у нас менее 10%. \n",
    "\n",
    "Проблем в данных не обнаружено: дублей и None - нет, а пропуски устранены путем удаления и только в одном признаке.\n",
    "\n",
    "Имеется 3 категориальных признака: Surname(не нужен, мы не ищем зависимоcти от фамилии), Gender, Geography и один бинарный: Exited. Для дальнешего обучения нужно удалить: признак Surname, т.к. он не несет никакого влияния, идентификатор клиента - customer_id и row_number - индентификатор строки. Признаки: gender, geography - нужно преобразовать в бинарные методологией OHE (one-hot encoding). Как один из вариантов, можно проверить методологию OrdinalEncoding, но в данном проекте воспользуемся только OHE.\n",
    "\n",
    "Следующим шагом будет разделение выборок и приведение количественных признаков к единому масштабу, чтобы исключить разновесовое влияние."
   ]
  },
  {
   "cell_type": "markdown",
   "metadata": {},
   "source": [
    "### Удаление признака Surname, идентификатора строки, идентификатора клиента"
   ]
  },
  {
   "cell_type": "code",
   "execution_count": 188,
   "metadata": {},
   "outputs": [],
   "source": [
    "data = data.drop(['surname', 'row_number', 'customer_id'], axis=1)"
   ]
  },
  {
   "cell_type": "code",
   "execution_count": 189,
   "metadata": {},
   "outputs": [
    {
     "data": {
      "text/html": [
       "<div>\n",
       "<style scoped>\n",
       "    .dataframe tbody tr th:only-of-type {\n",
       "        vertical-align: middle;\n",
       "    }\n",
       "\n",
       "    .dataframe tbody tr th {\n",
       "        vertical-align: top;\n",
       "    }\n",
       "\n",
       "    .dataframe thead th {\n",
       "        text-align: right;\n",
       "    }\n",
       "</style>\n",
       "<table border=\"1\" class=\"dataframe\">\n",
       "  <thead>\n",
       "    <tr style=\"text-align: right;\">\n",
       "      <th></th>\n",
       "      <th>credit_score</th>\n",
       "      <th>geography</th>\n",
       "      <th>gender</th>\n",
       "      <th>age</th>\n",
       "      <th>tenure</th>\n",
       "      <th>balance</th>\n",
       "      <th>num_of_products</th>\n",
       "      <th>has_cr_card</th>\n",
       "      <th>is_active_member</th>\n",
       "      <th>estimated_salary</th>\n",
       "      <th>exited</th>\n",
       "    </tr>\n",
       "  </thead>\n",
       "  <tbody>\n",
       "    <tr>\n",
       "      <th>0</th>\n",
       "      <td>619</td>\n",
       "      <td>France</td>\n",
       "      <td>Female</td>\n",
       "      <td>42</td>\n",
       "      <td>2.0</td>\n",
       "      <td>0.00</td>\n",
       "      <td>1</td>\n",
       "      <td>1</td>\n",
       "      <td>1</td>\n",
       "      <td>101348.88</td>\n",
       "      <td>1</td>\n",
       "    </tr>\n",
       "    <tr>\n",
       "      <th>1</th>\n",
       "      <td>608</td>\n",
       "      <td>Spain</td>\n",
       "      <td>Female</td>\n",
       "      <td>41</td>\n",
       "      <td>1.0</td>\n",
       "      <td>83807.86</td>\n",
       "      <td>1</td>\n",
       "      <td>0</td>\n",
       "      <td>1</td>\n",
       "      <td>112542.58</td>\n",
       "      <td>0</td>\n",
       "    </tr>\n",
       "    <tr>\n",
       "      <th>2</th>\n",
       "      <td>502</td>\n",
       "      <td>France</td>\n",
       "      <td>Female</td>\n",
       "      <td>42</td>\n",
       "      <td>8.0</td>\n",
       "      <td>159660.80</td>\n",
       "      <td>3</td>\n",
       "      <td>1</td>\n",
       "      <td>0</td>\n",
       "      <td>113931.57</td>\n",
       "      <td>1</td>\n",
       "    </tr>\n",
       "    <tr>\n",
       "      <th>3</th>\n",
       "      <td>699</td>\n",
       "      <td>France</td>\n",
       "      <td>Female</td>\n",
       "      <td>39</td>\n",
       "      <td>1.0</td>\n",
       "      <td>0.00</td>\n",
       "      <td>2</td>\n",
       "      <td>0</td>\n",
       "      <td>0</td>\n",
       "      <td>93826.63</td>\n",
       "      <td>0</td>\n",
       "    </tr>\n",
       "    <tr>\n",
       "      <th>4</th>\n",
       "      <td>850</td>\n",
       "      <td>Spain</td>\n",
       "      <td>Female</td>\n",
       "      <td>43</td>\n",
       "      <td>2.0</td>\n",
       "      <td>125510.82</td>\n",
       "      <td>1</td>\n",
       "      <td>1</td>\n",
       "      <td>1</td>\n",
       "      <td>79084.10</td>\n",
       "      <td>0</td>\n",
       "    </tr>\n",
       "  </tbody>\n",
       "</table>\n",
       "</div>"
      ],
      "text/plain": [
       "   credit_score geography  gender  age  tenure    balance  num_of_products  \\\n",
       "0           619    France  Female   42     2.0       0.00                1   \n",
       "1           608     Spain  Female   41     1.0   83807.86                1   \n",
       "2           502    France  Female   42     8.0  159660.80                3   \n",
       "3           699    France  Female   39     1.0       0.00                2   \n",
       "4           850     Spain  Female   43     2.0  125510.82                1   \n",
       "\n",
       "   has_cr_card  is_active_member  estimated_salary  exited  \n",
       "0            1                 1         101348.88       1  \n",
       "1            0                 1         112542.58       0  \n",
       "2            1                 0         113931.57       1  \n",
       "3            0                 0          93826.63       0  \n",
       "4            1                 1          79084.10       0  "
      ]
     },
     "execution_count": 189,
     "metadata": {},
     "output_type": "execute_result"
    }
   ],
   "source": [
    "data.head()"
   ]
  },
  {
   "cell_type": "markdown",
   "metadata": {},
   "source": [
    "### Применение демми-признаков (ohe)"
   ]
  },
  {
   "cell_type": "code",
   "execution_count": 190,
   "metadata": {},
   "outputs": [
    {
     "data": {
      "text/html": [
       "<div>\n",
       "<style scoped>\n",
       "    .dataframe tbody tr th:only-of-type {\n",
       "        vertical-align: middle;\n",
       "    }\n",
       "\n",
       "    .dataframe tbody tr th {\n",
       "        vertical-align: top;\n",
       "    }\n",
       "\n",
       "    .dataframe thead th {\n",
       "        text-align: right;\n",
       "    }\n",
       "</style>\n",
       "<table border=\"1\" class=\"dataframe\">\n",
       "  <thead>\n",
       "    <tr style=\"text-align: right;\">\n",
       "      <th></th>\n",
       "      <th>credit_score</th>\n",
       "      <th>age</th>\n",
       "      <th>tenure</th>\n",
       "      <th>balance</th>\n",
       "      <th>num_of_products</th>\n",
       "      <th>has_cr_card</th>\n",
       "      <th>is_active_member</th>\n",
       "      <th>estimated_salary</th>\n",
       "      <th>exited</th>\n",
       "      <th>geography_Germany</th>\n",
       "      <th>geography_Spain</th>\n",
       "      <th>gender_Male</th>\n",
       "    </tr>\n",
       "  </thead>\n",
       "  <tbody>\n",
       "    <tr>\n",
       "      <th>0</th>\n",
       "      <td>619</td>\n",
       "      <td>42</td>\n",
       "      <td>2.0</td>\n",
       "      <td>0.00</td>\n",
       "      <td>1</td>\n",
       "      <td>1</td>\n",
       "      <td>1</td>\n",
       "      <td>101348.88</td>\n",
       "      <td>1</td>\n",
       "      <td>0</td>\n",
       "      <td>0</td>\n",
       "      <td>0</td>\n",
       "    </tr>\n",
       "    <tr>\n",
       "      <th>1</th>\n",
       "      <td>608</td>\n",
       "      <td>41</td>\n",
       "      <td>1.0</td>\n",
       "      <td>83807.86</td>\n",
       "      <td>1</td>\n",
       "      <td>0</td>\n",
       "      <td>1</td>\n",
       "      <td>112542.58</td>\n",
       "      <td>0</td>\n",
       "      <td>0</td>\n",
       "      <td>1</td>\n",
       "      <td>0</td>\n",
       "    </tr>\n",
       "    <tr>\n",
       "      <th>2</th>\n",
       "      <td>502</td>\n",
       "      <td>42</td>\n",
       "      <td>8.0</td>\n",
       "      <td>159660.80</td>\n",
       "      <td>3</td>\n",
       "      <td>1</td>\n",
       "      <td>0</td>\n",
       "      <td>113931.57</td>\n",
       "      <td>1</td>\n",
       "      <td>0</td>\n",
       "      <td>0</td>\n",
       "      <td>0</td>\n",
       "    </tr>\n",
       "    <tr>\n",
       "      <th>3</th>\n",
       "      <td>699</td>\n",
       "      <td>39</td>\n",
       "      <td>1.0</td>\n",
       "      <td>0.00</td>\n",
       "      <td>2</td>\n",
       "      <td>0</td>\n",
       "      <td>0</td>\n",
       "      <td>93826.63</td>\n",
       "      <td>0</td>\n",
       "      <td>0</td>\n",
       "      <td>0</td>\n",
       "      <td>0</td>\n",
       "    </tr>\n",
       "    <tr>\n",
       "      <th>4</th>\n",
       "      <td>850</td>\n",
       "      <td>43</td>\n",
       "      <td>2.0</td>\n",
       "      <td>125510.82</td>\n",
       "      <td>1</td>\n",
       "      <td>1</td>\n",
       "      <td>1</td>\n",
       "      <td>79084.10</td>\n",
       "      <td>0</td>\n",
       "      <td>0</td>\n",
       "      <td>1</td>\n",
       "      <td>0</td>\n",
       "    </tr>\n",
       "  </tbody>\n",
       "</table>\n",
       "</div>"
      ],
      "text/plain": [
       "   credit_score  age  tenure    balance  num_of_products  has_cr_card  \\\n",
       "0           619   42     2.0       0.00                1            1   \n",
       "1           608   41     1.0   83807.86                1            0   \n",
       "2           502   42     8.0  159660.80                3            1   \n",
       "3           699   39     1.0       0.00                2            0   \n",
       "4           850   43     2.0  125510.82                1            1   \n",
       "\n",
       "   is_active_member  estimated_salary  exited  geography_Germany  \\\n",
       "0                 1         101348.88       1                  0   \n",
       "1                 1         112542.58       0                  0   \n",
       "2                 0         113931.57       1                  0   \n",
       "3                 0          93826.63       0                  0   \n",
       "4                 1          79084.10       0                  0   \n",
       "\n",
       "   geography_Spain  gender_Male  \n",
       "0                0            0  \n",
       "1                1            0  \n",
       "2                0            0  \n",
       "3                0            0  \n",
       "4                1            0  "
      ]
     },
     "execution_count": 190,
     "metadata": {},
     "output_type": "execute_result"
    }
   ],
   "source": [
    "data_ohe = pd.get_dummies(data, drop_first = True)\n",
    "data_ohe.head()"
   ]
  },
  {
   "cell_type": "markdown",
   "metadata": {},
   "source": [
    "### Создадим выборки и приведём объекты выборок к единому масштабу"
   ]
  },
  {
   "cell_type": "code",
   "execution_count": 191,
   "metadata": {},
   "outputs": [
    {
     "name": "stdout",
     "output_type": "stream",
     "text": [
      "Проверка размера выборок:\n",
      "X_train (6818, 11)\n",
      "X_test (2273, 11)\n",
      "Y_train (6818,)\n",
      "Y_test (2273,)\n"
     ]
    },
    {
     "data": {
      "text/html": [
       "<div>\n",
       "<style scoped>\n",
       "    .dataframe tbody tr th:only-of-type {\n",
       "        vertical-align: middle;\n",
       "    }\n",
       "\n",
       "    .dataframe tbody tr th {\n",
       "        vertical-align: top;\n",
       "    }\n",
       "\n",
       "    .dataframe thead th {\n",
       "        text-align: right;\n",
       "    }\n",
       "</style>\n",
       "<table border=\"1\" class=\"dataframe\">\n",
       "  <thead>\n",
       "    <tr style=\"text-align: right;\">\n",
       "      <th></th>\n",
       "      <th>credit_score</th>\n",
       "      <th>age</th>\n",
       "      <th>tenure</th>\n",
       "      <th>balance</th>\n",
       "      <th>estimated_salary</th>\n",
       "    </tr>\n",
       "  </thead>\n",
       "  <tbody>\n",
       "    <tr>\n",
       "      <th>0</th>\n",
       "      <td>-1.037187</td>\n",
       "      <td>0.375163</td>\n",
       "      <td>-0.681448</td>\n",
       "      <td>0.937205</td>\n",
       "      <td>-1.635163</td>\n",
       "    </tr>\n",
       "    <tr>\n",
       "      <th>1</th>\n",
       "      <td>0.297802</td>\n",
       "      <td>-0.096680</td>\n",
       "      <td>-0.681448</td>\n",
       "      <td>-1.233158</td>\n",
       "      <td>-0.590123</td>\n",
       "    </tr>\n",
       "  </tbody>\n",
       "</table>\n",
       "</div>"
      ],
      "text/plain": [
       "   credit_score       age    tenure   balance  estimated_salary\n",
       "0     -1.037187  0.375163 -0.681448  0.937205         -1.635163\n",
       "1      0.297802 -0.096680 -0.681448 -1.233158         -0.590123"
      ]
     },
     "execution_count": 191,
     "metadata": {},
     "output_type": "execute_result"
    }
   ],
   "source": [
    "features = data_ohe.drop('exited', axis=1)\n",
    "target = data_ohe['exited']\n",
    "\n",
    "X_train, X_test, Y_train, Y_test = train_test_split(features, target, test_size=.25, random_state=12345)\n",
    "print('Проверка размера выборок:')\n",
    "print('X_train', X_train.shape)\n",
    "print('X_test', X_test.shape)\n",
    "print('Y_train', Y_train.shape)\n",
    "print('Y_test', Y_test.shape)\n",
    "\n",
    "column_for_scaled = ['credit_score', 'age', 'tenure', 'balance', 'estimated_salary']\n",
    "\n",
    "X_train_for_scaled = X_train.loc[:,column_for_scaled]\n",
    "X_test_for_scaled = X_test.loc[:,column_for_scaled]\n",
    "\n",
    "scaler = StandardScaler()\n",
    "\n",
    "scaler.fit(X_train_for_scaled)\n",
    "scaler_train_data = pd.DataFrame(scaler.transform(X_train_for_scaled), columns=column_for_scaled)\n",
    "scaler_test_data = pd.DataFrame(scaler.transform(X_test_for_scaled), columns=column_for_scaled)\n",
    "\n",
    "#X_train_sk = pd.DataFrame(scaler.transform(data_ohe), columns=column_for_scaled)\n",
    "scaler_train_data.head(2)"
   ]
  },
  {
   "cell_type": "code",
   "execution_count": 192,
   "metadata": {},
   "outputs": [
    {
     "data": {
      "text/plain": [
       "{'exited',\n",
       " 'gender_Male',\n",
       " 'geography_Germany',\n",
       " 'geography_Spain',\n",
       " 'has_cr_card',\n",
       " 'is_active_member',\n",
       " 'num_of_products'}"
      ]
     },
     "execution_count": 192,
     "metadata": {},
     "output_type": "execute_result"
    }
   ],
   "source": [
    "diff_column = set(data_ohe.columns)-set(column_for_scaled)\n",
    "diff_column"
   ]
  },
  {
   "cell_type": "code",
   "execution_count": 193,
   "metadata": {},
   "outputs": [],
   "source": [
    "diff_column = ['gender_Male', 'geography_Germany', 'geography_Spain', 'has_cr_card', 'is_active_member', 'num_of_products']\n",
    "temp_train = X_train.loc[:,diff_column].reset_index(drop=True);\n",
    "temp_test = X_test.loc[:,diff_column].reset_index(drop=True);"
   ]
  },
  {
   "cell_type": "code",
   "execution_count": 194,
   "metadata": {},
   "outputs": [
    {
     "data": {
      "text/html": [
       "<div>\n",
       "<style scoped>\n",
       "    .dataframe tbody tr th:only-of-type {\n",
       "        vertical-align: middle;\n",
       "    }\n",
       "\n",
       "    .dataframe tbody tr th {\n",
       "        vertical-align: top;\n",
       "    }\n",
       "\n",
       "    .dataframe thead th {\n",
       "        text-align: right;\n",
       "    }\n",
       "</style>\n",
       "<table border=\"1\" class=\"dataframe\">\n",
       "  <thead>\n",
       "    <tr style=\"text-align: right;\">\n",
       "      <th></th>\n",
       "      <th>credit_score</th>\n",
       "      <th>age</th>\n",
       "      <th>tenure</th>\n",
       "      <th>balance</th>\n",
       "      <th>estimated_salary</th>\n",
       "      <th>gender_Male</th>\n",
       "      <th>geography_Germany</th>\n",
       "      <th>geography_Spain</th>\n",
       "      <th>has_cr_card</th>\n",
       "      <th>is_active_member</th>\n",
       "      <th>num_of_products</th>\n",
       "    </tr>\n",
       "  </thead>\n",
       "  <tbody>\n",
       "    <tr>\n",
       "      <th>0</th>\n",
       "      <td>-1.037187</td>\n",
       "      <td>0.375163</td>\n",
       "      <td>-0.681448</td>\n",
       "      <td>0.937205</td>\n",
       "      <td>-1.635163</td>\n",
       "      <td>0</td>\n",
       "      <td>1</td>\n",
       "      <td>0</td>\n",
       "      <td>1</td>\n",
       "      <td>0</td>\n",
       "      <td>1</td>\n",
       "    </tr>\n",
       "    <tr>\n",
       "      <th>1</th>\n",
       "      <td>0.297802</td>\n",
       "      <td>-0.096680</td>\n",
       "      <td>-0.681448</td>\n",
       "      <td>-1.233158</td>\n",
       "      <td>-0.590123</td>\n",
       "      <td>1</td>\n",
       "      <td>0</td>\n",
       "      <td>0</td>\n",
       "      <td>1</td>\n",
       "      <td>0</td>\n",
       "      <td>2</td>\n",
       "    </tr>\n",
       "  </tbody>\n",
       "</table>\n",
       "</div>"
      ],
      "text/plain": [
       "   credit_score       age    tenure   balance  estimated_salary  gender_Male  \\\n",
       "0     -1.037187  0.375163 -0.681448  0.937205         -1.635163            0   \n",
       "1      0.297802 -0.096680 -0.681448 -1.233158         -0.590123            1   \n",
       "\n",
       "   geography_Germany  geography_Spain  has_cr_card  is_active_member  \\\n",
       "0                  1                0            1                 0   \n",
       "1                  0                0            1                 0   \n",
       "\n",
       "   num_of_products  \n",
       "0                1  \n",
       "1                2  "
      ]
     },
     "execution_count": 194,
     "metadata": {},
     "output_type": "execute_result"
    }
   ],
   "source": [
    "X_train_scaled = pd.concat([scaler_train_data, temp_train], axis=1)\n",
    "X_test_scaled = pd.concat([scaler_test_data, temp_test], axis=1)\n",
    "X_train_scaled.head(2)"
   ]
  },
  {
   "cell_type": "markdown",
   "metadata": {},
   "source": [
    "### Проанализируем баланс классов"
   ]
  },
  {
   "cell_type": "code",
   "execution_count": 195,
   "metadata": {},
   "outputs": [
    {
     "name": "stdout",
     "output_type": "stream",
     "text": [
      "Дисбаланс классов на тренировочной выборке = 3.86\n",
      "Дисбаланс классов на тренировочной выборке = 4.04\n",
      "Дисбаланс классов усредненный, округленный до целой части = 4.0\n"
     ]
    }
   ],
   "source": [
    "print('Дисбаланс классов на тренировочной выборке =', round(Y_train[Y_train==0].count()/Y_train[Y_train==1].count(),2))\n",
    "print('Дисбаланс классов на тренировочной выборке =', round(Y_test[Y_test==0].count()/Y_test[Y_test==1].count(),2))\n",
    "print('Дисбаланс классов усредненный, округленный до целой части =',\\\n",
    "      round(target[target==0].count()/target[target==1].count(),0))"
   ]
  },
  {
   "cell_type": "markdown",
   "metadata": {},
   "source": [
    "**Вывод:**\n",
    "\n",
    "1/5 часть клиентов ушла, в представленном датасете дисбаланс между классами в 4 раза."
   ]
  },
  {
   "cell_type": "markdown",
   "metadata": {},
   "source": [
    "## Исследование задачи"
   ]
  },
  {
   "cell_type": "code",
   "execution_count": 196,
   "metadata": {},
   "outputs": [
    {
     "data": {
      "text/html": [
       "<div>\n",
       "<style scoped>\n",
       "    .dataframe tbody tr th:only-of-type {\n",
       "        vertical-align: middle;\n",
       "    }\n",
       "\n",
       "    .dataframe tbody tr th {\n",
       "        vertical-align: top;\n",
       "    }\n",
       "\n",
       "    .dataframe thead th {\n",
       "        text-align: right;\n",
       "    }\n",
       "</style>\n",
       "<table border=\"1\" class=\"dataframe\">\n",
       "  <thead>\n",
       "    <tr style=\"text-align: right;\">\n",
       "      <th></th>\n",
       "      <th>credit_score</th>\n",
       "      <th>age</th>\n",
       "      <th>tenure</th>\n",
       "      <th>balance</th>\n",
       "      <th>estimated_salary</th>\n",
       "      <th>gender_Male</th>\n",
       "      <th>geography_Germany</th>\n",
       "      <th>geography_Spain</th>\n",
       "      <th>has_cr_card</th>\n",
       "      <th>is_active_member</th>\n",
       "      <th>num_of_products</th>\n",
       "    </tr>\n",
       "  </thead>\n",
       "  <tbody>\n",
       "    <tr>\n",
       "      <th>0</th>\n",
       "      <td>-1.037187</td>\n",
       "      <td>0.375163</td>\n",
       "      <td>-0.681448</td>\n",
       "      <td>0.937205</td>\n",
       "      <td>-1.635163</td>\n",
       "      <td>0</td>\n",
       "      <td>1</td>\n",
       "      <td>0</td>\n",
       "      <td>1</td>\n",
       "      <td>0</td>\n",
       "      <td>1</td>\n",
       "    </tr>\n",
       "    <tr>\n",
       "      <th>1</th>\n",
       "      <td>0.297802</td>\n",
       "      <td>-0.096680</td>\n",
       "      <td>-0.681448</td>\n",
       "      <td>-1.233158</td>\n",
       "      <td>-0.590123</td>\n",
       "      <td>1</td>\n",
       "      <td>0</td>\n",
       "      <td>0</td>\n",
       "      <td>1</td>\n",
       "      <td>0</td>\n",
       "      <td>2</td>\n",
       "    </tr>\n",
       "    <tr>\n",
       "      <th>2</th>\n",
       "      <td>-1.078582</td>\n",
       "      <td>-0.191049</td>\n",
       "      <td>1.384103</td>\n",
       "      <td>0.307627</td>\n",
       "      <td>0.073185</td>\n",
       "      <td>1</td>\n",
       "      <td>1</td>\n",
       "      <td>0</td>\n",
       "      <td>0</td>\n",
       "      <td>1</td>\n",
       "      <td>2</td>\n",
       "    </tr>\n",
       "    <tr>\n",
       "      <th>3</th>\n",
       "      <td>-1.130326</td>\n",
       "      <td>-1.040366</td>\n",
       "      <td>1.039844</td>\n",
       "      <td>-1.233158</td>\n",
       "      <td>1.674643</td>\n",
       "      <td>1</td>\n",
       "      <td>0</td>\n",
       "      <td>1</td>\n",
       "      <td>0</td>\n",
       "      <td>0</td>\n",
       "      <td>2</td>\n",
       "    </tr>\n",
       "    <tr>\n",
       "      <th>4</th>\n",
       "      <td>-0.478354</td>\n",
       "      <td>0.092057</td>\n",
       "      <td>-0.337189</td>\n",
       "      <td>0.420246</td>\n",
       "      <td>-1.069473</td>\n",
       "      <td>1</td>\n",
       "      <td>0</td>\n",
       "      <td>0</td>\n",
       "      <td>1</td>\n",
       "      <td>1</td>\n",
       "      <td>2</td>\n",
       "    </tr>\n",
       "  </tbody>\n",
       "</table>\n",
       "</div>"
      ],
      "text/plain": [
       "   credit_score       age    tenure   balance  estimated_salary  gender_Male  \\\n",
       "0     -1.037187  0.375163 -0.681448  0.937205         -1.635163            0   \n",
       "1      0.297802 -0.096680 -0.681448 -1.233158         -0.590123            1   \n",
       "2     -1.078582 -0.191049  1.384103  0.307627          0.073185            1   \n",
       "3     -1.130326 -1.040366  1.039844 -1.233158          1.674643            1   \n",
       "4     -0.478354  0.092057 -0.337189  0.420246         -1.069473            1   \n",
       "\n",
       "   geography_Germany  geography_Spain  has_cr_card  is_active_member  \\\n",
       "0                  1                0            1                 0   \n",
       "1                  0                0            1                 0   \n",
       "2                  1                0            0                 1   \n",
       "3                  0                1            0                 0   \n",
       "4                  0                0            1                 1   \n",
       "\n",
       "   num_of_products  \n",
       "0                1  \n",
       "1                2  \n",
       "2                2  \n",
       "3                2  \n",
       "4                2  "
      ]
     },
     "execution_count": 196,
     "metadata": {},
     "output_type": "execute_result"
    }
   ],
   "source": [
    "X_train_scaled.head()"
   ]
  },
  {
   "cell_type": "code",
   "execution_count": 16,
   "metadata": {},
   "outputs": [
    {
     "name": "stdout",
     "output_type": "stream",
     "text": [
      "<class 'pandas.core.frame.DataFrame'>\n",
      "RangeIndex: 6818 entries, 0 to 6817\n",
      "Data columns (total 11 columns):\n",
      " #   Column             Non-Null Count  Dtype  \n",
      "---  ------             --------------  -----  \n",
      " 0   credit_score       6818 non-null   float64\n",
      " 1   age                6818 non-null   float64\n",
      " 2   tenure             6818 non-null   float64\n",
      " 3   balance            6818 non-null   float64\n",
      " 4   estimated_salary   6818 non-null   float64\n",
      " 5   gender_Male        6818 non-null   uint8  \n",
      " 6   geography_Germany  6818 non-null   uint8  \n",
      " 7   geography_Spain    6818 non-null   uint8  \n",
      " 8   has_cr_card        6818 non-null   int64  \n",
      " 9   is_active_member   6818 non-null   int64  \n",
      " 10  num_of_products    6818 non-null   int64  \n",
      "dtypes: float64(5), int64(3), uint8(3)\n",
      "memory usage: 446.2 KB\n",
      "None\n"
     ]
    }
   ],
   "source": [
    "print(X_train_scaled.info())"
   ]
  },
  {
   "cell_type": "markdown",
   "metadata": {},
   "source": [
    "### Произведём обучение модели RandomForestClassifier"
   ]
  },
  {
   "cell_type": "code",
   "execution_count": 234,
   "metadata": {},
   "outputs": [],
   "source": [
    "rfc = RandomForestClassifier(random_state=12345)"
   ]
  },
  {
   "cell_type": "code",
   "execution_count": 235,
   "metadata": {},
   "outputs": [
    {
     "data": {
      "text/plain": [
       "dict_keys(['bootstrap', 'ccp_alpha', 'class_weight', 'criterion', 'max_depth', 'max_features', 'max_leaf_nodes', 'max_samples', 'min_impurity_decrease', 'min_samples_leaf', 'min_samples_split', 'min_weight_fraction_leaf', 'n_estimators', 'n_jobs', 'oob_score', 'random_state', 'verbose', 'warm_start'])"
      ]
     },
     "execution_count": 235,
     "metadata": {},
     "output_type": "execute_result"
    }
   ],
   "source": [
    "#получим доступные параметры модели\n",
    "rfc.get_params().keys()"
   ]
  },
  {
   "cell_type": "markdown",
   "metadata": {},
   "source": [
    "Создадим словарь параметров для подбора идеальных гиперпараметров модели с помощью класса GridSearchCV"
   ]
  },
  {
   "cell_type": "code",
   "execution_count": 236,
   "metadata": {},
   "outputs": [],
   "source": [
    "param_grid = {'n_estimators': range(1, 50, 2)\\\n",
    "              #,'max_features': ['auto', 'sqrt', 'log2'],\\\n",
    "              ,'max_depth' : range(1, 50, 2),\\\n",
    "              'criterion' : ['gini', 'entropy']\\\n",
    "             }"
   ]
  },
  {
   "cell_type": "code",
   "execution_count": 237,
   "metadata": {},
   "outputs": [],
   "source": [
    "grid_cv = GridSearchCV(rfc, param_grid, scoring='f1', cv=3)"
   ]
  },
  {
   "cell_type": "code",
   "execution_count": 201,
   "metadata": {},
   "outputs": [
    {
     "name": "stdout",
     "output_type": "stream",
     "text": [
      "\n",
      "best_params_ \n",
      " {'criterion': 'gini', 'max_depth': 23, 'n_estimators': 21}\n",
      "\n",
      "best_score \n",
      " 0.5807919065669765\n",
      "CPU times: user 12min 36s, sys: 3.26 s, total: 12min 39s\n",
      "Wall time: 12min 41s\n"
     ]
    }
   ],
   "source": [
    "%%time\n",
    "grid_cv.fit(X_train_scaled, Y_train)\n",
    "print('\\nbest_params_ \\n', grid_cv.best_params_)\n",
    "print('\\nbest_score \\n', grid_cv.best_score_)"
   ]
  },
  {
   "cell_type": "code",
   "execution_count": 238,
   "metadata": {
    "scrolled": true
   },
   "outputs": [
    {
     "name": "stdout",
     "output_type": "stream",
     "text": [
      "CV AUC-ROC scores: [0.84281175 0.84418529 0.84028483 0.79917392 0.83264741]\n"
     ]
    },
    {
     "data": {
      "image/png": "[encoded data removed]",
      "text/plain": [
       "<Figure size 432x432 with 1 Axes>"
      ]
     },
     "metadata": {},
     "output_type": "display_data"
    },
    {
     "name": "stdout",
     "output_type": "stream",
     "text": [
      "auc_roc = 0.8405975500230005\n"
     ]
    }
   ],
   "source": [
    "model_f1 = RandomForestClassifier(criterion='entropy',max_depth=23, max_features='auto', n_estimators = 21, random_state=12345)\n",
    "\n",
    "cv_scores = cross_val_score(model_f1, X_train_scaled, Y_train, cv=5, scoring='roc_auc')\n",
    "print(f'CV AUC-ROC scores: {cv_scores}')\n",
    "\n",
    "model_f1.fit(X_train_scaled, Y_train)\n",
    "\n",
    "probabilities = model_f1.predict_proba(X_test_scaled)\n",
    "probabilities_one_valid = probabilities[:,1]\n",
    "auc_roc = roc_auc_score(Y_test, probabilities_one_valid)\n",
    "fpr, tpr, thresholds = roc_curve(Y_test, probabilities_one_valid)\n",
    "plt.figure(figsize=(6, 6))\n",
    "plt.step(fpr, tpr, where='post')\n",
    "plt.xlabel('FPR')\n",
    "plt.ylabel('TPR')\n",
    "plt.ylim([0.0, 1.05])\n",
    "plt.xlim([0.0, 1.0])\n",
    "plt.title('Кривая ROC - RFC model 1: criterion=entropy, max_depth=23, n_estimators=21')\n",
    "plt.show()\n",
    "print('auc_roc =', auc_roc)"
   ]
  },
  {
   "cell_type": "code",
   "execution_count": 254,
   "metadata": {},
   "outputs": [],
   "source": [
    "def main_param(target, predictions):\n",
    "    '''\n",
    "    Функция для расчета основных метрик с использованием кросс-валидации\n",
    "    '''\n",
    "    from sklearn.metrics import confusion_matrix, make_scorer, recall_score, precision_score, f1_score\n",
    "    from sklearn.model_selection import cross_validate\n",
    "    \n",
    "    scoring = {'recall': make_scorer(recall_score), 'precision': make_scorer(precision_score), 'f1': make_scorer(f1_score)}\n",
    "    cv_results = cross_validate(model_f1, X_train, Y_train, cv=5, scoring=scoring)\n",
    "    recall = cv_results['test_recall'].mean()\n",
    "    precision = cv_results['test_precision'].mean()\n",
    "    f1 = cv_results['test_f1'].mean()\n",
    "    \n",
    "    print('confusion_matrix\\n',confusion_matrix(target, predictions))\n",
    "    print('recall_score', recall_score(target, predictions))\n",
    "    print('precision_score', precision_score(target, predictions))\n",
    "    print('f1_score', f1_score(target, predictions))"
   ]
  },
  {
   "cell_type": "code",
   "execution_count": 255,
   "metadata": {},
   "outputs": [
    {
     "name": "stdout",
     "output_type": "stream",
     "text": [
      "recall_score 0.48\n",
      "precision_score 0.71\n",
      "f1_score 0.58\n"
     ]
    },
    {
     "data": {
      "text/html": [
       "<div>\n",
       "<style scoped>\n",
       "    .dataframe tbody tr th:only-of-type {\n",
       "        vertical-align: middle;\n",
       "    }\n",
       "\n",
       "    .dataframe tbody tr th {\n",
       "        vertical-align: top;\n",
       "    }\n",
       "\n",
       "    .dataframe thead th {\n",
       "        text-align: right;\n",
       "    }\n",
       "</style>\n",
       "<table border=\"1\" class=\"dataframe\">\n",
       "  <thead>\n",
       "    <tr style=\"text-align: right;\">\n",
       "      <th></th>\n",
       "      <th>type</th>\n",
       "      <th>criterion</th>\n",
       "      <th>max_depth</th>\n",
       "      <th>max_features</th>\n",
       "      <th>n_estimator</th>\n",
       "      <th>recall</th>\n",
       "      <th>precision</th>\n",
       "      <th>f1</th>\n",
       "    </tr>\n",
       "  </thead>\n",
       "  <tbody>\n",
       "    <tr>\n",
       "      <th>1</th>\n",
       "      <td>model 1</td>\n",
       "      <td>entropy</td>\n",
       "      <td>21</td>\n",
       "      <td>auto</td>\n",
       "      <td>23</td>\n",
       "      <td>0.48</td>\n",
       "      <td>0.71</td>\n",
       "      <td>0.58</td>\n",
       "    </tr>\n",
       "  </tbody>\n",
       "</table>\n",
       "</div>"
      ],
      "text/plain": [
       "      type criterion max_depth max_features n_estimator  recall  precision  \\\n",
       "1  model 1   entropy        21         auto          23    0.48       0.71   \n",
       "\n",
       "     f1  \n",
       "1  0.58  "
      ]
     },
     "execution_count": 255,
     "metadata": {},
     "output_type": "execute_result"
    }
   ],
   "source": [
    "predictions = model_f1.predict(X_test_scaled)\n",
    "print('recall_score', round(recall_score(Y_test, predictions),2))\n",
    "print('precision_score', round(precision_score(Y_test, predictions),2))\n",
    "print('f1_score', round(f1_score(Y_test, predictions),2))\n",
    "\n",
    "result=pd.DataFrame(columns = ['type','criterion', 'max_depth', 'max_features', 'n_estimator', 'recall', 'precision', 'f1'])\n",
    "result.loc[1] = ['model 1','entropy',21,'auto', 23,round(recall_score(Y_test, predictions),2),round(precision_score(Y_test, predictions),2),round(f1_score(Y_test, predictions),2)]\n",
    "result"
   ]
  },
  {
   "cell_type": "code",
   "execution_count": 256,
   "metadata": {},
   "outputs": [
    {
     "name": "stdout",
     "output_type": "stream",
     "text": [
      "Confusion matrix, without normalization\n",
      "[[1734   88]\n",
      " [ 233  218]]\n"
     ]
    },
    {
     "data": {
      "image/png": "[encoded data removed]",
      "text/plain": [
       "<Figure size 720x576 with 2 Axes>"
      ]
     },
     "metadata": {},
     "output_type": "display_data"
    }
   ],
   "source": [
    "# Воспользуемся функцией построения матрицы ошибок из документации sklearn\n",
    "\n",
    "def plot_confusion_matrix(cm, classes, normalize=False,title='Confusion matrix',cmap=plt.cm.Blues):\n",
    "    \"\"\"\n",
    "    This function prints and plots the confusion matrix.\n",
    "    Normalization can be applied by setting `normalize=True`.\n",
    "    \"\"\"\n",
    "    plt.imshow(cm, interpolation='nearest', cmap=cmap)\n",
    "    plt.title(title)\n",
    "    plt.colorbar()\n",
    "    tick_marks = np.arange(len(classes))\n",
    "    plt.xticks(tick_marks, classes, rotation=45)\n",
    "    plt.yticks(tick_marks, classes)\n",
    "\n",
    "    if normalize:\n",
    "        cm = cm.astype('float') / cm.sum(axis=1)[:, np.newaxis]\n",
    "        print(\"Normalized confusion matrix\")\n",
    "    else:\n",
    "        print('Confusion matrix, without normalization')\n",
    "\n",
    "    print(cm)\n",
    "\n",
    "    thresh = cm.max() / 2.\n",
    "    for i, j in itertools.product(range(cm.shape[0]), range(cm.shape[1])):\n",
    "        plt.text(j, i, cm[i, j],\n",
    "                 horizontalalignment=\"center\",\n",
    "                 color=\"white\" if cm[i, j] > thresh else \"black\")\n",
    "\n",
    "    plt.tight_layout()\n",
    "    plt.ylabel('True label')\n",
    "    plt.xlabel('Predicted label')\n",
    "\n",
    "font = {'size' : 15}\n",
    "\n",
    "plt.rc('font', **font)\n",
    "\n",
    "plt.figure(figsize=(10, 8))\n",
    "\n",
    "cnf_matrix = confusion_matrix(Y_test, predictions);\n",
    "plot_confusion_matrix(cnf_matrix, classes=['0 - не ушел', '1 - ушёл'],title='Confusion matrix')\n",
    "plt.savefig(\"conf_matrix.png\")\n",
    "plt.show()"
   ]
  },
  {
   "cell_type": "markdown",
   "metadata": {},
   "source": [
    "TN - истино-отрицательные ответы = 1734, т.е правильно определённые отрицательные ответы, означающие, что клиент остался; FN - ложно-отрицательные ответы = 233, показывает, что клиент остался, не смотря на то, что он ушёл, т.е. ошибка; TP - истино-положительные ответы = 218, значит, что клиент ушёл; FP - ложно-положительные ответы = 88, ошибка, показывает, что клиент ушел, а он остался.\n",
    "\n",
    "F1 мера получилась ниже, чем у более ранней модели, что и стоило ожидать. Теперь рассмотрим модель обученную без гиперпараметров."
   ]
  },
  {
   "cell_type": "code",
   "execution_count": 257,
   "metadata": {},
   "outputs": [
    {
     "name": "stdout",
     "output_type": "stream",
     "text": [
      "confusion_matrix\n",
      " [[1741   81]\n",
      " [ 256  195]]\n",
      "recall_score 0.43237250554323725\n",
      "precision_score 0.7065217391304348\n",
      "f1_score 0.5364511691884457\n"
     ]
    }
   ],
   "source": [
    "model_simple = RandomForestClassifier(n_estimators=10, random_state=12345)\n",
    "model_simple.fit(X_train_scaled, Y_train)\n",
    "predictions = model_simple.predict(X_test_scaled)\n",
    "main_param(Y_test, predictions)"
   ]
  },
  {
   "cell_type": "code",
   "execution_count": 258,
   "metadata": {},
   "outputs": [
    {
     "name": "stdout",
     "output_type": "stream",
     "text": [
      "CV AUC-ROC scores: [0.8238007  0.81996267 0.83811444 0.76698819 0.80810909]\n"
     ]
    },
    {
     "data": {
      "image/png": "[encoded data removed]",
      "text/plain": [
       "<Figure size 432x432 with 1 Axes>"
      ]
     },
     "metadata": {},
     "output_type": "display_data"
    },
    {
     "name": "stdout",
     "output_type": "stream",
     "text": [
      "auc_roc = 0.804711325728166\n"
     ]
    }
   ],
   "source": [
    "from sklearn.model_selection import cross_val_predict\n",
    "\n",
    "cv_scores = cross_val_score(model_simple, X_train_scaled, Y_train, cv=5, scoring='roc_auc')\n",
    "print(f'CV AUC-ROC scores: {cv_scores}')\n",
    "\n",
    "probabilities = cross_val_predict(model_simple, X_test_scaled, Y_test, cv=5, method='predict_proba')\n",
    "probabilities_one_valid = probabilities[:,1]\n",
    "auc_roc = roc_auc_score(Y_test, probabilities_one_valid)\n",
    "fpr, tpr, thresholds = roc_curve(Y_test, probabilities_one_valid)\n",
    "plt.figure(figsize=(6, 6))\n",
    "plt.step(fpr, tpr, where='post')\n",
    "plt.xlabel('FPR')\n",
    "plt.ylabel('TPR')\n",
    "plt.ylim([0.0, 1.05])\n",
    "plt.xlim([0.0, 1.0])\n",
    "plt.title('Кривая ROC - RFC simple model (CV)')\n",
    "plt.show()\n",
    "print('auc_roc =', auc_roc)"
   ]
  },
  {
   "cell_type": "code",
   "execution_count": 259,
   "metadata": {},
   "outputs": [
    {
     "data": {
      "text/plain": [
       "{'bootstrap': True,\n",
       " 'ccp_alpha': 0.0,\n",
       " 'class_weight': None,\n",
       " 'criterion': 'gini',\n",
       " 'max_depth': None,\n",
       " 'max_features': 'sqrt',\n",
       " 'max_leaf_nodes': None,\n",
       " 'max_samples': None,\n",
       " 'min_impurity_decrease': 0.0,\n",
       " 'min_samples_leaf': 1,\n",
       " 'min_samples_split': 2,\n",
       " 'min_weight_fraction_leaf': 0.0,\n",
       " 'n_estimators': 10,\n",
       " 'n_jobs': None,\n",
       " 'oob_score': False,\n",
       " 'random_state': 12345,\n",
       " 'verbose': 0,\n",
       " 'warm_start': False}"
      ]
     },
     "execution_count": 259,
     "metadata": {},
     "output_type": "execute_result"
    }
   ],
   "source": [
    "model_simple.get_params()"
   ]
  },
  {
   "cell_type": "code",
   "execution_count": 260,
   "metadata": {},
   "outputs": [
    {
     "data": {
      "text/html": [
       "<div>\n",
       "<style scoped>\n",
       "    .dataframe tbody tr th:only-of-type {\n",
       "        vertical-align: middle;\n",
       "    }\n",
       "\n",
       "    .dataframe tbody tr th {\n",
       "        vertical-align: top;\n",
       "    }\n",
       "\n",
       "    .dataframe thead th {\n",
       "        text-align: right;\n",
       "    }\n",
       "</style>\n",
       "<table border=\"1\" class=\"dataframe\">\n",
       "  <thead>\n",
       "    <tr style=\"text-align: right;\">\n",
       "      <th></th>\n",
       "      <th>type</th>\n",
       "      <th>criterion</th>\n",
       "      <th>max_depth</th>\n",
       "      <th>max_features</th>\n",
       "      <th>n_estimator</th>\n",
       "      <th>recall</th>\n",
       "      <th>precision</th>\n",
       "      <th>f1</th>\n",
       "    </tr>\n",
       "  </thead>\n",
       "  <tbody>\n",
       "    <tr>\n",
       "      <th>1</th>\n",
       "      <td>model 1</td>\n",
       "      <td>entropy</td>\n",
       "      <td>21</td>\n",
       "      <td>auto</td>\n",
       "      <td>23</td>\n",
       "      <td>0.48</td>\n",
       "      <td>0.71</td>\n",
       "      <td>0.58</td>\n",
       "    </tr>\n",
       "    <tr>\n",
       "      <th>2</th>\n",
       "      <td>model 2: simple model without params</td>\n",
       "      <td>gini</td>\n",
       "      <td>None</td>\n",
       "      <td>auto</td>\n",
       "      <td>10</td>\n",
       "      <td>0.43</td>\n",
       "      <td>0.71</td>\n",
       "      <td>0.54</td>\n",
       "    </tr>\n",
       "  </tbody>\n",
       "</table>\n",
       "</div>"
      ],
      "text/plain": [
       "                                   type criterion max_depth max_features  \\\n",
       "1                               model 1   entropy        21         auto   \n",
       "2  model 2: simple model without params      gini      None         auto   \n",
       "\n",
       "  n_estimator  recall  precision    f1  \n",
       "1          23    0.48       0.71  0.58  \n",
       "2          10    0.43       0.71  0.54  "
      ]
     },
     "execution_count": 260,
     "metadata": {},
     "output_type": "execute_result"
    }
   ],
   "source": [
    "result.loc[2] = ['model 2: simple model without params','gini',None,'auto', 10,0.43,0.71,0.54]\n",
    "result"
   ]
  },
  {
   "cell_type": "markdown",
   "metadata": {},
   "source": [
    "**Вывод**\n",
    "\n",
    "Даже без установки гиперпараметров модель показывает сравнимое значение с моделью, по которой был произведен поиск оптимальных параметров с помощью класса GridSearchCV, но не одинаковое, уcтановка гиперпараметров улучшает качество модели. Возможно поможет устранение дисбаланса классов, а он есть в соотношении нулей и единиц 4:1 соотвественно."
   ]
  },
  {
   "cell_type": "code",
   "execution_count": 261,
   "metadata": {},
   "outputs": [
    {
     "name": "stdout",
     "output_type": "stream",
     "text": [
      "confusion_matrix\n",
      " [[1764   58]\n",
      " [ 360   91]]\n",
      "recall_score 0.2017738359201774\n",
      "precision_score 0.610738255033557\n",
      "f1_score 0.30333333333333334\n"
     ]
    },
    {
     "data": {
      "image/png": "[encoded data removed]",
      "text/plain": [
       "<Figure size 432x432 with 1 Axes>"
      ]
     },
     "metadata": {},
     "output_type": "display_data"
    },
    {
     "name": "stdout",
     "output_type": "stream",
     "text": [
      "auc_roc = 0.7884832096499791\n"
     ]
    }
   ],
   "source": [
    "# Проверим логистическую регрессию\n",
    "model_logreg = LogisticRegression(random_state=12345, solver='liblinear')\n",
    "model_logreg.fit(X_train_scaled, Y_train)\n",
    "predictions = model_logreg.predict(X_test_scaled)\n",
    "main_param(Y_test, predictions)\n",
    "\n",
    "probabilities = model_logreg.predict_proba(X_test_scaled)\n",
    "probabilities_one_valid = probabilities[:,1]\n",
    "auc_roc = roc_auc_score(Y_test, probabilities_one_valid)\n",
    "fpr, tpr, thresholds = roc_curve(Y_test, probabilities_one_valid)\n",
    "plt.figure(figsize=(6, 6))\n",
    "plt.step(fpr, tpr, where='post')\n",
    "plt.xlabel('FPR')\n",
    "plt.ylabel('TPR')\n",
    "plt.ylim([0.0, 1.05])\n",
    "plt.xlim([0.0, 1.0])\n",
    "plt.title('Кривая ROC - LogisticRegression')\n",
    "plt.show()\n",
    "print('auc_roc =', auc_roc)"
   ]
  },
  {
   "cell_type": "markdown",
   "metadata": {},
   "source": [
    "**Вывод** \n",
    "\n",
    "Оба алгоритма - RandomForestClassifier и LogisticRegression - показали хорошие результаты с точки зрения метрик. Однако, значения AUC-ROC в модели RandomForestClassifier выше, что говорит о том, что данная модель лучше справляется с классификацией, чем LogisticRegression. Кроме того, основные параметры модели (точность, полнота, F1-мера) в  RandomForestClassifier была выше, чем в LogisticRegression. В целом, RandomForestClassifier имеет преимущество перед LogisticRegression в данной задаче классификации."
   ]
  },
  {
   "cell_type": "markdown",
   "metadata": {},
   "source": [
    "## Борьба с дисбалансом"
   ]
  },
  {
   "cell_type": "markdown",
   "metadata": {},
   "source": [
    "Воспользуемся параметром class_weight, рассмотрим его влияние:"
   ]
  },
  {
   "cell_type": "code",
   "execution_count": 262,
   "metadata": {},
   "outputs": [
    {
     "name": "stdout",
     "output_type": "stream",
     "text": [
      "confusion_matrix\n",
      " [[1760   62]\n",
      " [ 255  196]]\n",
      "recall_score 0.43458980044345896\n",
      "precision_score 0.7596899224806202\n",
      "f1_score 0.5528913963328631\n"
     ]
    }
   ],
   "source": [
    "model_simple = RandomForestClassifier(class_weight='balanced', random_state=12345)\n",
    "model_simple.fit(X_train_scaled,Y_train)\n",
    "predictions = model_simple.predict(X_test_scaled)\n",
    "main_param(Y_test, predictions)"
   ]
  },
  {
   "cell_type": "code",
   "execution_count": 263,
   "metadata": {},
   "outputs": [
    {
     "data": {
      "image/png": "[encoded data removed]",
      "text/plain": [
       "<Figure size 432x432 with 1 Axes>"
      ]
     },
     "metadata": {},
     "output_type": "display_data"
    },
    {
     "name": "stdout",
     "output_type": "stream",
     "text": [
      "auc_roc = 0.8565408982599954\n"
     ]
    }
   ],
   "source": [
    "probabilities = model_simple.predict_proba(X_test_scaled)\n",
    "probabilities_one_valid = probabilities[:,1]\n",
    "auc_roc = roc_auc_score(Y_test, probabilities_one_valid)\n",
    "fpr, tpr, thresholds = roc_curve(Y_test, probabilities_one_valid)\n",
    "plt.figure(figsize=(6, 6))\n",
    "plt.step(fpr, tpr, where='post')\n",
    "plt.xlabel('FPR')\n",
    "plt.ylabel('TPR')\n",
    "plt.ylim([0.0, 1.05])\n",
    "plt.xlim([0.0, 1.0])\n",
    "plt.title('Кривая ROC - RFC simple model')\n",
    "plt.show()\n",
    "print('auc_roc =', auc_roc)"
   ]
  },
  {
   "cell_type": "code",
   "execution_count": 264,
   "metadata": {},
   "outputs": [
    {
     "data": {
      "text/html": [
       "<div>\n",
       "<style scoped>\n",
       "    .dataframe tbody tr th:only-of-type {\n",
       "        vertical-align: middle;\n",
       "    }\n",
       "\n",
       "    .dataframe tbody tr th {\n",
       "        vertical-align: top;\n",
       "    }\n",
       "\n",
       "    .dataframe thead th {\n",
       "        text-align: right;\n",
       "    }\n",
       "</style>\n",
       "<table border=\"1\" class=\"dataframe\">\n",
       "  <thead>\n",
       "    <tr style=\"text-align: right;\">\n",
       "      <th></th>\n",
       "      <th>type</th>\n",
       "      <th>criterion</th>\n",
       "      <th>max_depth</th>\n",
       "      <th>max_features</th>\n",
       "      <th>n_estimator</th>\n",
       "      <th>recall</th>\n",
       "      <th>precision</th>\n",
       "      <th>f1</th>\n",
       "      <th>class_weight</th>\n",
       "    </tr>\n",
       "  </thead>\n",
       "  <tbody>\n",
       "    <tr>\n",
       "      <th>1</th>\n",
       "      <td>model 1</td>\n",
       "      <td>entropy</td>\n",
       "      <td>21</td>\n",
       "      <td>auto</td>\n",
       "      <td>23</td>\n",
       "      <td>0.48</td>\n",
       "      <td>0.71</td>\n",
       "      <td>0.58</td>\n",
       "      <td>False</td>\n",
       "    </tr>\n",
       "    <tr>\n",
       "      <th>2</th>\n",
       "      <td>model 2: simple model without params</td>\n",
       "      <td>gini</td>\n",
       "      <td>None</td>\n",
       "      <td>auto</td>\n",
       "      <td>10</td>\n",
       "      <td>0.43</td>\n",
       "      <td>0.71</td>\n",
       "      <td>0.54</td>\n",
       "      <td>False</td>\n",
       "    </tr>\n",
       "    <tr>\n",
       "      <th>3</th>\n",
       "      <td>model 2: simple model without params</td>\n",
       "      <td>gini</td>\n",
       "      <td>None</td>\n",
       "      <td>auto</td>\n",
       "      <td>10</td>\n",
       "      <td>0.43</td>\n",
       "      <td>0.76</td>\n",
       "      <td>0.55</td>\n",
       "      <td>True</td>\n",
       "    </tr>\n",
       "  </tbody>\n",
       "</table>\n",
       "</div>"
      ],
      "text/plain": [
       "                                   type criterion max_depth max_features  \\\n",
       "1                               model 1   entropy        21         auto   \n",
       "2  model 2: simple model without params      gini      None         auto   \n",
       "3  model 2: simple model without params      gini      None         auto   \n",
       "\n",
       "  n_estimator  recall  precision    f1  class_weight  \n",
       "1          23    0.48       0.71  0.58         False  \n",
       "2          10    0.43       0.71  0.54         False  \n",
       "3          10    0.43       0.76  0.55          True  "
      ]
     },
     "execution_count": 264,
     "metadata": {},
     "output_type": "execute_result"
    }
   ],
   "source": [
    "result['class_weight'] = False\n",
    "result.loc[3] = ['model 2: simple model without params','gini',None,'auto', 10, 0.43, 0.76, 0.55, True]\n",
    "result"
   ]
  },
  {
   "cell_type": "markdown",
   "metadata": {},
   "source": [
    "Установка параметра модели по взвешиванию не привела к существенному улучшению показателей, воспользуемся уменьшенем и увеличением классов."
   ]
  },
  {
   "cell_type": "markdown",
   "metadata": {},
   "source": [
    "### Upsampling"
   ]
  },
  {
   "cell_type": "markdown",
   "metadata": {},
   "source": [
    "Преобразование проходит в несколько этапов:\n",
    "\n",
    "- Разделить обучающую выборку на объекты по классам;\n",
    "- Определить тот класс, который содержит меньше объектов. Назовём его меньшим классом;\n",
    "- Скопировать несколько раз объекты меньшего класса;\n",
    "- С учётом полученных данных создать новую обучающую выборку;\n",
    "- Перемешать данные."
   ]
  },
  {
   "cell_type": "code",
   "execution_count": 265,
   "metadata": {},
   "outputs": [
    {
     "data": {
      "text/plain": [
       "4"
      ]
     },
     "execution_count": 265,
     "metadata": {},
     "output_type": "execute_result"
    }
   ],
   "source": [
    "repeat = int(round(Y_train[Y_train==0].count()/Y_train[Y_train==1].count(),0))\n",
    "repeat"
   ]
  },
  {
   "cell_type": "code",
   "execution_count": 266,
   "metadata": {},
   "outputs": [
    {
     "name": "stdout",
     "output_type": "stream",
     "text": [
      "0    5415\n",
      "1    1403\n",
      "Name: exited, dtype: int64\n"
     ]
    },
    {
     "data": {
      "text/plain": [
       "0       0\n",
       "1       0\n",
       "2       0\n",
       "3       0\n",
       "4       0\n",
       "       ..\n",
       "6813    0\n",
       "6814    1\n",
       "6815    0\n",
       "6816    1\n",
       "6817    0\n",
       "Name: exited, Length: 6818, dtype: uint8"
      ]
     },
     "execution_count": 266,
     "metadata": {},
     "output_type": "execute_result"
    }
   ],
   "source": [
    "print(Y_train.value_counts())\n",
    "Y_train = Y_train.astype('uint8').reset_index(drop=True)\n",
    "Y_train"
   ]
  },
  {
   "cell_type": "code",
   "execution_count": 267,
   "metadata": {},
   "outputs": [
    {
     "name": "stdout",
     "output_type": "stream",
     "text": [
      "None пропусков нет в таблице\n",
      "\n",
      "\n"
     ]
    },
    {
     "data": {
      "text/html": [
       "<div>\n",
       "<style scoped>\n",
       "    .dataframe tbody tr th:only-of-type {\n",
       "        vertical-align: middle;\n",
       "    }\n",
       "\n",
       "    .dataframe tbody tr th {\n",
       "        vertical-align: top;\n",
       "    }\n",
       "\n",
       "    .dataframe thead th {\n",
       "        text-align: right;\n",
       "    }\n",
       "</style>\n",
       "<table border=\"1\" class=\"dataframe\">\n",
       "  <thead>\n",
       "    <tr style=\"text-align: right;\">\n",
       "      <th></th>\n",
       "      <th>credit_score</th>\n",
       "      <th>age</th>\n",
       "      <th>tenure</th>\n",
       "      <th>balance</th>\n",
       "      <th>estimated_salary</th>\n",
       "      <th>gender_Male</th>\n",
       "      <th>geography_Germany</th>\n",
       "      <th>geography_Spain</th>\n",
       "      <th>has_cr_card</th>\n",
       "      <th>is_active_member</th>\n",
       "      <th>num_of_products</th>\n",
       "    </tr>\n",
       "  </thead>\n",
       "  <tbody>\n",
       "    <tr>\n",
       "      <th>0</th>\n",
       "      <td>-1.037187</td>\n",
       "      <td>0.375163</td>\n",
       "      <td>-0.681448</td>\n",
       "      <td>0.937205</td>\n",
       "      <td>-1.635163</td>\n",
       "      <td>0</td>\n",
       "      <td>1</td>\n",
       "      <td>0</td>\n",
       "      <td>1</td>\n",
       "      <td>0</td>\n",
       "      <td>1</td>\n",
       "    </tr>\n",
       "    <tr>\n",
       "      <th>1</th>\n",
       "      <td>0.297802</td>\n",
       "      <td>-0.096680</td>\n",
       "      <td>-0.681448</td>\n",
       "      <td>-1.233158</td>\n",
       "      <td>-0.590123</td>\n",
       "      <td>1</td>\n",
       "      <td>0</td>\n",
       "      <td>0</td>\n",
       "      <td>1</td>\n",
       "      <td>0</td>\n",
       "      <td>2</td>\n",
       "    </tr>\n",
       "    <tr>\n",
       "      <th>2</th>\n",
       "      <td>-1.078582</td>\n",
       "      <td>-0.191049</td>\n",
       "      <td>1.384103</td>\n",
       "      <td>0.307627</td>\n",
       "      <td>0.073185</td>\n",
       "      <td>1</td>\n",
       "      <td>1</td>\n",
       "      <td>0</td>\n",
       "      <td>0</td>\n",
       "      <td>1</td>\n",
       "      <td>2</td>\n",
       "    </tr>\n",
       "    <tr>\n",
       "      <th>3</th>\n",
       "      <td>-1.130326</td>\n",
       "      <td>-1.040366</td>\n",
       "      <td>1.039844</td>\n",
       "      <td>-1.233158</td>\n",
       "      <td>1.674643</td>\n",
       "      <td>1</td>\n",
       "      <td>0</td>\n",
       "      <td>1</td>\n",
       "      <td>0</td>\n",
       "      <td>0</td>\n",
       "      <td>2</td>\n",
       "    </tr>\n",
       "    <tr>\n",
       "      <th>4</th>\n",
       "      <td>-0.478354</td>\n",
       "      <td>0.092057</td>\n",
       "      <td>-0.337189</td>\n",
       "      <td>0.420246</td>\n",
       "      <td>-1.069473</td>\n",
       "      <td>1</td>\n",
       "      <td>0</td>\n",
       "      <td>0</td>\n",
       "      <td>1</td>\n",
       "      <td>1</td>\n",
       "      <td>2</td>\n",
       "    </tr>\n",
       "    <tr>\n",
       "      <th>...</th>\n",
       "      <td>...</td>\n",
       "      <td>...</td>\n",
       "      <td>...</td>\n",
       "      <td>...</td>\n",
       "      <td>...</td>\n",
       "      <td>...</td>\n",
       "      <td>...</td>\n",
       "      <td>...</td>\n",
       "      <td>...</td>\n",
       "      <td>...</td>\n",
       "      <td>...</td>\n",
       "    </tr>\n",
       "    <tr>\n",
       "      <th>6813</th>\n",
       "      <td>1.280934</td>\n",
       "      <td>-0.474154</td>\n",
       "      <td>1.728361</td>\n",
       "      <td>0.808482</td>\n",
       "      <td>-1.104143</td>\n",
       "      <td>1</td>\n",
       "      <td>1</td>\n",
       "      <td>0</td>\n",
       "      <td>0</td>\n",
       "      <td>0</td>\n",
       "      <td>1</td>\n",
       "    </tr>\n",
       "    <tr>\n",
       "      <th>6814</th>\n",
       "      <td>0.152920</td>\n",
       "      <td>0.469531</td>\n",
       "      <td>1.039844</td>\n",
       "      <td>1.065897</td>\n",
       "      <td>0.254945</td>\n",
       "      <td>0</td>\n",
       "      <td>0</td>\n",
       "      <td>0</td>\n",
       "      <td>1</td>\n",
       "      <td>1</td>\n",
       "      <td>1</td>\n",
       "    </tr>\n",
       "    <tr>\n",
       "      <th>6815</th>\n",
       "      <td>-1.057885</td>\n",
       "      <td>-0.945997</td>\n",
       "      <td>0.351327</td>\n",
       "      <td>0.446252</td>\n",
       "      <td>-1.098318</td>\n",
       "      <td>0</td>\n",
       "      <td>0</td>\n",
       "      <td>0</td>\n",
       "      <td>1</td>\n",
       "      <td>1</td>\n",
       "      <td>1</td>\n",
       "    </tr>\n",
       "    <tr>\n",
       "      <th>6816</th>\n",
       "      <td>-0.964746</td>\n",
       "      <td>1.224480</td>\n",
       "      <td>1.384103</td>\n",
       "      <td>-1.233158</td>\n",
       "      <td>1.286788</td>\n",
       "      <td>0</td>\n",
       "      <td>0</td>\n",
       "      <td>0</td>\n",
       "      <td>1</td>\n",
       "      <td>0</td>\n",
       "      <td>1</td>\n",
       "    </tr>\n",
       "    <tr>\n",
       "      <th>6817</th>\n",
       "      <td>1.218841</td>\n",
       "      <td>-1.512208</td>\n",
       "      <td>-1.025706</td>\n",
       "      <td>1.010477</td>\n",
       "      <td>-1.255989</td>\n",
       "      <td>1</td>\n",
       "      <td>1</td>\n",
       "      <td>0</td>\n",
       "      <td>0</td>\n",
       "      <td>1</td>\n",
       "      <td>1</td>\n",
       "    </tr>\n",
       "  </tbody>\n",
       "</table>\n",
       "<p>6818 rows × 11 columns</p>\n",
       "</div>"
      ],
      "text/plain": [
       "      credit_score       age    tenure   balance  estimated_salary  \\\n",
       "0        -1.037187  0.375163 -0.681448  0.937205         -1.635163   \n",
       "1         0.297802 -0.096680 -0.681448 -1.233158         -0.590123   \n",
       "2        -1.078582 -0.191049  1.384103  0.307627          0.073185   \n",
       "3        -1.130326 -1.040366  1.039844 -1.233158          1.674643   \n",
       "4        -0.478354  0.092057 -0.337189  0.420246         -1.069473   \n",
       "...            ...       ...       ...       ...               ...   \n",
       "6813      1.280934 -0.474154  1.728361  0.808482         -1.104143   \n",
       "6814      0.152920  0.469531  1.039844  1.065897          0.254945   \n",
       "6815     -1.057885 -0.945997  0.351327  0.446252         -1.098318   \n",
       "6816     -0.964746  1.224480  1.384103 -1.233158          1.286788   \n",
       "6817      1.218841 -1.512208 -1.025706  1.010477         -1.255989   \n",
       "\n",
       "      gender_Male  geography_Germany  geography_Spain  has_cr_card  \\\n",
       "0               0                  1                0            1   \n",
       "1               1                  0                0            1   \n",
       "2               1                  1                0            0   \n",
       "3               1                  0                1            0   \n",
       "4               1                  0                0            1   \n",
       "...           ...                ...              ...          ...   \n",
       "6813            1                  1                0            0   \n",
       "6814            0                  0                0            1   \n",
       "6815            0                  0                0            1   \n",
       "6816            0                  0                0            1   \n",
       "6817            1                  1                0            0   \n",
       "\n",
       "      is_active_member  num_of_products  \n",
       "0                    0                1  \n",
       "1                    0                2  \n",
       "2                    1                2  \n",
       "3                    0                2  \n",
       "4                    1                2  \n",
       "...                ...              ...  \n",
       "6813                 0                1  \n",
       "6814                 1                1  \n",
       "6815                 1                1  \n",
       "6816                 0                1  \n",
       "6817                 1                1  \n",
       "\n",
       "[6818 rows x 11 columns]"
      ]
     },
     "execution_count": 267,
     "metadata": {},
     "output_type": "execute_result"
    }
   ],
   "source": [
    "search_none(X_train_scaled)\n",
    "search_nan(X_train_scaled)\n",
    "X_train_scaled"
   ]
  },
  {
   "cell_type": "code",
   "execution_count": 268,
   "metadata": {},
   "outputs": [
    {
     "name": "stdout",
     "output_type": "stream",
     "text": [
      "<class 'pandas.core.frame.DataFrame'>\n",
      "RangeIndex: 6818 entries, 0 to 6817\n",
      "Data columns (total 11 columns):\n",
      " #   Column             Non-Null Count  Dtype  \n",
      "---  ------             --------------  -----  \n",
      " 0   credit_score       6818 non-null   float64\n",
      " 1   age                6818 non-null   float64\n",
      " 2   tenure             6818 non-null   float64\n",
      " 3   balance            6818 non-null   float64\n",
      " 4   estimated_salary   6818 non-null   float64\n",
      " 5   gender_Male        6818 non-null   uint8  \n",
      " 6   geography_Germany  6818 non-null   uint8  \n",
      " 7   geography_Spain    6818 non-null   uint8  \n",
      " 8   has_cr_card        6818 non-null   int64  \n",
      " 9   is_active_member   6818 non-null   int64  \n",
      " 10  num_of_products    6818 non-null   int64  \n",
      "dtypes: float64(5), int64(3), uint8(3)\n",
      "memory usage: 446.2 KB\n"
     ]
    }
   ],
   "source": [
    "X_train_scaled.info()"
   ]
  },
  {
   "cell_type": "code",
   "execution_count": 269,
   "metadata": {},
   "outputs": [
    {
     "data": {
      "text/html": [
       "<div>\n",
       "<style scoped>\n",
       "    .dataframe tbody tr th:only-of-type {\n",
       "        vertical-align: middle;\n",
       "    }\n",
       "\n",
       "    .dataframe tbody tr th {\n",
       "        vertical-align: top;\n",
       "    }\n",
       "\n",
       "    .dataframe thead th {\n",
       "        text-align: right;\n",
       "    }\n",
       "</style>\n",
       "<table border=\"1\" class=\"dataframe\">\n",
       "  <thead>\n",
       "    <tr style=\"text-align: right;\">\n",
       "      <th></th>\n",
       "      <th>credit_score</th>\n",
       "      <th>age</th>\n",
       "      <th>tenure</th>\n",
       "      <th>balance</th>\n",
       "      <th>estimated_salary</th>\n",
       "      <th>gender_Male</th>\n",
       "      <th>geography_Germany</th>\n",
       "      <th>geography_Spain</th>\n",
       "      <th>has_cr_card</th>\n",
       "      <th>is_active_member</th>\n",
       "      <th>num_of_products</th>\n",
       "    </tr>\n",
       "  </thead>\n",
       "  <tbody>\n",
       "    <tr>\n",
       "      <th>6</th>\n",
       "      <td>2.077788</td>\n",
       "      <td>1.601954</td>\n",
       "      <td>-1.369965</td>\n",
       "      <td>1.496063</td>\n",
       "      <td>0.953213</td>\n",
       "      <td>1</td>\n",
       "      <td>1</td>\n",
       "      <td>0</td>\n",
       "      <td>0</td>\n",
       "      <td>0</td>\n",
       "      <td>1</td>\n",
       "    </tr>\n",
       "    <tr>\n",
       "      <th>7</th>\n",
       "      <td>-1.099280</td>\n",
       "      <td>1.696322</td>\n",
       "      <td>-1.369965</td>\n",
       "      <td>0.473384</td>\n",
       "      <td>0.344909</td>\n",
       "      <td>0</td>\n",
       "      <td>1</td>\n",
       "      <td>0</td>\n",
       "      <td>1</td>\n",
       "      <td>1</td>\n",
       "      <td>2</td>\n",
       "    </tr>\n",
       "    <tr>\n",
       "      <th>11</th>\n",
       "      <td>-0.312774</td>\n",
       "      <td>0.092057</td>\n",
       "      <td>1.728361</td>\n",
       "      <td>-1.233158</td>\n",
       "      <td>0.801858</td>\n",
       "      <td>0</td>\n",
       "      <td>0</td>\n",
       "      <td>0</td>\n",
       "      <td>1</td>\n",
       "      <td>1</td>\n",
       "      <td>1</td>\n",
       "    </tr>\n",
       "    <tr>\n",
       "      <th>12</th>\n",
       "      <td>-0.012660</td>\n",
       "      <td>0.658268</td>\n",
       "      <td>1.384103</td>\n",
       "      <td>0.812168</td>\n",
       "      <td>-0.402681</td>\n",
       "      <td>1</td>\n",
       "      <td>0</td>\n",
       "      <td>1</td>\n",
       "      <td>1</td>\n",
       "      <td>0</td>\n",
       "      <td>2</td>\n",
       "    </tr>\n",
       "    <tr>\n",
       "      <th>15</th>\n",
       "      <td>-0.085102</td>\n",
       "      <td>0.847005</td>\n",
       "      <td>-0.681448</td>\n",
       "      <td>1.135866</td>\n",
       "      <td>0.981011</td>\n",
       "      <td>0</td>\n",
       "      <td>0</td>\n",
       "      <td>0</td>\n",
       "      <td>1</td>\n",
       "      <td>1</td>\n",
       "      <td>1</td>\n",
       "    </tr>\n",
       "    <tr>\n",
       "      <th>...</th>\n",
       "      <td>...</td>\n",
       "      <td>...</td>\n",
       "      <td>...</td>\n",
       "      <td>...</td>\n",
       "      <td>...</td>\n",
       "      <td>...</td>\n",
       "      <td>...</td>\n",
       "      <td>...</td>\n",
       "      <td>...</td>\n",
       "      <td>...</td>\n",
       "      <td>...</td>\n",
       "    </tr>\n",
       "    <tr>\n",
       "      <th>6802</th>\n",
       "      <td>-0.229984</td>\n",
       "      <td>-0.002311</td>\n",
       "      <td>0.007069</td>\n",
       "      <td>0.770009</td>\n",
       "      <td>-0.130849</td>\n",
       "      <td>0</td>\n",
       "      <td>1</td>\n",
       "      <td>0</td>\n",
       "      <td>1</td>\n",
       "      <td>0</td>\n",
       "      <td>1</td>\n",
       "    </tr>\n",
       "    <tr>\n",
       "      <th>6803</th>\n",
       "      <td>-1.564974</td>\n",
       "      <td>0.280794</td>\n",
       "      <td>-0.681448</td>\n",
       "      <td>1.211407</td>\n",
       "      <td>-0.816837</td>\n",
       "      <td>1</td>\n",
       "      <td>1</td>\n",
       "      <td>0</td>\n",
       "      <td>1</td>\n",
       "      <td>1</td>\n",
       "      <td>1</td>\n",
       "    </tr>\n",
       "    <tr>\n",
       "      <th>6809</th>\n",
       "      <td>1.208493</td>\n",
       "      <td>0.752637</td>\n",
       "      <td>1.384103</td>\n",
       "      <td>0.845627</td>\n",
       "      <td>1.196670</td>\n",
       "      <td>1</td>\n",
       "      <td>1</td>\n",
       "      <td>0</td>\n",
       "      <td>1</td>\n",
       "      <td>0</td>\n",
       "      <td>1</td>\n",
       "    </tr>\n",
       "    <tr>\n",
       "      <th>6814</th>\n",
       "      <td>0.152920</td>\n",
       "      <td>0.469531</td>\n",
       "      <td>1.039844</td>\n",
       "      <td>1.065897</td>\n",
       "      <td>0.254945</td>\n",
       "      <td>0</td>\n",
       "      <td>0</td>\n",
       "      <td>0</td>\n",
       "      <td>1</td>\n",
       "      <td>1</td>\n",
       "      <td>1</td>\n",
       "    </tr>\n",
       "    <tr>\n",
       "      <th>6816</th>\n",
       "      <td>-0.964746</td>\n",
       "      <td>1.224480</td>\n",
       "      <td>1.384103</td>\n",
       "      <td>-1.233158</td>\n",
       "      <td>1.286788</td>\n",
       "      <td>0</td>\n",
       "      <td>0</td>\n",
       "      <td>0</td>\n",
       "      <td>1</td>\n",
       "      <td>0</td>\n",
       "      <td>1</td>\n",
       "    </tr>\n",
       "  </tbody>\n",
       "</table>\n",
       "<p>1403 rows × 11 columns</p>\n",
       "</div>"
      ],
      "text/plain": [
       "      credit_score       age    tenure   balance  estimated_salary  \\\n",
       "6         2.077788  1.601954 -1.369965  1.496063          0.953213   \n",
       "7        -1.099280  1.696322 -1.369965  0.473384          0.344909   \n",
       "11       -0.312774  0.092057  1.728361 -1.233158          0.801858   \n",
       "12       -0.012660  0.658268  1.384103  0.812168         -0.402681   \n",
       "15       -0.085102  0.847005 -0.681448  1.135866          0.981011   \n",
       "...            ...       ...       ...       ...               ...   \n",
       "6802     -0.229984 -0.002311  0.007069  0.770009         -0.130849   \n",
       "6803     -1.564974  0.280794 -0.681448  1.211407         -0.816837   \n",
       "6809      1.208493  0.752637  1.384103  0.845627          1.196670   \n",
       "6814      0.152920  0.469531  1.039844  1.065897          0.254945   \n",
       "6816     -0.964746  1.224480  1.384103 -1.233158          1.286788   \n",
       "\n",
       "      gender_Male  geography_Germany  geography_Spain  has_cr_card  \\\n",
       "6               1                  1                0            0   \n",
       "7               0                  1                0            1   \n",
       "11              0                  0                0            1   \n",
       "12              1                  0                1            1   \n",
       "15              0                  0                0            1   \n",
       "...           ...                ...              ...          ...   \n",
       "6802            0                  1                0            1   \n",
       "6803            1                  1                0            1   \n",
       "6809            1                  1                0            1   \n",
       "6814            0                  0                0            1   \n",
       "6816            0                  0                0            1   \n",
       "\n",
       "      is_active_member  num_of_products  \n",
       "6                    0                1  \n",
       "7                    1                2  \n",
       "11                   1                1  \n",
       "12                   0                2  \n",
       "15                   1                1  \n",
       "...                ...              ...  \n",
       "6802                 0                1  \n",
       "6803                 1                1  \n",
       "6809                 0                1  \n",
       "6814                 1                1  \n",
       "6816                 0                1  \n",
       "\n",
       "[1403 rows x 11 columns]"
      ]
     },
     "execution_count": 269,
     "metadata": {},
     "output_type": "execute_result"
    }
   ],
   "source": [
    "features_zeros = X_train_scaled[Y_train == 0]\n",
    "features_ones = X_train_scaled[Y_train == 1]\n",
    "target_zeros = X_train_scaled[Y_train == 0]\n",
    "target_ones = X_train_scaled[Y_train == 1]\n",
    "target_ones"
   ]
  },
  {
   "cell_type": "code",
   "execution_count": 270,
   "metadata": {},
   "outputs": [
    {
     "name": "stdout",
     "output_type": "stream",
     "text": [
      "соотношение классов: 0.964896650035638\n",
      "F1: 0.6\n"
     ]
    }
   ],
   "source": [
    "def upsample(X_train_scaled, y, repeat):\n",
    "    features_zeros = X_train_scaled[Y_train == 0]\n",
    "    features_ones = X_train_scaled[Y_train == 1]\n",
    "    target_zeros = Y_train[Y_train == 0]\n",
    "    target_ones = Y_train[Y_train == 1]\n",
    "\n",
    "    features_upsampled = pd.concat([features_zeros] + [features_ones] * repeat)\n",
    "    target_upsampled = pd.concat([target_zeros] + [target_ones] * repeat)\n",
    "    \n",
    "    features_upsampled, target_upsampled = shuffle(features_upsampled, target_upsampled, random_state=12345)\n",
    "    \n",
    "    return features_upsampled, target_upsampled\n",
    "\n",
    "\n",
    "features_upsampled, target_upsampled = upsample(X_train_scaled, Y_train, 4)\n",
    "\n",
    "model = RandomForestClassifier(random_state=12345)\n",
    "model.fit(features_upsampled,target_upsampled)\n",
    "\n",
    "predicted_valid = model.predict(X_test_scaled)\n",
    "\n",
    "repeat = (target_upsampled[target_upsampled==0].count()/target_upsampled[target_upsampled==1].count())\n",
    "print('соотношение классов:', repeat)\n",
    "\n",
    "print(\"F1:\", round(f1_score(Y_test, predicted_valid),2))"
   ]
  },
  {
   "cell_type": "code",
   "execution_count": 271,
   "metadata": {},
   "outputs": [
    {
     "data": {
      "image/png": "[encoded data removed]",
      "text/plain": [
       "<Figure size 432x432 with 1 Axes>"
      ]
     },
     "metadata": {},
     "output_type": "display_data"
    },
    {
     "name": "stdout",
     "output_type": "stream",
     "text": [
      "auc_roc = 0.8522937197738408\n"
     ]
    }
   ],
   "source": [
    "probabilities = model.predict_proba(X_test_scaled)\n",
    "probabilities_one_valid = probabilities[:,1]\n",
    "auc_roc = roc_auc_score(Y_test, probabilities_one_valid)\n",
    "fpr, tpr, thresholds = roc_curve(Y_test, probabilities_one_valid)\n",
    "plt.figure(figsize=(6, 6))\n",
    "plt.step(fpr, tpr, where='post')\n",
    "plt.xlabel('FPR')\n",
    "plt.ylabel('TPR')\n",
    "plt.ylim([0.0, 1.05])\n",
    "plt.xlim([0.0, 1.0])\n",
    "plt.title('Кривая ROC - RFC simple model')\n",
    "plt.show()\n",
    "print('auc_roc =', auc_roc)"
   ]
  },
  {
   "cell_type": "code",
   "execution_count": 273,
   "metadata": {},
   "outputs": [
    {
     "data": {
      "text/html": [
       "<div>\n",
       "<style scoped>\n",
       "    .dataframe tbody tr th:only-of-type {\n",
       "        vertical-align: middle;\n",
       "    }\n",
       "\n",
       "    .dataframe tbody tr th {\n",
       "        vertical-align: top;\n",
       "    }\n",
       "\n",
       "    .dataframe thead th {\n",
       "        text-align: right;\n",
       "    }\n",
       "</style>\n",
       "<table border=\"1\" class=\"dataframe\">\n",
       "  <thead>\n",
       "    <tr style=\"text-align: right;\">\n",
       "      <th></th>\n",
       "      <th>type</th>\n",
       "      <th>criterion</th>\n",
       "      <th>max_depth</th>\n",
       "      <th>max_features</th>\n",
       "      <th>n_estimator</th>\n",
       "      <th>recall</th>\n",
       "      <th>precision</th>\n",
       "      <th>f1</th>\n",
       "      <th>class_weight</th>\n",
       "      <th>upsample</th>\n",
       "    </tr>\n",
       "  </thead>\n",
       "  <tbody>\n",
       "    <tr>\n",
       "      <th>1</th>\n",
       "      <td>model 1</td>\n",
       "      <td>entropy</td>\n",
       "      <td>21</td>\n",
       "      <td>auto</td>\n",
       "      <td>23</td>\n",
       "      <td>0.48</td>\n",
       "      <td>0.71</td>\n",
       "      <td>0.58</td>\n",
       "      <td>False</td>\n",
       "      <td>False</td>\n",
       "    </tr>\n",
       "    <tr>\n",
       "      <th>2</th>\n",
       "      <td>model 2: simple model without params</td>\n",
       "      <td>gini</td>\n",
       "      <td>None</td>\n",
       "      <td>auto</td>\n",
       "      <td>10</td>\n",
       "      <td>0.43</td>\n",
       "      <td>0.71</td>\n",
       "      <td>0.54</td>\n",
       "      <td>False</td>\n",
       "      <td>False</td>\n",
       "    </tr>\n",
       "    <tr>\n",
       "      <th>3</th>\n",
       "      <td>model 2: simple model without params</td>\n",
       "      <td>gini</td>\n",
       "      <td>None</td>\n",
       "      <td>auto</td>\n",
       "      <td>10</td>\n",
       "      <td>0.43</td>\n",
       "      <td>0.76</td>\n",
       "      <td>0.55</td>\n",
       "      <td>True</td>\n",
       "      <td>False</td>\n",
       "    </tr>\n",
       "    <tr>\n",
       "      <th>4</th>\n",
       "      <td>model 2: simple model without params</td>\n",
       "      <td>gini</td>\n",
       "      <td>None</td>\n",
       "      <td>auto</td>\n",
       "      <td>10</td>\n",
       "      <td>0.54</td>\n",
       "      <td>0.66</td>\n",
       "      <td>0.60</td>\n",
       "      <td>False</td>\n",
       "      <td>True</td>\n",
       "    </tr>\n",
       "  </tbody>\n",
       "</table>\n",
       "</div>"
      ],
      "text/plain": [
       "                                   type criterion max_depth max_features  \\\n",
       "1                               model 1   entropy        21         auto   \n",
       "2  model 2: simple model without params      gini      None         auto   \n",
       "3  model 2: simple model without params      gini      None         auto   \n",
       "4  model 2: simple model without params      gini      None         auto   \n",
       "\n",
       "  n_estimator  recall  precision    f1  class_weight  upsample  \n",
       "1          23    0.48       0.71  0.58         False     False  \n",
       "2          10    0.43       0.71  0.54         False     False  \n",
       "3          10    0.43       0.76  0.55          True     False  \n",
       "4          10    0.54       0.66  0.60         False      True  "
      ]
     },
     "execution_count": 273,
     "metadata": {},
     "output_type": "execute_result"
    }
   ],
   "source": [
    "result['upsample'] = False\n",
    "result.loc[4]=['model 2: simple model without params', 'gini',None,'auto', 10, 0.54, 0.66, 0.60, False, True]\n",
    "result"
   ]
  },
  {
   "cell_type": "code",
   "execution_count": 272,
   "metadata": {},
   "outputs": [
    {
     "name": "stdout",
     "output_type": "stream",
     "text": [
      "confusion_matrix\n",
      " [[1695  127]\n",
      " [ 206  245]]\n",
      "recall_score 0.5432372505543237\n",
      "precision_score 0.6586021505376344\n",
      "f1_score 0.5953827460510328\n",
      "Confusion matrix, without normalization\n",
      "[[1734   88]\n",
      " [ 233  218]]\n"
     ]
    },
    {
     "data": {
      "image/png": "[encoded data removed]",
      "text/plain": [
       "<Figure size 720x576 with 2 Axes>"
      ]
     },
     "metadata": {},
     "output_type": "display_data"
    }
   ],
   "source": [
    "main_param(Y_test,model.predict(X_test_scaled))\n",
    "\n",
    "#cnf_matrix = confusion_matrix(Y_test, model.predict(X_test_scaled))\n",
    "plt.figure(figsize=(10, 8))\n",
    "plot_confusion_matrix(cnf_matrix, classes=['0 - не ушел', '1 - ушёл'], title='Confusion matrix')\n",
    "plt.show()"
   ]
  },
  {
   "cell_type": "markdown",
   "metadata": {},
   "source": [
    "### Downsample"
   ]
  },
  {
   "cell_type": "markdown",
   "metadata": {},
   "source": [
    "Преобразование проходит в несколько этапов:\n",
    "\n",
    "- Разделить обучающую выборку на отрицательные и положительные объекты;\n",
    "- Случайным образом отбросить часть из отрицательных объектов;\n",
    "- С учётом полученных данных создать новую обучающую выборку;\n",
    "- Перемешать данные. Положительные не должны идти следом за отрицательными: алгоритмам будет сложнее обучаться."
   ]
  },
  {
   "cell_type": "code",
   "execution_count": 274,
   "metadata": {},
   "outputs": [
    {
     "data": {
      "text/plain": [
       "0.26"
      ]
     },
     "execution_count": 274,
     "metadata": {},
     "output_type": "execute_result"
    }
   ],
   "source": [
    "fraction = round(Y_train[Y_train==1].count() / Y_train[Y_train==0].count(), 2)\n",
    "fraction"
   ]
  },
  {
   "cell_type": "code",
   "execution_count": 275,
   "metadata": {},
   "outputs": [],
   "source": [
    "def downsample(features, target, fraction):\n",
    "    features_zeros = features[target == 0]\n",
    "    features_ones = features[target == 1]\n",
    "    target_zeros = target[target == 0]\n",
    "    target_ones = target[target == 1]\n",
    "\n",
    "    features_downsampled = pd.concat(\n",
    "[features_zeros.sample(frac=fraction/4, random_state=12345)] + [features_ones])\n",
    "    target_downsampled = pd.concat(\n",
    "[target_zeros.sample(frac=fraction/4, random_state=12345)] + [target_ones])\n",
    "    \n",
    "    features_downsampled, target_downsampled = shuffle(\n",
    "        features_downsampled, target_downsampled, random_state=12345)\n",
    "    \n",
    "    return features_downsampled, target_downsampled\n",
    "\n",
    "best_f1 = {}\n",
    "for i in np.arange(0.100,0.890,0.001):\n",
    "    features_downsampled, target_downsampled = downsample(X_train_scaled, Y_train, fraction)\n",
    "    model = RandomForestClassifier(random_state = 12345)\n",
    "    model.fit(features_downsampled,target_downsampled)\n",
    "    predicted_valid = model.predict(X_test_scaled)\n",
    "    best_f1[fraction] = f1_score(Y_test, predicted_valid)"
   ]
  },
  {
   "cell_type": "code",
   "execution_count": 276,
   "metadata": {},
   "outputs": [
    {
     "data": {
      "image/png": "[encoded data removed]",
      "text/plain": [
       "<Figure size 432x432 with 1 Axes>"
      ]
     },
     "metadata": {},
     "output_type": "display_data"
    },
    {
     "name": "stdout",
     "output_type": "stream",
     "text": [
      "auc_roc = 0.837079328532034\n"
     ]
    }
   ],
   "source": [
    "probabilities = model.predict_proba(X_test_scaled)\n",
    "probabilities_one_valid = probabilities[:,1]\n",
    "auc_roc = roc_auc_score(Y_test, probabilities_one_valid)\n",
    "fpr, tpr, thresholds = roc_curve(Y_test, probabilities_one_valid)\n",
    "plt.figure(figsize=(6, 6))\n",
    "plt.step(fpr, tpr, where='post')\n",
    "plt.xlabel('FPR')\n",
    "plt.ylabel('TPR')\n",
    "plt.ylim([0.0, 1.05])\n",
    "plt.xlim([0.0, 1.0])\n",
    "plt.title('Кривая ROC - RFC simple model')\n",
    "plt.show()\n",
    "print('auc_roc =', auc_roc)"
   ]
  },
  {
   "cell_type": "code",
   "execution_count": 277,
   "metadata": {},
   "outputs": [
    {
     "data": {
      "text/plain": [
       "0.26"
      ]
     },
     "execution_count": 277,
     "metadata": {},
     "output_type": "execute_result"
    }
   ],
   "source": [
    "max_key = max(best_f1, key=best_f1.get)\n",
    "max_key"
   ]
  },
  {
   "cell_type": "code",
   "execution_count": 280,
   "metadata": {},
   "outputs": [
    {
     "data": {
      "text/html": [
       "<div>\n",
       "<style scoped>\n",
       "    .dataframe tbody tr th:only-of-type {\n",
       "        vertical-align: middle;\n",
       "    }\n",
       "\n",
       "    .dataframe tbody tr th {\n",
       "        vertical-align: top;\n",
       "    }\n",
       "\n",
       "    .dataframe thead th {\n",
       "        text-align: right;\n",
       "    }\n",
       "</style>\n",
       "<table border=\"1\" class=\"dataframe\">\n",
       "  <thead>\n",
       "    <tr style=\"text-align: right;\">\n",
       "      <th></th>\n",
       "      <th>type</th>\n",
       "      <th>criterion</th>\n",
       "      <th>max_depth</th>\n",
       "      <th>max_features</th>\n",
       "      <th>n_estimator</th>\n",
       "      <th>recall</th>\n",
       "      <th>precision</th>\n",
       "      <th>f1</th>\n",
       "      <th>class_weight</th>\n",
       "      <th>upsample</th>\n",
       "      <th>downsample</th>\n",
       "    </tr>\n",
       "  </thead>\n",
       "  <tbody>\n",
       "    <tr>\n",
       "      <th>1</th>\n",
       "      <td>model 1</td>\n",
       "      <td>entropy</td>\n",
       "      <td>21</td>\n",
       "      <td>auto</td>\n",
       "      <td>23</td>\n",
       "      <td>0.48</td>\n",
       "      <td>0.71</td>\n",
       "      <td>0.58</td>\n",
       "      <td>False</td>\n",
       "      <td>False</td>\n",
       "      <td>False</td>\n",
       "    </tr>\n",
       "    <tr>\n",
       "      <th>2</th>\n",
       "      <td>model 2: simple model without params</td>\n",
       "      <td>gini</td>\n",
       "      <td>None</td>\n",
       "      <td>auto</td>\n",
       "      <td>10</td>\n",
       "      <td>0.43</td>\n",
       "      <td>0.71</td>\n",
       "      <td>0.54</td>\n",
       "      <td>False</td>\n",
       "      <td>False</td>\n",
       "      <td>False</td>\n",
       "    </tr>\n",
       "    <tr>\n",
       "      <th>3</th>\n",
       "      <td>model 2: simple model without params</td>\n",
       "      <td>gini</td>\n",
       "      <td>None</td>\n",
       "      <td>auto</td>\n",
       "      <td>10</td>\n",
       "      <td>0.43</td>\n",
       "      <td>0.76</td>\n",
       "      <td>0.55</td>\n",
       "      <td>True</td>\n",
       "      <td>False</td>\n",
       "      <td>False</td>\n",
       "    </tr>\n",
       "    <tr>\n",
       "      <th>4</th>\n",
       "      <td>model 2: simple model without params</td>\n",
       "      <td>gini</td>\n",
       "      <td>None</td>\n",
       "      <td>auto</td>\n",
       "      <td>10</td>\n",
       "      <td>0.54</td>\n",
       "      <td>0.66</td>\n",
       "      <td>0.60</td>\n",
       "      <td>False</td>\n",
       "      <td>True</td>\n",
       "      <td>False</td>\n",
       "    </tr>\n",
       "    <tr>\n",
       "      <th>5</th>\n",
       "      <td>model 2: simple model without params</td>\n",
       "      <td>gini</td>\n",
       "      <td>None</td>\n",
       "      <td>auto</td>\n",
       "      <td>10</td>\n",
       "      <td>0.96</td>\n",
       "      <td>0.27</td>\n",
       "      <td>0.42</td>\n",
       "      <td>False</td>\n",
       "      <td>False</td>\n",
       "      <td>True</td>\n",
       "    </tr>\n",
       "  </tbody>\n",
       "</table>\n",
       "</div>"
      ],
      "text/plain": [
       "                                   type criterion max_depth max_features  \\\n",
       "1                               model 1   entropy        21         auto   \n",
       "2  model 2: simple model without params      gini      None         auto   \n",
       "3  model 2: simple model without params      gini      None         auto   \n",
       "4  model 2: simple model without params      gini      None         auto   \n",
       "5  model 2: simple model without params      gini      None         auto   \n",
       "\n",
       "  n_estimator  recall  precision    f1  class_weight  upsample  downsample  \n",
       "1          23    0.48       0.71  0.58         False     False       False  \n",
       "2          10    0.43       0.71  0.54         False     False       False  \n",
       "3          10    0.43       0.76  0.55          True     False       False  \n",
       "4          10    0.54       0.66  0.60         False      True       False  \n",
       "5          10    0.96       0.27  0.42         False     False        True  "
      ]
     },
     "execution_count": 280,
     "metadata": {},
     "output_type": "execute_result"
    }
   ],
   "source": [
    "result['downsample'] = False\n",
    "result.loc[5]=['model 2: simple model without params', 'gini',None,'auto', 10, 0.96, 0.27, 0.42, False, False, True]\n",
    "result"
   ]
  },
  {
   "cell_type": "code",
   "execution_count": 279,
   "metadata": {},
   "outputs": [
    {
     "name": "stdout",
     "output_type": "stream",
     "text": [
      "confusion_matrix\n",
      " [[ 645 1177]\n",
      " [  17  434]]\n",
      "recall_score 0.9623059866962306\n",
      "precision_score 0.26939788950962135\n",
      "f1_score 0.42095053346265765\n",
      "Confusion matrix, without normalization\n",
      "[[ 645 1177]\n",
      " [  17  434]]\n"
     ]
    },
    {
     "data": {
      "image/png": "[encoded data removed]",
      "text/plain": [
       "<Figure size 720x576 with 2 Axes>"
      ]
     },
     "metadata": {},
     "output_type": "display_data"
    }
   ],
   "source": [
    "features_downsampled, target_downsampled = downsample(X_train_scaled, Y_train, max_key)\n",
    "model = RandomForestClassifier(random_state = 12345)\n",
    "model.fit(features_downsampled,target_downsampled)\n",
    "predicted_valid = model.predict(X_test_scaled)\n",
    "#f1_score(target_scaled_valid, predicted_valid)\n",
    "main_param(Y_test,model.predict(X_test_scaled))\n",
    "cnf_matrix = confusion_matrix(Y_test, predicted_valid)\n",
    "plt.figure(figsize=(10, 8))\n",
    "plot_confusion_matrix(cnf_matrix, classes=['0 - не ушел', '1 - ушёл'],title='Confusion matrix')\n",
    "plt.show()"
   ]
  },
  {
   "cell_type": "markdown",
   "metadata": {},
   "source": [
    "**Вывод**\n",
    "\n",
    "Максимальное значение f1 получено при upsampling = 0.6. При использовании метода downsample было получено значение 0.42. Yаибольший прирост был при upsampling. Следующим шагом должен быть поиск оптимальных гиперпараметров."
   ]
  },
  {
   "cell_type": "markdown",
   "metadata": {},
   "source": [
    "### Подбор параметров модели по обновленому сету данных"
   ]
  },
  {
   "cell_type": "markdown",
   "metadata": {},
   "source": [
    "Для простоты и скорости я буду использовать второй вариант и отказываться от кросс-валидации на уменьшенных и увеличенных выборках. Здесь мы проводим GridSearchCV только на исходной выборке, и затем используем лучшие параметры для моделей, обученных на увеличенной и уменьшенной выборках."
   ]
  },
  {
   "cell_type": "code",
   "execution_count": 292,
   "metadata": {},
   "outputs": [],
   "source": [
    "from imblearn.over_sampling import SMOTE\n",
    "\n",
    "# Применяем метод SMOTE на обучающей выборке\n",
    "smote = SMOTE(random_state=12345)\n",
    "features_resampled, target_resampled = smote.fit_resample(features_upsampled, target_upsampled)\n",
    "\n",
    "# Обучаем модель на полученных данных\n",
    "rfc = RandomForestClassifier(class_weight='balanced', random_state=12345)\n",
    "param_grid = {'n_estimators': range(1, 50, 2)\\\n",
    "              ,'max_features': ['auto']\\\n",
    "              ,'max_depth' : range(1, 50, 2)\\\n",
    "              ,'criterion' : ['gini', 'entropy']\\\n",
    "             }"
   ]
  },
  {
   "cell_type": "code",
   "execution_count": 293,
   "metadata": {},
   "outputs": [
    {
     "name": "stdout",
     "output_type": "stream",
     "text": [
      "\n",
      "best_params_ \n",
      " {'criterion': 'gini', 'max_depth': 25, 'max_features': 'auto', 'n_estimators': 43}\n",
      "\n",
      "best_score \n",
      " 0.9588909973136353\n",
      "CPU times: user 36min 27s, sys: 9.15 s, total: 36min 36s\n",
      "Wall time: 37min 1s\n"
     ]
    }
   ],
   "source": [
    "%%time \n",
    "grid_cv = GridSearchCV(rfc, param_grid, scoring='f1', cv=5)\n",
    "\n",
    "grid_cv.fit(features_resampled, target_resampled)\n",
    "print('\\nbest_params_ \\n', grid_cv.best_params_)\n",
    "print('\\nbest_score \\n', grid_cv.best_score_)"
   ]
  },
  {
   "cell_type": "code",
   "execution_count": 295,
   "metadata": {},
   "outputs": [
    {
     "name": "stdout",
     "output_type": "stream",
     "text": [
      "confusion_matrix\n",
      " [[1685  137]\n",
      " [ 200  251]]\n",
      "recall_score 0.5565410199556541\n",
      "precision_score 0.6469072164948454\n",
      "f1_score 0.5983313468414779\n"
     ]
    },
    {
     "data": {
      "text/html": [
       "<div>\n",
       "<style scoped>\n",
       "    .dataframe tbody tr th:only-of-type {\n",
       "        vertical-align: middle;\n",
       "    }\n",
       "\n",
       "    .dataframe tbody tr th {\n",
       "        vertical-align: top;\n",
       "    }\n",
       "\n",
       "    .dataframe thead th {\n",
       "        text-align: right;\n",
       "    }\n",
       "</style>\n",
       "<table border=\"1\" class=\"dataframe\">\n",
       "  <thead>\n",
       "    <tr style=\"text-align: right;\">\n",
       "      <th></th>\n",
       "      <th>type</th>\n",
       "      <th>criterion</th>\n",
       "      <th>max_depth</th>\n",
       "      <th>max_features</th>\n",
       "      <th>n_estimator</th>\n",
       "      <th>recall</th>\n",
       "      <th>precision</th>\n",
       "      <th>f1</th>\n",
       "    </tr>\n",
       "  </thead>\n",
       "  <tbody>\n",
       "    <tr>\n",
       "      <th>1</th>\n",
       "      <td>model 1</td>\n",
       "      <td>entropy</td>\n",
       "      <td>25</td>\n",
       "      <td>auto</td>\n",
       "      <td>43</td>\n",
       "      <td>0.56</td>\n",
       "      <td>0.65</td>\n",
       "      <td>0.6</td>\n",
       "    </tr>\n",
       "  </tbody>\n",
       "</table>\n",
       "</div>"
      ],
      "text/plain": [
       "      type criterion max_depth max_features n_estimator  recall  precision  \\\n",
       "1  model 1   entropy        25         auto          43    0.56       0.65   \n",
       "\n",
       "    f1  \n",
       "1  0.6  "
      ]
     },
     "execution_count": 295,
     "metadata": {},
     "output_type": "execute_result"
    }
   ],
   "source": [
    "# Предсказываем значения для тестовой выборки\n",
    "predictions = grid_cv.best_estimator_.predict(X_test_scaled)\n",
    "\n",
    "# Выводим метрики\n",
    "main_param(Y_test, predictions)\n",
    "\n",
    "result=pd.DataFrame(columns = ['type','criterion', 'max_depth', 'max_features', 'n_estimator', 'recall', 'precision', 'f1'])\n",
    "result.loc[1] = ['model 1','entropy',25,'auto', 43,round(recall_score(Y_test, predictions),2),round(precision_score(Y_test, predictions),2),round(f1_score(Y_test, predictions),2)]\n",
    "result"
   ]
  },
  {
   "cell_type": "markdown",
   "metadata": {},
   "source": [
    "**Вывод**\n",
    "\n",
    "Параметры найдены, требуется протестировать данную модель.\n",
    "\n",
    "В отличии от предыдущей версии, вследствии правильного масштабирования результат модели изменился и мера f1 (upsampled) дала результат 0.6, что лучше предыдущих результатов. Количество деревьев возросло до 43, а глубина увеличилась и стала 25, критерий - gini. Такаим образом, данная модель показала наилучший результат. Влияние дисбаланса классов, очень сильно сказывалось на качестве модели."
   ]
  },
  {
   "cell_type": "markdown",
   "metadata": {},
   "source": [
    "## Тестирование модели"
   ]
  },
  {
   "cell_type": "markdown",
   "metadata": {},
   "source": [
    "**Проверка**\n",
    "\n",
    "По обновленному data set, по которому была произведена балансировка и получены гиперпараметры лучшей модели по метрике f1=0.95 сделаем модель и проверим её"
   ]
  },
  {
   "cell_type": "code",
   "execution_count": 298,
   "metadata": {},
   "outputs": [
    {
     "name": "stdout",
     "output_type": "stream",
     "text": [
      "confusion_matrix\n",
      " [[1691  131]\n",
      " [ 208  243]]\n",
      "recall_score 0.5388026607538803\n",
      "precision_score 0.6497326203208557\n",
      "f1_score 0.5890909090909092\n",
      "Confusion matrix, without normalization\n",
      "[[1691  131]\n",
      " [ 208  243]]\n"
     ]
    },
    {
     "data": {
      "image/png": "[encoded data removed]",
      "text/plain": [
       "<Figure size 720x576 with 2 Axes>"
      ]
     },
     "metadata": {},
     "output_type": "display_data"
    }
   ],
   "source": [
    "model = RandomForestClassifier(\\\n",
    "                               criterion='gini',\\\n",
    "                               max_depth=25,\\\n",
    "                               max_features='auto',\\\n",
    "                               n_estimators=43,\\\n",
    "                               #class_weight='balanced',\\\n",
    "                               random_state=12345\\\n",
    "                              )\n",
    "model.fit(features_upsampled,target_upsampled)\n",
    "\n",
    "predicted_valid = model.predict(X_test_scaled)\n",
    "\n",
    "main_param(Y_test, predicted_valid)\n",
    "\n",
    "cnf_matrix = confusion_matrix(Y_test, predicted_valid)\n",
    "plt.figure(figsize=(10, 8))\n",
    "plot_confusion_matrix(cnf_matrix, classes=['0 - не ушел', '1 - ушёл'],title='Confusion matrix')\n",
    "plt.show()"
   ]
  },
  {
   "cell_type": "code",
   "execution_count": 299,
   "metadata": {},
   "outputs": [
    {
     "data": {
      "image/png": "[encoded data removed]",
      "text/plain": [
       "<Figure size 432x432 with 1 Axes>"
      ]
     },
     "metadata": {},
     "output_type": "display_data"
    },
    {
     "name": "stdout",
     "output_type": "stream",
     "text": [
      "auc_roc = 0.8497691433355807\n"
     ]
    }
   ],
   "source": [
    "probabilities = model.predict_proba(X_test_scaled)\n",
    "probabilities_one_valid = probabilities[:,1]\n",
    "auc_roc = roc_auc_score(Y_test, probabilities_one_valid)\n",
    "fpr, tpr, thresholds = roc_curve(Y_test, probabilities_one_valid)\n",
    "plt.figure(figsize=(6, 6))\n",
    "plt.step(fpr, tpr, where='post')\n",
    "plt.xlabel('FPR')\n",
    "plt.ylabel('TPR')\n",
    "plt.ylim([0.0, 1.05])\n",
    "plt.xlim([0.0, 1.0])\n",
    "plt.title('Кривая ROC')\n",
    "plt.show()\n",
    "print('auc_roc =', auc_roc)"
   ]
  },
  {
   "cell_type": "markdown",
   "metadata": {},
   "source": [
    "**Вывод**\n",
    "\n",
    "Метрика auc_roc больше случайной модели, что говорит о её адекватности и правильности."
   ]
  },
  {
   "cell_type": "markdown",
   "metadata": {},
   "source": [
    "# Общий итог\n",
    "\n",
    "Была расмотрена структура RandomForestClassifier на основе которой были получены модели и наилучшие результаты показала модель найденая с помощью gridSearch('criterion': 'gini', 'max_depth': 21, 'max_features': 'auto', 'n_estimators': 43), но обученная на новом датасете, который был подвергнут upsample. Аналогичная методика балансировки методом downsample не дала значимого прироста по f1 мере.\n",
    "\n",
    "Изначальный сет данных был преобразован и из него были убраны идентификаторы, числовые данные масштабированы, за исключением булевых признаков. Параметр \"class_weight\" не дал существенного резульатата модели. Итоговая модель имеет значение меры f1=0.6, что превышает пороговое значение текущего проекта. Метрика AUC-ROC также оказалась выше случайной модели, что показывает качество полученной модели. "
   ]
  }
 ],
 "metadata": {
  "ExecuteTimeLog": [
   {
    "duration": 1717,
    "start_time": "2023-04-21T05:28:34.343Z"
   },
   {
    "duration": 106,
    "start_time": "2023-04-21T05:29:05.010Z"
   },
   {
    "duration": 13,
    "start_time": "2023-04-21T05:29:27.318Z"
   },
   {
    "duration": 21,
    "start_time": "2023-04-21T05:29:53.528Z"
   },
   {
    "duration": 40,
    "start_time": "2023-04-21T05:30:12.766Z"
   },
   {
    "duration": 10,
    "start_time": "2023-04-21T05:30:54.459Z"
   },
   {
    "duration": 6,
    "start_time": "2023-04-21T05:36:52.299Z"
   },
   {
    "duration": 14,
    "start_time": "2023-04-21T05:36:59.806Z"
   },
   {
    "duration": 16,
    "start_time": "2023-04-21T05:37:26.013Z"
   },
   {
    "duration": 26,
    "start_time": "2023-04-21T05:37:58.113Z"
   },
   {
    "duration": 6,
    "start_time": "2023-04-21T05:38:09.903Z"
   },
   {
    "duration": 6,
    "start_time": "2023-04-21T05:38:17.456Z"
   },
   {
    "duration": 12,
    "start_time": "2023-04-21T05:38:24.415Z"
   },
   {
    "duration": 47,
    "start_time": "2023-04-21T05:39:06.963Z"
   },
   {
    "duration": 12,
    "start_time": "2023-04-21T05:39:55.159Z"
   },
   {
    "duration": 13,
    "start_time": "2023-04-21T05:40:04.709Z"
   },
   {
    "duration": 3,
    "start_time": "2023-04-21T05:40:28.321Z"
   },
   {
    "duration": 4,
    "start_time": "2023-04-21T05:40:40.070Z"
   },
   {
    "duration": 3,
    "start_time": "2023-04-21T05:40:59.779Z"
   },
   {
    "duration": 3,
    "start_time": "2023-04-21T05:41:07.434Z"
   },
   {
    "duration": 1598,
    "start_time": "2023-04-21T05:41:58.231Z"
   },
   {
    "duration": 76,
    "start_time": "2023-04-21T05:41:59.832Z"
   },
   {
    "duration": 23,
    "start_time": "2023-04-21T05:41:59.914Z"
   },
   {
    "duration": 17,
    "start_time": "2023-04-21T05:41:59.940Z"
   },
   {
    "duration": 38,
    "start_time": "2023-04-21T05:41:59.959Z"
   },
   {
    "duration": 59,
    "start_time": "2023-04-21T05:42:00.000Z"
   },
   {
    "duration": 50,
    "start_time": "2023-04-21T05:42:00.061Z"
   },
   {
    "duration": 27,
    "start_time": "2023-04-21T05:42:00.113Z"
   },
   {
    "duration": 61,
    "start_time": "2023-04-21T05:42:00.142Z"
   },
   {
    "duration": 45,
    "start_time": "2023-04-21T05:42:00.206Z"
   },
   {
    "duration": 26,
    "start_time": "2023-04-21T05:42:00.252Z"
   },
   {
    "duration": 49,
    "start_time": "2023-04-21T05:42:00.280Z"
   },
   {
    "duration": 33,
    "start_time": "2023-04-21T05:42:00.331Z"
   },
   {
    "duration": 14,
    "start_time": "2023-04-21T05:42:00.365Z"
   },
   {
    "duration": 50,
    "start_time": "2023-04-21T05:42:00.380Z"
   },
   {
    "duration": 17,
    "start_time": "2023-04-21T05:42:00.432Z"
   },
   {
    "duration": 5,
    "start_time": "2023-04-21T05:42:00.450Z"
   },
   {
    "duration": 24,
    "start_time": "2023-04-21T05:42:00.456Z"
   },
   {
    "duration": 54,
    "start_time": "2023-04-21T05:42:00.482Z"
   },
   {
    "duration": 21,
    "start_time": "2023-04-21T05:42:00.537Z"
   },
   {
    "duration": 589884,
    "start_time": "2023-04-21T05:42:00.560Z"
   },
   {
    "duration": 237,
    "start_time": "2023-04-21T05:53:17.339Z"
   },
   {
    "duration": 228,
    "start_time": "2023-04-21T05:53:25.703Z"
   },
   {
    "duration": 4,
    "start_time": "2023-04-21T05:53:46.952Z"
   },
   {
    "duration": 41,
    "start_time": "2023-04-21T05:54:03.622Z"
   },
   {
    "duration": 605,
    "start_time": "2023-04-21T05:54:28.645Z"
   },
   {
    "duration": 897,
    "start_time": "2023-04-21T05:56:26.075Z"
   },
   {
    "duration": 280,
    "start_time": "2023-04-21T05:56:39.566Z"
   },
   {
    "duration": 4,
    "start_time": "2023-04-21T05:56:57.724Z"
   },
   {
    "duration": 18,
    "start_time": "2023-04-21T05:57:06.687Z"
   },
   {
    "duration": 892,
    "start_time": "2023-04-21T05:59:32.887Z"
   },
   {
    "duration": 285,
    "start_time": "2023-04-21T05:59:41.873Z"
   },
   {
    "duration": 18,
    "start_time": "2023-04-21T05:59:51.817Z"
   },
   {
    "duration": 6,
    "start_time": "2023-04-21T06:01:16.661Z"
   },
   {
    "duration": 10,
    "start_time": "2023-04-21T06:01:34.543Z"
   },
   {
    "duration": 22,
    "start_time": "2023-04-21T06:01:42.831Z"
   },
   {
    "duration": 14,
    "start_time": "2023-04-21T06:01:51.701Z"
   },
   {
    "duration": 27,
    "start_time": "2023-04-21T06:02:04.829Z"
   },
   {
    "duration": 1508,
    "start_time": "2023-04-21T06:02:14.714Z"
   },
   {
    "duration": 278,
    "start_time": "2023-04-21T06:02:25.809Z"
   },
   {
    "duration": 32,
    "start_time": "2023-04-21T06:02:45.181Z"
   },
   {
    "duration": 484,
    "start_time": "2023-04-21T06:02:55.157Z"
   },
   {
    "duration": 6,
    "start_time": "2023-04-21T06:03:49.026Z"
   },
   {
    "duration": 1475,
    "start_time": "2023-04-21T06:08:58.257Z"
   },
   {
    "duration": 73,
    "start_time": "2023-04-21T06:08:59.734Z"
   },
   {
    "duration": 20,
    "start_time": "2023-04-21T06:08:59.810Z"
   },
   {
    "duration": 29,
    "start_time": "2023-04-21T06:08:59.832Z"
   },
   {
    "duration": 42,
    "start_time": "2023-04-21T06:08:59.863Z"
   },
   {
    "duration": 15,
    "start_time": "2023-04-21T06:08:59.908Z"
   },
   {
    "duration": 10,
    "start_time": "2023-04-21T06:08:59.925Z"
   },
   {
    "duration": 31,
    "start_time": "2023-04-21T06:08:59.937Z"
   },
   {
    "duration": 68,
    "start_time": "2023-04-21T06:08:59.970Z"
   },
   {
    "duration": 49,
    "start_time": "2023-04-21T06:09:00.041Z"
   },
   {
    "duration": 40,
    "start_time": "2023-04-21T06:09:00.092Z"
   },
   {
    "duration": 48,
    "start_time": "2023-04-21T06:09:00.133Z"
   },
   {
    "duration": 70,
    "start_time": "2023-04-21T06:09:00.183Z"
   },
   {
    "duration": 64,
    "start_time": "2023-04-21T06:09:00.255Z"
   },
   {
    "duration": 50,
    "start_time": "2023-04-21T06:09:00.321Z"
   },
   {
    "duration": 202,
    "start_time": "2023-04-21T06:09:00.373Z"
   },
   {
    "duration": 71,
    "start_time": "2023-04-21T06:09:00.576Z"
   },
   {
    "duration": 42,
    "start_time": "2023-04-21T06:09:00.649Z"
   },
   {
    "duration": 95,
    "start_time": "2023-04-21T06:09:00.693Z"
   },
   {
    "duration": 69,
    "start_time": "2023-04-21T06:09:00.790Z"
   },
   {
    "duration": 595563,
    "start_time": "2023-04-21T06:09:00.861Z"
   },
   {
    "duration": 225,
    "start_time": "2023-04-21T06:18:56.427Z"
   },
   {
    "duration": 189,
    "start_time": "2023-04-21T06:18:56.654Z"
   },
   {
    "duration": 4,
    "start_time": "2023-04-21T06:18:56.844Z"
   },
   {
    "duration": 56,
    "start_time": "2023-04-21T06:18:56.849Z"
   },
   {
    "duration": 528,
    "start_time": "2023-04-21T06:18:56.906Z"
   },
   {
    "duration": 877,
    "start_time": "2023-04-21T06:18:57.436Z"
   },
   {
    "duration": 230,
    "start_time": "2023-04-21T06:18:58.317Z"
   },
   {
    "duration": 4,
    "start_time": "2023-04-21T06:18:58.549Z"
   },
   {
    "duration": 51,
    "start_time": "2023-04-21T06:18:58.555Z"
   },
   {
    "duration": 925,
    "start_time": "2023-04-21T06:18:58.608Z"
   },
   {
    "duration": 250,
    "start_time": "2023-04-21T06:18:59.535Z"
   },
   {
    "duration": 17,
    "start_time": "2023-04-21T06:18:59.788Z"
   },
   {
    "duration": 49,
    "start_time": "2023-04-21T06:18:59.807Z"
   },
   {
    "duration": 41,
    "start_time": "2023-04-21T06:18:59.859Z"
   },
   {
    "duration": 52,
    "start_time": "2023-04-21T06:18:59.901Z"
   },
   {
    "duration": 11,
    "start_time": "2023-04-21T06:18:59.955Z"
   },
   {
    "duration": 18,
    "start_time": "2023-04-21T06:18:59.967Z"
   },
   {
    "duration": 1300,
    "start_time": "2023-04-21T06:18:59.987Z"
   },
   {
    "duration": 253,
    "start_time": "2023-04-21T06:19:01.289Z"
   },
   {
    "duration": 20,
    "start_time": "2023-04-21T06:19:01.544Z"
   },
   {
    "duration": 441,
    "start_time": "2023-04-21T06:19:01.566Z"
   },
   {
    "duration": 6,
    "start_time": "2023-04-21T06:19:02.009Z"
   },
   {
    "duration": 495751,
    "start_time": "2023-04-21T06:19:02.016Z"
   },
   {
    "duration": 275,
    "start_time": "2023-04-21T06:27:17.769Z"
   },
   {
    "duration": 6,
    "start_time": "2023-04-21T06:27:18.046Z"
   },
   {
    "duration": 65,
    "start_time": "2023-04-21T06:27:18.054Z"
   },
   {
    "duration": 988,
    "start_time": "2023-04-21T06:27:18.121Z"
   },
   {
    "duration": 1500,
    "start_time": "2023-04-21T06:30:05.769Z"
   },
   {
    "duration": 69,
    "start_time": "2023-04-21T06:30:07.271Z"
   },
   {
    "duration": 18,
    "start_time": "2023-04-21T06:30:07.342Z"
   },
   {
    "duration": 51,
    "start_time": "2023-04-21T06:30:07.362Z"
   },
   {
    "duration": 33,
    "start_time": "2023-04-21T06:30:07.416Z"
   },
   {
    "duration": 39,
    "start_time": "2023-04-21T06:30:07.451Z"
   },
   {
    "duration": 25,
    "start_time": "2023-04-21T06:30:07.492Z"
   },
   {
    "duration": 28,
    "start_time": "2023-04-21T06:30:07.519Z"
   },
   {
    "duration": 79,
    "start_time": "2023-04-21T06:30:07.549Z"
   },
   {
    "duration": 49,
    "start_time": "2023-04-21T06:30:07.630Z"
   },
   {
    "duration": 73,
    "start_time": "2023-04-21T06:30:07.681Z"
   },
   {
    "duration": 37,
    "start_time": "2023-04-21T06:30:07.757Z"
   },
   {
    "duration": 33,
    "start_time": "2023-04-21T06:30:07.800Z"
   },
   {
    "duration": 37,
    "start_time": "2023-04-21T06:30:07.835Z"
   },
   {
    "duration": 41,
    "start_time": "2023-04-21T06:30:07.873Z"
   },
   {
    "duration": 40,
    "start_time": "2023-04-21T06:30:07.916Z"
   },
   {
    "duration": 8,
    "start_time": "2023-04-21T06:30:07.958Z"
   },
   {
    "duration": 58,
    "start_time": "2023-04-21T06:30:07.968Z"
   },
   {
    "duration": 73,
    "start_time": "2023-04-21T06:30:08.028Z"
   },
   {
    "duration": 34,
    "start_time": "2023-04-21T06:30:08.103Z"
   },
   {
    "duration": 658459,
    "start_time": "2023-04-21T06:30:08.139Z"
   },
   {
    "duration": 237,
    "start_time": "2023-04-21T06:41:06.608Z"
   },
   {
    "duration": 241,
    "start_time": "2023-04-21T06:41:06.847Z"
   },
   {
    "duration": 5,
    "start_time": "2023-04-21T06:41:07.091Z"
   },
   {
    "duration": 63,
    "start_time": "2023-04-21T06:41:07.098Z"
   },
   {
    "duration": 808,
    "start_time": "2023-04-21T06:41:07.163Z"
   },
   {
    "duration": 1040,
    "start_time": "2023-04-21T06:41:07.974Z"
   },
   {
    "duration": 253,
    "start_time": "2023-04-21T06:41:09.018Z"
   },
   {
    "duration": 19,
    "start_time": "2023-04-21T06:41:09.273Z"
   },
   {
    "duration": 36,
    "start_time": "2023-04-21T06:41:09.294Z"
   },
   {
    "duration": 1123,
    "start_time": "2023-04-21T06:41:09.332Z"
   },
   {
    "duration": 356,
    "start_time": "2023-04-21T06:41:10.456Z"
   },
   {
    "duration": 18,
    "start_time": "2023-04-21T06:41:10.814Z"
   },
   {
    "duration": 8,
    "start_time": "2023-04-21T06:41:10.834Z"
   },
   {
    "duration": 10,
    "start_time": "2023-04-21T06:41:10.844Z"
   },
   {
    "duration": 51,
    "start_time": "2023-04-21T06:41:10.856Z"
   },
   {
    "duration": 10,
    "start_time": "2023-04-21T06:41:10.909Z"
   },
   {
    "duration": 22,
    "start_time": "2023-04-21T06:41:10.921Z"
   },
   {
    "duration": 1503,
    "start_time": "2023-04-21T06:41:10.945Z"
   },
   {
    "duration": 276,
    "start_time": "2023-04-21T06:41:12.450Z"
   },
   {
    "duration": 18,
    "start_time": "2023-04-21T06:41:12.728Z"
   },
   {
    "duration": 489,
    "start_time": "2023-04-21T06:41:12.748Z"
   },
   {
    "duration": 7,
    "start_time": "2023-04-21T06:41:13.238Z"
   },
   {
    "duration": 567874,
    "start_time": "2023-04-21T06:41:13.247Z"
   },
   {
    "duration": 336,
    "start_time": "2023-04-21T06:50:41.129Z"
   },
   {
    "duration": 5,
    "start_time": "2023-04-21T06:50:41.468Z"
   },
   {
    "duration": 91,
    "start_time": "2023-04-21T06:50:41.475Z"
   },
   {
    "duration": 1195,
    "start_time": "2023-04-21T06:50:41.568Z"
   },
   {
    "duration": 785150,
    "start_time": "2023-04-21T06:50:42.765Z"
   },
   {
    "duration": 593,
    "start_time": "2023-04-21T07:03:47.917Z"
   },
   {
    "duration": 210,
    "start_time": "2023-04-21T07:03:48.516Z"
   },
   {
    "duration": 1786,
    "start_time": "2023-04-22T22:55:01.270Z"
   },
   {
    "duration": 181,
    "start_time": "2023-04-22T22:55:07.775Z"
   },
   {
    "duration": 14,
    "start_time": "2023-04-22T22:55:20.462Z"
   },
   {
    "duration": 13,
    "start_time": "2023-04-22T22:55:26.652Z"
   },
   {
    "duration": 21,
    "start_time": "2023-04-22T22:55:30.045Z"
   },
   {
    "duration": 9,
    "start_time": "2023-04-22T22:55:35.460Z"
   },
   {
    "duration": 4,
    "start_time": "2023-04-22T22:56:05.383Z"
   },
   {
    "duration": 11,
    "start_time": "2023-04-22T22:56:09.972Z"
   },
   {
    "duration": 20,
    "start_time": "2023-04-22T22:56:19.545Z"
   },
   {
    "duration": 18,
    "start_time": "2023-04-22T22:57:00.240Z"
   },
   {
    "duration": 29,
    "start_time": "2023-04-22T22:57:04.325Z"
   },
   {
    "duration": 106,
    "start_time": "2023-04-22T23:23:40.193Z"
   },
   {
    "duration": 4,
    "start_time": "2023-04-22T23:23:54.872Z"
   },
   {
    "duration": 6,
    "start_time": "2023-04-22T23:23:58.192Z"
   },
   {
    "duration": 11,
    "start_time": "2023-04-22T23:24:00.731Z"
   },
   {
    "duration": 7,
    "start_time": "2023-04-22T23:24:05.122Z"
   },
   {
    "duration": 11,
    "start_time": "2023-04-22T23:24:15.194Z"
   },
   {
    "duration": 12,
    "start_time": "2023-04-22T23:24:19.470Z"
   },
   {
    "duration": 3,
    "start_time": "2023-04-22T23:24:28.192Z"
   },
   {
    "duration": 4,
    "start_time": "2023-04-22T23:24:30.967Z"
   },
   {
    "duration": 2,
    "start_time": "2023-04-22T23:24:35.568Z"
   },
   {
    "duration": 3,
    "start_time": "2023-04-22T23:24:37.995Z"
   },
   {
    "duration": 199,
    "start_time": "2023-04-22T23:24:44.572Z"
   },
   {
    "duration": 203,
    "start_time": "2023-04-22T23:24:47.229Z"
   },
   {
    "duration": 1179,
    "start_time": "2023-04-23T02:46:20.271Z"
   },
   {
    "duration": 1146,
    "start_time": "2023-04-23T04:20:04.672Z"
   },
   {
    "duration": 10,
    "start_time": "2023-04-23T22:26:40.140Z"
   },
   {
    "duration": 41,
    "start_time": "2023-04-23T22:26:45.005Z"
   },
   {
    "duration": 1531,
    "start_time": "2023-04-23T22:28:54.216Z"
   },
   {
    "duration": 190,
    "start_time": "2023-04-23T22:28:59.183Z"
   },
   {
    "duration": 13,
    "start_time": "2023-04-23T22:29:02.624Z"
   },
   {
    "duration": 13,
    "start_time": "2023-04-23T22:29:05.848Z"
   },
   {
    "duration": 21,
    "start_time": "2023-04-23T22:29:07.744Z"
   },
   {
    "duration": 9,
    "start_time": "2023-04-23T22:29:10.956Z"
   },
   {
    "duration": 5,
    "start_time": "2023-04-23T22:29:19.433Z"
   },
   {
    "duration": 11,
    "start_time": "2023-04-23T22:29:23.841Z"
   },
   {
    "duration": 17,
    "start_time": "2023-04-23T22:29:28.256Z"
   },
   {
    "duration": 24,
    "start_time": "2023-04-23T22:29:33.029Z"
   },
   {
    "duration": 5,
    "start_time": "2023-04-23T22:29:44.727Z"
   },
   {
    "duration": 5,
    "start_time": "2023-04-23T22:29:48.002Z"
   },
   {
    "duration": 12,
    "start_time": "2023-04-23T22:29:49.167Z"
   },
   {
    "duration": 8,
    "start_time": "2023-04-23T22:29:53.283Z"
   },
   {
    "duration": 10,
    "start_time": "2023-04-23T22:30:20.975Z"
   },
   {
    "duration": 10,
    "start_time": "2023-04-23T22:30:24.194Z"
   },
   {
    "duration": 3,
    "start_time": "2023-04-23T22:30:28.776Z"
   },
   {
    "duration": 3,
    "start_time": "2023-04-23T22:30:30.390Z"
   },
   {
    "duration": 2,
    "start_time": "2023-04-23T22:30:36.878Z"
   },
   {
    "duration": 2,
    "start_time": "2023-04-23T22:30:39.327Z"
   },
   {
    "duration": 1056,
    "start_time": "2023-04-23T22:30:45.189Z"
   },
   {
    "duration": 4,
    "start_time": "2023-04-23T22:30:59.737Z"
   },
   {
    "duration": 40,
    "start_time": "2023-04-23T22:31:01.921Z"
   },
   {
    "duration": 561,
    "start_time": "2023-04-23T22:31:16.105Z"
   },
   {
    "duration": 69,
    "start_time": "2023-04-23T23:34:37.965Z"
   },
   {
    "duration": 731,
    "start_time": "2023-04-23T23:34:41.873Z"
   },
   {
    "duration": 173,
    "start_time": "2023-04-23T23:34:44.151Z"
   },
   {
    "duration": 4,
    "start_time": "2023-04-23T23:34:48.702Z"
   },
   {
    "duration": 15,
    "start_time": "2023-04-23T23:34:50.371Z"
   },
   {
    "duration": 454,
    "start_time": "2023-04-23T23:34:58.702Z"
   },
   {
    "duration": 363,
    "start_time": "2023-04-23T23:35:29.431Z"
   },
   {
    "duration": 184,
    "start_time": "2023-04-23T23:35:51.202Z"
   },
   {
    "duration": 99,
    "start_time": "2023-04-24T02:15:39.648Z"
   },
   {
    "duration": 4,
    "start_time": "2023-04-24T02:24:19.482Z"
   },
   {
    "duration": 58,
    "start_time": "2023-04-24T02:24:21.525Z"
   },
   {
    "duration": 13,
    "start_time": "2023-04-24T02:24:27.545Z"
   },
   {
    "duration": 12,
    "start_time": "2023-04-24T02:24:30.757Z"
   },
   {
    "duration": 23,
    "start_time": "2023-04-24T02:24:35.011Z"
   },
   {
    "duration": 9,
    "start_time": "2023-04-24T02:24:38.673Z"
   },
   {
    "duration": 10,
    "start_time": "2023-04-24T02:25:11.031Z"
   },
   {
    "duration": 4,
    "start_time": "2023-04-24T02:25:14.699Z"
   },
   {
    "duration": 11,
    "start_time": "2023-04-24T02:25:17.618Z"
   },
   {
    "duration": 17,
    "start_time": "2023-04-24T02:25:20.732Z"
   },
   {
    "duration": 23,
    "start_time": "2023-04-24T02:25:24.516Z"
   },
   {
    "duration": 4,
    "start_time": "2023-04-24T02:25:29.772Z"
   },
   {
    "duration": 8,
    "start_time": "2023-04-24T02:25:32.206Z"
   },
   {
    "duration": 13,
    "start_time": "2023-04-24T02:25:34.537Z"
   },
   {
    "duration": 12,
    "start_time": "2023-04-24T02:25:46.355Z"
   },
   {
    "duration": 9,
    "start_time": "2023-04-24T02:25:49.068Z"
   },
   {
    "duration": 11,
    "start_time": "2023-04-24T02:25:57.029Z"
   },
   {
    "duration": 10,
    "start_time": "2023-04-24T02:26:00.223Z"
   },
   {
    "duration": 2,
    "start_time": "2023-04-24T02:26:06.278Z"
   },
   {
    "duration": 2,
    "start_time": "2023-04-24T02:26:10.885Z"
   },
   {
    "duration": 3,
    "start_time": "2023-04-24T02:26:12.942Z"
   },
   {
    "duration": 3,
    "start_time": "2023-04-24T02:26:17.939Z"
   },
   {
    "duration": 3,
    "start_time": "2023-04-24T02:26:20.977Z"
   },
   {
    "duration": 1147,
    "start_time": "2023-04-24T02:26:24.423Z"
   },
   {
    "duration": 3,
    "start_time": "2023-04-24T02:26:38.650Z"
   },
   {
    "duration": 38,
    "start_time": "2023-04-24T02:26:41.431Z"
   },
   {
    "duration": 1096,
    "start_time": "2023-04-24T02:27:13.162Z"
   },
   {
    "duration": 478,
    "start_time": "2023-04-24T02:27:20.661Z"
   },
   {
    "duration": 716,
    "start_time": "2023-04-24T02:27:33.208Z"
   },
   {
    "duration": 196,
    "start_time": "2023-04-24T02:27:52.209Z"
   },
   {
    "duration": 4,
    "start_time": "2023-04-24T02:27:56.301Z"
   },
   {
    "duration": 14,
    "start_time": "2023-04-24T02:27:59.334Z"
   },
   {
    "duration": 401,
    "start_time": "2023-04-24T02:28:02.671Z"
   },
   {
    "duration": 700,
    "start_time": "2023-04-24T02:28:15.188Z"
   },
   {
    "duration": 188,
    "start_time": "2023-04-24T02:28:18.440Z"
   },
   {
    "duration": 15,
    "start_time": "2023-04-24T02:28:22.334Z"
   },
   {
    "duration": 5,
    "start_time": "2023-04-24T02:28:51.564Z"
   },
   {
    "duration": 8,
    "start_time": "2023-04-24T02:28:57.025Z"
   },
   {
    "duration": 23,
    "start_time": "2023-04-24T02:29:00.001Z"
   },
   {
    "duration": 10,
    "start_time": "2023-04-24T02:29:07.890Z"
   },
   {
    "duration": 17,
    "start_time": "2023-04-24T02:29:12.157Z"
   },
   {
    "duration": 1028,
    "start_time": "2023-04-24T02:29:21.959Z"
   },
   {
    "duration": 183,
    "start_time": "2023-04-24T02:29:36.828Z"
   },
   {
    "duration": 17,
    "start_time": "2023-04-24T02:29:41.259Z"
   },
   {
    "duration": 390,
    "start_time": "2023-04-24T02:29:47.169Z"
   },
   {
    "duration": 13,
    "start_time": "2023-04-24T02:30:02.843Z"
   },
   {
    "duration": 15,
    "start_time": "2023-04-24T02:30:24.302Z"
   },
   {
    "duration": 398,
    "start_time": "2023-04-24T02:30:32.177Z"
   },
   {
    "duration": 12,
    "start_time": "2023-04-24T02:30:42.628Z"
   },
   {
    "duration": 386096,
    "start_time": "2023-04-24T02:32:18.655Z"
   },
   {
    "duration": 13,
    "start_time": "2023-04-24T02:40:54.904Z"
   },
   {
    "duration": 12,
    "start_time": "2023-04-24T02:40:55.844Z"
   },
   {
    "duration": 13,
    "start_time": "2023-04-24T02:40:56.522Z"
   },
   {
    "duration": 388106,
    "start_time": "2023-04-24T02:47:57.503Z"
   },
   {
    "duration": 14,
    "start_time": "2023-04-24T02:54:25.610Z"
   },
   {
    "duration": 13,
    "start_time": "2023-04-24T02:55:11.348Z"
   },
   {
    "duration": 381,
    "start_time": "2023-04-24T02:55:14.454Z"
   },
   {
    "duration": 178028,
    "start_time": "2023-04-24T02:55:24.151Z"
   },
   {
    "duration": 0,
    "start_time": "2023-04-24T02:58:22.181Z"
   },
   {
    "duration": 0,
    "start_time": "2023-04-24T02:58:22.182Z"
   },
   {
    "duration": 12,
    "start_time": "2023-04-24T02:58:27.679Z"
   },
   {
    "duration": 4,
    "start_time": "2023-04-24T03:13:17.260Z"
   },
   {
    "duration": 13,
    "start_time": "2023-04-24T03:13:25.260Z"
   },
   {
    "duration": 10,
    "start_time": "2023-04-24T03:13:33.771Z"
   },
   {
    "duration": 16,
    "start_time": "2023-04-24T03:13:36.417Z"
   },
   {
    "duration": 1006,
    "start_time": "2023-04-24T03:13:39.412Z"
   },
   {
    "duration": 184,
    "start_time": "2023-04-24T03:13:43.412Z"
   },
   {
    "duration": 16,
    "start_time": "2023-04-24T03:13:46.849Z"
   },
   {
    "duration": 400,
    "start_time": "2023-04-24T03:13:49.056Z"
   },
   {
    "duration": 5,
    "start_time": "2023-04-24T03:13:56.310Z"
   },
   {
    "duration": 12,
    "start_time": "2023-04-24T03:14:17.417Z"
   },
   {
    "duration": 21,
    "start_time": "2023-04-24T03:14:55.078Z"
   },
   {
    "duration": 3,
    "start_time": "2023-04-24T03:17:13.660Z"
   },
   {
    "duration": 269,
    "start_time": "2023-04-24T03:17:37.371Z"
   },
   {
    "duration": 181,
    "start_time": "2023-04-24T03:18:16.641Z"
   },
   {
    "duration": 4,
    "start_time": "2023-04-24T03:39:00.167Z"
   },
   {
    "duration": 265,
    "start_time": "2023-04-24T03:40:44.791Z"
   },
   {
    "duration": 9,
    "start_time": "2023-04-24T03:41:56.778Z"
   },
   {
    "duration": 81,
    "start_time": "2023-04-24T03:42:25.332Z"
   },
   {
    "duration": 211084,
    "start_time": "2023-04-24T03:42:56.418Z"
   },
   {
    "duration": 196,
    "start_time": "2023-04-24T03:48:09.455Z"
   },
   {
    "duration": 4,
    "start_time": "2023-04-24T03:48:15.863Z"
   },
   {
    "duration": 18,
    "start_time": "2023-04-24T03:48:20.324Z"
   },
   {
    "duration": 574,
    "start_time": "2023-04-24T03:48:34.250Z"
   },
   {
    "duration": 1335,
    "start_time": "2023-04-24T03:57:45.950Z"
   },
   {
    "duration": 62,
    "start_time": "2023-04-24T03:57:47.287Z"
   },
   {
    "duration": 12,
    "start_time": "2023-04-24T03:57:47.351Z"
   },
   {
    "duration": 11,
    "start_time": "2023-04-24T03:57:47.365Z"
   },
   {
    "duration": 17,
    "start_time": "2023-04-24T03:57:47.378Z"
   },
   {
    "duration": 9,
    "start_time": "2023-04-24T03:57:47.396Z"
   },
   {
    "duration": 4,
    "start_time": "2023-04-24T03:57:47.406Z"
   },
   {
    "duration": 20,
    "start_time": "2023-04-24T03:57:47.412Z"
   },
   {
    "duration": 17,
    "start_time": "2023-04-24T03:57:47.456Z"
   },
   {
    "duration": 23,
    "start_time": "2023-04-24T03:57:47.475Z"
   },
   {
    "duration": 3,
    "start_time": "2023-04-24T03:57:47.499Z"
   },
   {
    "duration": 5,
    "start_time": "2023-04-24T03:57:47.504Z"
   },
   {
    "duration": 11,
    "start_time": "2023-04-24T03:57:47.511Z"
   },
   {
    "duration": 36,
    "start_time": "2023-04-24T03:57:47.523Z"
   },
   {
    "duration": 11,
    "start_time": "2023-04-24T03:57:47.561Z"
   },
   {
    "duration": 11,
    "start_time": "2023-04-24T03:57:47.573Z"
   },
   {
    "duration": 3,
    "start_time": "2023-04-24T03:57:47.585Z"
   },
   {
    "duration": 6,
    "start_time": "2023-04-24T03:57:47.589Z"
   },
   {
    "duration": 5,
    "start_time": "2023-04-24T03:57:47.596Z"
   },
   {
    "duration": 7,
    "start_time": "2023-04-24T03:57:47.602Z"
   },
   {
    "duration": 1339,
    "start_time": "2023-04-24T04:02:06.762Z"
   },
   {
    "duration": 64,
    "start_time": "2023-04-24T04:02:08.103Z"
   },
   {
    "duration": 14,
    "start_time": "2023-04-24T04:02:08.168Z"
   },
   {
    "duration": 11,
    "start_time": "2023-04-24T04:02:08.184Z"
   },
   {
    "duration": 20,
    "start_time": "2023-04-24T04:02:08.196Z"
   },
   {
    "duration": 9,
    "start_time": "2023-04-24T04:02:08.217Z"
   },
   {
    "duration": 4,
    "start_time": "2023-04-24T04:02:08.256Z"
   },
   {
    "duration": 12,
    "start_time": "2023-04-24T04:02:08.262Z"
   },
   {
    "duration": 31,
    "start_time": "2023-04-24T04:02:08.276Z"
   },
   {
    "duration": 26,
    "start_time": "2023-04-24T04:02:08.311Z"
   },
   {
    "duration": 17,
    "start_time": "2023-04-24T04:02:08.339Z"
   },
   {
    "duration": 7,
    "start_time": "2023-04-24T04:02:08.358Z"
   },
   {
    "duration": 18,
    "start_time": "2023-04-24T04:02:08.366Z"
   },
   {
    "duration": 9,
    "start_time": "2023-04-24T04:02:08.386Z"
   },
   {
    "duration": 14,
    "start_time": "2023-04-24T04:02:08.397Z"
   },
   {
    "duration": 51,
    "start_time": "2023-04-24T04:02:08.413Z"
   },
   {
    "duration": 2,
    "start_time": "2023-04-24T04:02:08.466Z"
   },
   {
    "duration": 9,
    "start_time": "2023-04-24T04:02:08.470Z"
   },
   {
    "duration": 9,
    "start_time": "2023-04-24T04:02:08.481Z"
   },
   {
    "duration": 4,
    "start_time": "2023-04-24T04:02:08.491Z"
   },
   {
    "duration": 14693,
    "start_time": "2023-04-24T04:02:08.497Z"
   },
   {
    "duration": 1126,
    "start_time": "2023-04-24T04:02:23.192Z"
   },
   {
    "duration": 17,
    "start_time": "2023-04-24T04:02:24.320Z"
   },
   {
    "duration": 1,
    "start_time": "2023-04-24T04:02:24.338Z"
   },
   {
    "duration": 0,
    "start_time": "2023-04-24T04:02:24.339Z"
   },
   {
    "duration": 0,
    "start_time": "2023-04-24T04:02:24.340Z"
   },
   {
    "duration": 0,
    "start_time": "2023-04-24T04:02:24.341Z"
   },
   {
    "duration": 0,
    "start_time": "2023-04-24T04:02:24.355Z"
   },
   {
    "duration": 0,
    "start_time": "2023-04-24T04:02:24.356Z"
   },
   {
    "duration": 0,
    "start_time": "2023-04-24T04:02:24.358Z"
   },
   {
    "duration": 0,
    "start_time": "2023-04-24T04:02:24.358Z"
   },
   {
    "duration": 0,
    "start_time": "2023-04-24T04:02:24.359Z"
   },
   {
    "duration": 0,
    "start_time": "2023-04-24T04:02:24.360Z"
   },
   {
    "duration": 0,
    "start_time": "2023-04-24T04:02:24.361Z"
   },
   {
    "duration": 0,
    "start_time": "2023-04-24T04:02:24.362Z"
   },
   {
    "duration": 0,
    "start_time": "2023-04-24T04:02:24.363Z"
   },
   {
    "duration": 0,
    "start_time": "2023-04-24T04:02:24.364Z"
   },
   {
    "duration": 0,
    "start_time": "2023-04-24T04:02:24.365Z"
   },
   {
    "duration": 0,
    "start_time": "2023-04-24T04:02:24.366Z"
   },
   {
    "duration": 0,
    "start_time": "2023-04-24T04:02:24.367Z"
   },
   {
    "duration": 0,
    "start_time": "2023-04-24T04:02:24.367Z"
   },
   {
    "duration": 0,
    "start_time": "2023-04-24T04:02:24.368Z"
   },
   {
    "duration": 0,
    "start_time": "2023-04-24T04:02:24.369Z"
   },
   {
    "duration": 0,
    "start_time": "2023-04-24T04:02:24.370Z"
   },
   {
    "duration": 0,
    "start_time": "2023-04-24T04:02:24.371Z"
   },
   {
    "duration": 0,
    "start_time": "2023-04-24T04:02:24.372Z"
   },
   {
    "duration": 0,
    "start_time": "2023-04-24T04:02:24.373Z"
   },
   {
    "duration": 0,
    "start_time": "2023-04-24T04:02:24.374Z"
   },
   {
    "duration": 0,
    "start_time": "2023-04-24T04:02:24.374Z"
   },
   {
    "duration": 1330,
    "start_time": "2023-04-24T04:02:35.174Z"
   },
   {
    "duration": 62,
    "start_time": "2023-04-24T04:02:36.508Z"
   },
   {
    "duration": 13,
    "start_time": "2023-04-24T04:02:36.572Z"
   },
   {
    "duration": 13,
    "start_time": "2023-04-24T04:02:36.586Z"
   },
   {
    "duration": 22,
    "start_time": "2023-04-24T04:02:36.600Z"
   },
   {
    "duration": 36,
    "start_time": "2023-04-24T04:02:36.624Z"
   },
   {
    "duration": 4,
    "start_time": "2023-04-24T04:02:36.662Z"
   },
   {
    "duration": 12,
    "start_time": "2023-04-24T04:02:36.668Z"
   },
   {
    "duration": 19,
    "start_time": "2023-04-24T04:02:36.683Z"
   },
   {
    "duration": 24,
    "start_time": "2023-04-24T04:02:36.704Z"
   },
   {
    "duration": 3,
    "start_time": "2023-04-24T04:02:36.756Z"
   },
   {
    "duration": 5,
    "start_time": "2023-04-24T04:02:36.761Z"
   },
   {
    "duration": 11,
    "start_time": "2023-04-24T04:02:36.768Z"
   },
   {
    "duration": 6,
    "start_time": "2023-04-24T04:02:36.781Z"
   },
   {
    "duration": 9,
    "start_time": "2023-04-24T04:02:36.789Z"
   },
   {
    "duration": 10,
    "start_time": "2023-04-24T04:02:36.799Z"
   },
   {
    "duration": 2,
    "start_time": "2023-04-24T04:02:36.811Z"
   },
   {
    "duration": 42,
    "start_time": "2023-04-24T04:02:36.815Z"
   },
   {
    "duration": 7,
    "start_time": "2023-04-24T04:02:36.858Z"
   },
   {
    "duration": 8,
    "start_time": "2023-04-24T04:02:36.867Z"
   },
   {
    "duration": 470714,
    "start_time": "2023-04-24T04:02:36.877Z"
   },
   {
    "duration": 1095,
    "start_time": "2023-04-24T04:10:27.592Z"
   },
   {
    "duration": 114,
    "start_time": "2023-04-24T04:10:28.689Z"
   },
   {
    "duration": 0,
    "start_time": "2023-04-24T04:10:28.805Z"
   },
   {
    "duration": 0,
    "start_time": "2023-04-24T04:10:28.806Z"
   },
   {
    "duration": 0,
    "start_time": "2023-04-24T04:10:28.807Z"
   },
   {
    "duration": 0,
    "start_time": "2023-04-24T04:10:28.808Z"
   },
   {
    "duration": 0,
    "start_time": "2023-04-24T04:10:28.809Z"
   },
   {
    "duration": 0,
    "start_time": "2023-04-24T04:10:28.810Z"
   },
   {
    "duration": 0,
    "start_time": "2023-04-24T04:10:28.811Z"
   },
   {
    "duration": 0,
    "start_time": "2023-04-24T04:10:28.812Z"
   },
   {
    "duration": 0,
    "start_time": "2023-04-24T04:10:28.813Z"
   },
   {
    "duration": 0,
    "start_time": "2023-04-24T04:10:28.813Z"
   },
   {
    "duration": 0,
    "start_time": "2023-04-24T04:10:28.815Z"
   },
   {
    "duration": 0,
    "start_time": "2023-04-24T04:10:28.815Z"
   },
   {
    "duration": 0,
    "start_time": "2023-04-24T04:10:28.816Z"
   },
   {
    "duration": 0,
    "start_time": "2023-04-24T04:10:28.817Z"
   },
   {
    "duration": 0,
    "start_time": "2023-04-24T04:10:28.818Z"
   },
   {
    "duration": 0,
    "start_time": "2023-04-24T04:10:28.819Z"
   },
   {
    "duration": 0,
    "start_time": "2023-04-24T04:10:28.820Z"
   },
   {
    "duration": 0,
    "start_time": "2023-04-24T04:10:28.821Z"
   },
   {
    "duration": 0,
    "start_time": "2023-04-24T04:10:28.822Z"
   },
   {
    "duration": 0,
    "start_time": "2023-04-24T04:10:28.823Z"
   },
   {
    "duration": 0,
    "start_time": "2023-04-24T04:10:28.824Z"
   },
   {
    "duration": 0,
    "start_time": "2023-04-24T04:10:28.824Z"
   },
   {
    "duration": 0,
    "start_time": "2023-04-24T04:10:28.825Z"
   },
   {
    "duration": 0,
    "start_time": "2023-04-24T04:10:28.856Z"
   },
   {
    "duration": 0,
    "start_time": "2023-04-24T04:10:28.857Z"
   },
   {
    "duration": 0,
    "start_time": "2023-04-24T04:10:28.858Z"
   },
   {
    "duration": 4,
    "start_time": "2023-04-24T04:21:25.781Z"
   },
   {
    "duration": 39,
    "start_time": "2023-04-24T04:21:31.324Z"
   },
   {
    "duration": 489,
    "start_time": "2023-04-24T04:21:43.850Z"
   },
   {
    "duration": 723,
    "start_time": "2023-04-24T04:22:00.182Z"
   },
   {
    "duration": 204,
    "start_time": "2023-04-24T04:22:06.104Z"
   },
   {
    "duration": 4,
    "start_time": "2023-04-24T04:22:11.928Z"
   },
   {
    "duration": 15,
    "start_time": "2023-04-24T04:22:15.898Z"
   },
   {
    "duration": 358,
    "start_time": "2023-04-24T04:22:45.120Z"
   },
   {
    "duration": 712,
    "start_time": "2023-04-24T04:23:20.166Z"
   },
   {
    "duration": 196,
    "start_time": "2023-04-24T04:23:23.053Z"
   },
   {
    "duration": 16,
    "start_time": "2023-04-24T04:23:27.675Z"
   },
   {
    "duration": 5,
    "start_time": "2023-04-24T04:23:51.839Z"
   },
   {
    "duration": 8,
    "start_time": "2023-04-24T04:23:53.287Z"
   },
   {
    "duration": 22,
    "start_time": "2023-04-24T04:23:57.483Z"
   },
   {
    "duration": 11,
    "start_time": "2023-04-24T04:24:01.451Z"
   },
   {
    "duration": 18,
    "start_time": "2023-04-24T04:24:02.790Z"
   },
   {
    "duration": 1017,
    "start_time": "2023-04-24T04:24:07.465Z"
   },
   {
    "duration": 182,
    "start_time": "2023-04-24T04:24:13.119Z"
   },
   {
    "duration": 18,
    "start_time": "2023-04-24T04:24:16.937Z"
   },
   {
    "duration": 377,
    "start_time": "2023-04-24T04:24:21.026Z"
   },
   {
    "duration": 6,
    "start_time": "2023-04-24T04:24:29.491Z"
   },
   {
    "duration": 210931,
    "start_time": "2023-04-24T04:24:31.028Z"
   },
   {
    "duration": 198,
    "start_time": "2023-04-24T04:28:17.918Z"
   },
   {
    "duration": 4,
    "start_time": "2023-04-24T04:28:20.054Z"
   },
   {
    "duration": 18,
    "start_time": "2023-04-24T04:28:21.238Z"
   },
   {
    "duration": 559,
    "start_time": "2023-04-24T04:28:24.787Z"
   },
   {
    "duration": 1652348,
    "start_time": "2023-04-24T04:31:30.471Z"
   },
   {
    "duration": 504,
    "start_time": "2023-04-24T05:05:08.173Z"
   },
   {
    "duration": 143,
    "start_time": "2023-04-24T05:05:26.202Z"
   },
   {
    "duration": 1062,
    "start_time": "2023-04-24T05:22:30.839Z"
   },
   {
    "duration": 4,
    "start_time": "2023-04-24T05:22:54.467Z"
   },
   {
    "duration": 38,
    "start_time": "2023-04-24T05:22:59.479Z"
   },
   {
    "duration": 474,
    "start_time": "2023-04-24T05:23:30.727Z"
   },
   {
    "duration": 705,
    "start_time": "2023-04-24T05:24:40.707Z"
   },
   {
    "duration": 222,
    "start_time": "2023-04-24T05:27:29.621Z"
   },
   {
    "duration": 725,
    "start_time": "2023-04-24T05:27:33.862Z"
   },
   {
    "duration": 203,
    "start_time": "2023-04-24T05:27:37.461Z"
   },
   {
    "duration": 1032,
    "start_time": "2023-04-24T05:28:23.014Z"
   },
   {
    "duration": 3,
    "start_time": "2023-04-24T05:28:42.278Z"
   },
   {
    "duration": 39,
    "start_time": "2023-04-24T05:28:45.832Z"
   },
   {
    "duration": 468,
    "start_time": "2023-04-24T05:29:07.124Z"
   },
   {
    "duration": 188,
    "start_time": "2023-04-24T05:29:40.728Z"
   },
   {
    "duration": 207,
    "start_time": "2023-04-24T05:30:56.390Z"
   },
   {
    "duration": 1045,
    "start_time": "2023-04-24T05:41:44.538Z"
   },
   {
    "duration": 3,
    "start_time": "2023-04-24T05:42:19.530Z"
   },
   {
    "duration": 43,
    "start_time": "2023-04-24T05:42:21.426Z"
   },
   {
    "duration": 531,
    "start_time": "2023-04-24T05:42:25.732Z"
   },
   {
    "duration": 783,
    "start_time": "2023-04-24T05:43:17.367Z"
   },
   {
    "duration": 3,
    "start_time": "2023-04-24T05:48:24.838Z"
   },
   {
    "duration": 127,
    "start_time": "2023-04-24T05:48:27.174Z"
   },
   {
    "duration": 478,
    "start_time": "2023-04-24T05:49:24.359Z"
   },
   {
    "duration": 721,
    "start_time": "2023-04-24T05:49:50.771Z"
   },
   {
    "duration": 199,
    "start_time": "2023-04-24T05:51:58.567Z"
   },
   {
    "duration": 214,
    "start_time": "2023-04-24T05:53:27.397Z"
   },
   {
    "duration": 1078,
    "start_time": "2023-04-24T05:57:18.629Z"
   },
   {
    "duration": 10,
    "start_time": "2023-04-24T05:58:14.305Z"
   },
   {
    "duration": 224,
    "start_time": "2023-04-24T05:59:54.609Z"
   },
   {
    "duration": 4,
    "start_time": "2023-04-24T06:00:09.509Z"
   },
   {
    "duration": 13,
    "start_time": "2023-04-24T06:00:11.681Z"
   },
   {
    "duration": 427,
    "start_time": "2023-04-24T06:01:01.258Z"
   },
   {
    "duration": 699,
    "start_time": "2023-04-24T06:01:46.461Z"
   },
   {
    "duration": 189,
    "start_time": "2023-04-24T06:01:52.853Z"
   },
   {
    "duration": 16,
    "start_time": "2023-04-24T06:02:03.461Z"
   },
   {
    "duration": 10,
    "start_time": "2023-04-24T06:10:38.787Z"
   },
   {
    "duration": 5,
    "start_time": "2023-04-24T06:11:05.766Z"
   },
   {
    "duration": 62,
    "start_time": "2023-04-24T06:11:08.408Z"
   },
   {
    "duration": 14,
    "start_time": "2023-04-24T06:11:12.032Z"
   },
   {
    "duration": 11,
    "start_time": "2023-04-24T06:11:15.537Z"
   },
   {
    "duration": 20,
    "start_time": "2023-04-24T06:11:17.720Z"
   },
   {
    "duration": 8,
    "start_time": "2023-04-24T06:11:22.578Z"
   },
   {
    "duration": 5,
    "start_time": "2023-04-24T06:11:26.704Z"
   },
   {
    "duration": 11,
    "start_time": "2023-04-24T06:11:29.873Z"
   },
   {
    "duration": 20,
    "start_time": "2023-04-24T06:11:32.642Z"
   },
   {
    "duration": 22,
    "start_time": "2023-04-24T06:11:35.980Z"
   },
   {
    "duration": 4,
    "start_time": "2023-04-24T06:11:42.152Z"
   },
   {
    "duration": 4,
    "start_time": "2023-04-24T06:11:45.159Z"
   },
   {
    "duration": 5,
    "start_time": "2023-04-24T06:11:47.627Z"
   },
   {
    "duration": 13,
    "start_time": "2023-04-24T06:11:50.568Z"
   },
   {
    "duration": 8,
    "start_time": "2023-04-24T06:11:53.350Z"
   },
   {
    "duration": 11,
    "start_time": "2023-04-24T06:11:56.860Z"
   },
   {
    "duration": 11,
    "start_time": "2023-04-24T06:12:03.464Z"
   },
   {
    "duration": 2,
    "start_time": "2023-04-24T06:12:06.367Z"
   },
   {
    "duration": 4,
    "start_time": "2023-04-24T06:12:10.814Z"
   },
   {
    "duration": 2,
    "start_time": "2023-04-24T06:12:13.451Z"
   },
   {
    "duration": 3,
    "start_time": "2023-04-24T06:12:17.420Z"
   },
   {
    "duration": 1040,
    "start_time": "2023-04-24T06:12:22.311Z"
   },
   {
    "duration": 4,
    "start_time": "2023-04-24T06:12:28.932Z"
   },
   {
    "duration": 40,
    "start_time": "2023-04-24T06:12:30.921Z"
   },
   {
    "duration": 440,
    "start_time": "2023-04-24T06:12:35.274Z"
   },
   {
    "duration": 722,
    "start_time": "2023-04-24T06:12:42.354Z"
   },
   {
    "duration": 10,
    "start_time": "2023-04-24T06:12:45.474Z"
   },
   {
    "duration": 1334,
    "start_time": "2023-04-24T06:12:59.973Z"
   },
   {
    "duration": 775,
    "start_time": "2023-04-24T06:21:48.614Z"
   },
   {
    "duration": 2353,
    "start_time": "2023-04-24T06:21:53.208Z"
   },
   {
    "duration": 4,
    "start_time": "2023-04-24T06:22:28.415Z"
   },
   {
    "duration": 15,
    "start_time": "2023-04-24T06:22:30.972Z"
   },
   {
    "duration": 411,
    "start_time": "2023-04-24T06:22:37.969Z"
   },
   {
    "duration": 763,
    "start_time": "2023-04-24T06:24:08.110Z"
   },
   {
    "duration": 283,
    "start_time": "2023-04-24T06:27:15.910Z"
   },
   {
    "duration": 18,
    "start_time": "2023-04-24T06:27:20.486Z"
   },
   {
    "duration": 5,
    "start_time": "2023-04-24T06:27:33.280Z"
   },
   {
    "duration": 7,
    "start_time": "2023-04-24T06:27:34.596Z"
   },
   {
    "duration": 21,
    "start_time": "2023-04-24T06:27:37.657Z"
   },
   {
    "duration": 9,
    "start_time": "2023-04-24T06:27:39.491Z"
   },
   {
    "duration": 17,
    "start_time": "2023-04-24T06:27:43.121Z"
   },
   {
    "duration": 1001,
    "start_time": "2023-04-24T06:27:44.662Z"
   },
   {
    "duration": 226,
    "start_time": "2023-04-24T06:28:09.121Z"
   },
   {
    "duration": 18,
    "start_time": "2023-04-24T06:28:17.288Z"
   },
   {
    "duration": 374,
    "start_time": "2023-04-24T06:28:21.127Z"
   },
   {
    "duration": 6,
    "start_time": "2023-04-24T06:28:27.467Z"
   },
   {
    "duration": 211681,
    "start_time": "2023-04-24T06:28:29.174Z"
   },
   {
    "duration": 787,
    "start_time": "2023-04-24T06:34:27.225Z"
   },
   {
    "duration": 2113,
    "start_time": "2023-04-24T06:34:29.937Z"
   },
   {
    "duration": 4,
    "start_time": "2023-04-24T06:34:35.514Z"
   },
   {
    "duration": 12,
    "start_time": "2023-04-24T06:34:36.913Z"
   },
   {
    "duration": 5,
    "start_time": "2023-04-24T06:34:55.264Z"
   },
   {
    "duration": 55,
    "start_time": "2023-04-24T06:34:59.032Z"
   },
   {
    "duration": 13,
    "start_time": "2023-04-24T06:35:02.948Z"
   },
   {
    "duration": 10,
    "start_time": "2023-04-24T06:35:05.036Z"
   },
   {
    "duration": 20,
    "start_time": "2023-04-24T06:35:08.078Z"
   },
   {
    "duration": 11,
    "start_time": "2023-04-24T06:35:09.804Z"
   },
   {
    "duration": 4,
    "start_time": "2023-04-24T06:35:19.828Z"
   },
   {
    "duration": 11,
    "start_time": "2023-04-24T06:35:21.887Z"
   },
   {
    "duration": 17,
    "start_time": "2023-04-24T06:35:23.610Z"
   },
   {
    "duration": 24,
    "start_time": "2023-04-24T06:35:26.757Z"
   },
   {
    "duration": 4,
    "start_time": "2023-04-24T06:35:30.625Z"
   },
   {
    "duration": 6,
    "start_time": "2023-04-24T06:35:31.896Z"
   },
   {
    "duration": 11,
    "start_time": "2023-04-24T06:35:33.446Z"
   },
   {
    "duration": 10,
    "start_time": "2023-04-24T06:35:38.744Z"
   },
   {
    "duration": 11,
    "start_time": "2023-04-24T06:35:42.029Z"
   },
   {
    "duration": 3,
    "start_time": "2023-04-24T06:35:46.729Z"
   },
   {
    "duration": 4,
    "start_time": "2023-04-24T06:35:48.297Z"
   },
   {
    "duration": 3,
    "start_time": "2023-04-24T06:35:49.710Z"
   },
   {
    "duration": 3,
    "start_time": "2023-04-24T06:35:51.413Z"
   },
   {
    "duration": 1071,
    "start_time": "2023-04-24T06:36:00.033Z"
   },
   {
    "duration": 4,
    "start_time": "2023-04-24T06:36:11.503Z"
   },
   {
    "duration": 42,
    "start_time": "2023-04-24T06:36:15.364Z"
   },
   {
    "duration": 454,
    "start_time": "2023-04-24T06:36:19.759Z"
   },
   {
    "duration": 777,
    "start_time": "2023-04-24T06:36:30.338Z"
   },
   {
    "duration": 2009,
    "start_time": "2023-04-24T06:36:37.024Z"
   },
   {
    "duration": 4,
    "start_time": "2023-04-24T06:36:41.898Z"
   },
   {
    "duration": 15,
    "start_time": "2023-04-24T06:36:46.459Z"
   },
   {
    "duration": 396,
    "start_time": "2023-04-24T06:36:51.088Z"
   },
   {
    "duration": 713,
    "start_time": "2023-04-24T06:36:59.237Z"
   },
   {
    "duration": 181,
    "start_time": "2023-04-24T06:37:03.017Z"
   },
   {
    "duration": 16,
    "start_time": "2023-04-24T06:37:07.521Z"
   },
   {
    "duration": 5,
    "start_time": "2023-04-24T06:37:15.172Z"
   },
   {
    "duration": 7,
    "start_time": "2023-04-24T06:37:16.568Z"
   },
   {
    "duration": 21,
    "start_time": "2023-04-24T06:37:18.735Z"
   },
   {
    "duration": 10,
    "start_time": "2023-04-24T06:37:20.583Z"
   },
   {
    "duration": 17,
    "start_time": "2023-04-24T06:37:22.424Z"
   },
   {
    "duration": 1111,
    "start_time": "2023-04-24T06:37:24.157Z"
   },
   {
    "duration": 23,
    "start_time": "2023-04-24T06:38:06.050Z"
   },
   {
    "duration": 10,
    "start_time": "2023-04-24T06:38:08.020Z"
   },
   {
    "duration": 19,
    "start_time": "2023-04-24T06:38:09.464Z"
   },
   {
    "duration": 1018,
    "start_time": "2023-04-24T06:38:11.163Z"
   },
   {
    "duration": 190,
    "start_time": "2023-04-24T06:38:16.781Z"
   },
   {
    "duration": 16,
    "start_time": "2023-04-24T06:38:18.988Z"
   },
   {
    "duration": 362,
    "start_time": "2023-04-24T06:38:21.417Z"
   },
   {
    "duration": 6,
    "start_time": "2023-04-24T06:38:24.766Z"
   },
   {
    "duration": 212665,
    "start_time": "2023-04-24T06:38:27.562Z"
   },
   {
    "duration": 191,
    "start_time": "2023-04-24T06:46:50.659Z"
   },
   {
    "duration": 4,
    "start_time": "2023-04-24T06:46:54.974Z"
   },
   {
    "duration": 19,
    "start_time": "2023-04-24T06:46:57.209Z"
   },
   {
    "duration": 604,
    "start_time": "2023-04-24T06:47:04.832Z"
   },
   {
    "duration": 413,
    "start_time": "2023-04-24T06:51:07.578Z"
   },
   {
    "duration": 148,
    "start_time": "2023-04-24T06:51:14.052Z"
   },
   {
    "duration": 474,
    "start_time": "2023-04-24T06:54:25.155Z"
   },
   {
    "duration": 464,
    "start_time": "2023-04-24T06:54:53.898Z"
   },
   {
    "duration": 520,
    "start_time": "2023-04-24T06:55:16.503Z"
   },
   {
    "duration": 758,
    "start_time": "2023-04-24T06:57:06.099Z"
   },
   {
    "duration": 163,
    "start_time": "2023-04-24T06:57:23.979Z"
   },
   {
    "duration": 9,
    "start_time": "2023-04-25T17:44:21.207Z"
   },
   {
    "duration": 50,
    "start_time": "2023-04-25T17:44:35.128Z"
   },
   {
    "duration": 1526,
    "start_time": "2023-04-25T17:44:49.988Z"
   },
   {
    "duration": 116,
    "start_time": "2023-04-25T17:44:54.241Z"
   },
   {
    "duration": 13,
    "start_time": "2023-04-25T17:44:58.718Z"
   },
   {
    "duration": 13,
    "start_time": "2023-04-25T17:45:02.107Z"
   },
   {
    "duration": 20,
    "start_time": "2023-04-25T17:45:05.122Z"
   },
   {
    "duration": 13,
    "start_time": "2023-04-25T17:45:08.346Z"
   },
   {
    "duration": 5,
    "start_time": "2023-04-25T17:45:20.252Z"
   },
   {
    "duration": 12,
    "start_time": "2023-04-25T17:45:23.729Z"
   },
   {
    "duration": 82,
    "start_time": "2023-04-25T17:45:48.676Z"
   },
   {
    "duration": 9,
    "start_time": "2023-04-25T17:45:52.697Z"
   },
   {
    "duration": 13,
    "start_time": "2023-04-25T17:45:55.975Z"
   },
   {
    "duration": 5,
    "start_time": "2023-04-25T17:46:14.340Z"
   },
   {
    "duration": 60,
    "start_time": "2023-04-25T17:46:17.843Z"
   },
   {
    "duration": 15,
    "start_time": "2023-04-25T17:46:23.067Z"
   },
   {
    "duration": 12,
    "start_time": "2023-04-25T17:46:25.896Z"
   },
   {
    "duration": 22,
    "start_time": "2023-04-25T17:46:28.089Z"
   },
   {
    "duration": 9,
    "start_time": "2023-04-25T17:46:31.585Z"
   },
   {
    "duration": 5,
    "start_time": "2023-04-25T17:46:36.279Z"
   },
   {
    "duration": 13,
    "start_time": "2023-04-25T17:46:39.833Z"
   },
   {
    "duration": 18,
    "start_time": "2023-04-25T17:46:42.777Z"
   },
   {
    "duration": 27,
    "start_time": "2023-04-25T17:46:49.736Z"
   },
   {
    "duration": 5,
    "start_time": "2023-04-25T17:47:12.290Z"
   },
   {
    "duration": 5,
    "start_time": "2023-04-25T17:47:14.190Z"
   },
   {
    "duration": 12,
    "start_time": "2023-04-25T17:47:16.585Z"
   },
   {
    "duration": 9,
    "start_time": "2023-04-25T17:47:23.276Z"
   },
   {
    "duration": 10,
    "start_time": "2023-04-25T17:47:34.987Z"
   },
   {
    "duration": 15,
    "start_time": "2023-04-25T17:47:39.221Z"
   },
   {
    "duration": 3,
    "start_time": "2023-04-25T17:47:43.014Z"
   },
   {
    "duration": 3,
    "start_time": "2023-04-25T17:47:45.635Z"
   },
   {
    "duration": 4,
    "start_time": "2023-04-25T17:47:49.737Z"
   },
   {
    "duration": 3,
    "start_time": "2023-04-25T17:47:51.780Z"
   },
   {
    "duration": 1174,
    "start_time": "2023-04-25T17:48:05.041Z"
   },
   {
    "duration": 5,
    "start_time": "2023-04-25T17:48:13.002Z"
   },
   {
    "duration": 19,
    "start_time": "2023-04-25T17:48:16.591Z"
   },
   {
    "duration": 3,
    "start_time": "2023-04-25T17:53:16.702Z"
   },
   {
    "duration": 13,
    "start_time": "2023-04-25T17:53:19.060Z"
   },
   {
    "duration": 1179,
    "start_time": "2023-04-25T18:14:23.642Z"
   },
   {
    "duration": 4,
    "start_time": "2023-04-25T18:14:31.193Z"
   },
   {
    "duration": 42,
    "start_time": "2023-04-25T18:14:34.158Z"
   },
   {
    "duration": 1059,
    "start_time": "2023-04-25T23:51:51.462Z"
   },
   {
    "duration": 5,
    "start_time": "2023-04-25T23:51:57.148Z"
   },
   {
    "duration": 11,
    "start_time": "2023-04-25T23:52:00.161Z"
   },
   {
    "duration": 5,
    "start_time": "2023-04-26T01:39:39.031Z"
   },
   {
    "duration": 881,
    "start_time": "2023-04-26T01:39:42.289Z"
   },
   {
    "duration": 50,
    "start_time": "2023-04-26T01:42:16.840Z"
   },
   {
    "duration": 4,
    "start_time": "2023-04-26T01:43:46.417Z"
   },
   {
    "duration": 954,
    "start_time": "2023-04-26T01:43:49.273Z"
   },
   {
    "duration": 10,
    "start_time": "2023-04-26T03:41:18.810Z"
   },
   {
    "duration": 582,
    "start_time": "2023-04-26T03:41:48.210Z"
   },
   {
    "duration": 749,
    "start_time": "2023-04-26T03:41:59.257Z"
   },
   {
    "duration": 4,
    "start_time": "2023-04-26T03:51:58.344Z"
   },
   {
    "duration": 454,
    "start_time": "2023-04-26T03:52:02.769Z"
   },
   {
    "duration": 791,
    "start_time": "2023-04-26T03:52:07.539Z"
   },
   {
    "duration": 5,
    "start_time": "2023-04-26T03:52:28.769Z"
   },
   {
    "duration": 61,
    "start_time": "2023-04-26T03:52:31.916Z"
   },
   {
    "duration": 13,
    "start_time": "2023-04-26T03:52:35.583Z"
   },
   {
    "duration": 12,
    "start_time": "2023-04-26T03:52:37.531Z"
   },
   {
    "duration": 24,
    "start_time": "2023-04-26T03:52:40.617Z"
   },
   {
    "duration": 9,
    "start_time": "2023-04-26T03:52:43.972Z"
   },
   {
    "duration": 5,
    "start_time": "2023-04-26T03:52:49.684Z"
   },
   {
    "duration": 11,
    "start_time": "2023-04-26T03:52:51.454Z"
   },
   {
    "duration": 17,
    "start_time": "2023-04-26T03:52:54.774Z"
   },
   {
    "duration": 23,
    "start_time": "2023-04-26T03:52:58.707Z"
   },
   {
    "duration": 4,
    "start_time": "2023-04-26T03:53:02.249Z"
   },
   {
    "duration": 5,
    "start_time": "2023-04-26T03:53:09.614Z"
   },
   {
    "duration": 11,
    "start_time": "2023-04-26T03:53:10.823Z"
   },
   {
    "duration": 8,
    "start_time": "2023-04-26T03:53:12.897Z"
   },
   {
    "duration": 10,
    "start_time": "2023-04-26T03:53:18.316Z"
   },
   {
    "duration": 12,
    "start_time": "2023-04-26T03:53:21.525Z"
   },
   {
    "duration": 3,
    "start_time": "2023-04-26T03:53:23.081Z"
   },
   {
    "duration": 4,
    "start_time": "2023-04-26T03:53:24.220Z"
   },
   {
    "duration": 2,
    "start_time": "2023-04-26T03:53:27.676Z"
   },
   {
    "duration": 3,
    "start_time": "2023-04-26T03:53:29.418Z"
   },
   {
    "duration": 1101,
    "start_time": "2023-04-26T03:53:33.618Z"
   },
   {
    "duration": 5,
    "start_time": "2023-04-26T03:53:40.858Z"
   },
   {
    "duration": 4,
    "start_time": "2023-04-26T03:53:43.502Z"
   },
   {
    "duration": 827,
    "start_time": "2023-04-26T03:53:47.039Z"
   },
   {
    "duration": 502,
    "start_time": "2023-04-26T03:53:54.312Z"
   },
   {
    "duration": 777,
    "start_time": "2023-04-26T03:53:58.843Z"
   },
   {
    "duration": 2270,
    "start_time": "2023-04-26T03:54:24.496Z"
   },
   {
    "duration": 4,
    "start_time": "2023-04-26T03:54:36.367Z"
   },
   {
    "duration": 16,
    "start_time": "2023-04-26T03:54:37.825Z"
   },
   {
    "duration": 28,
    "start_time": "2023-04-26T03:55:25.462Z"
   },
   {
    "duration": 1576,
    "start_time": "2023-04-27T04:30:38.759Z"
   },
   {
    "duration": 133,
    "start_time": "2023-04-27T04:30:44.171Z"
   },
   {
    "duration": 13,
    "start_time": "2023-04-27T04:30:47.710Z"
   },
   {
    "duration": 11,
    "start_time": "2023-04-27T04:30:50.906Z"
   },
   {
    "duration": 19,
    "start_time": "2023-04-27T04:30:52.533Z"
   },
   {
    "duration": 10,
    "start_time": "2023-04-27T04:30:55.126Z"
   },
   {
    "duration": 4,
    "start_time": "2023-04-27T04:30:59.949Z"
   },
   {
    "duration": 11,
    "start_time": "2023-04-27T04:31:01.801Z"
   },
   {
    "duration": 32,
    "start_time": "2023-04-27T04:31:05.388Z"
   },
   {
    "duration": 35,
    "start_time": "2023-04-27T04:31:07.770Z"
   },
   {
    "duration": 4,
    "start_time": "2023-04-27T04:31:11.349Z"
   },
   {
    "duration": 5,
    "start_time": "2023-04-27T04:31:14.647Z"
   },
   {
    "duration": 12,
    "start_time": "2023-04-27T04:31:15.903Z"
   },
   {
    "duration": 8,
    "start_time": "2023-04-27T04:31:17.712Z"
   },
   {
    "duration": 15,
    "start_time": "2023-04-27T04:31:22.752Z"
   },
   {
    "duration": 12,
    "start_time": "2023-04-27T04:31:24.658Z"
   },
   {
    "duration": 3,
    "start_time": "2023-04-27T04:31:26.551Z"
   },
   {
    "duration": 5,
    "start_time": "2023-04-27T04:31:28.096Z"
   },
   {
    "duration": 3,
    "start_time": "2023-04-27T04:31:36.988Z"
   },
   {
    "duration": 3,
    "start_time": "2023-04-27T04:31:51.504Z"
   },
   {
    "duration": 4,
    "start_time": "2023-04-27T04:31:53.190Z"
   },
   {
    "duration": 3,
    "start_time": "2023-04-27T04:31:55.402Z"
   },
   {
    "duration": 3,
    "start_time": "2023-04-27T04:31:56.756Z"
   },
   {
    "duration": 538780,
    "start_time": "2023-04-27T04:32:00.433Z"
   },
   {
    "duration": 1829,
    "start_time": "2023-04-28T02:45:35.189Z"
   },
   {
    "duration": 114,
    "start_time": "2023-04-28T02:45:37.021Z"
   },
   {
    "duration": 17,
    "start_time": "2023-04-28T02:45:37.137Z"
   },
   {
    "duration": 45,
    "start_time": "2023-04-28T02:45:37.156Z"
   },
   {
    "duration": 29,
    "start_time": "2023-04-28T02:45:37.203Z"
   },
   {
    "duration": 134,
    "start_time": "2023-04-28T02:45:37.234Z"
   },
   {
    "duration": 8,
    "start_time": "2023-04-28T02:45:37.370Z"
   },
   {
    "duration": 36,
    "start_time": "2023-04-28T02:45:37.380Z"
   },
   {
    "duration": 40,
    "start_time": "2023-04-28T02:45:37.418Z"
   },
   {
    "duration": 31,
    "start_time": "2023-04-28T02:45:37.461Z"
   },
   {
    "duration": 5,
    "start_time": "2023-04-28T02:45:37.494Z"
   },
   {
    "duration": 23,
    "start_time": "2023-04-28T02:45:37.500Z"
   },
   {
    "duration": 31,
    "start_time": "2023-04-28T02:45:37.525Z"
   },
   {
    "duration": 22,
    "start_time": "2023-04-28T02:45:37.557Z"
   },
   {
    "duration": 29,
    "start_time": "2023-04-28T02:45:37.581Z"
   },
   {
    "duration": 35,
    "start_time": "2023-04-28T02:45:37.612Z"
   },
   {
    "duration": 23,
    "start_time": "2023-04-28T02:45:37.650Z"
   },
   {
    "duration": 45,
    "start_time": "2023-04-28T02:45:37.675Z"
   },
   {
    "duration": 26,
    "start_time": "2023-04-28T02:45:37.722Z"
   },
   {
    "duration": 35,
    "start_time": "2023-04-28T02:45:37.750Z"
   },
   {
    "duration": 589523,
    "start_time": "2023-04-28T02:45:37.787Z"
   },
   {
    "duration": 1312,
    "start_time": "2023-04-28T02:55:27.311Z"
   },
   {
    "duration": 6,
    "start_time": "2023-04-28T02:55:28.625Z"
   },
   {
    "duration": 962,
    "start_time": "2023-04-28T02:55:28.642Z"
   },
   {
    "duration": 606,
    "start_time": "2023-04-28T02:55:29.606Z"
   },
   {
    "duration": 1066,
    "start_time": "2023-04-28T02:55:30.215Z"
   },
   {
    "duration": 0,
    "start_time": "2023-04-28T02:55:31.284Z"
   },
   {
    "duration": 0,
    "start_time": "2023-04-28T02:55:31.286Z"
   },
   {
    "duration": 0,
    "start_time": "2023-04-28T02:55:31.288Z"
   },
   {
    "duration": 0,
    "start_time": "2023-04-28T02:55:31.289Z"
   },
   {
    "duration": 0,
    "start_time": "2023-04-28T02:55:31.291Z"
   },
   {
    "duration": 0,
    "start_time": "2023-04-28T02:55:31.292Z"
   },
   {
    "duration": 0,
    "start_time": "2023-04-28T02:55:31.294Z"
   },
   {
    "duration": 0,
    "start_time": "2023-04-28T02:55:31.295Z"
   },
   {
    "duration": 0,
    "start_time": "2023-04-28T02:55:31.296Z"
   },
   {
    "duration": 0,
    "start_time": "2023-04-28T02:55:31.297Z"
   },
   {
    "duration": 0,
    "start_time": "2023-04-28T02:55:31.298Z"
   },
   {
    "duration": 0,
    "start_time": "2023-04-28T02:55:31.300Z"
   },
   {
    "duration": 0,
    "start_time": "2023-04-28T02:55:31.301Z"
   },
   {
    "duration": 0,
    "start_time": "2023-04-28T02:55:31.302Z"
   },
   {
    "duration": 0,
    "start_time": "2023-04-28T02:55:31.304Z"
   },
   {
    "duration": 0,
    "start_time": "2023-04-28T02:55:31.305Z"
   },
   {
    "duration": 0,
    "start_time": "2023-04-28T02:55:31.342Z"
   },
   {
    "duration": 0,
    "start_time": "2023-04-28T02:55:31.344Z"
   },
   {
    "duration": 0,
    "start_time": "2023-04-28T02:55:31.346Z"
   },
   {
    "duration": 0,
    "start_time": "2023-04-28T02:55:31.347Z"
   },
   {
    "duration": 0,
    "start_time": "2023-04-28T02:55:31.348Z"
   },
   {
    "duration": 0,
    "start_time": "2023-04-28T02:55:31.350Z"
   },
   {
    "duration": 0,
    "start_time": "2023-04-28T02:55:31.351Z"
   },
   {
    "duration": 0,
    "start_time": "2023-04-28T02:55:31.353Z"
   },
   {
    "duration": 0,
    "start_time": "2023-04-28T02:55:31.354Z"
   },
   {
    "duration": 908,
    "start_time": "2023-04-28T04:10:48.606Z"
   },
   {
    "duration": 543,
    "start_time": "2023-04-28T04:11:06.029Z"
   },
   {
    "duration": 972,
    "start_time": "2023-04-28T04:12:05.180Z"
   },
   {
    "duration": 955,
    "start_time": "2023-04-28T04:13:16.497Z"
   },
   {
    "duration": 905,
    "start_time": "2023-04-28T04:15:02.308Z"
   },
   {
    "duration": 2838,
    "start_time": "2023-04-28T04:16:29.560Z"
   },
   {
    "duration": 2842,
    "start_time": "2023-04-28T04:16:56.220Z"
   },
   {
    "duration": 5,
    "start_time": "2023-04-28T04:17:19.121Z"
   },
   {
    "duration": 24,
    "start_time": "2023-04-28T04:17:22.267Z"
   },
   {
    "duration": 158,
    "start_time": "2023-04-28T04:28:18.606Z"
   },
   {
    "duration": 24,
    "start_time": "2023-04-28T04:28:25.265Z"
   },
   {
    "duration": 76,
    "start_time": "2023-04-28T04:28:27.366Z"
   },
   {
    "duration": 2880,
    "start_time": "2023-04-28T04:28:34.595Z"
   },
   {
    "duration": 3074,
    "start_time": "2023-04-28T04:28:39.169Z"
   },
   {
    "duration": 6,
    "start_time": "2023-04-28T04:28:45.029Z"
   },
   {
    "duration": 17,
    "start_time": "2023-04-28T04:28:47.764Z"
   },
   {
    "duration": 2554,
    "start_time": "2023-04-28T04:33:05.365Z"
   },
   {
    "duration": 2494,
    "start_time": "2023-04-28T04:33:13.476Z"
   },
   {
    "duration": 2481,
    "start_time": "2023-04-28T04:33:24.735Z"
   },
   {
    "duration": 916,
    "start_time": "2023-04-28T04:33:56.697Z"
   },
   {
    "duration": 2616,
    "start_time": "2023-04-28T04:34:24.528Z"
   },
   {
    "duration": 2693,
    "start_time": "2023-04-28T04:34:37.034Z"
   },
   {
    "duration": 6,
    "start_time": "2023-04-28T04:34:42.717Z"
   },
   {
    "duration": 15,
    "start_time": "2023-04-28T04:36:12.701Z"
   },
   {
    "duration": 2723,
    "start_time": "2023-04-28T04:37:54.159Z"
   },
   {
    "duration": 7,
    "start_time": "2023-04-28T04:37:59.588Z"
   },
   {
    "duration": 23,
    "start_time": "2023-04-28T04:38:06.418Z"
   },
   {
    "duration": 7,
    "start_time": "2023-04-28T04:39:45.457Z"
   },
   {
    "duration": 67,
    "start_time": "2023-04-28T04:39:51.579Z"
   },
   {
    "duration": 17,
    "start_time": "2023-04-28T04:39:56.219Z"
   },
   {
    "duration": 20,
    "start_time": "2023-04-28T04:40:00.170Z"
   },
   {
    "duration": 150,
    "start_time": "2023-04-28T04:40:01.973Z"
   },
   {
    "duration": 14,
    "start_time": "2023-04-28T04:40:05.934Z"
   },
   {
    "duration": 14,
    "start_time": "2023-04-28T04:40:15.710Z"
   },
   {
    "duration": 6,
    "start_time": "2023-04-28T04:40:20.493Z"
   },
   {
    "duration": 18,
    "start_time": "2023-04-28T04:40:23.311Z"
   },
   {
    "duration": 31,
    "start_time": "2023-04-28T04:40:26.006Z"
   },
   {
    "duration": 28,
    "start_time": "2023-04-28T04:40:37.486Z"
   },
   {
    "duration": 6,
    "start_time": "2023-04-28T04:40:50.938Z"
   },
   {
    "duration": 7,
    "start_time": "2023-04-28T04:40:53.682Z"
   },
   {
    "duration": 19,
    "start_time": "2023-04-28T04:40:56.700Z"
   },
   {
    "duration": 10,
    "start_time": "2023-04-28T04:41:01.431Z"
   },
   {
    "duration": 16,
    "start_time": "2023-04-28T04:41:12.715Z"
   },
   {
    "duration": 14,
    "start_time": "2023-04-28T04:41:18.169Z"
   },
   {
    "duration": 3,
    "start_time": "2023-04-28T04:41:25.483Z"
   },
   {
    "duration": 7,
    "start_time": "2023-04-28T04:41:27.743Z"
   },
   {
    "duration": 4,
    "start_time": "2023-04-28T04:41:30.612Z"
   },
   {
    "duration": 5,
    "start_time": "2023-04-28T04:41:35.670Z"
   },
   {
    "duration": 1397,
    "start_time": "2023-04-28T04:41:51.913Z"
   },
   {
    "duration": 5,
    "start_time": "2023-04-28T04:42:17.330Z"
   },
   {
    "duration": 1317,
    "start_time": "2023-04-28T05:44:49.183Z"
   },
   {
    "duration": 6,
    "start_time": "2023-04-28T05:44:54.529Z"
   },
   {
    "duration": 991,
    "start_time": "2023-04-28T05:45:03.854Z"
   },
   {
    "duration": 548,
    "start_time": "2023-04-28T05:46:34.119Z"
   },
   {
    "duration": 2459,
    "start_time": "2023-04-28T05:47:16.862Z"
   },
   {
    "duration": 968,
    "start_time": "2023-04-28T05:47:35.002Z"
   },
   {
    "duration": 6,
    "start_time": "2023-04-28T05:48:41.840Z"
   },
   {
    "duration": 941,
    "start_time": "2023-04-28T05:48:44.743Z"
   },
   {
    "duration": 5,
    "start_time": "2023-04-28T05:55:04.680Z"
   },
   {
    "duration": 1027,
    "start_time": "2023-04-28T05:55:07.191Z"
   },
   {
    "duration": 5,
    "start_time": "2023-04-28T05:55:59.278Z"
   },
   {
    "duration": 960,
    "start_time": "2023-04-28T05:56:01.838Z"
   },
   {
    "duration": 5,
    "start_time": "2023-04-28T05:57:41.029Z"
   },
   {
    "duration": 983,
    "start_time": "2023-04-28T05:57:43.792Z"
   },
   {
    "duration": 627,
    "start_time": "2023-04-28T05:58:26.454Z"
   },
   {
    "duration": 919,
    "start_time": "2023-04-28T05:58:36.574Z"
   },
   {
    "duration": 959,
    "start_time": "2023-04-28T06:01:00.855Z"
   },
   {
    "duration": 921,
    "start_time": "2023-04-28T06:01:32.802Z"
   },
   {
    "duration": 911,
    "start_time": "2023-04-28T06:03:59.069Z"
   },
   {
    "duration": 920,
    "start_time": "2023-04-28T06:04:11.505Z"
   },
   {
    "duration": 895,
    "start_time": "2023-04-28T06:04:29.922Z"
   },
   {
    "duration": 1034,
    "start_time": "2023-04-28T06:05:05.921Z"
   },
   {
    "duration": 995,
    "start_time": "2023-04-28T11:04:18.236Z"
   },
   {
    "duration": 5,
    "start_time": "2023-04-28T11:08:10.475Z"
   },
   {
    "duration": 1090,
    "start_time": "2023-04-28T11:08:14.667Z"
   },
   {
    "duration": 1158,
    "start_time": "2023-04-28T11:08:48.599Z"
   },
   {
    "duration": 73,
    "start_time": "2023-04-28T11:10:26.662Z"
   },
   {
    "duration": 692,
    "start_time": "2023-04-28T11:11:14.483Z"
   },
   {
    "duration": 1309,
    "start_time": "2023-04-28T11:11:22.179Z"
   },
   {
    "duration": 1192,
    "start_time": "2023-04-28T11:11:33.316Z"
   },
   {
    "duration": 6241,
    "start_time": "2023-04-28T11:13:02.190Z"
   },
   {
    "duration": 3372,
    "start_time": "2023-04-28T11:13:29.214Z"
   },
   {
    "duration": 6,
    "start_time": "2023-04-28T11:13:41.405Z"
   },
   {
    "duration": 23,
    "start_time": "2023-04-28T11:13:43.724Z"
   },
   {
    "duration": 1272,
    "start_time": "2023-04-28T11:14:26.715Z"
   },
   {
    "duration": 1305,
    "start_time": "2023-04-28T11:14:49.286Z"
   },
   {
    "duration": 3472,
    "start_time": "2023-04-28T11:14:54.823Z"
   },
   {
    "duration": 5887,
    "start_time": "2023-04-28T11:15:24.836Z"
   },
   {
    "duration": 3564,
    "start_time": "2023-04-28T11:15:36.164Z"
   },
   {
    "duration": 3064,
    "start_time": "2023-04-28T11:18:21.273Z"
   },
   {
    "duration": 7,
    "start_time": "2023-04-28T12:16:46.857Z"
   },
   {
    "duration": 22,
    "start_time": "2023-04-28T12:16:49.148Z"
   },
   {
    "duration": 5067,
    "start_time": "2023-04-28T12:19:24.128Z"
   },
   {
    "duration": 2979,
    "start_time": "2023-04-28T12:19:30.825Z"
   },
   {
    "duration": 2764,
    "start_time": "2023-04-28T12:26:47.769Z"
   },
   {
    "duration": 920,
    "start_time": "2023-04-28T12:41:34.686Z"
   },
   {
    "duration": 5043,
    "start_time": "2023-04-28T12:41:58.660Z"
   },
   {
    "duration": 2860,
    "start_time": "2023-04-28T12:42:05.741Z"
   },
   {
    "duration": 5,
    "start_time": "2023-04-28T12:42:12.002Z"
   },
   {
    "duration": 15,
    "start_time": "2023-04-28T12:42:14.286Z"
   },
   {
    "duration": 66,
    "start_time": "2023-04-28T12:42:17.680Z"
   },
   {
    "duration": 122,
    "start_time": "2023-04-28T13:07:11.027Z"
   },
   {
    "duration": 61,
    "start_time": "2023-04-28T13:07:40.688Z"
   },
   {
    "duration": 1578,
    "start_time": "2023-04-28T15:20:45.268Z"
   },
   {
    "duration": 2811,
    "start_time": "2023-04-28T17:43:34.647Z"
   },
   {
    "duration": 6,
    "start_time": "2023-04-28T17:43:40.113Z"
   },
   {
    "duration": 17,
    "start_time": "2023-04-28T17:43:42.524Z"
   },
   {
    "duration": 5,
    "start_time": "2023-04-28T18:31:06.470Z"
   },
   {
    "duration": 3,
    "start_time": "2023-04-28T18:31:08.842Z"
   },
   {
    "duration": 1279,
    "start_time": "2023-04-28T18:31:13.283Z"
   },
   {
    "duration": 6,
    "start_time": "2023-04-28T18:31:18.418Z"
   },
   {
    "duration": 47,
    "start_time": "2023-04-28T18:31:20.744Z"
   },
   {
    "duration": 583,
    "start_time": "2023-04-28T18:31:25.042Z"
   },
   {
    "duration": 4757,
    "start_time": "2023-04-28T18:31:44.273Z"
   },
   {
    "duration": 2548,
    "start_time": "2023-04-28T18:31:51.100Z"
   },
   {
    "duration": 5,
    "start_time": "2023-04-28T18:31:57.026Z"
   },
   {
    "duration": 19,
    "start_time": "2023-04-28T18:31:59.804Z"
   },
   {
    "duration": 1103,
    "start_time": "2023-04-28T18:32:04.926Z"
   },
   {
    "duration": 4462,
    "start_time": "2023-04-28T18:32:21.524Z"
   },
   {
    "duration": 249,
    "start_time": "2023-04-28T18:32:28.752Z"
   },
   {
    "duration": 25,
    "start_time": "2023-04-28T18:32:33.117Z"
   },
   {
    "duration": 7,
    "start_time": "2023-04-28T18:33:14.042Z"
   },
   {
    "duration": 9,
    "start_time": "2023-04-28T18:33:15.813Z"
   },
   {
    "duration": 36,
    "start_time": "2023-04-28T18:33:17.180Z"
   },
   {
    "duration": 13,
    "start_time": "2023-04-28T18:33:21.555Z"
   },
   {
    "duration": 25,
    "start_time": "2023-04-28T18:33:23.230Z"
   },
   {
    "duration": 1239,
    "start_time": "2023-04-28T18:33:26.863Z"
   },
   {
    "duration": 247,
    "start_time": "2023-04-28T18:33:34.575Z"
   },
   {
    "duration": 22,
    "start_time": "2023-04-28T18:33:38.350Z"
   },
   {
    "duration": 77,
    "start_time": "2023-04-28T18:33:40.830Z"
   },
   {
    "duration": 76,
    "start_time": "2023-04-28T18:37:34.296Z"
   },
   {
    "duration": 98,
    "start_time": "2023-04-28T18:37:35.635Z"
   },
   {
    "duration": 77,
    "start_time": "2023-04-28T18:52:20.645Z"
   },
   {
    "duration": 89,
    "start_time": "2023-04-28T18:52:39.105Z"
   },
   {
    "duration": 82,
    "start_time": "2023-04-28T18:52:55.424Z"
   },
   {
    "duration": 4302,
    "start_time": "2023-04-28T18:55:38.652Z"
   },
   {
    "duration": 25,
    "start_time": "2023-04-28T18:56:19.158Z"
   },
   {
    "duration": 4211,
    "start_time": "2023-04-28T18:56:22.680Z"
   },
   {
    "duration": 101,
    "start_time": "2023-04-28T18:58:29.134Z"
   },
   {
    "duration": 4172,
    "start_time": "2023-04-28T19:00:19.575Z"
   },
   {
    "duration": 8,
    "start_time": "2023-04-28T19:01:24.176Z"
   },
   {
    "duration": 273530,
    "start_time": "2023-04-28T19:01:26.336Z"
   },
   {
    "duration": 234,
    "start_time": "2023-04-28T19:05:59.868Z"
   },
   {
    "duration": 19,
    "start_time": "2023-04-28T19:06:00.105Z"
   },
   {
    "duration": 235,
    "start_time": "2023-04-28T19:06:16.223Z"
   },
   {
    "duration": 19,
    "start_time": "2023-04-28T19:06:19.728Z"
   },
   {
    "duration": 4225,
    "start_time": "2023-04-28T19:06:21.856Z"
   },
   {
    "duration": 34,
    "start_time": "2023-04-28T19:06:58.845Z"
   },
   {
    "duration": 30,
    "start_time": "2023-04-28T19:07:02.338Z"
   },
   {
    "duration": 43,
    "start_time": "2023-04-28T19:07:06.060Z"
   },
   {
    "duration": 14,
    "start_time": "2023-04-28T19:07:08.857Z"
   },
   {
    "duration": 21,
    "start_time": "2023-04-28T19:07:11.403Z"
   },
   {
    "duration": 1277,
    "start_time": "2023-04-28T19:07:13.815Z"
   },
   {
    "duration": 238,
    "start_time": "2023-04-28T19:07:21.263Z"
   },
   {
    "duration": 17,
    "start_time": "2023-04-28T19:07:24.356Z"
   },
   {
    "duration": 4216,
    "start_time": "2023-04-28T19:07:30.869Z"
   },
   {
    "duration": 6,
    "start_time": "2023-04-28T19:07:58.623Z"
   },
   {
    "duration": 264596,
    "start_time": "2023-04-28T19:08:00.700Z"
   },
   {
    "duration": 222,
    "start_time": "2023-04-28T19:12:25.298Z"
   },
   {
    "duration": 5,
    "start_time": "2023-04-28T19:12:25.522Z"
   },
   {
    "duration": 27,
    "start_time": "2023-04-28T19:12:25.540Z"
   },
   {
    "duration": 360,
    "start_time": "2023-04-28T19:12:25.569Z"
   },
   {
    "duration": 0,
    "start_time": "2023-04-28T19:12:25.932Z"
   },
   {
    "duration": 0,
    "start_time": "2023-04-28T19:12:25.933Z"
   },
   {
    "duration": 0,
    "start_time": "2023-04-28T19:12:25.942Z"
   },
   {
    "duration": 337,
    "start_time": "2023-04-28T20:46:39.022Z"
   },
   {
    "duration": 337,
    "start_time": "2023-04-28T20:53:10.629Z"
   },
   {
    "duration": 2076,
    "start_time": "2023-04-28T20:54:58.726Z"
   },
   {
    "duration": 22,
    "start_time": "2023-04-28T21:17:23.634Z"
   },
   {
    "duration": 15,
    "start_time": "2023-04-28T21:18:50.973Z"
   },
   {
    "duration": 54,
    "start_time": "2023-04-28T21:19:07.120Z"
   },
   {
    "duration": 7415,
    "start_time": "2023-04-28T21:19:15.353Z"
   },
   {
    "duration": 0,
    "start_time": "2023-04-28T21:21:24.787Z"
   },
   {
    "duration": 2405,
    "start_time": "2023-04-28T21:21:26.656Z"
   },
   {
    "duration": 0,
    "start_time": "2023-04-28T21:23:22.594Z"
   },
   {
    "duration": 2441,
    "start_time": "2023-04-28T21:23:24.254Z"
   },
   {
    "duration": 1474,
    "start_time": "2023-04-28T21:23:36.922Z"
   },
   {
    "duration": 73,
    "start_time": "2023-04-28T21:23:38.398Z"
   },
   {
    "duration": 16,
    "start_time": "2023-04-28T21:23:38.473Z"
   },
   {
    "duration": 43,
    "start_time": "2023-04-28T21:23:38.491Z"
   },
   {
    "duration": 24,
    "start_time": "2023-04-28T21:23:38.536Z"
   },
   {
    "duration": 12,
    "start_time": "2023-04-28T21:23:38.563Z"
   },
   {
    "duration": 7,
    "start_time": "2023-04-28T21:23:38.576Z"
   },
   {
    "duration": 28,
    "start_time": "2023-04-28T21:23:38.584Z"
   },
   {
    "duration": 45,
    "start_time": "2023-04-28T21:23:38.614Z"
   },
   {
    "duration": 31,
    "start_time": "2023-04-28T21:23:38.662Z"
   },
   {
    "duration": 4,
    "start_time": "2023-04-28T21:23:38.695Z"
   },
   {
    "duration": 10,
    "start_time": "2023-04-28T21:23:38.701Z"
   },
   {
    "duration": 38,
    "start_time": "2023-04-28T21:23:38.713Z"
   },
   {
    "duration": 14,
    "start_time": "2023-04-28T21:23:38.753Z"
   },
   {
    "duration": 14,
    "start_time": "2023-04-28T21:23:38.769Z"
   },
   {
    "duration": 15,
    "start_time": "2023-04-28T21:23:38.786Z"
   },
   {
    "duration": 38,
    "start_time": "2023-04-28T21:23:38.804Z"
   },
   {
    "duration": 7,
    "start_time": "2023-04-28T21:23:38.845Z"
   },
   {
    "duration": 8,
    "start_time": "2023-04-28T21:23:38.854Z"
   },
   {
    "duration": 5,
    "start_time": "2023-04-28T21:23:38.864Z"
   },
   {
    "duration": 674725,
    "start_time": "2023-04-28T21:23:38.871Z"
   },
   {
    "duration": 1438,
    "start_time": "2023-04-28T21:34:53.598Z"
   },
   {
    "duration": 17,
    "start_time": "2023-04-28T21:34:55.039Z"
   },
   {
    "duration": 56,
    "start_time": "2023-04-28T21:34:55.059Z"
   },
   {
    "duration": 541,
    "start_time": "2023-04-28T21:34:55.117Z"
   },
   {
    "duration": 5115,
    "start_time": "2023-04-28T21:34:55.660Z"
   },
   {
    "duration": 2927,
    "start_time": "2023-04-28T21:35:00.777Z"
   },
   {
    "duration": 4,
    "start_time": "2023-04-28T21:35:03.708Z"
   },
   {
    "duration": 63,
    "start_time": "2023-04-28T21:35:03.714Z"
   },
   {
    "duration": 1331,
    "start_time": "2023-04-28T21:35:03.779Z"
   },
   {
    "duration": 5168,
    "start_time": "2023-04-28T21:35:05.112Z"
   },
   {
    "duration": 240,
    "start_time": "2023-04-28T21:35:10.282Z"
   },
   {
    "duration": 36,
    "start_time": "2023-04-28T21:35:10.525Z"
   },
   {
    "duration": 6,
    "start_time": "2023-04-28T21:35:10.563Z"
   },
   {
    "duration": 9,
    "start_time": "2023-04-28T21:35:10.571Z"
   },
   {
    "duration": 31,
    "start_time": "2023-04-28T21:35:10.583Z"
   },
   {
    "duration": 38,
    "start_time": "2023-04-28T21:35:10.617Z"
   },
   {
    "duration": 29,
    "start_time": "2023-04-28T21:35:10.657Z"
   },
   {
    "duration": 1392,
    "start_time": "2023-04-28T21:35:10.688Z"
   },
   {
    "duration": 251,
    "start_time": "2023-04-28T21:35:12.082Z"
   },
   {
    "duration": 22,
    "start_time": "2023-04-28T21:35:12.341Z"
   },
   {
    "duration": 4552,
    "start_time": "2023-04-28T21:35:12.365Z"
   },
   {
    "duration": 8,
    "start_time": "2023-04-28T21:35:16.919Z"
   },
   {
    "duration": 296594,
    "start_time": "2023-04-28T21:35:16.940Z"
   },
   {
    "duration": 239,
    "start_time": "2023-04-28T21:40:13.537Z"
   },
   {
    "duration": 5,
    "start_time": "2023-04-28T21:40:13.779Z"
   },
   {
    "duration": 29,
    "start_time": "2023-04-28T21:40:13.786Z"
   },
   {
    "duration": 2286,
    "start_time": "2023-04-28T21:40:13.817Z"
   },
   {
    "duration": 752203,
    "start_time": "2023-04-28T21:40:16.106Z"
   },
   {
    "duration": 0,
    "start_time": "2023-04-28T21:52:48.311Z"
   },
   {
    "duration": 0,
    "start_time": "2023-04-28T21:52:48.313Z"
   },
   {
    "duration": 23,
    "start_time": "2023-04-28T22:37:01.217Z"
   },
   {
    "duration": 2387,
    "start_time": "2023-04-28T22:37:06.101Z"
   },
   {
    "duration": 17,
    "start_time": "2023-04-28T22:38:13.276Z"
   },
   {
    "duration": 215,
    "start_time": "2023-04-28T22:38:20.229Z"
   },
   {
    "duration": 16,
    "start_time": "2023-04-28T22:38:22.823Z"
   },
   {
    "duration": 9,
    "start_time": "2023-04-28T22:52:09.125Z"
   },
   {
    "duration": 11,
    "start_time": "2023-04-28T22:52:10.775Z"
   },
   {
    "duration": 32,
    "start_time": "2023-04-28T22:52:13.763Z"
   },
   {
    "duration": 15,
    "start_time": "2023-04-28T22:52:16.976Z"
   },
   {
    "duration": 29,
    "start_time": "2023-04-28T22:52:18.090Z"
   },
   {
    "duration": 1346,
    "start_time": "2023-04-28T22:52:21.985Z"
   },
   {
    "duration": 255,
    "start_time": "2023-04-28T22:52:28.313Z"
   },
   {
    "duration": 18,
    "start_time": "2023-04-28T22:52:30.942Z"
   },
   {
    "duration": 22,
    "start_time": "2023-04-28T22:53:46.559Z"
   },
   {
    "duration": 4578,
    "start_time": "2023-04-28T22:53:56.605Z"
   },
   {
    "duration": 16,
    "start_time": "2023-04-28T23:22:24.788Z"
   },
   {
    "duration": 16,
    "start_time": "2023-04-28T23:35:22.569Z"
   },
   {
    "duration": 19,
    "start_time": "2023-04-28T23:48:05.760Z"
   },
   {
    "duration": 237,
    "start_time": "2023-04-28T23:51:22.805Z"
   },
   {
    "duration": 235,
    "start_time": "2023-04-28T23:51:54.557Z"
   },
   {
    "duration": 14,
    "start_time": "2023-04-28T23:51:57.901Z"
   },
   {
    "duration": 18,
    "start_time": "2023-04-29T04:15:27.212Z"
   },
   {
    "duration": 24,
    "start_time": "2023-04-29T04:18:10.439Z"
   },
   {
    "duration": 32,
    "start_time": "2023-04-29T04:18:11.336Z"
   },
   {
    "duration": 16,
    "start_time": "2023-04-29T04:18:49.169Z"
   },
   {
    "duration": 16,
    "start_time": "2023-04-29T04:19:43.015Z"
   },
   {
    "duration": 17,
    "start_time": "2023-04-29T04:19:43.167Z"
   },
   {
    "duration": 21,
    "start_time": "2023-04-29T04:20:00.614Z"
   },
   {
    "duration": 21,
    "start_time": "2023-04-29T04:20:59.855Z"
   },
   {
    "duration": 5396,
    "start_time": "2023-04-29T04:21:15.826Z"
   },
   {
    "duration": 245,
    "start_time": "2023-04-29T04:21:23.766Z"
   },
   {
    "duration": 407,
    "start_time": "2023-04-29T04:21:30.596Z"
   },
   {
    "duration": 17,
    "start_time": "2023-04-29T04:21:37.791Z"
   },
   {
    "duration": 1569,
    "start_time": "2023-04-29T04:21:50.092Z"
   },
   {
    "duration": 88,
    "start_time": "2023-04-29T04:21:51.667Z"
   },
   {
    "duration": 24,
    "start_time": "2023-04-29T04:21:51.757Z"
   },
   {
    "duration": 24,
    "start_time": "2023-04-29T04:21:51.785Z"
   },
   {
    "duration": 34,
    "start_time": "2023-04-29T04:21:51.811Z"
   },
   {
    "duration": 39,
    "start_time": "2023-04-29T04:21:51.855Z"
   },
   {
    "duration": 11,
    "start_time": "2023-04-29T04:21:51.896Z"
   },
   {
    "duration": 25,
    "start_time": "2023-04-29T04:21:51.909Z"
   },
   {
    "duration": 61,
    "start_time": "2023-04-29T04:21:51.936Z"
   },
   {
    "duration": 31,
    "start_time": "2023-04-29T04:21:52.000Z"
   },
   {
    "duration": 9,
    "start_time": "2023-04-29T04:21:52.033Z"
   },
   {
    "duration": 37,
    "start_time": "2023-04-29T04:21:52.046Z"
   },
   {
    "duration": 24,
    "start_time": "2023-04-29T04:21:52.085Z"
   },
   {
    "duration": 10,
    "start_time": "2023-04-29T04:21:52.111Z"
   },
   {
    "duration": 14,
    "start_time": "2023-04-29T04:21:52.123Z"
   },
   {
    "duration": 61,
    "start_time": "2023-04-29T04:21:52.139Z"
   },
   {
    "duration": 3,
    "start_time": "2023-04-29T04:21:52.202Z"
   },
   {
    "duration": 13,
    "start_time": "2023-04-29T04:21:52.207Z"
   },
   {
    "duration": 63,
    "start_time": "2023-04-29T04:21:52.222Z"
   },
   {
    "duration": 13,
    "start_time": "2023-04-29T04:21:52.288Z"
   },
   {
    "duration": 752878,
    "start_time": "2023-04-29T04:21:52.303Z"
   },
   {
    "duration": 1858,
    "start_time": "2023-04-29T04:34:25.183Z"
   },
   {
    "duration": 14,
    "start_time": "2023-04-29T04:34:27.052Z"
   },
   {
    "duration": 71,
    "start_time": "2023-04-29T04:34:27.068Z"
   },
   {
    "duration": 735,
    "start_time": "2023-04-29T04:34:27.141Z"
   },
   {
    "duration": 5660,
    "start_time": "2023-04-29T04:34:27.882Z"
   },
   {
    "duration": 3384,
    "start_time": "2023-04-29T04:34:33.547Z"
   },
   {
    "duration": 16,
    "start_time": "2023-04-29T04:34:36.935Z"
   },
   {
    "duration": 39,
    "start_time": "2023-04-29T04:34:36.961Z"
   },
   {
    "duration": 1114,
    "start_time": "2023-04-29T04:34:37.003Z"
   },
   {
    "duration": 5897,
    "start_time": "2023-04-29T04:34:38.119Z"
   },
   {
    "duration": 271,
    "start_time": "2023-04-29T04:34:44.019Z"
   },
   {
    "duration": 174,
    "start_time": "2023-04-29T04:34:44.292Z"
   },
   {
    "duration": 0,
    "start_time": "2023-04-29T04:34:44.475Z"
   },
   {
    "duration": 0,
    "start_time": "2023-04-29T04:34:44.477Z"
   },
   {
    "duration": 0,
    "start_time": "2023-04-29T04:34:44.479Z"
   },
   {
    "duration": 0,
    "start_time": "2023-04-29T04:34:44.481Z"
   },
   {
    "duration": 0,
    "start_time": "2023-04-29T04:34:44.483Z"
   },
   {
    "duration": 0,
    "start_time": "2023-04-29T04:34:44.484Z"
   },
   {
    "duration": 0,
    "start_time": "2023-04-29T04:34:44.485Z"
   },
   {
    "duration": 0,
    "start_time": "2023-04-29T04:34:44.487Z"
   },
   {
    "duration": 0,
    "start_time": "2023-04-29T04:34:44.488Z"
   },
   {
    "duration": 0,
    "start_time": "2023-04-29T04:34:44.490Z"
   },
   {
    "duration": 0,
    "start_time": "2023-04-29T04:34:44.491Z"
   },
   {
    "duration": 0,
    "start_time": "2023-04-29T04:34:44.493Z"
   },
   {
    "duration": 0,
    "start_time": "2023-04-29T04:34:44.495Z"
   },
   {
    "duration": 0,
    "start_time": "2023-04-29T04:34:44.497Z"
   },
   {
    "duration": 0,
    "start_time": "2023-04-29T04:34:44.498Z"
   },
   {
    "duration": 0,
    "start_time": "2023-04-29T04:34:44.500Z"
   },
   {
    "duration": 0,
    "start_time": "2023-04-29T04:34:44.501Z"
   },
   {
    "duration": 0,
    "start_time": "2023-04-29T04:34:44.503Z"
   },
   {
    "duration": 17,
    "start_time": "2023-04-29T10:28:32.506Z"
   },
   {
    "duration": 25,
    "start_time": "2023-04-29T10:29:13.271Z"
   },
   {
    "duration": 19,
    "start_time": "2023-04-29T10:29:17.296Z"
   },
   {
    "duration": 16,
    "start_time": "2023-04-29T10:29:31.822Z"
   },
   {
    "duration": 26,
    "start_time": "2023-04-29T10:29:56.831Z"
   },
   {
    "duration": 34,
    "start_time": "2023-04-29T10:32:32.648Z"
   },
   {
    "duration": 15,
    "start_time": "2023-04-29T10:32:37.401Z"
   },
   {
    "duration": 30,
    "start_time": "2023-04-29T10:32:48.239Z"
   },
   {
    "duration": 6,
    "start_time": "2023-04-29T10:35:44.985Z"
   },
   {
    "duration": 51,
    "start_time": "2023-04-29T10:35:52.678Z"
   },
   {
    "duration": 626,
    "start_time": "2023-04-29T10:36:06.089Z"
   },
   {
    "duration": 5264,
    "start_time": "2023-04-29T10:36:11.416Z"
   },
   {
    "duration": 3013,
    "start_time": "2023-04-29T10:36:19.610Z"
   },
   {
    "duration": 7,
    "start_time": "2023-04-29T10:36:25.235Z"
   },
   {
    "duration": 21,
    "start_time": "2023-04-29T10:36:31.260Z"
   },
   {
    "duration": 51,
    "start_time": "2023-04-29T10:38:44.359Z"
   },
   {
    "duration": 546,
    "start_time": "2023-04-29T10:39:22.776Z"
   },
   {
    "duration": 5355,
    "start_time": "2023-04-29T10:39:26.452Z"
   },
   {
    "duration": 3194,
    "start_time": "2023-04-29T10:39:45.483Z"
   },
   {
    "duration": 1052,
    "start_time": "2023-04-29T10:46:08.361Z"
   },
   {
    "duration": 7,
    "start_time": "2023-04-29T10:47:56.082Z"
   },
   {
    "duration": 74,
    "start_time": "2023-04-29T10:48:14.698Z"
   },
   {
    "duration": 589,
    "start_time": "2023-04-29T10:48:23.760Z"
   },
   {
    "duration": 1052,
    "start_time": "2023-04-29T10:48:31.734Z"
   },
   {
    "duration": 1022,
    "start_time": "2023-04-29T10:50:02.177Z"
   },
   {
    "duration": 7,
    "start_time": "2023-04-29T10:53:51.701Z"
   },
   {
    "duration": 54,
    "start_time": "2023-04-29T10:53:54.877Z"
   },
   {
    "duration": 613,
    "start_time": "2023-04-29T10:54:19.071Z"
   },
   {
    "duration": 1166,
    "start_time": "2023-04-29T10:54:25.384Z"
   },
   {
    "duration": 7,
    "start_time": "2023-04-29T10:55:32.798Z"
   },
   {
    "duration": 62,
    "start_time": "2023-04-29T10:55:35.803Z"
   },
   {
    "duration": 624,
    "start_time": "2023-04-29T10:55:42.114Z"
   },
   {
    "duration": 2361,
    "start_time": "2023-04-29T10:55:47.969Z"
   },
   {
    "duration": 3317,
    "start_time": "2023-04-29T10:55:55.759Z"
   },
   {
    "duration": 5,
    "start_time": "2023-04-29T10:56:03.926Z"
   },
   {
    "duration": 23,
    "start_time": "2023-04-29T10:56:23.207Z"
   },
   {
    "duration": 7,
    "start_time": "2023-04-29T10:58:02.730Z"
   },
   {
    "duration": 64,
    "start_time": "2023-04-29T10:58:06.488Z"
   },
   {
    "duration": 538,
    "start_time": "2023-04-29T10:58:31.685Z"
   },
   {
    "duration": 2127,
    "start_time": "2023-04-29T10:58:38.681Z"
   },
   {
    "duration": 2153,
    "start_time": "2023-04-29T10:59:16.960Z"
   },
   {
    "duration": 2142,
    "start_time": "2023-04-29T10:59:36.868Z"
   },
   {
    "duration": 3252,
    "start_time": "2023-04-29T10:59:40.295Z"
   },
   {
    "duration": 3316,
    "start_time": "2023-04-29T11:01:40.404Z"
   },
   {
    "duration": 2230,
    "start_time": "2023-04-29T11:09:57.190Z"
   },
   {
    "duration": 281,
    "start_time": "2023-04-29T11:10:01.058Z"
   },
   {
    "duration": 8,
    "start_time": "2023-04-29T11:10:11.076Z"
   },
   {
    "duration": 3302,
    "start_time": "2023-04-29T11:10:25.486Z"
   },
   {
    "duration": 5,
    "start_time": "2023-04-29T11:10:32.832Z"
   },
   {
    "duration": 1260,
    "start_time": "2023-04-29T11:12:57.561Z"
   },
   {
    "duration": 1603,
    "start_time": "2023-04-29T11:13:02.669Z"
   },
   {
    "duration": 6,
    "start_time": "2023-04-29T11:13:10.112Z"
   },
   {
    "duration": 26,
    "start_time": "2023-04-29T11:13:20.763Z"
   },
   {
    "duration": 28,
    "start_time": "2023-04-29T11:13:53.832Z"
   },
   {
    "duration": 47,
    "start_time": "2023-04-29T11:14:43.302Z"
   },
   {
    "duration": 1721,
    "start_time": "2023-04-29T11:16:53.479Z"
   },
   {
    "duration": 1204,
    "start_time": "2023-04-29T11:17:55.968Z"
   },
   {
    "duration": 2346,
    "start_time": "2023-04-29T11:18:21.656Z"
   },
   {
    "duration": 324,
    "start_time": "2023-04-29T11:18:37.078Z"
   },
   {
    "duration": 19,
    "start_time": "2023-04-29T11:18:50.820Z"
   },
   {
    "duration": 273,
    "start_time": "2023-04-29T11:19:29.910Z"
   },
   {
    "duration": 29,
    "start_time": "2023-04-29T11:19:36.346Z"
   },
   {
    "duration": 27,
    "start_time": "2023-04-29T11:19:50.064Z"
   },
   {
    "duration": 16,
    "start_time": "2023-04-29T11:20:14.319Z"
   },
   {
    "duration": 2435,
    "start_time": "2023-04-29T11:23:00.896Z"
   },
   {
    "duration": 3545,
    "start_time": "2023-04-29T11:23:07.954Z"
   },
   {
    "duration": 5,
    "start_time": "2023-04-29T11:23:22.710Z"
   },
   {
    "duration": 1968,
    "start_time": "2023-04-29T11:27:24.089Z"
   },
   {
    "duration": 5,
    "start_time": "2023-04-29T11:27:45.605Z"
   },
   {
    "duration": 83,
    "start_time": "2023-04-29T11:27:48.036Z"
   },
   {
    "duration": 8187,
    "start_time": "2023-04-29T11:28:24.202Z"
   },
   {
    "duration": 8,
    "start_time": "2023-04-29T11:28:35.961Z"
   },
   {
    "duration": 2625,
    "start_time": "2023-04-29T11:28:45.011Z"
   },
   {
    "duration": 7800,
    "start_time": "2023-04-29T11:28:49.518Z"
   },
   {
    "duration": 18,
    "start_time": "2023-04-29T11:29:00.892Z"
   },
   {
    "duration": 6570,
    "start_time": "2023-04-29T12:58:49.610Z"
   },
   {
    "duration": 2168,
    "start_time": "2023-04-29T12:58:56.592Z"
   },
   {
    "duration": 6555,
    "start_time": "2023-04-29T12:59:06.118Z"
   },
   {
    "duration": 7,
    "start_time": "2023-04-29T12:59:12.676Z"
   },
   {
    "duration": 6415,
    "start_time": "2023-04-29T13:00:23.608Z"
   },
   {
    "duration": 5,
    "start_time": "2023-04-29T13:00:32.777Z"
   },
   {
    "duration": 28,
    "start_time": "2023-04-29T13:00:36.718Z"
   },
   {
    "duration": 16,
    "start_time": "2023-04-29T13:00:46.599Z"
   },
   {
    "duration": 1618,
    "start_time": "2023-04-29T13:00:54.409Z"
   },
   {
    "duration": 2164,
    "start_time": "2023-04-29T13:01:09.903Z"
   },
   {
    "duration": 242,
    "start_time": "2023-04-29T13:01:13.572Z"
   },
   {
    "duration": 22,
    "start_time": "2023-04-29T13:01:17.138Z"
   },
   {
    "duration": 1228,
    "start_time": "2023-04-29T13:02:51.333Z"
   },
   {
    "duration": 906,
    "start_time": "2023-04-29T13:02:54.756Z"
   },
   {
    "duration": 6,
    "start_time": "2023-04-29T13:02:59.709Z"
   },
   {
    "duration": 25,
    "start_time": "2023-04-29T13:03:04.887Z"
   },
   {
    "duration": 36,
    "start_time": "2023-04-29T13:03:20.538Z"
   },
   {
    "duration": 22,
    "start_time": "2023-04-29T13:03:24.810Z"
   },
   {
    "duration": 21,
    "start_time": "2023-04-29T13:06:26.894Z"
   },
   {
    "duration": 36,
    "start_time": "2023-04-29T13:07:09.924Z"
   },
   {
    "duration": 16,
    "start_time": "2023-04-29T13:10:01.300Z"
   },
   {
    "duration": 18,
    "start_time": "2023-04-29T13:11:45.201Z"
   },
   {
    "duration": 23,
    "start_time": "2023-04-29T13:12:46.180Z"
   },
   {
    "duration": 17,
    "start_time": "2023-04-29T13:13:07.614Z"
   },
   {
    "duration": 26,
    "start_time": "2023-04-29T13:14:40.145Z"
   },
   {
    "duration": 7,
    "start_time": "2023-04-29T13:15:06.864Z"
   },
   {
    "duration": 184,
    "start_time": "2023-04-29T13:15:09.006Z"
   },
   {
    "duration": 638,
    "start_time": "2023-04-29T13:15:15.973Z"
   },
   {
    "duration": 1279,
    "start_time": "2023-04-29T13:15:19.724Z"
   },
   {
    "duration": 958,
    "start_time": "2023-04-29T13:15:23.008Z"
   },
   {
    "duration": 6,
    "start_time": "2023-04-29T13:15:25.798Z"
   },
   {
    "duration": 16,
    "start_time": "2023-04-29T13:15:27.580Z"
   },
   {
    "duration": 28,
    "start_time": "2023-04-29T13:15:38.003Z"
   },
   {
    "duration": 20,
    "start_time": "2023-04-29T13:15:48.099Z"
   },
   {
    "duration": 1657,
    "start_time": "2023-04-29T13:15:50.043Z"
   },
   {
    "duration": 2236,
    "start_time": "2023-04-29T13:15:59.524Z"
   },
   {
    "duration": 256,
    "start_time": "2023-04-29T13:16:03.493Z"
   },
   {
    "duration": 23,
    "start_time": "2023-04-29T13:16:15.026Z"
   },
   {
    "duration": 10,
    "start_time": "2023-04-29T13:16:29.134Z"
   },
   {
    "duration": 12,
    "start_time": "2023-04-29T13:16:30.726Z"
   },
   {
    "duration": 38,
    "start_time": "2023-04-29T13:16:31.833Z"
   },
   {
    "duration": 23,
    "start_time": "2023-04-29T13:16:33.341Z"
   },
   {
    "duration": 23,
    "start_time": "2023-04-29T13:16:34.471Z"
   },
   {
    "duration": 1426,
    "start_time": "2023-04-29T13:16:38.425Z"
   },
   {
    "duration": 249,
    "start_time": "2023-04-29T13:16:43.278Z"
   },
   {
    "duration": 26,
    "start_time": "2023-04-29T13:16:45.062Z"
   },
   {
    "duration": 14,
    "start_time": "2023-04-29T13:18:18.968Z"
   },
   {
    "duration": 15,
    "start_time": "2023-04-29T13:19:08.308Z"
   },
   {
    "duration": 1645,
    "start_time": "2023-04-29T13:19:22.835Z"
   },
   {
    "duration": 2175,
    "start_time": "2023-04-29T13:19:53.549Z"
   },
   {
    "duration": 6479,
    "start_time": "2023-04-29T13:19:58.113Z"
   },
   {
    "duration": 7,
    "start_time": "2023-04-29T13:20:07.785Z"
   },
   {
    "duration": 16,
    "start_time": "2023-04-29T13:20:12.782Z"
   },
   {
    "duration": 6,
    "start_time": "2023-04-29T13:20:36.416Z"
   },
   {
    "duration": 52,
    "start_time": "2023-04-29T13:20:37.579Z"
   },
   {
    "duration": 642,
    "start_time": "2023-04-29T13:20:40.807Z"
   },
   {
    "duration": 2178,
    "start_time": "2023-04-29T13:20:43.239Z"
   },
   {
    "duration": 6483,
    "start_time": "2023-04-29T13:20:46.118Z"
   },
   {
    "duration": 6,
    "start_time": "2023-04-29T13:20:55.922Z"
   },
   {
    "duration": 23,
    "start_time": "2023-04-29T13:20:57.028Z"
   },
   {
    "duration": 1611,
    "start_time": "2023-04-29T13:21:08.810Z"
   },
   {
    "duration": 2149,
    "start_time": "2023-04-29T13:21:18.582Z"
   },
   {
    "duration": 250,
    "start_time": "2023-04-29T13:21:24.006Z"
   },
   {
    "duration": 21,
    "start_time": "2023-04-29T13:21:28.208Z"
   },
   {
    "duration": 31,
    "start_time": "2023-04-29T13:21:59.639Z"
   },
   {
    "duration": 8,
    "start_time": "2023-04-29T13:22:26.006Z"
   },
   {
    "duration": 12,
    "start_time": "2023-04-29T13:22:27.216Z"
   },
   {
    "duration": 41,
    "start_time": "2023-04-29T13:22:29.124Z"
   },
   {
    "duration": 13,
    "start_time": "2023-04-29T13:22:31.583Z"
   },
   {
    "duration": 1558,
    "start_time": "2023-04-29T13:22:33.567Z"
   },
   {
    "duration": 262,
    "start_time": "2023-04-29T13:22:38.380Z"
   },
   {
    "duration": 24,
    "start_time": "2023-04-29T13:22:43.184Z"
   },
   {
    "duration": 1555,
    "start_time": "2023-04-29T13:22:47.181Z"
   },
   {
    "duration": 12,
    "start_time": "2023-04-29T13:23:52.966Z"
   },
   {
    "duration": 102,
    "start_time": "2023-04-29T13:23:56.162Z"
   },
   {
    "duration": 16,
    "start_time": "2023-04-29T13:23:58.816Z"
   },
   {
    "duration": 15,
    "start_time": "2023-04-29T13:24:03.621Z"
   },
   {
    "duration": 33,
    "start_time": "2023-04-29T13:24:05.536Z"
   },
   {
    "duration": 23,
    "start_time": "2023-04-29T13:24:08.238Z"
   },
   {
    "duration": 5,
    "start_time": "2023-04-29T13:24:11.928Z"
   },
   {
    "duration": 20,
    "start_time": "2023-04-29T13:24:14.233Z"
   },
   {
    "duration": 22,
    "start_time": "2023-04-29T13:24:17.486Z"
   },
   {
    "duration": 31,
    "start_time": "2023-04-29T13:24:22.383Z"
   },
   {
    "duration": 6,
    "start_time": "2023-04-29T13:24:41.780Z"
   },
   {
    "duration": 8,
    "start_time": "2023-04-29T13:24:44.229Z"
   },
   {
    "duration": 17,
    "start_time": "2023-04-29T13:24:46.183Z"
   },
   {
    "duration": 9,
    "start_time": "2023-04-29T13:24:51.819Z"
   },
   {
    "duration": 15,
    "start_time": "2023-04-29T13:24:56.824Z"
   },
   {
    "duration": 5,
    "start_time": "2023-04-29T13:25:02.082Z"
   },
   {
    "duration": 4,
    "start_time": "2023-04-29T13:25:03.810Z"
   },
   {
    "duration": 7,
    "start_time": "2023-04-29T13:25:10.764Z"
   },
   {
    "duration": 8,
    "start_time": "2023-04-29T13:25:13.057Z"
   },
   {
    "duration": 761698,
    "start_time": "2023-04-29T13:25:16.187Z"
   },
   {
    "duration": 1758,
    "start_time": "2023-04-29T13:45:56.230Z"
   },
   {
    "duration": 8,
    "start_time": "2023-04-29T13:46:04.965Z"
   },
   {
    "duration": 72,
    "start_time": "2023-04-29T13:46:07.726Z"
   },
   {
    "duration": 706,
    "start_time": "2023-04-29T13:46:13.126Z"
   },
   {
    "duration": 2337,
    "start_time": "2023-04-29T13:46:21.969Z"
   },
   {
    "duration": 6809,
    "start_time": "2023-04-29T13:46:26.800Z"
   },
   {
    "duration": 10,
    "start_time": "2023-04-29T13:46:36.383Z"
   },
   {
    "duration": 29,
    "start_time": "2023-04-29T13:46:39.649Z"
   },
   {
    "duration": 1785,
    "start_time": "2023-04-29T13:46:47.489Z"
   },
   {
    "duration": 2491,
    "start_time": "2023-04-29T13:46:52.682Z"
   },
   {
    "duration": 296,
    "start_time": "2023-04-29T13:46:57.267Z"
   },
   {
    "duration": 38,
    "start_time": "2023-04-29T13:47:00.535Z"
   },
   {
    "duration": 20,
    "start_time": "2023-04-29T13:47:09.168Z"
   },
   {
    "duration": 10,
    "start_time": "2023-04-29T13:47:11.131Z"
   },
   {
    "duration": 29,
    "start_time": "2023-04-29T13:47:13.783Z"
   },
   {
    "duration": 27,
    "start_time": "2023-04-29T13:47:16.883Z"
   },
   {
    "duration": 42,
    "start_time": "2023-04-29T13:47:19.381Z"
   },
   {
    "duration": 1970,
    "start_time": "2023-04-29T13:47:23.083Z"
   },
   {
    "duration": 317,
    "start_time": "2023-04-29T13:47:28.158Z"
   },
   {
    "duration": 40,
    "start_time": "2023-04-29T13:47:30.922Z"
   },
   {
    "duration": 1814,
    "start_time": "2023-04-29T13:47:34.987Z"
   },
   {
    "duration": 20,
    "start_time": "2023-04-29T13:47:50.823Z"
   },
   {
    "duration": 9,
    "start_time": "2023-04-29T13:47:58.118Z"
   },
   {
    "duration": 400452,
    "start_time": "2023-04-29T13:48:00.106Z"
   },
   {
    "duration": 326,
    "start_time": "2023-04-29T14:08:45.754Z"
   },
   {
    "duration": 20,
    "start_time": "2023-04-29T14:08:47.932Z"
   },
   {
    "duration": 45,
    "start_time": "2023-04-29T14:08:49.216Z"
   },
   {
    "duration": 710,
    "start_time": "2023-04-29T14:08:53.055Z"
   },
   {
    "duration": 2929,
    "start_time": "2023-04-29T14:10:25.039Z"
   },
   {
    "duration": 2859,
    "start_time": "2023-04-29T15:11:02.641Z"
   },
   {
    "duration": 477,
    "start_time": "2023-04-29T15:11:07.321Z"
   },
   {
    "duration": 0,
    "start_time": "2023-04-29T15:28:34.217Z"
   },
   {
    "duration": 0,
    "start_time": "2023-04-29T15:28:34.218Z"
   },
   {
    "duration": 12,
    "start_time": "2023-04-29T15:28:36.770Z"
   },
   {
    "duration": 20,
    "start_time": "2023-04-29T15:28:38.088Z"
   },
   {
    "duration": 4,
    "start_time": "2023-04-29T15:28:42.529Z"
   },
   {
    "duration": 9,
    "start_time": "2023-04-29T15:28:47.768Z"
   },
   {
    "duration": 2063,
    "start_time": "2023-04-29T15:28:53.681Z"
   },
   {
    "duration": 6,
    "start_time": "2023-04-29T15:29:33.626Z"
   },
   {
    "duration": 8,
    "start_time": "2023-04-29T15:34:58.142Z"
   },
   {
    "duration": 16,
    "start_time": "2023-04-29T15:35:58.667Z"
   },
   {
    "duration": 95,
    "start_time": "2023-04-29T15:36:15.532Z"
   },
   {
    "duration": 6,
    "start_time": "2023-04-29T15:41:58.408Z"
   },
   {
    "duration": 97,
    "start_time": "2023-04-29T15:42:16.091Z"
   },
   {
    "duration": 819,
    "start_time": "2023-04-29T15:44:40.458Z"
   },
   {
    "duration": 2899,
    "start_time": "2023-04-29T15:46:25.724Z"
   },
   {
    "duration": 15,
    "start_time": "2023-04-29T15:49:30.783Z"
   },
   {
    "duration": 73,
    "start_time": "2023-04-29T15:49:34.863Z"
   },
   {
    "duration": 866,
    "start_time": "2023-04-29T15:49:43.022Z"
   },
   {
    "duration": 2615,
    "start_time": "2023-04-29T15:49:49.162Z"
   },
   {
    "duration": 8423,
    "start_time": "2023-04-29T15:50:08.513Z"
   },
   {
    "duration": 17,
    "start_time": "2023-04-29T15:50:21.330Z"
   },
   {
    "duration": 35,
    "start_time": "2023-04-29T15:50:31.325Z"
   },
   {
    "duration": 24,
    "start_time": "2023-04-29T15:55:58.160Z"
   },
   {
    "duration": 83,
    "start_time": "2023-04-29T15:56:00.134Z"
   },
   {
    "duration": 918,
    "start_time": "2023-04-29T15:56:12.375Z"
   },
   {
    "duration": 1550,
    "start_time": "2023-04-29T16:27:42.321Z"
   },
   {
    "duration": 1212,
    "start_time": "2023-04-29T16:27:50.621Z"
   },
   {
    "duration": 15,
    "start_time": "2023-04-29T16:27:56.774Z"
   },
   {
    "duration": 36,
    "start_time": "2023-04-29T16:28:24.067Z"
   },
   {
    "duration": 2446,
    "start_time": "2023-04-29T16:28:42.535Z"
   },
   {
    "duration": 2685,
    "start_time": "2023-04-29T16:30:28.576Z"
   },
   {
    "duration": 330,
    "start_time": "2023-04-29T16:30:41.027Z"
   },
   {
    "duration": 67,
    "start_time": "2023-04-29T16:31:19.946Z"
   },
   {
    "duration": 23,
    "start_time": "2023-04-29T16:31:33.136Z"
   },
   {
    "duration": 10,
    "start_time": "2023-04-29T16:31:35.025Z"
   },
   {
    "duration": 52,
    "start_time": "2023-04-29T16:31:38.113Z"
   },
   {
    "duration": 35,
    "start_time": "2023-04-29T16:31:41.438Z"
   },
   {
    "duration": 58,
    "start_time": "2023-04-29T16:31:44.127Z"
   },
   {
    "duration": 1917,
    "start_time": "2023-04-29T16:31:49.670Z"
   },
   {
    "duration": 375,
    "start_time": "2023-04-29T16:31:58.314Z"
   },
   {
    "duration": 2039,
    "start_time": "2023-04-29T16:32:11.675Z"
   },
   {
    "duration": 88,
    "start_time": "2023-04-29T16:32:57.221Z"
   },
   {
    "duration": 9,
    "start_time": "2023-04-29T16:33:30.914Z"
   },
   {
    "duration": 438179,
    "start_time": "2023-04-29T16:33:32.275Z"
   },
   {
    "duration": 345,
    "start_time": "2023-04-29T16:44:43.163Z"
   },
   {
    "duration": 17,
    "start_time": "2023-04-29T16:44:48.661Z"
   },
   {
    "duration": 50,
    "start_time": "2023-04-29T16:44:51.395Z"
   },
   {
    "duration": 2862,
    "start_time": "2023-04-29T16:45:03.570Z"
   },
   {
    "duration": 52,
    "start_time": "2023-04-29T16:45:42.471Z"
   },
   {
    "duration": 117690,
    "start_time": "2023-04-29T16:47:22.732Z"
   },
   {
    "duration": 29,
    "start_time": "2023-04-29T16:50:12.889Z"
   },
   {
    "duration": 71474,
    "start_time": "2023-04-29T16:50:16.995Z"
   },
   {
    "duration": 31,
    "start_time": "2023-04-29T16:51:32.154Z"
   },
   {
    "duration": 1158922,
    "start_time": "2023-04-29T16:52:08.667Z"
   },
   {
    "duration": 1862,
    "start_time": "2023-04-29T17:15:17.215Z"
   },
   {
    "duration": 0,
    "start_time": "2023-04-29T17:29:08.381Z"
   },
   {
    "duration": 0,
    "start_time": "2023-04-29T17:29:08.383Z"
   },
   {
    "duration": 483,
    "start_time": "2023-04-29T17:29:10.376Z"
   },
   {
    "duration": 18,
    "start_time": "2023-04-29T17:29:12.983Z"
   },
   {
    "duration": 9,
    "start_time": "2023-04-29T17:31:21.501Z"
   },
   {
    "duration": 5,
    "start_time": "2023-04-29T17:31:58.913Z"
   },
   {
    "duration": 473,
    "start_time": "2023-04-29T17:32:17.799Z"
   },
   {
    "duration": 2221426,
    "start_time": "2023-04-29T17:32:26.375Z"
   },
   {
    "duration": 1455,
    "start_time": "2023-04-29T18:15:58.219Z"
   },
   {
    "duration": 1392,
    "start_time": "2023-04-29T18:17:23.209Z"
   },
   {
    "duration": 2526,
    "start_time": "2023-04-29T18:23:32.262Z"
   },
   {
    "duration": 336,
    "start_time": "2023-04-29T18:23:46.363Z"
   },
   {
    "duration": 2357,
    "start_time": "2023-04-29T18:24:52.293Z"
   },
   {
    "duration": 255,
    "start_time": "2023-04-29T18:25:09.261Z"
   }
  ],
  "kernelspec": {
   "display_name": "Python 3 (ipykernel)",
   "language": "python",
   "name": "python3"
  },
  "language_info": {
   "codemirror_mode": {
    "name": "ipython",
    "version": 3
   },
   "file_extension": ".py",
   "mimetype": "text/x-python",
   "name": "python",
   "nbconvert_exporter": "python",
   "pygments_lexer": "ipython3",
   "version": "3.9.13"
  },
  "toc": {
   "base_numbering": 1,
   "nav_menu": {},
   "number_sections": true,
   "sideBar": true,
   "skip_h1_title": true,
   "title_cell": "Содержание",
   "title_sidebar": "Contents",
   "toc_cell": true,
   "toc_position": {
    "height": "calc(100% - 180px)",
    "left": "10px",
    "top": "150px",
    "width": "379px"
   },
   "toc_section_display": true,
   "toc_window_display": true
  }
 },
 "nbformat": 4,
 "nbformat_minor": 2
}
