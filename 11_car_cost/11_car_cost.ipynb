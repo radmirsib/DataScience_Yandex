{
 "cells": [
  {
   "cell_type": "markdown",
   "metadata": {},
   "source": [
    "# Определение стоимости автомобилей"
   ]
  },
  {
   "cell_type": "markdown",
   "metadata": {},
   "source": [
    "Сервис по продаже автомобилей с пробегом «Не бит, не крашен» разрабатывает приложение для привлечения новых клиентов. В нём можно быстро узнать рыночную стоимость своего автомобиля. В вашем распоряжении исторические данные: технические характеристики, комплектации и цены автомобилей. Вам нужно построить модель для определения стоимости. \n",
    "\n",
    "Заказчику важны:\n",
    "\n",
    "- качество предсказания;\n",
    "- скорость предсказания;\n",
    "- время обучения."
   ]
  },
  {
   "cell_type": "markdown",
   "metadata": {},
   "source": [
    "## Подготовка данных"
   ]
  },
  {
   "cell_type": "code",
   "execution_count": 1,
   "metadata": {},
   "outputs": [
    {
     "name": "stdout",
     "output_type": "stream",
     "text": [
      "Requirement already satisfied: lightgbm in d:\\programs\\anaconda3\\lib\\site-packages (3.3.5)\n",
      "Requirement already satisfied: scipy in d:\\programs\\anaconda3\\lib\\site-packages (from lightgbm) (1.9.1)\n",
      "Requirement already satisfied: scikit-learn!=0.22.0 in d:\\programs\\anaconda3\\lib\\site-packages (from lightgbm) (1.0.2)\n",
      "Requirement already satisfied: wheel in d:\\programs\\anaconda3\\lib\\site-packages (from lightgbm) (0.37.1)\n",
      "Requirement already satisfied: numpy in d:\\programs\\anaconda3\\lib\\site-packages (from lightgbm) (1.21.5)\n",
      "Requirement already satisfied: threadpoolctl>=2.0.0 in d:\\programs\\anaconda3\\lib\\site-packages (from scikit-learn!=0.22.0->lightgbm) (2.2.0)\n",
      "Requirement already satisfied: joblib>=0.11 in d:\\programs\\anaconda3\\lib\\site-packages (from scikit-learn!=0.22.0->lightgbm) (1.1.0)\n",
      "Note: you may need to restart the kernel to use updated packages.\n"
     ]
    }
   ],
   "source": [
    "pip install lightgbm"
   ]
  },
  {
   "cell_type": "code",
   "execution_count": 2,
   "metadata": {},
   "outputs": [
    {
     "name": "stdout",
     "output_type": "stream",
     "text": [
      "Requirement already satisfied: catboost in d:\\programs\\anaconda3\\lib\\site-packages (1.2)Note: you may need to restart the kernel to use updated packages.\n",
      "\n",
      "Requirement already satisfied: pandas>=0.24 in d:\\programs\\anaconda3\\lib\\site-packages (from catboost) (1.4.4)\n",
      "Requirement already satisfied: matplotlib in d:\\programs\\anaconda3\\lib\\site-packages (from catboost) (3.5.2)\n",
      "Requirement already satisfied: scipy in d:\\programs\\anaconda3\\lib\\site-packages (from catboost) (1.9.1)\n",
      "Requirement already satisfied: six in d:\\programs\\anaconda3\\lib\\site-packages (from catboost) (1.16.0)\n",
      "Requirement already satisfied: graphviz in d:\\programs\\anaconda3\\lib\\site-packages (from catboost) (0.20.1)\n",
      "Requirement already satisfied: plotly in d:\\programs\\anaconda3\\lib\\site-packages (from catboost) (5.9.0)\n",
      "Requirement already satisfied: numpy>=1.16.0 in d:\\programs\\anaconda3\\lib\\site-packages (from catboost) (1.21.5)\n",
      "Requirement already satisfied: pytz>=2020.1 in d:\\programs\\anaconda3\\lib\\site-packages (from pandas>=0.24->catboost) (2022.1)\n",
      "Requirement already satisfied: python-dateutil>=2.8.1 in d:\\programs\\anaconda3\\lib\\site-packages (from pandas>=0.24->catboost) (2.8.2)\n",
      "Requirement already satisfied: cycler>=0.10 in d:\\programs\\anaconda3\\lib\\site-packages (from matplotlib->catboost) (0.11.0)\n",
      "Requirement already satisfied: fonttools>=4.22.0 in d:\\programs\\anaconda3\\lib\\site-packages (from matplotlib->catboost) (4.25.0)\n",
      "Requirement already satisfied: packaging>=20.0 in d:\\programs\\anaconda3\\lib\\site-packages (from matplotlib->catboost) (21.3)\n",
      "Requirement already satisfied: pyparsing>=2.2.1 in d:\\programs\\anaconda3\\lib\\site-packages (from matplotlib->catboost) (3.0.9)\n",
      "Requirement already satisfied: pillow>=6.2.0 in d:\\programs\\anaconda3\\lib\\site-packages (from matplotlib->catboost) (9.2.0)\n",
      "Requirement already satisfied: kiwisolver>=1.0.1 in d:\\programs\\anaconda3\\lib\\site-packages (from matplotlib->catboost) (1.4.2)\n",
      "Requirement already satisfied: tenacity>=6.2.0 in d:\\programs\\anaconda3\\lib\\site-packages (from plotly->catboost) (8.0.1)\n"
     ]
    }
   ],
   "source": [
    "pip install catboost"
   ]
  },
  {
   "cell_type": "code",
   "execution_count": 3,
   "metadata": {},
   "outputs": [],
   "source": [
    "# Загрузим все необходимые библиотеки\n",
    "\n",
    "import pandas as pd\n",
    "import matplotlib.pyplot as plt \n",
    "plt.style.use('seaborn-pastel')\n",
    "import seaborn as sns \n",
    "import numpy as np\n",
    "import lightgbm as lgb\n",
    "import lightgbm as lgm\n",
    "import warnings\n",
    "import copy\n",
    "import time\n",
    "\n",
    "from scipy.stats import norm\n",
    "from sklearn.model_selection import KFold\n",
    "from sklearn.model_selection import GridSearchCV\n",
    "from sklearn.model_selection import train_test_split\n",
    "from catboost import CatBoostRegressor\n",
    "from sklearn.metrics import mean_squared_error\n",
    "from sklearn.base import BaseEstimator\n",
    "\n",
    "from time import time\n",
    "from tqdm import tqdm\n",
    "\n",
    "pd.options.display.max_columns = None # полностью отображаем столбцы"
   ]
  },
  {
   "cell_type": "code",
   "execution_count": 4,
   "metadata": {},
   "outputs": [
    {
     "data": {
      "text/html": [
       "<div>\n",
       "<style scoped>\n",
       "    .dataframe tbody tr th:only-of-type {\n",
       "        vertical-align: middle;\n",
       "    }\n",
       "\n",
       "    .dataframe tbody tr th {\n",
       "        vertical-align: top;\n",
       "    }\n",
       "\n",
       "    .dataframe thead th {\n",
       "        text-align: right;\n",
       "    }\n",
       "</style>\n",
       "<table border=\"1\" class=\"dataframe\">\n",
       "  <thead>\n",
       "    <tr style=\"text-align: right;\">\n",
       "      <th></th>\n",
       "      <th>DateCrawled</th>\n",
       "      <th>Price</th>\n",
       "      <th>VehicleType</th>\n",
       "      <th>RegistrationYear</th>\n",
       "      <th>Gearbox</th>\n",
       "      <th>Power</th>\n",
       "      <th>Model</th>\n",
       "      <th>Kilometer</th>\n",
       "      <th>RegistrationMonth</th>\n",
       "      <th>FuelType</th>\n",
       "      <th>Brand</th>\n",
       "      <th>Repaired</th>\n",
       "      <th>DateCreated</th>\n",
       "      <th>NumberOfPictures</th>\n",
       "      <th>PostalCode</th>\n",
       "      <th>LastSeen</th>\n",
       "    </tr>\n",
       "  </thead>\n",
       "  <tbody>\n",
       "    <tr>\n",
       "      <th>0</th>\n",
       "      <td>2016-03-24 11:52:17</td>\n",
       "      <td>480</td>\n",
       "      <td>NaN</td>\n",
       "      <td>1993</td>\n",
       "      <td>manual</td>\n",
       "      <td>0</td>\n",
       "      <td>golf</td>\n",
       "      <td>150000</td>\n",
       "      <td>0</td>\n",
       "      <td>petrol</td>\n",
       "      <td>volkswagen</td>\n",
       "      <td>NaN</td>\n",
       "      <td>2016-03-24 00:00:00</td>\n",
       "      <td>0</td>\n",
       "      <td>70435</td>\n",
       "      <td>2016-04-07 03:16:57</td>\n",
       "    </tr>\n",
       "    <tr>\n",
       "      <th>1</th>\n",
       "      <td>2016-03-24 10:58:45</td>\n",
       "      <td>18300</td>\n",
       "      <td>coupe</td>\n",
       "      <td>2011</td>\n",
       "      <td>manual</td>\n",
       "      <td>190</td>\n",
       "      <td>NaN</td>\n",
       "      <td>125000</td>\n",
       "      <td>5</td>\n",
       "      <td>gasoline</td>\n",
       "      <td>audi</td>\n",
       "      <td>yes</td>\n",
       "      <td>2016-03-24 00:00:00</td>\n",
       "      <td>0</td>\n",
       "      <td>66954</td>\n",
       "      <td>2016-04-07 01:46:50</td>\n",
       "    </tr>\n",
       "    <tr>\n",
       "      <th>2</th>\n",
       "      <td>2016-03-14 12:52:21</td>\n",
       "      <td>9800</td>\n",
       "      <td>suv</td>\n",
       "      <td>2004</td>\n",
       "      <td>auto</td>\n",
       "      <td>163</td>\n",
       "      <td>grand</td>\n",
       "      <td>125000</td>\n",
       "      <td>8</td>\n",
       "      <td>gasoline</td>\n",
       "      <td>jeep</td>\n",
       "      <td>NaN</td>\n",
       "      <td>2016-03-14 00:00:00</td>\n",
       "      <td>0</td>\n",
       "      <td>90480</td>\n",
       "      <td>2016-04-05 12:47:46</td>\n",
       "    </tr>\n",
       "    <tr>\n",
       "      <th>3</th>\n",
       "      <td>2016-03-17 16:54:04</td>\n",
       "      <td>1500</td>\n",
       "      <td>small</td>\n",
       "      <td>2001</td>\n",
       "      <td>manual</td>\n",
       "      <td>75</td>\n",
       "      <td>golf</td>\n",
       "      <td>150000</td>\n",
       "      <td>6</td>\n",
       "      <td>petrol</td>\n",
       "      <td>volkswagen</td>\n",
       "      <td>no</td>\n",
       "      <td>2016-03-17 00:00:00</td>\n",
       "      <td>0</td>\n",
       "      <td>91074</td>\n",
       "      <td>2016-03-17 17:40:17</td>\n",
       "    </tr>\n",
       "    <tr>\n",
       "      <th>4</th>\n",
       "      <td>2016-03-31 17:25:20</td>\n",
       "      <td>3600</td>\n",
       "      <td>small</td>\n",
       "      <td>2008</td>\n",
       "      <td>manual</td>\n",
       "      <td>69</td>\n",
       "      <td>fabia</td>\n",
       "      <td>90000</td>\n",
       "      <td>7</td>\n",
       "      <td>gasoline</td>\n",
       "      <td>skoda</td>\n",
       "      <td>no</td>\n",
       "      <td>2016-03-31 00:00:00</td>\n",
       "      <td>0</td>\n",
       "      <td>60437</td>\n",
       "      <td>2016-04-06 10:17:21</td>\n",
       "    </tr>\n",
       "  </tbody>\n",
       "</table>\n",
       "</div>"
      ],
      "text/plain": [
       "           DateCrawled  Price VehicleType  RegistrationYear Gearbox  Power  \\\n",
       "0  2016-03-24 11:52:17    480         NaN              1993  manual      0   \n",
       "1  2016-03-24 10:58:45  18300       coupe              2011  manual    190   \n",
       "2  2016-03-14 12:52:21   9800         suv              2004    auto    163   \n",
       "3  2016-03-17 16:54:04   1500       small              2001  manual     75   \n",
       "4  2016-03-31 17:25:20   3600       small              2008  manual     69   \n",
       "\n",
       "   Model  Kilometer  RegistrationMonth  FuelType       Brand Repaired  \\\n",
       "0   golf     150000                  0    petrol  volkswagen      NaN   \n",
       "1    NaN     125000                  5  gasoline        audi      yes   \n",
       "2  grand     125000                  8  gasoline        jeep      NaN   \n",
       "3   golf     150000                  6    petrol  volkswagen       no   \n",
       "4  fabia      90000                  7  gasoline       skoda       no   \n",
       "\n",
       "           DateCreated  NumberOfPictures  PostalCode             LastSeen  \n",
       "0  2016-03-24 00:00:00                 0       70435  2016-04-07 03:16:57  \n",
       "1  2016-03-24 00:00:00                 0       66954  2016-04-07 01:46:50  \n",
       "2  2016-03-14 00:00:00                 0       90480  2016-04-05 12:47:46  \n",
       "3  2016-03-17 00:00:00                 0       91074  2016-03-17 17:40:17  \n",
       "4  2016-03-31 00:00:00                 0       60437  2016-04-06 10:17:21  "
      ]
     },
     "execution_count": 4,
     "metadata": {},
     "output_type": "execute_result"
    }
   ],
   "source": [
    "try:\n",
    "    autos = pd.read_csv('/datasets/autos.csv')\n",
    "except:\n",
    "    autos = pd.read_csv('D:/DS/datasets/autos.csv')\n",
    "    \n",
    "autos.head()"
   ]
  },
  {
   "cell_type": "code",
   "execution_count": 5,
   "metadata": {},
   "outputs": [
    {
     "name": "stdout",
     "output_type": "stream",
     "text": [
      "<class 'pandas.core.frame.DataFrame'>\n",
      "RangeIndex: 354369 entries, 0 to 354368\n",
      "Data columns (total 16 columns):\n",
      " #   Column             Non-Null Count   Dtype \n",
      "---  ------             --------------   ----- \n",
      " 0   DateCrawled        354369 non-null  object\n",
      " 1   Price              354369 non-null  int64 \n",
      " 2   VehicleType        316879 non-null  object\n",
      " 3   RegistrationYear   354369 non-null  int64 \n",
      " 4   Gearbox            334536 non-null  object\n",
      " 5   Power              354369 non-null  int64 \n",
      " 6   Model              334664 non-null  object\n",
      " 7   Kilometer          354369 non-null  int64 \n",
      " 8   RegistrationMonth  354369 non-null  int64 \n",
      " 9   FuelType           321474 non-null  object\n",
      " 10  Brand              354369 non-null  object\n",
      " 11  Repaired           283215 non-null  object\n",
      " 12  DateCreated        354369 non-null  object\n",
      " 13  NumberOfPictures   354369 non-null  int64 \n",
      " 14  PostalCode         354369 non-null  int64 \n",
      " 15  LastSeen           354369 non-null  object\n",
      "dtypes: int64(7), object(9)\n",
      "memory usage: 43.3+ MB\n"
     ]
    }
   ],
   "source": [
    "autos.info()"
   ]
  },
  {
   "cell_type": "code",
   "execution_count": 6,
   "metadata": {},
   "outputs": [],
   "source": [
    "n_rows_start = len(autos)"
   ]
  },
  {
   "cell_type": "code",
   "execution_count": 7,
   "metadata": {},
   "outputs": [
    {
     "name": "stdout",
     "output_type": "stream",
     "text": [
      "4\n"
     ]
    }
   ],
   "source": [
    "print(autos.duplicated().sum())\n",
    "\n",
    "autos = autos.drop_duplicates().reset_index(drop=True)"
   ]
  },
  {
   "cell_type": "markdown",
   "metadata": {},
   "source": [
    "Признаки:\n",
    "\n",
    "- DateCrawled — дата скачивания анкеты из базы\n",
    "- VehicleType — тип автомобильного кузова\n",
    "- RegistrationYear — год регистрации автомобиля\n",
    "- Gearbox — тип коробки передач\n",
    "- Power — мощность (л. с.)\n",
    "- Model — модель автомобиля\n",
    "- Kilometer — пробег (км)\n",
    "- RegistrationMonth — месяц регистрации автомобиля\n",
    "- FuelType — тип топлива\n",
    "- Brand — марка автомобиля\n",
    "- NotRepaired — была машина в ремонте или нет\n",
    "- DateCreated — дата создания анкеты\n",
    "- NumberOfPictures — количество фотографий автомобиля\n",
    "- PostalCode — почтовый индекс владельца анкеты (пользователя)\n",
    "- LastSeen — дата последней активности пользователя"
   ]
  },
  {
   "cell_type": "code",
   "execution_count": 8,
   "metadata": {},
   "outputs": [
    {
     "data": {
      "text/html": [
       "<div>\n",
       "<style scoped>\n",
       "    .dataframe tbody tr th:only-of-type {\n",
       "        vertical-align: middle;\n",
       "    }\n",
       "\n",
       "    .dataframe tbody tr th {\n",
       "        vertical-align: top;\n",
       "    }\n",
       "\n",
       "    .dataframe thead th {\n",
       "        text-align: right;\n",
       "    }\n",
       "</style>\n",
       "<table border=\"1\" class=\"dataframe\">\n",
       "  <thead>\n",
       "    <tr style=\"text-align: right;\">\n",
       "      <th></th>\n",
       "      <th>Price</th>\n",
       "      <th>RegistrationYear</th>\n",
       "      <th>Power</th>\n",
       "      <th>Kilometer</th>\n",
       "      <th>RegistrationMonth</th>\n",
       "      <th>NumberOfPictures</th>\n",
       "      <th>PostalCode</th>\n",
       "    </tr>\n",
       "  </thead>\n",
       "  <tbody>\n",
       "    <tr>\n",
       "      <th>count</th>\n",
       "      <td>354365.000000</td>\n",
       "      <td>354365.000000</td>\n",
       "      <td>354365.000000</td>\n",
       "      <td>354365.000000</td>\n",
       "      <td>354365.000000</td>\n",
       "      <td>354365.0</td>\n",
       "      <td>354365.000000</td>\n",
       "    </tr>\n",
       "    <tr>\n",
       "      <th>mean</th>\n",
       "      <td>4416.679830</td>\n",
       "      <td>2004.234481</td>\n",
       "      <td>110.093816</td>\n",
       "      <td>128211.363989</td>\n",
       "      <td>5.714650</td>\n",
       "      <td>0.0</td>\n",
       "      <td>50508.503800</td>\n",
       "    </tr>\n",
       "    <tr>\n",
       "      <th>std</th>\n",
       "      <td>4514.176349</td>\n",
       "      <td>90.228466</td>\n",
       "      <td>189.851330</td>\n",
       "      <td>37905.083858</td>\n",
       "      <td>3.726432</td>\n",
       "      <td>0.0</td>\n",
       "      <td>25783.100078</td>\n",
       "    </tr>\n",
       "    <tr>\n",
       "      <th>min</th>\n",
       "      <td>0.000000</td>\n",
       "      <td>1000.000000</td>\n",
       "      <td>0.000000</td>\n",
       "      <td>5000.000000</td>\n",
       "      <td>0.000000</td>\n",
       "      <td>0.0</td>\n",
       "      <td>1067.000000</td>\n",
       "    </tr>\n",
       "    <tr>\n",
       "      <th>25%</th>\n",
       "      <td>1050.000000</td>\n",
       "      <td>1999.000000</td>\n",
       "      <td>69.000000</td>\n",
       "      <td>125000.000000</td>\n",
       "      <td>3.000000</td>\n",
       "      <td>0.0</td>\n",
       "      <td>30165.000000</td>\n",
       "    </tr>\n",
       "    <tr>\n",
       "      <th>50%</th>\n",
       "      <td>2700.000000</td>\n",
       "      <td>2003.000000</td>\n",
       "      <td>105.000000</td>\n",
       "      <td>150000.000000</td>\n",
       "      <td>6.000000</td>\n",
       "      <td>0.0</td>\n",
       "      <td>49413.000000</td>\n",
       "    </tr>\n",
       "    <tr>\n",
       "      <th>75%</th>\n",
       "      <td>6400.000000</td>\n",
       "      <td>2008.000000</td>\n",
       "      <td>143.000000</td>\n",
       "      <td>150000.000000</td>\n",
       "      <td>9.000000</td>\n",
       "      <td>0.0</td>\n",
       "      <td>71083.000000</td>\n",
       "    </tr>\n",
       "    <tr>\n",
       "      <th>max</th>\n",
       "      <td>20000.000000</td>\n",
       "      <td>9999.000000</td>\n",
       "      <td>20000.000000</td>\n",
       "      <td>150000.000000</td>\n",
       "      <td>12.000000</td>\n",
       "      <td>0.0</td>\n",
       "      <td>99998.000000</td>\n",
       "    </tr>\n",
       "  </tbody>\n",
       "</table>\n",
       "</div>"
      ],
      "text/plain": [
       "               Price  RegistrationYear          Power      Kilometer  \\\n",
       "count  354365.000000     354365.000000  354365.000000  354365.000000   \n",
       "mean     4416.679830       2004.234481     110.093816  128211.363989   \n",
       "std      4514.176349         90.228466     189.851330   37905.083858   \n",
       "min         0.000000       1000.000000       0.000000    5000.000000   \n",
       "25%      1050.000000       1999.000000      69.000000  125000.000000   \n",
       "50%      2700.000000       2003.000000     105.000000  150000.000000   \n",
       "75%      6400.000000       2008.000000     143.000000  150000.000000   \n",
       "max     20000.000000       9999.000000   20000.000000  150000.000000   \n",
       "\n",
       "       RegistrationMonth  NumberOfPictures     PostalCode  \n",
       "count      354365.000000          354365.0  354365.000000  \n",
       "mean            5.714650               0.0   50508.503800  \n",
       "std             3.726432               0.0   25783.100078  \n",
       "min             0.000000               0.0    1067.000000  \n",
       "25%             3.000000               0.0   30165.000000  \n",
       "50%             6.000000               0.0   49413.000000  \n",
       "75%             9.000000               0.0   71083.000000  \n",
       "max            12.000000               0.0   99998.000000  "
      ]
     },
     "execution_count": 8,
     "metadata": {},
     "output_type": "execute_result"
    }
   ],
   "source": [
    "autos.describe()"
   ]
  },
  {
   "cell_type": "code",
   "execution_count": 9,
   "metadata": {},
   "outputs": [
    {
     "data": {
      "image/png": "[encoded data removed]",
      "text/plain": [
       "<Figure size 1500x500 with 1 Axes>"
      ]
     },
     "metadata": {},
     "output_type": "display_data"
    }
   ],
   "source": [
    "# рассмотрим пропуски в столбцах\n",
    "\n",
    "plt.figure(figsize=(15,5))\n",
    "ax = autos.isna().sum().plot.bar(color='purple', rot=45)\n",
    "for p in ax.patches:\n",
    "    ax.annotate(str(p.get_height()), (p.get_x() * 0.99, p.get_height() * 1.005))\n",
    "plt.title('Количество пропусков в столбцах')\n",
    "plt.show()"
   ]
  },
  {
   "cell_type": "markdown",
   "metadata": {},
   "source": [
    "Выводы:\n",
    "\n",
    "- В некоторых столбцах присутствуют выбросы, причем очень странного характера. Скорее всего это артефакты\n",
    "- Есть пропуски значений в категориальных столбцах. В численных нет.\n",
    "- Столбец с количеством фотографии - не содержит ничего. Все значения 0."
   ]
  },
  {
   "cell_type": "markdown",
   "metadata": {},
   "source": [
    "Удалим ненужные колонки и отдельно выделим категориальные:"
   ]
  },
  {
   "cell_type": "code",
   "execution_count": 10,
   "metadata": {},
   "outputs": [],
   "source": [
    "autos.columns = ['DateCrawled', 'Price', 'VehicleType_cat', 'RegistrationYear', 'Gearbox_cat',\n",
    "       'Power', 'Model_cat', 'Kilometer', 'RegistrationMonth', 'FuelType_cat', 'Brand_cat',\n",
    "       'Repaired_cat', 'DateCreated', 'NumberOfPictures', 'PostalCode',\n",
    "       'LastSeen']\n",
    "\n",
    "autos = autos.drop(['DateCrawled','DateCreated','LastSeen','NumberOfPictures', 'PostalCode'], axis=1)\n",
    "\n",
    "category_columns = ['VehicleType_cat', 'Gearbox_cat', 'Model_cat', 'FuelType_cat',\n",
    "           'Brand_cat', 'RegistrationMonth_cat', 'Repaired_cat']"
   ]
  },
  {
   "cell_type": "code",
   "execution_count": 11,
   "metadata": {},
   "outputs": [
    {
     "name": "stdout",
     "output_type": "stream",
     "text": [
      "27539\n"
     ]
    }
   ],
   "source": [
    "print(autos.duplicated().sum())\n",
    "\n",
    "autos = autos.drop_duplicates().reset_index(drop=True)"
   ]
  },
  {
   "cell_type": "code",
   "execution_count": 12,
   "metadata": {},
   "outputs": [
    {
     "name": "stdout",
     "output_type": "stream",
     "text": [
      "<class 'pandas.core.frame.DataFrame'>\n",
      "RangeIndex: 326826 entries, 0 to 326825\n",
      "Data columns (total 11 columns):\n",
      " #   Column             Non-Null Count   Dtype \n",
      "---  ------             --------------   ----- \n",
      " 0   Price              326826 non-null  int64 \n",
      " 1   VehicleType_cat    291577 non-null  object\n",
      " 2   RegistrationYear   326826 non-null  int64 \n",
      " 3   Gearbox_cat        309248 non-null  object\n",
      " 4   Power              326826 non-null  int64 \n",
      " 5   Model_cat          308294 non-null  object\n",
      " 6   Kilometer          326826 non-null  int64 \n",
      " 7   RegistrationMonth  326826 non-null  int64 \n",
      " 8   FuelType_cat       295704 non-null  object\n",
      " 9   Brand_cat          326826 non-null  object\n",
      " 10  Repaired_cat       260399 non-null  object\n",
      "dtypes: int64(5), object(6)\n",
      "memory usage: 27.4+ MB\n"
     ]
    }
   ],
   "source": [
    "autos.info()"
   ]
  },
  {
   "cell_type": "code",
   "execution_count": 13,
   "metadata": {},
   "outputs": [
    {
     "data": {
      "text/plain": [
       "Price                    0\n",
       "VehicleType_cat      35249\n",
       "RegistrationYear         0\n",
       "Gearbox_cat          17578\n",
       "Power                    0\n",
       "Model_cat            18532\n",
       "Kilometer                0\n",
       "RegistrationMonth        0\n",
       "FuelType_cat         31122\n",
       "Brand_cat                0\n",
       "Repaired_cat         66427\n",
       "dtype: int64"
      ]
     },
     "execution_count": 13,
     "metadata": {},
     "output_type": "execute_result"
    }
   ],
   "source": [
    "all_nan = autos.isna().sum()\n",
    "all_nan"
   ]
  },
  {
   "cell_type": "code",
   "execution_count": 14,
   "metadata": {},
   "outputs": [
    {
     "data": {
      "text/plain": [
       "Repaired_cat         0.203249\n",
       "VehicleType_cat      0.107852\n",
       "FuelType_cat         0.095225\n",
       "Model_cat            0.056703\n",
       "Gearbox_cat          0.053784\n",
       "Price                0.000000\n",
       "RegistrationYear     0.000000\n",
       "Power                0.000000\n",
       "Kilometer            0.000000\n",
       "RegistrationMonth    0.000000\n",
       "Brand_cat            0.000000\n",
       "dtype: float64"
      ]
     },
     "execution_count": 14,
     "metadata": {},
     "output_type": "execute_result"
    }
   ],
   "source": [
    "perc_nan = all_nan / autos.shape[0]\n",
    "perc_nan.sort_values(ascending=False)"
   ]
  },
  {
   "cell_type": "code",
   "execution_count": 15,
   "metadata": {},
   "outputs": [
    {
     "name": "stderr",
     "output_type": "stream",
     "text": [
      "D:\\Programs\\anaconda3\\lib\\site-packages\\seaborn\\distributions.py:2619: FutureWarning: `distplot` is a deprecated function and will be removed in a future version. Please adapt your code to use either `displot` (a figure-level function with similar flexibility) or `histplot` (an axes-level function for histograms).\n",
      "  warnings.warn(msg, FutureWarning)\n",
      "D:\\Programs\\anaconda3\\lib\\site-packages\\seaborn\\distributions.py:2103: FutureWarning: The `axis` variable is no longer used and will be removed. Instead, assign variables directly to `x` or `y`.\n",
      "  warnings.warn(msg, FutureWarning)\n"
     ]
    },
    {
     "data": {
      "text/plain": [
       "<AxesSubplot:ylabel='Density'>"
      ]
     },
     "execution_count": 15,
     "metadata": {},
     "output_type": "execute_result"
    },
    {
     "data": {
      "image/png": "[encoded data removed]",
      "text/plain": [
       "<Figure size 640x480 with 1 Axes>"
      ]
     },
     "metadata": {},
     "output_type": "display_data"
    }
   ],
   "source": [
    "sns.distplot(perc_nan, rug=True, rug_kws={\"color\": \"r\"})"
   ]
  },
  {
   "cell_type": "markdown",
   "metadata": {},
   "source": [
    "Чтобы не удалять много строк с пустыми значениями, заполним все категориальные значения значением `unknown`:"
   ]
  },
  {
   "cell_type": "code",
   "execution_count": 16,
   "metadata": {},
   "outputs": [],
   "source": [
    "autos = autos.fillna('unknown')"
   ]
  },
  {
   "cell_type": "code",
   "execution_count": 17,
   "metadata": {
    "scrolled": true
   },
   "outputs": [
    {
     "name": "stdout",
     "output_type": "stream",
     "text": [
      "<class 'pandas.core.frame.DataFrame'>\n",
      "RangeIndex: 326826 entries, 0 to 326825\n",
      "Data columns (total 11 columns):\n",
      " #   Column             Non-Null Count   Dtype \n",
      "---  ------             --------------   ----- \n",
      " 0   Price              326826 non-null  int64 \n",
      " 1   VehicleType_cat    326826 non-null  object\n",
      " 2   RegistrationYear   326826 non-null  int64 \n",
      " 3   Gearbox_cat        326826 non-null  object\n",
      " 4   Power              326826 non-null  int64 \n",
      " 5   Model_cat          326826 non-null  object\n",
      " 6   Kilometer          326826 non-null  int64 \n",
      " 7   RegistrationMonth  326826 non-null  int64 \n",
      " 8   FuelType_cat       326826 non-null  object\n",
      " 9   Brand_cat          326826 non-null  object\n",
      " 10  Repaired_cat       326826 non-null  object\n",
      "dtypes: int64(5), object(6)\n",
      "memory usage: 27.4+ MB\n"
     ]
    }
   ],
   "source": [
    "autos.info()"
   ]
  },
  {
   "cell_type": "code",
   "execution_count": 18,
   "metadata": {},
   "outputs": [],
   "source": [
    "n_rows_end = len(autos)"
   ]
  },
  {
   "cell_type": "code",
   "execution_count": 19,
   "metadata": {},
   "outputs": [
    {
     "name": "stdout",
     "output_type": "stream",
     "text": [
      "Общий процент удаленных данных: 7.77%\n"
     ]
    }
   ],
   "source": [
    "# вычисляем общий процент удаленных данных\n",
    "percent_deleted_total = (n_rows_start - n_rows_end) / n_rows_start * 100\n",
    "\n",
    "# выводим результат\n",
    "print(f'Общий процент удаленных данных: {percent_deleted_total:.2f}%')"
   ]
  },
  {
   "cell_type": "code",
   "execution_count": 20,
   "metadata": {},
   "outputs": [
    {
     "data": {
      "text/plain": [
       "no         225970\n",
       "unknown     66427\n",
       "yes         34429\n",
       "Name: Repaired_cat, dtype: int64"
      ]
     },
     "execution_count": 20,
     "metadata": {},
     "output_type": "execute_result"
    }
   ],
   "source": [
    "autos['Repaired_cat'].value_counts()"
   ]
  },
  {
   "cell_type": "code",
   "execution_count": 21,
   "metadata": {},
   "outputs": [
    {
     "data": {
      "text/plain": [
       "sedan          83602\n",
       "small          73496\n",
       "wagon          59662\n",
       "unknown        35249\n",
       "bus            26795\n",
       "convertible    18752\n",
       "coupe          15120\n",
       "suv            10977\n",
       "other           3173\n",
       "Name: VehicleType_cat, dtype: int64"
      ]
     },
     "execution_count": 21,
     "metadata": {},
     "output_type": "execute_result"
    }
   ],
   "source": [
    "autos['VehicleType_cat'].value_counts()"
   ]
  },
  {
   "cell_type": "code",
   "execution_count": 22,
   "metadata": {
    "scrolled": true
   },
   "outputs": [
    {
     "name": "stderr",
     "output_type": "stream",
     "text": [
      "D:\\Programs\\anaconda3\\lib\\site-packages\\seaborn\\_decorators.py:36: FutureWarning: Pass the following variable as a keyword arg: x. From version 0.12, the only valid positional argument will be `data`, and passing other arguments without an explicit keyword will result in an error or misinterpretation.\n",
      "  warnings.warn(\n"
     ]
    },
    {
     "data": {
      "image/png": "[encoded data removed]",
      "text/plain": [
       "<Figure size 640x480 with 1 Axes>"
      ]
     },
     "metadata": {},
     "output_type": "display_data"
    },
    {
     "name": "stderr",
     "output_type": "stream",
     "text": [
      "D:\\Programs\\anaconda3\\lib\\site-packages\\seaborn\\_decorators.py:36: FutureWarning: Pass the following variable as a keyword arg: x. From version 0.12, the only valid positional argument will be `data`, and passing other arguments without an explicit keyword will result in an error or misinterpretation.\n",
      "  warnings.warn(\n"
     ]
    },
    {
     "data": {
      "image/png": "[encoded data removed]",
      "text/plain": [
       "<Figure size 640x480 with 1 Axes>"
      ]
     },
     "metadata": {},
     "output_type": "display_data"
    },
    {
     "name": "stderr",
     "output_type": "stream",
     "text": [
      "D:\\Programs\\anaconda3\\lib\\site-packages\\seaborn\\_decorators.py:36: FutureWarning: Pass the following variable as a keyword arg: x. From version 0.12, the only valid positional argument will be `data`, and passing other arguments without an explicit keyword will result in an error or misinterpretation.\n",
      "  warnings.warn(\n"
     ]
    },
    {
     "data": {
      "image/png": "[encoded data removed]",
      "text/plain": [
       "<Figure size 640x480 with 1 Axes>"
      ]
     },
     "metadata": {},
     "output_type": "display_data"
    }
   ],
   "source": [
    "for a in ['Power','Kilometer','Price']:\n",
    "    sns.boxplot(autos[a]) \n",
    "    plt.show()"
   ]
  },
  {
   "cell_type": "markdown",
   "metadata": {},
   "source": [
    "Видим явные аномалии в цене. Также много нулевых значений в цене и мощности - их можно заменить средним значением. Сделаем сводные таблицы и в них заменим на средние, а затем применим их к основному датасету"
   ]
  },
  {
   "cell_type": "markdown",
   "metadata": {},
   "source": [
    "Уберем цены ниже 100 евро и нулевые значения мощностей"
   ]
  },
  {
   "cell_type": "code",
   "execution_count": 23,
   "metadata": {},
   "outputs": [],
   "source": [
    "autos = autos.query('Power != 0')\n",
    "autos = autos.query('Price > 100')\n",
    "power_new = autos.pivot_table(columns='Model_cat', values='Power', aggfunc='mean').astype('int').to_dict()\n",
    "price_new = autos.pivot_table(columns='Model_cat', values='Price', aggfunc='mean').astype('int').to_dict()"
   ]
  },
  {
   "cell_type": "code",
   "execution_count": 24,
   "metadata": {},
   "outputs": [
    {
     "data": {
      "text/html": [
       "<div>\n",
       "<style scoped>\n",
       "    .dataframe tbody tr th:only-of-type {\n",
       "        vertical-align: middle;\n",
       "    }\n",
       "\n",
       "    .dataframe tbody tr th {\n",
       "        vertical-align: top;\n",
       "    }\n",
       "\n",
       "    .dataframe thead th {\n",
       "        text-align: right;\n",
       "    }\n",
       "</style>\n",
       "<table border=\"1\" class=\"dataframe\">\n",
       "  <thead>\n",
       "    <tr style=\"text-align: right;\">\n",
       "      <th></th>\n",
       "      <th>Price</th>\n",
       "      <th>VehicleType_cat</th>\n",
       "      <th>RegistrationYear</th>\n",
       "      <th>Gearbox_cat</th>\n",
       "      <th>Power</th>\n",
       "      <th>Model_cat</th>\n",
       "      <th>Kilometer</th>\n",
       "      <th>RegistrationMonth</th>\n",
       "      <th>FuelType_cat</th>\n",
       "      <th>Brand_cat</th>\n",
       "      <th>Repaired_cat</th>\n",
       "    </tr>\n",
       "  </thead>\n",
       "  <tbody>\n",
       "    <tr>\n",
       "      <th>1</th>\n",
       "      <td>18300</td>\n",
       "      <td>coupe</td>\n",
       "      <td>2011</td>\n",
       "      <td>manual</td>\n",
       "      <td>190</td>\n",
       "      <td>unknown</td>\n",
       "      <td>125000</td>\n",
       "      <td>5</td>\n",
       "      <td>gasoline</td>\n",
       "      <td>audi</td>\n",
       "      <td>yes</td>\n",
       "    </tr>\n",
       "    <tr>\n",
       "      <th>2</th>\n",
       "      <td>9800</td>\n",
       "      <td>suv</td>\n",
       "      <td>2004</td>\n",
       "      <td>auto</td>\n",
       "      <td>163</td>\n",
       "      <td>grand</td>\n",
       "      <td>125000</td>\n",
       "      <td>8</td>\n",
       "      <td>gasoline</td>\n",
       "      <td>jeep</td>\n",
       "      <td>unknown</td>\n",
       "    </tr>\n",
       "    <tr>\n",
       "      <th>3</th>\n",
       "      <td>1500</td>\n",
       "      <td>small</td>\n",
       "      <td>2001</td>\n",
       "      <td>manual</td>\n",
       "      <td>75</td>\n",
       "      <td>golf</td>\n",
       "      <td>150000</td>\n",
       "      <td>6</td>\n",
       "      <td>petrol</td>\n",
       "      <td>volkswagen</td>\n",
       "      <td>no</td>\n",
       "    </tr>\n",
       "    <tr>\n",
       "      <th>4</th>\n",
       "      <td>3600</td>\n",
       "      <td>small</td>\n",
       "      <td>2008</td>\n",
       "      <td>manual</td>\n",
       "      <td>69</td>\n",
       "      <td>fabia</td>\n",
       "      <td>90000</td>\n",
       "      <td>7</td>\n",
       "      <td>gasoline</td>\n",
       "      <td>skoda</td>\n",
       "      <td>no</td>\n",
       "    </tr>\n",
       "    <tr>\n",
       "      <th>5</th>\n",
       "      <td>650</td>\n",
       "      <td>sedan</td>\n",
       "      <td>1995</td>\n",
       "      <td>manual</td>\n",
       "      <td>102</td>\n",
       "      <td>3er</td>\n",
       "      <td>150000</td>\n",
       "      <td>10</td>\n",
       "      <td>petrol</td>\n",
       "      <td>bmw</td>\n",
       "      <td>yes</td>\n",
       "    </tr>\n",
       "    <tr>\n",
       "      <th>6</th>\n",
       "      <td>2200</td>\n",
       "      <td>convertible</td>\n",
       "      <td>2004</td>\n",
       "      <td>manual</td>\n",
       "      <td>109</td>\n",
       "      <td>2_reihe</td>\n",
       "      <td>150000</td>\n",
       "      <td>8</td>\n",
       "      <td>petrol</td>\n",
       "      <td>peugeot</td>\n",
       "      <td>no</td>\n",
       "    </tr>\n",
       "    <tr>\n",
       "      <th>8</th>\n",
       "      <td>14500</td>\n",
       "      <td>bus</td>\n",
       "      <td>2014</td>\n",
       "      <td>manual</td>\n",
       "      <td>125</td>\n",
       "      <td>c_max</td>\n",
       "      <td>30000</td>\n",
       "      <td>8</td>\n",
       "      <td>petrol</td>\n",
       "      <td>ford</td>\n",
       "      <td>unknown</td>\n",
       "    </tr>\n",
       "    <tr>\n",
       "      <th>9</th>\n",
       "      <td>999</td>\n",
       "      <td>small</td>\n",
       "      <td>1998</td>\n",
       "      <td>manual</td>\n",
       "      <td>101</td>\n",
       "      <td>golf</td>\n",
       "      <td>150000</td>\n",
       "      <td>0</td>\n",
       "      <td>unknown</td>\n",
       "      <td>volkswagen</td>\n",
       "      <td>unknown</td>\n",
       "    </tr>\n",
       "    <tr>\n",
       "      <th>10</th>\n",
       "      <td>2000</td>\n",
       "      <td>sedan</td>\n",
       "      <td>2004</td>\n",
       "      <td>manual</td>\n",
       "      <td>105</td>\n",
       "      <td>3_reihe</td>\n",
       "      <td>150000</td>\n",
       "      <td>12</td>\n",
       "      <td>petrol</td>\n",
       "      <td>mazda</td>\n",
       "      <td>no</td>\n",
       "    </tr>\n",
       "    <tr>\n",
       "      <th>11</th>\n",
       "      <td>2799</td>\n",
       "      <td>wagon</td>\n",
       "      <td>2005</td>\n",
       "      <td>manual</td>\n",
       "      <td>140</td>\n",
       "      <td>passat</td>\n",
       "      <td>150000</td>\n",
       "      <td>12</td>\n",
       "      <td>gasoline</td>\n",
       "      <td>volkswagen</td>\n",
       "      <td>yes</td>\n",
       "    </tr>\n",
       "    <tr>\n",
       "      <th>12</th>\n",
       "      <td>999</td>\n",
       "      <td>wagon</td>\n",
       "      <td>1995</td>\n",
       "      <td>manual</td>\n",
       "      <td>115</td>\n",
       "      <td>passat</td>\n",
       "      <td>150000</td>\n",
       "      <td>11</td>\n",
       "      <td>petrol</td>\n",
       "      <td>volkswagen</td>\n",
       "      <td>unknown</td>\n",
       "    </tr>\n",
       "    <tr>\n",
       "      <th>13</th>\n",
       "      <td>2500</td>\n",
       "      <td>wagon</td>\n",
       "      <td>2004</td>\n",
       "      <td>manual</td>\n",
       "      <td>131</td>\n",
       "      <td>passat</td>\n",
       "      <td>150000</td>\n",
       "      <td>2</td>\n",
       "      <td>unknown</td>\n",
       "      <td>volkswagen</td>\n",
       "      <td>no</td>\n",
       "    </tr>\n",
       "    <tr>\n",
       "      <th>14</th>\n",
       "      <td>17999</td>\n",
       "      <td>suv</td>\n",
       "      <td>2011</td>\n",
       "      <td>manual</td>\n",
       "      <td>190</td>\n",
       "      <td>navara</td>\n",
       "      <td>70000</td>\n",
       "      <td>3</td>\n",
       "      <td>gasoline</td>\n",
       "      <td>nissan</td>\n",
       "      <td>no</td>\n",
       "    </tr>\n",
       "    <tr>\n",
       "      <th>16</th>\n",
       "      <td>300</td>\n",
       "      <td>unknown</td>\n",
       "      <td>2016</td>\n",
       "      <td>unknown</td>\n",
       "      <td>60</td>\n",
       "      <td>polo</td>\n",
       "      <td>150000</td>\n",
       "      <td>0</td>\n",
       "      <td>petrol</td>\n",
       "      <td>volkswagen</td>\n",
       "      <td>unknown</td>\n",
       "    </tr>\n",
       "    <tr>\n",
       "      <th>17</th>\n",
       "      <td>1750</td>\n",
       "      <td>small</td>\n",
       "      <td>2004</td>\n",
       "      <td>auto</td>\n",
       "      <td>75</td>\n",
       "      <td>twingo</td>\n",
       "      <td>150000</td>\n",
       "      <td>2</td>\n",
       "      <td>petrol</td>\n",
       "      <td>renault</td>\n",
       "      <td>no</td>\n",
       "    </tr>\n",
       "    <tr>\n",
       "      <th>18</th>\n",
       "      <td>7550</td>\n",
       "      <td>bus</td>\n",
       "      <td>2007</td>\n",
       "      <td>manual</td>\n",
       "      <td>136</td>\n",
       "      <td>c_max</td>\n",
       "      <td>150000</td>\n",
       "      <td>6</td>\n",
       "      <td>gasoline</td>\n",
       "      <td>ford</td>\n",
       "      <td>no</td>\n",
       "    </tr>\n",
       "    <tr>\n",
       "      <th>19</th>\n",
       "      <td>1850</td>\n",
       "      <td>bus</td>\n",
       "      <td>2004</td>\n",
       "      <td>manual</td>\n",
       "      <td>102</td>\n",
       "      <td>a_klasse</td>\n",
       "      <td>150000</td>\n",
       "      <td>1</td>\n",
       "      <td>petrol</td>\n",
       "      <td>mercedes_benz</td>\n",
       "      <td>no</td>\n",
       "    </tr>\n",
       "    <tr>\n",
       "      <th>20</th>\n",
       "      <td>10400</td>\n",
       "      <td>coupe</td>\n",
       "      <td>2009</td>\n",
       "      <td>manual</td>\n",
       "      <td>160</td>\n",
       "      <td>scirocco</td>\n",
       "      <td>100000</td>\n",
       "      <td>4</td>\n",
       "      <td>petrol</td>\n",
       "      <td>volkswagen</td>\n",
       "      <td>no</td>\n",
       "    </tr>\n",
       "    <tr>\n",
       "      <th>21</th>\n",
       "      <td>3699</td>\n",
       "      <td>sedan</td>\n",
       "      <td>2002</td>\n",
       "      <td>auto</td>\n",
       "      <td>231</td>\n",
       "      <td>5er</td>\n",
       "      <td>150000</td>\n",
       "      <td>7</td>\n",
       "      <td>petrol</td>\n",
       "      <td>bmw</td>\n",
       "      <td>no</td>\n",
       "    </tr>\n",
       "    <tr>\n",
       "      <th>22</th>\n",
       "      <td>2900</td>\n",
       "      <td>unknown</td>\n",
       "      <td>2018</td>\n",
       "      <td>manual</td>\n",
       "      <td>90</td>\n",
       "      <td>meriva</td>\n",
       "      <td>150000</td>\n",
       "      <td>5</td>\n",
       "      <td>petrol</td>\n",
       "      <td>opel</td>\n",
       "      <td>no</td>\n",
       "    </tr>\n",
       "  </tbody>\n",
       "</table>\n",
       "</div>"
      ],
      "text/plain": [
       "    Price VehicleType_cat  RegistrationYear Gearbox_cat  Power Model_cat  \\\n",
       "1   18300           coupe              2011      manual    190   unknown   \n",
       "2    9800             suv              2004        auto    163     grand   \n",
       "3    1500           small              2001      manual     75      golf   \n",
       "4    3600           small              2008      manual     69     fabia   \n",
       "5     650           sedan              1995      manual    102       3er   \n",
       "6    2200     convertible              2004      manual    109   2_reihe   \n",
       "8   14500             bus              2014      manual    125     c_max   \n",
       "9     999           small              1998      manual    101      golf   \n",
       "10   2000           sedan              2004      manual    105   3_reihe   \n",
       "11   2799           wagon              2005      manual    140    passat   \n",
       "12    999           wagon              1995      manual    115    passat   \n",
       "13   2500           wagon              2004      manual    131    passat   \n",
       "14  17999             suv              2011      manual    190    navara   \n",
       "16    300         unknown              2016     unknown     60      polo   \n",
       "17   1750           small              2004        auto     75    twingo   \n",
       "18   7550             bus              2007      manual    136     c_max   \n",
       "19   1850             bus              2004      manual    102  a_klasse   \n",
       "20  10400           coupe              2009      manual    160  scirocco   \n",
       "21   3699           sedan              2002        auto    231       5er   \n",
       "22   2900         unknown              2018      manual     90    meriva   \n",
       "\n",
       "    Kilometer  RegistrationMonth FuelType_cat      Brand_cat Repaired_cat  \n",
       "1      125000                  5     gasoline           audi          yes  \n",
       "2      125000                  8     gasoline           jeep      unknown  \n",
       "3      150000                  6       petrol     volkswagen           no  \n",
       "4       90000                  7     gasoline          skoda           no  \n",
       "5      150000                 10       petrol            bmw          yes  \n",
       "6      150000                  8       petrol        peugeot           no  \n",
       "8       30000                  8       petrol           ford      unknown  \n",
       "9      150000                  0      unknown     volkswagen      unknown  \n",
       "10     150000                 12       petrol          mazda           no  \n",
       "11     150000                 12     gasoline     volkswagen          yes  \n",
       "12     150000                 11       petrol     volkswagen      unknown  \n",
       "13     150000                  2      unknown     volkswagen           no  \n",
       "14      70000                  3     gasoline         nissan           no  \n",
       "16     150000                  0       petrol     volkswagen      unknown  \n",
       "17     150000                  2       petrol        renault           no  \n",
       "18     150000                  6     gasoline           ford           no  \n",
       "19     150000                  1       petrol  mercedes_benz           no  \n",
       "20     100000                  4       petrol     volkswagen           no  \n",
       "21     150000                  7       petrol            bmw           no  \n",
       "22     150000                  5       petrol           opel           no  "
      ]
     },
     "execution_count": 24,
     "metadata": {},
     "output_type": "execute_result"
    }
   ],
   "source": [
    "def fill_0(row, cat, place, table):\n",
    "    a = row[cat]\n",
    "    b = table[a][place]\n",
    "    if row[place] == 0:  \n",
    "        row[place] = b\n",
    "    return row\n",
    "        \n",
    "autos = autos.apply(fill_0, axis=1, args=('Model_cat','Power', power_new))\n",
    "autos = autos.apply(fill_0, axis=1, args=('Model_cat','Price', price_new))\n",
    "\n",
    "autos.head(20)"
   ]
  },
  {
   "cell_type": "code",
   "execution_count": 25,
   "metadata": {},
   "outputs": [
    {
     "name": "stdout",
     "output_type": "stream",
     "text": [
      "<class 'pandas.core.frame.DataFrame'>\n",
      "Int64Index: 281770 entries, 1 to 326825\n",
      "Data columns (total 11 columns):\n",
      " #   Column             Non-Null Count   Dtype \n",
      "---  ------             --------------   ----- \n",
      " 0   Price              281770 non-null  int64 \n",
      " 1   VehicleType_cat    281770 non-null  object\n",
      " 2   RegistrationYear   281770 non-null  int64 \n",
      " 3   Gearbox_cat        281770 non-null  object\n",
      " 4   Power              281770 non-null  int64 \n",
      " 5   Model_cat          281770 non-null  object\n",
      " 6   Kilometer          281770 non-null  int64 \n",
      " 7   RegistrationMonth  281770 non-null  int64 \n",
      " 8   FuelType_cat       281770 non-null  object\n",
      " 9   Brand_cat          281770 non-null  object\n",
      " 10  Repaired_cat       281770 non-null  object\n",
      "dtypes: int64(5), object(6)\n",
      "memory usage: 25.8+ MB\n"
     ]
    }
   ],
   "source": [
    "autos.info()"
   ]
  },
  {
   "cell_type": "markdown",
   "metadata": {},
   "source": [
    "Данные готовы к построению моделей"
   ]
  },
  {
   "cell_type": "markdown",
   "metadata": {},
   "source": [
    "Рассмотрим артефакты:"
   ]
  },
  {
   "cell_type": "code",
   "execution_count": 26,
   "metadata": {},
   "outputs": [
    {
     "data": {
      "image/png": "[encoded data removed]",
      "text/plain": [
       "<Figure size 1500x700 with 1 Axes>"
      ]
     },
     "metadata": {},
     "output_type": "display_data"
    }
   ],
   "source": [
    "plt.figure(figsize=(15,7))\n",
    "plt.ylim(0,200)\n",
    "autos['RegistrationYear'].hist(bins=75, edgecolor='k', color='pink')\n",
    "plt.title('Распределение анкет по годам', fontsize='x-large')\n",
    "plt.xlabel('Год публикации', fontsize='x-large')\n",
    "plt.show()"
   ]
  },
  {
   "cell_type": "markdown",
   "metadata": {},
   "source": [
    "По графику мы видим, что год публикации анкет по годам лежит в пределах 1920-2020 годы, что выглядит адекватно."
   ]
  },
  {
   "cell_type": "code",
   "execution_count": 27,
   "metadata": {},
   "outputs": [
    {
     "data": {
      "image/png": "[encoded data removed]",
      "text/plain": [
       "<Figure size 1500x700 with 1 Axes>"
      ]
     },
     "metadata": {},
     "output_type": "display_data"
    }
   ],
   "source": [
    "plt.figure(figsize=(15,7))\n",
    "plt.ylim(0,100)\n",
    "autos['Power'].hist(bins=75, edgecolor='k', color='plum')\n",
    "plt.title('Распределение по мощности', fontsize='x-large')\n",
    "plt.xlabel('Год публикации', fontsize='x-large')\n",
    "plt.show()"
   ]
  },
  {
   "cell_type": "code",
   "execution_count": 28,
   "metadata": {},
   "outputs": [
    {
     "data": {
      "text/html": [
       "<div>\n",
       "<style scoped>\n",
       "    .dataframe tbody tr th:only-of-type {\n",
       "        vertical-align: middle;\n",
       "    }\n",
       "\n",
       "    .dataframe tbody tr th {\n",
       "        vertical-align: top;\n",
       "    }\n",
       "\n",
       "    .dataframe thead th {\n",
       "        text-align: right;\n",
       "    }\n",
       "</style>\n",
       "<table border=\"1\" class=\"dataframe\">\n",
       "  <thead>\n",
       "    <tr style=\"text-align: right;\">\n",
       "      <th></th>\n",
       "      <th>Price</th>\n",
       "      <th>VehicleType_cat</th>\n",
       "      <th>RegistrationYear</th>\n",
       "      <th>Gearbox_cat</th>\n",
       "      <th>Power</th>\n",
       "      <th>Model_cat</th>\n",
       "      <th>Kilometer</th>\n",
       "      <th>RegistrationMonth</th>\n",
       "      <th>FuelType_cat</th>\n",
       "      <th>Brand_cat</th>\n",
       "      <th>Repaired_cat</th>\n",
       "    </tr>\n",
       "  </thead>\n",
       "  <tbody>\n",
       "    <tr>\n",
       "      <th>1815</th>\n",
       "      <td>3200</td>\n",
       "      <td>small</td>\n",
       "      <td>2004</td>\n",
       "      <td>manual</td>\n",
       "      <td>1398</td>\n",
       "      <td>corolla</td>\n",
       "      <td>5000</td>\n",
       "      <td>6</td>\n",
       "      <td>petrol</td>\n",
       "      <td>toyota</td>\n",
       "      <td>no</td>\n",
       "    </tr>\n",
       "    <tr>\n",
       "      <th>4054</th>\n",
       "      <td>3100</td>\n",
       "      <td>sedan</td>\n",
       "      <td>2005</td>\n",
       "      <td>manual</td>\n",
       "      <td>953</td>\n",
       "      <td>colt</td>\n",
       "      <td>150000</td>\n",
       "      <td>4</td>\n",
       "      <td>gasoline</td>\n",
       "      <td>mitsubishi</td>\n",
       "      <td>no</td>\n",
       "    </tr>\n",
       "    <tr>\n",
       "      <th>5316</th>\n",
       "      <td>500</td>\n",
       "      <td>wagon</td>\n",
       "      <td>1999</td>\n",
       "      <td>manual</td>\n",
       "      <td>1001</td>\n",
       "      <td>astra</td>\n",
       "      <td>150000</td>\n",
       "      <td>7</td>\n",
       "      <td>petrol</td>\n",
       "      <td>opel</td>\n",
       "      <td>unknown</td>\n",
       "    </tr>\n",
       "    <tr>\n",
       "      <th>6282</th>\n",
       "      <td>599</td>\n",
       "      <td>small</td>\n",
       "      <td>2002</td>\n",
       "      <td>manual</td>\n",
       "      <td>603</td>\n",
       "      <td>matiz</td>\n",
       "      <td>5000</td>\n",
       "      <td>11</td>\n",
       "      <td>petrol</td>\n",
       "      <td>chevrolet</td>\n",
       "      <td>yes</td>\n",
       "    </tr>\n",
       "    <tr>\n",
       "      <th>6487</th>\n",
       "      <td>3000</td>\n",
       "      <td>small</td>\n",
       "      <td>2009</td>\n",
       "      <td>manual</td>\n",
       "      <td>771</td>\n",
       "      <td>punto</td>\n",
       "      <td>125000</td>\n",
       "      <td>0</td>\n",
       "      <td>petrol</td>\n",
       "      <td>fiat</td>\n",
       "      <td>unknown</td>\n",
       "    </tr>\n",
       "    <tr>\n",
       "      <th>...</th>\n",
       "      <td>...</td>\n",
       "      <td>...</td>\n",
       "      <td>...</td>\n",
       "      <td>...</td>\n",
       "      <td>...</td>\n",
       "      <td>...</td>\n",
       "      <td>...</td>\n",
       "      <td>...</td>\n",
       "      <td>...</td>\n",
       "      <td>...</td>\n",
       "      <td>...</td>\n",
       "    </tr>\n",
       "    <tr>\n",
       "      <th>322116</th>\n",
       "      <td>7500</td>\n",
       "      <td>sedan</td>\n",
       "      <td>2011</td>\n",
       "      <td>manual</td>\n",
       "      <td>1548</td>\n",
       "      <td>scenic</td>\n",
       "      <td>90000</td>\n",
       "      <td>4</td>\n",
       "      <td>petrol</td>\n",
       "      <td>renault</td>\n",
       "      <td>unknown</td>\n",
       "    </tr>\n",
       "    <tr>\n",
       "      <th>322188</th>\n",
       "      <td>250</td>\n",
       "      <td>small</td>\n",
       "      <td>1999</td>\n",
       "      <td>manual</td>\n",
       "      <td>1241</td>\n",
       "      <td>ypsilon</td>\n",
       "      <td>150000</td>\n",
       "      <td>5</td>\n",
       "      <td>petrol</td>\n",
       "      <td>lancia</td>\n",
       "      <td>yes</td>\n",
       "    </tr>\n",
       "    <tr>\n",
       "      <th>324737</th>\n",
       "      <td>1500</td>\n",
       "      <td>bus</td>\n",
       "      <td>2001</td>\n",
       "      <td>manual</td>\n",
       "      <td>1001</td>\n",
       "      <td>zafira</td>\n",
       "      <td>5000</td>\n",
       "      <td>7</td>\n",
       "      <td>gasoline</td>\n",
       "      <td>opel</td>\n",
       "      <td>no</td>\n",
       "    </tr>\n",
       "    <tr>\n",
       "      <th>326077</th>\n",
       "      <td>12500</td>\n",
       "      <td>unknown</td>\n",
       "      <td>2017</td>\n",
       "      <td>manual</td>\n",
       "      <td>2000</td>\n",
       "      <td>other</td>\n",
       "      <td>60000</td>\n",
       "      <td>0</td>\n",
       "      <td>gasoline</td>\n",
       "      <td>chrysler</td>\n",
       "      <td>no</td>\n",
       "    </tr>\n",
       "    <tr>\n",
       "      <th>326196</th>\n",
       "      <td>2400</td>\n",
       "      <td>sedan</td>\n",
       "      <td>2007</td>\n",
       "      <td>manual</td>\n",
       "      <td>650</td>\n",
       "      <td>c2</td>\n",
       "      <td>150000</td>\n",
       "      <td>8</td>\n",
       "      <td>petrol</td>\n",
       "      <td>citroen</td>\n",
       "      <td>unknown</td>\n",
       "    </tr>\n",
       "  </tbody>\n",
       "</table>\n",
       "<p>442 rows × 11 columns</p>\n",
       "</div>"
      ],
      "text/plain": [
       "        Price VehicleType_cat  RegistrationYear Gearbox_cat  Power Model_cat  \\\n",
       "1815     3200           small              2004      manual   1398   corolla   \n",
       "4054     3100           sedan              2005      manual    953      colt   \n",
       "5316      500           wagon              1999      manual   1001     astra   \n",
       "6282      599           small              2002      manual    603     matiz   \n",
       "6487     3000           small              2009      manual    771     punto   \n",
       "...       ...             ...               ...         ...    ...       ...   \n",
       "322116   7500           sedan              2011      manual   1548    scenic   \n",
       "322188    250           small              1999      manual   1241   ypsilon   \n",
       "324737   1500             bus              2001      manual   1001    zafira   \n",
       "326077  12500         unknown              2017      manual   2000     other   \n",
       "326196   2400           sedan              2007      manual    650        c2   \n",
       "\n",
       "        Kilometer  RegistrationMonth FuelType_cat   Brand_cat Repaired_cat  \n",
       "1815         5000                  6       petrol      toyota           no  \n",
       "4054       150000                  4     gasoline  mitsubishi           no  \n",
       "5316       150000                  7       petrol        opel      unknown  \n",
       "6282         5000                 11       petrol   chevrolet          yes  \n",
       "6487       125000                  0       petrol        fiat      unknown  \n",
       "...           ...                ...          ...         ...          ...  \n",
       "322116      90000                  4       petrol     renault      unknown  \n",
       "322188     150000                  5       petrol      lancia          yes  \n",
       "324737       5000                  7     gasoline        opel           no  \n",
       "326077      60000                  0     gasoline    chrysler           no  \n",
       "326196     150000                  8       petrol     citroen      unknown  \n",
       "\n",
       "[442 rows x 11 columns]"
      ]
     },
     "execution_count": 28,
     "metadata": {},
     "output_type": "execute_result"
    }
   ],
   "source": [
    "autos.query('Power >= 500')"
   ]
  },
  {
   "cell_type": "code",
   "execution_count": 29,
   "metadata": {},
   "outputs": [
    {
     "data": {
      "text/html": [
       "<div>\n",
       "<style scoped>\n",
       "    .dataframe tbody tr th:only-of-type {\n",
       "        vertical-align: middle;\n",
       "    }\n",
       "\n",
       "    .dataframe tbody tr th {\n",
       "        vertical-align: top;\n",
       "    }\n",
       "\n",
       "    .dataframe thead th {\n",
       "        text-align: right;\n",
       "    }\n",
       "</style>\n",
       "<table border=\"1\" class=\"dataframe\">\n",
       "  <thead>\n",
       "    <tr style=\"text-align: right;\">\n",
       "      <th></th>\n",
       "      <th>Price</th>\n",
       "      <th>VehicleType_cat</th>\n",
       "      <th>RegistrationYear</th>\n",
       "      <th>Gearbox_cat</th>\n",
       "      <th>Power</th>\n",
       "      <th>Model_cat</th>\n",
       "      <th>Kilometer</th>\n",
       "      <th>RegistrationMonth</th>\n",
       "      <th>FuelType_cat</th>\n",
       "      <th>Brand_cat</th>\n",
       "      <th>Repaired_cat</th>\n",
       "    </tr>\n",
       "  </thead>\n",
       "  <tbody>\n",
       "    <tr>\n",
       "      <th>431</th>\n",
       "      <td>3950</td>\n",
       "      <td>small</td>\n",
       "      <td>2004</td>\n",
       "      <td>auto</td>\n",
       "      <td>5</td>\n",
       "      <td>unknown</td>\n",
       "      <td>70000</td>\n",
       "      <td>5</td>\n",
       "      <td>gasoline</td>\n",
       "      <td>sonstige_autos</td>\n",
       "      <td>no</td>\n",
       "    </tr>\n",
       "    <tr>\n",
       "      <th>3347</th>\n",
       "      <td>1990</td>\n",
       "      <td>small</td>\n",
       "      <td>2004</td>\n",
       "      <td>unknown</td>\n",
       "      <td>7</td>\n",
       "      <td>polo</td>\n",
       "      <td>150000</td>\n",
       "      <td>5</td>\n",
       "      <td>gasoline</td>\n",
       "      <td>volkswagen</td>\n",
       "      <td>no</td>\n",
       "    </tr>\n",
       "    <tr>\n",
       "      <th>9524</th>\n",
       "      <td>9000</td>\n",
       "      <td>sedan</td>\n",
       "      <td>2009</td>\n",
       "      <td>manual</td>\n",
       "      <td>2</td>\n",
       "      <td>a4</td>\n",
       "      <td>5000</td>\n",
       "      <td>12</td>\n",
       "      <td>gasoline</td>\n",
       "      <td>audi</td>\n",
       "      <td>unknown</td>\n",
       "    </tr>\n",
       "    <tr>\n",
       "      <th>11796</th>\n",
       "      <td>1999</td>\n",
       "      <td>coupe</td>\n",
       "      <td>1964</td>\n",
       "      <td>manual</td>\n",
       "      <td>10</td>\n",
       "      <td>unknown</td>\n",
       "      <td>150000</td>\n",
       "      <td>6</td>\n",
       "      <td>petrol</td>\n",
       "      <td>sonstige_autos</td>\n",
       "      <td>unknown</td>\n",
       "    </tr>\n",
       "    <tr>\n",
       "      <th>12685</th>\n",
       "      <td>2850</td>\n",
       "      <td>small</td>\n",
       "      <td>2005</td>\n",
       "      <td>auto</td>\n",
       "      <td>5</td>\n",
       "      <td>unknown</td>\n",
       "      <td>40000</td>\n",
       "      <td>8</td>\n",
       "      <td>gasoline</td>\n",
       "      <td>sonstige_autos</td>\n",
       "      <td>no</td>\n",
       "    </tr>\n",
       "    <tr>\n",
       "      <th>...</th>\n",
       "      <td>...</td>\n",
       "      <td>...</td>\n",
       "      <td>...</td>\n",
       "      <td>...</td>\n",
       "      <td>...</td>\n",
       "      <td>...</td>\n",
       "      <td>...</td>\n",
       "      <td>...</td>\n",
       "      <td>...</td>\n",
       "      <td>...</td>\n",
       "      <td>...</td>\n",
       "    </tr>\n",
       "    <tr>\n",
       "      <th>320174</th>\n",
       "      <td>3700</td>\n",
       "      <td>small</td>\n",
       "      <td>2006</td>\n",
       "      <td>auto</td>\n",
       "      <td>5</td>\n",
       "      <td>unknown</td>\n",
       "      <td>40000</td>\n",
       "      <td>4</td>\n",
       "      <td>gasoline</td>\n",
       "      <td>sonstige_autos</td>\n",
       "      <td>no</td>\n",
       "    </tr>\n",
       "    <tr>\n",
       "      <th>322194</th>\n",
       "      <td>1850</td>\n",
       "      <td>small</td>\n",
       "      <td>2003</td>\n",
       "      <td>auto</td>\n",
       "      <td>5</td>\n",
       "      <td>unknown</td>\n",
       "      <td>50000</td>\n",
       "      <td>3</td>\n",
       "      <td>gasoline</td>\n",
       "      <td>sonstige_autos</td>\n",
       "      <td>yes</td>\n",
       "    </tr>\n",
       "    <tr>\n",
       "      <th>322783</th>\n",
       "      <td>1500</td>\n",
       "      <td>unknown</td>\n",
       "      <td>2016</td>\n",
       "      <td>unknown</td>\n",
       "      <td>2</td>\n",
       "      <td>unknown</td>\n",
       "      <td>150000</td>\n",
       "      <td>5</td>\n",
       "      <td>gasoline</td>\n",
       "      <td>volkswagen</td>\n",
       "      <td>unknown</td>\n",
       "    </tr>\n",
       "    <tr>\n",
       "      <th>325753</th>\n",
       "      <td>8600</td>\n",
       "      <td>convertible</td>\n",
       "      <td>2012</td>\n",
       "      <td>manual</td>\n",
       "      <td>8</td>\n",
       "      <td>unknown</td>\n",
       "      <td>5000</td>\n",
       "      <td>3</td>\n",
       "      <td>gasoline</td>\n",
       "      <td>sonstige_autos</td>\n",
       "      <td>no</td>\n",
       "    </tr>\n",
       "    <tr>\n",
       "      <th>326818</th>\n",
       "      <td>3999</td>\n",
       "      <td>wagon</td>\n",
       "      <td>2005</td>\n",
       "      <td>manual</td>\n",
       "      <td>3</td>\n",
       "      <td>3er</td>\n",
       "      <td>150000</td>\n",
       "      <td>5</td>\n",
       "      <td>gasoline</td>\n",
       "      <td>bmw</td>\n",
       "      <td>no</td>\n",
       "    </tr>\n",
       "  </tbody>\n",
       "</table>\n",
       "<p>205 rows × 11 columns</p>\n",
       "</div>"
      ],
      "text/plain": [
       "        Price VehicleType_cat  RegistrationYear Gearbox_cat  Power Model_cat  \\\n",
       "431      3950           small              2004        auto      5   unknown   \n",
       "3347     1990           small              2004     unknown      7      polo   \n",
       "9524     9000           sedan              2009      manual      2        a4   \n",
       "11796    1999           coupe              1964      manual     10   unknown   \n",
       "12685    2850           small              2005        auto      5   unknown   \n",
       "...       ...             ...               ...         ...    ...       ...   \n",
       "320174   3700           small              2006        auto      5   unknown   \n",
       "322194   1850           small              2003        auto      5   unknown   \n",
       "322783   1500         unknown              2016     unknown      2   unknown   \n",
       "325753   8600     convertible              2012      manual      8   unknown   \n",
       "326818   3999           wagon              2005      manual      3       3er   \n",
       "\n",
       "        Kilometer  RegistrationMonth FuelType_cat       Brand_cat Repaired_cat  \n",
       "431         70000                  5     gasoline  sonstige_autos           no  \n",
       "3347       150000                  5     gasoline      volkswagen           no  \n",
       "9524         5000                 12     gasoline            audi      unknown  \n",
       "11796      150000                  6       petrol  sonstige_autos      unknown  \n",
       "12685       40000                  8     gasoline  sonstige_autos           no  \n",
       "...           ...                ...          ...             ...          ...  \n",
       "320174      40000                  4     gasoline  sonstige_autos           no  \n",
       "322194      50000                  3     gasoline  sonstige_autos          yes  \n",
       "322783     150000                  5     gasoline      volkswagen      unknown  \n",
       "325753       5000                  3     gasoline  sonstige_autos           no  \n",
       "326818     150000                  5     gasoline             bmw           no  \n",
       "\n",
       "[205 rows x 11 columns]"
      ]
     },
     "execution_count": 29,
     "metadata": {},
     "output_type": "execute_result"
    }
   ],
   "source": [
    "autos.query('Power <= 10')"
   ]
  },
  {
   "cell_type": "markdown",
   "metadata": {},
   "source": [
    "Автомобили из таблицы, довольно современные - мощность их двигателей превышает 10 л.с. Кроме одного - Сitroen Convertible C3 1923 года выпуска, который действительно имел мощность 8 л.с. "
   ]
  },
  {
   "cell_type": "markdown",
   "metadata": {},
   "source": [
    "Очистим строки с мощностью машин более 500 л.с - 209 строк и меньше 10 л.с."
   ]
  },
  {
   "cell_type": "code",
   "execution_count": 30,
   "metadata": {},
   "outputs": [
    {
     "name": "stdout",
     "output_type": "stream",
     "text": [
      "<class 'pandas.core.frame.DataFrame'>\n",
      "RangeIndex: 281097 entries, 0 to 281096\n",
      "Data columns (total 11 columns):\n",
      " #   Column             Non-Null Count   Dtype \n",
      "---  ------             --------------   ----- \n",
      " 0   Price              281097 non-null  int64 \n",
      " 1   VehicleType_cat    281097 non-null  object\n",
      " 2   RegistrationYear   281097 non-null  int64 \n",
      " 3   Gearbox_cat        281097 non-null  object\n",
      " 4   Power              281097 non-null  int64 \n",
      " 5   Model_cat          281097 non-null  object\n",
      " 6   Kilometer          281097 non-null  int64 \n",
      " 7   RegistrationMonth  281097 non-null  int64 \n",
      " 8   FuelType_cat       281097 non-null  object\n",
      " 9   Brand_cat          281097 non-null  object\n",
      " 10  Repaired_cat       281097 non-null  object\n",
      "dtypes: int64(5), object(6)\n",
      "memory usage: 23.6+ MB\n"
     ]
    }
   ],
   "source": [
    "autos = autos.drop(autos.query('Power >= 500').index).reset_index(drop=True)\n",
    "autos = autos.drop(autos.query('Power <= 10').index).reset_index(drop=True)\n",
    "autos = autos.drop(autos.query('RegistrationYear < 1920 or RegistrationYear >= 2020').index).reset_index(drop=True)\n",
    "\n",
    "autos.info()"
   ]
  },
  {
   "cell_type": "markdown",
   "metadata": {},
   "source": [
    "Снова проверим дубликаты и удалим их:"
   ]
  },
  {
   "cell_type": "code",
   "execution_count": 31,
   "metadata": {},
   "outputs": [
    {
     "name": "stdout",
     "output_type": "stream",
     "text": [
      "0\n"
     ]
    }
   ],
   "source": [
    "print(autos.duplicated().sum())\n",
    "\n",
    "autos = autos.drop_duplicates().reset_index(drop=True)"
   ]
  },
  {
   "cell_type": "markdown",
   "metadata": {},
   "source": [
    "## Обучение моделей"
   ]
  },
  {
   "cell_type": "code",
   "execution_count": 32,
   "metadata": {},
   "outputs": [],
   "source": [
    "def time_score(model, features_train, target_train, features_test, target_test):\n",
    "    \n",
    "    start = time.time()    \n",
    "    model.fit(features_train, target_train)\n",
    "    train_time = time.time() - start\n",
    "    \n",
    "    start = time.time()  \n",
    "    predict = model.predict(features_test)\n",
    "    predict_time = time.time() - start\n",
    "\n",
    "    return train_time, predict_time, mean_squared_error(target_test, predict)**0.5"
   ]
  },
  {
   "cell_type": "markdown",
   "metadata": {},
   "source": [
    "Разделим датасет:"
   ]
  },
  {
   "cell_type": "code",
   "execution_count": 33,
   "metadata": {},
   "outputs": [],
   "source": [
    "from sklearn.model_selection import train_test_split\n",
    "features = autos.drop(['Price'], axis = 1)  \n",
    "target = autos['Price'] \n",
    "\n",
    "features_train, features_valid, target_train, target_valid = train_test_split(features, target, test_size=0.2, random_state=123)"
   ]
  },
  {
   "cell_type": "code",
   "execution_count": 34,
   "metadata": {},
   "outputs": [
    {
     "data": {
      "text/plain": [
       "(224877, 56220, 224877, 56220)"
      ]
     },
     "execution_count": 34,
     "metadata": {},
     "output_type": "execute_result"
    }
   ],
   "source": [
    "features_train.shape[0], features_valid.shape[0], target_train.shape[0], target_valid.shape[0]"
   ]
  },
  {
   "cell_type": "code",
   "execution_count": 35,
   "metadata": {},
   "outputs": [],
   "source": [
    "features_train[['VehicleType_cat', 'Gearbox_cat', 'Model_cat', 'FuelType_cat', 'Brand_cat', 'Repaired_cat']] = features_train[['VehicleType_cat', 'Gearbox_cat', 'Model_cat', 'FuelType_cat', 'Brand_cat', 'Repaired_cat']].astype('category')\n",
    "\n",
    "features_valid[['VehicleType_cat','Gearbox_cat','Model_cat','FuelType_cat','Brand_cat','Repaired_cat']] = features_valid[['VehicleType_cat','Gearbox_cat','Model_cat','FuelType_cat','Brand_cat','Repaired_cat']].astype('category')"
   ]
  },
  {
   "cell_type": "code",
   "execution_count": 36,
   "metadata": {},
   "outputs": [
    {
     "data": {
      "text/plain": [
       "[0, 2, 4, 7, 8, 9]"
      ]
     },
     "execution_count": 36,
     "metadata": {},
     "output_type": "execute_result"
    }
   ],
   "source": [
    "category_features = [c for c, col in enumerate(features_train.columns) if '_cat' in col]\n",
    "category_features"
   ]
  },
  {
   "cell_type": "code",
   "execution_count": 37,
   "metadata": {},
   "outputs": [
    {
     "name": "stderr",
     "output_type": "stream",
     "text": [
      "D:\\Programs\\anaconda3\\lib\\site-packages\\lightgbm\\basic.py:2065: UserWarning: Using categorical_feature in Dataset.\n",
      "  _log_warning('Using categorical_feature in Dataset.')\n"
     ]
    },
    {
     "name": "stdout",
     "output_type": "stream",
     "text": [
      "The rmse of LGBMRegressor prediction on train: 1570.577323911215\n",
      "The rmse of LGBMRegressor prediction on valid: 1605.3174821588534\n",
      "Wall time: 5.29 s\n"
     ]
    }
   ],
   "source": [
    "%%time\n",
    "import lightgbm as lgb\n",
    "estim = lgb.LGBMRegressor()\n",
    "estim.fit(features_train, target_train, eval_metric='rmse', categorical_feature=category_features)\n",
    "predicted_valid = estim.predict(features_valid)\n",
    "predicted_train = estim.predict(features_train)\n",
    "print('The rmse of LGBMRegressor prediction on train:', mean_squared_error(target_train, predicted_train) ** 0.5)\n",
    "print('The rmse of LGBMRegressor prediction on valid:', mean_squared_error(target_valid, predicted_valid) ** 0.5)"
   ]
  },
  {
   "cell_type": "markdown",
   "metadata": {},
   "source": [
    "**Вывод**"
   ]
  },
  {
   "cell_type": "markdown",
   "metadata": {},
   "source": [
    "Исходя из вычислительного ответа, можно сделать вывод, что модель `LGBMRegressor` достаточно точно предсказывает данные, потому что значение `RMSE` на тренировочной выборке и на валидационной выборке достаточно близко друг к другу."
   ]
  },
  {
   "cell_type": "markdown",
   "metadata": {},
   "source": [
    "## Анализ моделей"
   ]
  },
  {
   "cell_type": "markdown",
   "metadata": {},
   "source": [
    "Разброс значений цены между обучающей и валидационной выборках не сильно большой. Далее надо подобрать параметры для исследования модели с помощью `GridSearchCV`:"
   ]
  },
  {
   "cell_type": "code",
   "execution_count": 38,
   "metadata": {},
   "outputs": [
    {
     "name": "stdout",
     "output_type": "stream",
     "text": [
      "Best parameters: {'max_depth': 15, 'n_estimators': 250}\n",
      "Best score: -3421368.278660521\n",
      "Wall time: 3min 34s\n"
     ]
    }
   ],
   "source": [
    "%%time\n",
    "warnings.filterwarnings('ignore')\n",
    "estim_new = lgb.LGBMRegressor(num_leaves=31, learning_rate=0.01)\n",
    "\n",
    "param_grid = {\n",
    "    'n_estimators': [10,50,100,200,250],\n",
    "    'max_depth': [1,5,10,15,20]\n",
    "}\n",
    "\n",
    "cv = KFold(n_splits=3, shuffle=True)\n",
    "gbm = GridSearchCV(estimator=estim_new, param_grid=param_grid, cv=cv, scoring='neg_mean_squared_error', n_jobs=1)\n",
    "\n",
    "gbm.fit(features_train, target_train, categorical_feature=category_features)\n",
    "\n",
    "print('Best parameters:', gbm.best_params_)\n",
    "print('Best score:', gbm.best_score_)"
   ]
  },
  {
   "cell_type": "markdown",
   "metadata": {},
   "source": [
    "Полученные параметры:\n",
    "\n",
    "- Best parameters: {'max_depth': 15, 'n_estimators': 250}\n",
    "- Best score: -3421368.278660521\n",
    "- Wall time: 3min 34s\n",
    "\n",
    "В итоге имеем рекомендованные параметры `max_depth`: 15, `n_estimators`: 250, применим их на модели:"
   ]
  },
  {
   "cell_type": "code",
   "execution_count": 44,
   "metadata": {},
   "outputs": [
    {
     "name": "stdout",
     "output_type": "stream",
     "text": [
      "Wall time: 8.3 s\n"
     ]
    },
    {
     "data": {
      "text/plain": [
       "1829.2606971412679"
      ]
     },
     "execution_count": 44,
     "metadata": {},
     "output_type": "execute_result"
    }
   ],
   "source": [
    "%%time\n",
    "model = lgb.LGBMRegressor(num_leaves= 31, learning_rate=0.01, max_depth=15, n_estimators=250)\n",
    "model.fit(features_train, target_train, categorical_feature=category_features)\n",
    "predicted_valid1 = model.predict(features_valid)\n",
    "rmse = (mean_squared_error(target_valid, predicted_valid1))**0.5\n",
    "\n",
    "rmse"
   ]
  },
  {
   "cell_type": "code",
   "execution_count": 45,
   "metadata": {},
   "outputs": [],
   "source": [
    "import time\n",
    "result = []\n",
    "result.append(time_score(model, features_train, target_train, features_valid, target_valid))"
   ]
  },
  {
   "cell_type": "markdown",
   "metadata": {},
   "source": [
    "Обучим `CatBoost`:"
   ]
  },
  {
   "cell_type": "code",
   "execution_count": 46,
   "metadata": {
    "scrolled": true
   },
   "outputs": [
    {
     "name": "stdout",
     "output_type": "stream",
     "text": [
      "0:\tlearn: 4807.2981201\ttotal: 600ms\tremaining: 1m 59s\n",
      "10:\tlearn: 4041.3561709\ttotal: 4.62s\tremaining: 1m 19s\n",
      "20:\tlearn: 3496.7209358\ttotal: 8.58s\tremaining: 1m 13s\n",
      "30:\tlearn: 3112.9573294\ttotal: 12.7s\tremaining: 1m 9s\n",
      "40:\tlearn: 2820.8363022\ttotal: 16.8s\tremaining: 1m 5s\n",
      "50:\tlearn: 2601.8348449\ttotal: 20.8s\tremaining: 1m\n",
      "60:\tlearn: 2442.1490425\ttotal: 25s\tremaining: 56.9s\n",
      "70:\tlearn: 2315.4224692\ttotal: 29.1s\tremaining: 52.8s\n",
      "80:\tlearn: 2224.4508935\ttotal: 32.8s\tremaining: 48.1s\n",
      "90:\tlearn: 2154.6406419\ttotal: 36.3s\tremaining: 43.5s\n",
      "100:\tlearn: 2100.4679440\ttotal: 40.3s\tremaining: 39.5s\n",
      "110:\tlearn: 2057.0032657\ttotal: 44s\tremaining: 35.3s\n",
      "120:\tlearn: 2019.8313145\ttotal: 48s\tremaining: 31.4s\n",
      "130:\tlearn: 1987.7283423\ttotal: 52.3s\tremaining: 27.6s\n",
      "140:\tlearn: 1963.1315739\ttotal: 56.3s\tremaining: 23.6s\n",
      "150:\tlearn: 1944.4525740\ttotal: 1m\tremaining: 19.6s\n",
      "160:\tlearn: 1928.2675269\ttotal: 1m 4s\tremaining: 15.6s\n",
      "170:\tlearn: 1913.8590433\ttotal: 1m 8s\tremaining: 11.6s\n",
      "180:\tlearn: 1900.1962442\ttotal: 1m 12s\tremaining: 7.57s\n",
      "190:\tlearn: 1889.0331630\ttotal: 1m 15s\tremaining: 3.58s\n",
      "199:\tlearn: 1879.3452488\ttotal: 1m 19s\tremaining: 0us\n",
      "Wall time: 1min 20s\n"
     ]
    },
    {
     "data": {
      "text/plain": [
       "1863.6531256863307"
      ]
     },
     "execution_count": 46,
     "metadata": {},
     "output_type": "execute_result"
    }
   ],
   "source": [
    "%%time\n",
    "model_cat = CatBoostRegressor(n_estimators = 200, loss_function = 'MAE', eval_metric = 'RMSE', cat_features = category_features)\n",
    "model_cat.fit(features_train, target_train, cat_features=category_features, verbose=10)\n",
    "predicted_valid2 = model_cat.predict(features_valid)\n",
    "rmse = (mean_squared_error(target_valid, predicted_valid2))**0.5\n",
    "rmse"
   ]
  },
  {
   "cell_type": "code",
   "execution_count": 47,
   "metadata": {},
   "outputs": [
    {
     "name": "stdout",
     "output_type": "stream",
     "text": [
      "0:\tlearn: 4807.2981201\ttotal: 634ms\tremaining: 2m 6s\n",
      "1:\tlearn: 4722.4526862\ttotal: 1.17s\tremaining: 1m 55s\n",
      "2:\tlearn: 4633.8664223\ttotal: 1.65s\tremaining: 1m 48s\n",
      "3:\tlearn: 4550.3373059\ttotal: 2.14s\tremaining: 1m 44s\n",
      "4:\tlearn: 4470.8174473\ttotal: 2.6s\tremaining: 1m 41s\n",
      "5:\tlearn: 4387.2622069\ttotal: 3s\tremaining: 1m 37s\n",
      "6:\tlearn: 4313.7216638\ttotal: 3.35s\tremaining: 1m 32s\n",
      "7:\tlearn: 4244.0001672\ttotal: 3.73s\tremaining: 1m 29s\n",
      "8:\tlearn: 4178.8520342\ttotal: 4.08s\tremaining: 1m 26s\n",
      "9:\tlearn: 4111.5213886\ttotal: 4.49s\tremaining: 1m 25s\n",
      "10:\tlearn: 4041.3561709\ttotal: 4.89s\tremaining: 1m 24s\n",
      "11:\tlearn: 3976.1141016\ttotal: 5.29s\tremaining: 1m 22s\n",
      "12:\tlearn: 3922.4650803\ttotal: 5.71s\tremaining: 1m 22s\n",
      "13:\tlearn: 3864.7744655\ttotal: 6.09s\tremaining: 1m 20s\n",
      "14:\tlearn: 3811.6138856\ttotal: 6.43s\tremaining: 1m 19s\n",
      "15:\tlearn: 3755.2212823\ttotal: 6.82s\tremaining: 1m 18s\n",
      "16:\tlearn: 3697.5395287\ttotal: 7.19s\tremaining: 1m 17s\n",
      "17:\tlearn: 3643.7692871\ttotal: 7.63s\tremaining: 1m 17s\n",
      "18:\tlearn: 3591.3697476\ttotal: 8.01s\tremaining: 1m 16s\n",
      "19:\tlearn: 3545.1366291\ttotal: 8.39s\tremaining: 1m 15s\n",
      "20:\tlearn: 3496.7209358\ttotal: 8.82s\tremaining: 1m 15s\n",
      "21:\tlearn: 3450.5684979\ttotal: 9.19s\tremaining: 1m 14s\n",
      "22:\tlearn: 3405.7094837\ttotal: 9.58s\tremaining: 1m 13s\n",
      "23:\tlearn: 3360.5092380\ttotal: 9.98s\tremaining: 1m 13s\n",
      "24:\tlearn: 3322.2669768\ttotal: 10.4s\tremaining: 1m 12s\n",
      "25:\tlearn: 3285.9084761\ttotal: 10.8s\tremaining: 1m 12s\n",
      "26:\tlearn: 3250.7811682\ttotal: 11.1s\tremaining: 1m 11s\n",
      "27:\tlearn: 3214.7153437\ttotal: 11.6s\tremaining: 1m 11s\n",
      "28:\tlearn: 3181.3269543\ttotal: 12s\tremaining: 1m 10s\n",
      "29:\tlearn: 3145.7035326\ttotal: 12.3s\tremaining: 1m 9s\n",
      "30:\tlearn: 3112.9573294\ttotal: 12.8s\tremaining: 1m 9s\n",
      "31:\tlearn: 3085.2118094\ttotal: 13.1s\tremaining: 1m 8s\n",
      "32:\tlearn: 3047.1604468\ttotal: 13.5s\tremaining: 1m 8s\n",
      "33:\tlearn: 3011.2535543\ttotal: 13.9s\tremaining: 1m 8s\n",
      "34:\tlearn: 2984.1271061\ttotal: 14.3s\tremaining: 1m 7s\n",
      "35:\tlearn: 2954.7834691\ttotal: 14.8s\tremaining: 1m 7s\n",
      "36:\tlearn: 2925.1727770\ttotal: 15.2s\tremaining: 1m 6s\n",
      "37:\tlearn: 2900.5734029\ttotal: 15.6s\tremaining: 1m 6s\n",
      "38:\tlearn: 2872.6243563\ttotal: 15.9s\tremaining: 1m 5s\n",
      "39:\tlearn: 2849.1772684\ttotal: 16.3s\tremaining: 1m 5s\n",
      "40:\tlearn: 2820.8363022\ttotal: 16.7s\tremaining: 1m 4s\n",
      "41:\tlearn: 2793.4773679\ttotal: 17.2s\tremaining: 1m 4s\n",
      "42:\tlearn: 2771.2481804\ttotal: 17.6s\tremaining: 1m 4s\n",
      "43:\tlearn: 2746.4116090\ttotal: 18s\tremaining: 1m 3s\n",
      "44:\tlearn: 2726.6912243\ttotal: 18.4s\tremaining: 1m 3s\n",
      "45:\tlearn: 2702.9540394\ttotal: 18.8s\tremaining: 1m 2s\n",
      "46:\tlearn: 2679.9746944\ttotal: 19.1s\tremaining: 1m 2s\n",
      "47:\tlearn: 2658.7880176\ttotal: 19.6s\tremaining: 1m 1s\n",
      "48:\tlearn: 2638.6474270\ttotal: 19.9s\tremaining: 1m 1s\n",
      "49:\tlearn: 2619.4361342\ttotal: 20.3s\tremaining: 1m\n",
      "50:\tlearn: 2601.8348449\ttotal: 20.7s\tremaining: 1m\n",
      "51:\tlearn: 2581.6503333\ttotal: 21.1s\tremaining: 60s\n",
      "52:\tlearn: 2563.0162417\ttotal: 21.4s\tremaining: 59.5s\n",
      "53:\tlearn: 2545.4250725\ttotal: 21.9s\tremaining: 59.2s\n",
      "54:\tlearn: 2529.6706014\ttotal: 22.4s\tremaining: 59s\n",
      "55:\tlearn: 2513.6980020\ttotal: 22.8s\tremaining: 58.7s\n",
      "56:\tlearn: 2497.8598099\ttotal: 23.3s\tremaining: 58.4s\n",
      "57:\tlearn: 2482.4896002\ttotal: 23.7s\tremaining: 58s\n",
      "58:\tlearn: 2471.6085074\ttotal: 24.1s\tremaining: 57.6s\n",
      "59:\tlearn: 2457.3815949\ttotal: 24.6s\tremaining: 57.4s\n",
      "60:\tlearn: 2442.1490425\ttotal: 25.1s\tremaining: 57.1s\n",
      "61:\tlearn: 2424.5091042\ttotal: 25.6s\tremaining: 56.9s\n",
      "62:\tlearn: 2406.4341859\ttotal: 26.1s\tremaining: 56.7s\n",
      "63:\tlearn: 2396.2457174\ttotal: 26.5s\tremaining: 56.4s\n",
      "64:\tlearn: 2380.1483518\ttotal: 26.9s\tremaining: 55.8s\n",
      "65:\tlearn: 2368.4009948\ttotal: 27.4s\tremaining: 55.7s\n",
      "66:\tlearn: 2355.7867608\ttotal: 28s\tremaining: 55.6s\n",
      "67:\tlearn: 2345.6007562\ttotal: 28.4s\tremaining: 55.2s\n",
      "68:\tlearn: 2336.5301367\ttotal: 28.9s\tremaining: 54.9s\n",
      "69:\tlearn: 2326.9852878\ttotal: 29.3s\tremaining: 54.3s\n",
      "70:\tlearn: 2315.4224692\ttotal: 29.8s\tremaining: 54.1s\n",
      "71:\tlearn: 2305.8401320\ttotal: 30.1s\tremaining: 53.5s\n",
      "72:\tlearn: 2297.5615626\ttotal: 30.4s\tremaining: 52.9s\n",
      "73:\tlearn: 2287.5777767\ttotal: 30.9s\tremaining: 52.5s\n",
      "74:\tlearn: 2279.6409426\ttotal: 31.2s\tremaining: 52s\n",
      "75:\tlearn: 2269.3911097\ttotal: 31.7s\tremaining: 51.7s\n",
      "76:\tlearn: 2257.8424659\ttotal: 32.1s\tremaining: 51.3s\n",
      "77:\tlearn: 2248.4486110\ttotal: 32.5s\tremaining: 50.9s\n",
      "78:\tlearn: 2242.3412922\ttotal: 32.8s\tremaining: 50.3s\n",
      "79:\tlearn: 2232.2471981\ttotal: 33.3s\tremaining: 49.9s\n",
      "80:\tlearn: 2224.4508935\ttotal: 33.6s\tremaining: 49.4s\n",
      "81:\tlearn: 2215.3620898\ttotal: 34.1s\tremaining: 49s\n",
      "82:\tlearn: 2206.4251738\ttotal: 34.5s\tremaining: 48.6s\n",
      "83:\tlearn: 2200.8452271\ttotal: 34.9s\tremaining: 48.1s\n",
      "84:\tlearn: 2194.8051439\ttotal: 35.2s\tremaining: 47.7s\n",
      "85:\tlearn: 2185.5495689\ttotal: 35.6s\tremaining: 47.1s\n",
      "86:\tlearn: 2177.6909640\ttotal: 35.9s\tremaining: 46.7s\n",
      "87:\tlearn: 2170.9726736\ttotal: 36.3s\tremaining: 46.2s\n",
      "88:\tlearn: 2164.5023203\ttotal: 36.7s\tremaining: 45.8s\n",
      "89:\tlearn: 2157.8533962\ttotal: 37s\tremaining: 45.3s\n",
      "90:\tlearn: 2154.6406419\ttotal: 37.4s\tremaining: 44.8s\n",
      "91:\tlearn: 2148.8488483\ttotal: 37.7s\tremaining: 44.3s\n",
      "92:\tlearn: 2143.3660063\ttotal: 38.1s\tremaining: 43.9s\n",
      "93:\tlearn: 2137.2039897\ttotal: 38.6s\tremaining: 43.5s\n",
      "94:\tlearn: 2130.6951590\ttotal: 39s\tremaining: 43.1s\n",
      "95:\tlearn: 2125.2558218\ttotal: 39.4s\tremaining: 42.6s\n",
      "96:\tlearn: 2119.4696261\ttotal: 39.7s\tremaining: 42.2s\n",
      "97:\tlearn: 2116.4298921\ttotal: 40.1s\tremaining: 41.7s\n",
      "98:\tlearn: 2109.8325361\ttotal: 40.5s\tremaining: 41.3s\n",
      "99:\tlearn: 2104.8227337\ttotal: 40.9s\tremaining: 40.9s\n",
      "100:\tlearn: 2100.4679440\ttotal: 41.3s\tremaining: 40.5s\n",
      "101:\tlearn: 2096.2941836\ttotal: 41.6s\tremaining: 40s\n",
      "102:\tlearn: 2090.9533265\ttotal: 42s\tremaining: 39.6s\n",
      "103:\tlearn: 2086.5439225\ttotal: 42.4s\tremaining: 39.1s\n",
      "104:\tlearn: 2081.9372787\ttotal: 42.8s\tremaining: 38.7s\n",
      "105:\tlearn: 2078.1384599\ttotal: 43.3s\tremaining: 38.4s\n",
      "106:\tlearn: 2072.9919294\ttotal: 43.8s\tremaining: 38s\n",
      "107:\tlearn: 2068.3922968\ttotal: 44.2s\tremaining: 37.7s\n",
      "108:\tlearn: 2065.4064841\ttotal: 44.7s\tremaining: 37.3s\n",
      "109:\tlearn: 2062.2814142\ttotal: 45.1s\tremaining: 36.9s\n",
      "110:\tlearn: 2057.0032657\ttotal: 45.7s\tremaining: 36.7s\n",
      "111:\tlearn: 2054.8858956\ttotal: 46.2s\tremaining: 36.3s\n",
      "112:\tlearn: 2048.5651023\ttotal: 46.8s\tremaining: 36s\n",
      "113:\tlearn: 2044.4790629\ttotal: 47.3s\tremaining: 35.7s\n",
      "114:\tlearn: 2040.5999013\ttotal: 47.9s\tremaining: 35.4s\n",
      "115:\tlearn: 2036.2809920\ttotal: 48.4s\tremaining: 35.1s\n",
      "116:\tlearn: 2032.5304989\ttotal: 49.1s\tremaining: 34.8s\n",
      "117:\tlearn: 2028.1057589\ttotal: 49.6s\tremaining: 34.5s\n",
      "118:\tlearn: 2026.0398078\ttotal: 50.2s\tremaining: 34.1s\n",
      "119:\tlearn: 2023.3598071\ttotal: 50.7s\tremaining: 33.8s\n",
      "120:\tlearn: 2019.8313145\ttotal: 51.2s\tremaining: 33.4s\n",
      "121:\tlearn: 2016.7279757\ttotal: 51.7s\tremaining: 33.1s\n",
      "122:\tlearn: 2013.9149348\ttotal: 52.2s\tremaining: 32.7s\n",
      "123:\tlearn: 2010.7810623\ttotal: 52.6s\tremaining: 32.3s\n",
      "124:\tlearn: 2007.1895807\ttotal: 53.2s\tremaining: 31.9s\n",
      "125:\tlearn: 2002.6679552\ttotal: 53.8s\tremaining: 31.6s\n",
      "126:\tlearn: 1999.4189510\ttotal: 54.3s\tremaining: 31.2s\n",
      "127:\tlearn: 1995.8076609\ttotal: 54.8s\tremaining: 30.8s\n",
      "128:\tlearn: 1992.8862158\ttotal: 55.4s\tremaining: 30.5s\n",
      "129:\tlearn: 1990.7562311\ttotal: 55.9s\tremaining: 30.1s\n",
      "130:\tlearn: 1987.7283423\ttotal: 56.4s\tremaining: 29.7s\n",
      "131:\tlearn: 1985.8025002\ttotal: 56.8s\tremaining: 29.3s\n",
      "132:\tlearn: 1982.8601233\ttotal: 57.2s\tremaining: 28.8s\n",
      "133:\tlearn: 1980.6622218\ttotal: 57.7s\tremaining: 28.4s\n",
      "134:\tlearn: 1978.6882105\ttotal: 58s\tremaining: 27.9s\n",
      "135:\tlearn: 1976.5595102\ttotal: 58.4s\tremaining: 27.5s\n",
      "136:\tlearn: 1973.6808447\ttotal: 58.7s\tremaining: 27s\n",
      "137:\tlearn: 1971.0147454\ttotal: 59.1s\tremaining: 26.5s\n",
      "138:\tlearn: 1968.6649776\ttotal: 59.5s\tremaining: 26.1s\n",
      "139:\tlearn: 1965.9648603\ttotal: 59.9s\tremaining: 25.7s\n",
      "140:\tlearn: 1963.1315739\ttotal: 1m\tremaining: 25.2s\n",
      "141:\tlearn: 1961.0483412\ttotal: 1m\tremaining: 24.8s\n",
      "142:\tlearn: 1959.7276976\ttotal: 1m\tremaining: 24.3s\n",
      "143:\tlearn: 1956.9853500\ttotal: 1m 1s\tremaining: 23.9s\n",
      "144:\tlearn: 1955.1517678\ttotal: 1m 1s\tremaining: 23.4s\n",
      "145:\tlearn: 1953.3765565\ttotal: 1m 2s\tremaining: 23s\n",
      "146:\tlearn: 1951.5777777\ttotal: 1m 2s\tremaining: 22.6s\n",
      "147:\tlearn: 1948.9494092\ttotal: 1m 3s\tremaining: 22.2s\n",
      "148:\tlearn: 1947.5241040\ttotal: 1m 3s\tremaining: 21.7s\n",
      "149:\tlearn: 1945.6181699\ttotal: 1m 3s\tremaining: 21.3s\n",
      "150:\tlearn: 1944.4525740\ttotal: 1m 4s\tremaining: 20.9s\n",
      "151:\tlearn: 1942.5353029\ttotal: 1m 4s\tremaining: 20.5s\n",
      "152:\tlearn: 1941.0926433\ttotal: 1m 5s\tremaining: 20.1s\n",
      "153:\tlearn: 1939.7202257\ttotal: 1m 5s\tremaining: 19.7s\n",
      "154:\tlearn: 1937.5292459\ttotal: 1m 6s\tremaining: 19.2s\n",
      "155:\tlearn: 1935.7412156\ttotal: 1m 6s\tremaining: 18.8s\n",
      "156:\tlearn: 1934.4179157\ttotal: 1m 7s\tremaining: 18.4s\n",
      "157:\tlearn: 1933.2580195\ttotal: 1m 7s\tremaining: 18s\n",
      "158:\tlearn: 1931.8684085\ttotal: 1m 7s\tremaining: 17.5s\n",
      "159:\tlearn: 1930.0424295\ttotal: 1m 8s\tremaining: 17.1s\n",
      "160:\tlearn: 1928.2675269\ttotal: 1m 8s\tremaining: 16.7s\n",
      "161:\tlearn: 1926.7539656\ttotal: 1m 9s\tremaining: 16.3s\n",
      "162:\tlearn: 1925.5989636\ttotal: 1m 9s\tremaining: 15.8s\n",
      "163:\tlearn: 1923.6877965\ttotal: 1m 9s\tremaining: 15.4s\n",
      "164:\tlearn: 1922.3206891\ttotal: 1m 10s\tremaining: 14.9s\n",
      "165:\tlearn: 1920.1465115\ttotal: 1m 10s\tremaining: 14.5s\n",
      "166:\tlearn: 1918.4723107\ttotal: 1m 11s\tremaining: 14.1s\n",
      "167:\tlearn: 1917.0575272\ttotal: 1m 11s\tremaining: 13.6s\n",
      "168:\tlearn: 1916.2407500\ttotal: 1m 12s\tremaining: 13.2s\n",
      "169:\tlearn: 1914.9593066\ttotal: 1m 12s\tremaining: 12.8s\n",
      "170:\tlearn: 1913.8590433\ttotal: 1m 12s\tremaining: 12.4s\n",
      "171:\tlearn: 1912.5144191\ttotal: 1m 13s\tremaining: 12s\n",
      "172:\tlearn: 1910.3835993\ttotal: 1m 13s\tremaining: 11.5s\n",
      "173:\tlearn: 1909.2819492\ttotal: 1m 14s\tremaining: 11.1s\n",
      "174:\tlearn: 1908.2694392\ttotal: 1m 14s\tremaining: 10.7s\n",
      "175:\tlearn: 1906.7630766\ttotal: 1m 15s\tremaining: 10.3s\n",
      "176:\tlearn: 1905.0675637\ttotal: 1m 15s\tremaining: 9.84s\n",
      "177:\tlearn: 1903.6947537\ttotal: 1m 16s\tremaining: 9.41s\n",
      "178:\tlearn: 1902.3052118\ttotal: 1m 16s\tremaining: 9s\n",
      "179:\tlearn: 1901.1914379\ttotal: 1m 17s\tremaining: 8.58s\n",
      "180:\tlearn: 1900.1962442\ttotal: 1m 17s\tremaining: 8.14s\n",
      "181:\tlearn: 1899.1969392\ttotal: 1m 17s\tremaining: 7.71s\n",
      "182:\tlearn: 1897.6469198\ttotal: 1m 18s\tremaining: 7.29s\n",
      "183:\tlearn: 1896.3347420\ttotal: 1m 19s\tremaining: 6.87s\n",
      "184:\tlearn: 1895.2867487\ttotal: 1m 19s\tremaining: 6.45s\n",
      "185:\tlearn: 1894.1784428\ttotal: 1m 20s\tremaining: 6.02s\n",
      "186:\tlearn: 1893.1274674\ttotal: 1m 20s\tremaining: 5.6s\n",
      "187:\tlearn: 1891.8341939\ttotal: 1m 21s\tremaining: 5.17s\n",
      "188:\tlearn: 1891.3295987\ttotal: 1m 21s\tremaining: 4.74s\n",
      "189:\tlearn: 1890.3911200\ttotal: 1m 21s\tremaining: 4.31s\n",
      "190:\tlearn: 1889.0331630\ttotal: 1m 22s\tremaining: 3.88s\n",
      "191:\tlearn: 1888.7254436\ttotal: 1m 22s\tremaining: 3.45s\n",
      "192:\tlearn: 1887.5787813\ttotal: 1m 23s\tremaining: 3.02s\n",
      "193:\tlearn: 1886.6128431\ttotal: 1m 23s\tremaining: 2.59s\n",
      "194:\tlearn: 1885.8182102\ttotal: 1m 24s\tremaining: 2.16s\n",
      "195:\tlearn: 1884.7492453\ttotal: 1m 24s\tremaining: 1.73s\n",
      "196:\tlearn: 1883.5107989\ttotal: 1m 25s\tremaining: 1.3s\n",
      "197:\tlearn: 1881.6728185\ttotal: 1m 25s\tremaining: 866ms\n",
      "198:\tlearn: 1880.1876902\ttotal: 1m 26s\tremaining: 433ms\n",
      "199:\tlearn: 1879.3452488\ttotal: 1m 26s\tremaining: 0us\n"
     ]
    }
   ],
   "source": [
    "result.append(time_score(model_cat, features_train, target_train, features_valid, target_valid))"
   ]
  },
  {
   "cell_type": "code",
   "execution_count": 48,
   "metadata": {},
   "outputs": [
    {
     "data": {
      "text/html": [
       "<div>\n",
       "<style scoped>\n",
       "    .dataframe tbody tr th:only-of-type {\n",
       "        vertical-align: middle;\n",
       "    }\n",
       "\n",
       "    .dataframe tbody tr th {\n",
       "        vertical-align: top;\n",
       "    }\n",
       "\n",
       "    .dataframe thead th {\n",
       "        text-align: right;\n",
       "    }\n",
       "</style>\n",
       "<table border=\"1\" class=\"dataframe\">\n",
       "  <thead>\n",
       "    <tr style=\"text-align: right;\">\n",
       "      <th></th>\n",
       "      <th>Время_обучения</th>\n",
       "      <th>Время_Предсказания</th>\n",
       "      <th>RMSE</th>\n",
       "    </tr>\n",
       "  </thead>\n",
       "  <tbody>\n",
       "    <tr>\n",
       "      <th>LightGBM</th>\n",
       "      <td>6.878146</td>\n",
       "      <td>0.770526</td>\n",
       "      <td>1829.260697</td>\n",
       "    </tr>\n",
       "    <tr>\n",
       "      <th>CatBoost</th>\n",
       "      <td>87.589934</td>\n",
       "      <td>0.157204</td>\n",
       "      <td>1863.653126</td>\n",
       "    </tr>\n",
       "  </tbody>\n",
       "</table>\n",
       "</div>"
      ],
      "text/plain": [
       "          Время_обучения  Время_Предсказания         RMSE\n",
       "LightGBM        6.878146            0.770526  1829.260697\n",
       "CatBoost       87.589934            0.157204  1863.653126"
      ]
     },
     "execution_count": 48,
     "metadata": {},
     "output_type": "execute_result"
    }
   ],
   "source": [
    "pd.DataFrame(data=result,\n",
    "index=['LightGBM', 'CatBoost'],\n",
    "columns=['Время_обучения', 'Время_Предсказания', 'RMSE'])"
   ]
  },
  {
   "cell_type": "markdown",
   "metadata": {},
   "source": [
    "**Вывод**"
   ]
  },
  {
   "cell_type": "markdown",
   "metadata": {},
   "source": [
    "На основании представленных показателей можно сделать вывод, что `LightGBM` обучается быстрее и дает более точные прогнозы (меньший `RMSE`), но в то же время требует больше времени на предсказание. `CatBoost` же обладает более быстрым временем предсказания, но обучается значительно медленнее и дает менее точные результаты. Так как для заказчика наиболее важными является скорость обучения и высокая точность прогнозов, то выбираем модель `LightGBM`."
   ]
  }
 ],
 "metadata": {
  "ExecuteTimeLog": [
   {
    "duration": 1919,
    "start_time": "2023-06-05T13:12:56.519Z"
   },
   {
    "duration": 12,
    "start_time": "2023-06-05T13:13:06.968Z"
   },
   {
    "duration": 2825,
    "start_time": "2023-06-05T13:13:44.503Z"
   },
   {
    "duration": 136,
    "start_time": "2023-06-05T13:18:09.859Z"
   },
   {
    "duration": 1047,
    "start_time": "2023-06-05T13:19:16.334Z"
   },
   {
    "duration": 248,
    "start_time": "2023-06-05T13:19:25.212Z"
   },
   {
    "duration": 9,
    "start_time": "2023-06-05T13:19:49.048Z"
   },
   {
    "duration": 1925,
    "start_time": "2023-06-05T13:19:57.099Z"
   },
   {
    "duration": 2777,
    "start_time": "2023-06-05T13:20:16.878Z"
   },
   {
    "duration": 4336,
    "start_time": "2023-06-05T13:20:32.478Z"
   },
   {
    "duration": 1887,
    "start_time": "2023-06-05T13:20:52.757Z"
   },
   {
    "duration": 1820,
    "start_time": "2023-06-05T13:21:00.676Z"
   },
   {
    "duration": 1694,
    "start_time": "2023-06-05T13:21:10.630Z"
   },
   {
    "duration": 1798,
    "start_time": "2023-06-05T13:21:15.897Z"
   },
   {
    "duration": 1842,
    "start_time": "2023-06-05T13:21:30.155Z"
   },
   {
    "duration": 1736,
    "start_time": "2023-06-05T13:21:41.341Z"
   },
   {
    "duration": 1679,
    "start_time": "2023-06-05T13:21:50.277Z"
   },
   {
    "duration": 319,
    "start_time": "2023-06-05T13:22:18.972Z"
   },
   {
    "duration": 349,
    "start_time": "2023-06-05T13:22:23.721Z"
   },
   {
    "duration": 429,
    "start_time": "2023-06-05T13:22:38.410Z"
   },
   {
    "duration": 125,
    "start_time": "2023-06-05T13:23:19.603Z"
   },
   {
    "duration": 231,
    "start_time": "2023-06-05T13:23:39.035Z"
   },
   {
    "duration": 68,
    "start_time": "2023-06-05T13:23:55.603Z"
   },
   {
    "duration": 290,
    "start_time": "2023-06-05T13:24:04.074Z"
   },
   {
    "duration": 26,
    "start_time": "2023-06-05T13:24:12.697Z"
   },
   {
    "duration": 2095,
    "start_time": "2023-06-05T13:24:32.613Z"
   },
   {
    "duration": 224,
    "start_time": "2023-06-05T13:24:45.788Z"
   },
   {
    "duration": 20,
    "start_time": "2023-06-05T13:25:11.993Z"
   },
   {
    "duration": 380,
    "start_time": "2023-06-05T13:25:30.769Z"
   },
   {
    "duration": 444,
    "start_time": "2023-06-05T13:25:50.046Z"
   },
   {
    "duration": 2,
    "start_time": "2023-06-05T13:26:36.093Z"
   },
   {
    "duration": 308,
    "start_time": "2023-06-05T13:26:58.913Z"
   },
   {
    "duration": 62,
    "start_time": "2023-06-05T13:27:25.027Z"
   },
   {
    "duration": 68,
    "start_time": "2023-06-05T13:27:55.805Z"
   },
   {
    "duration": 50,
    "start_time": "2023-06-05T13:28:02.341Z"
   },
   {
    "duration": 23,
    "start_time": "2023-06-05T13:28:23.006Z"
   },
   {
    "duration": 82,
    "start_time": "2023-06-05T13:28:38.951Z"
   },
   {
    "duration": 77,
    "start_time": "2023-06-05T13:28:46.195Z"
   },
   {
    "duration": 13,
    "start_time": "2023-06-05T13:29:04.487Z"
   },
   {
    "duration": 83,
    "start_time": "2023-06-05T13:29:31.655Z"
   },
   {
    "duration": 10,
    "start_time": "2023-06-05T13:29:33.423Z"
   },
   {
    "duration": 12,
    "start_time": "2023-06-05T13:29:51.357Z"
   },
   {
    "duration": 1716,
    "start_time": "2023-06-05T13:30:02.930Z"
   },
   {
    "duration": 0,
    "start_time": "2023-06-05T13:30:04.650Z"
   },
   {
    "duration": 0,
    "start_time": "2023-06-05T13:30:04.651Z"
   },
   {
    "duration": 0,
    "start_time": "2023-06-05T13:30:04.652Z"
   },
   {
    "duration": 0,
    "start_time": "2023-06-05T13:30:04.652Z"
   },
   {
    "duration": 0,
    "start_time": "2023-06-05T13:30:04.653Z"
   },
   {
    "duration": 0,
    "start_time": "2023-06-05T13:30:04.654Z"
   },
   {
    "duration": 0,
    "start_time": "2023-06-05T13:30:04.655Z"
   },
   {
    "duration": 0,
    "start_time": "2023-06-05T13:30:04.656Z"
   },
   {
    "duration": 0,
    "start_time": "2023-06-05T13:30:04.657Z"
   },
   {
    "duration": 0,
    "start_time": "2023-06-05T13:30:04.675Z"
   },
   {
    "duration": 0,
    "start_time": "2023-06-05T13:30:04.676Z"
   },
   {
    "duration": 0,
    "start_time": "2023-06-05T13:30:04.676Z"
   },
   {
    "duration": 0,
    "start_time": "2023-06-05T13:30:04.678Z"
   },
   {
    "duration": 0,
    "start_time": "2023-06-05T13:30:04.678Z"
   },
   {
    "duration": 0,
    "start_time": "2023-06-05T13:30:04.680Z"
   },
   {
    "duration": 0,
    "start_time": "2023-06-05T13:30:04.681Z"
   },
   {
    "duration": 0,
    "start_time": "2023-06-05T13:30:04.681Z"
   },
   {
    "duration": 0,
    "start_time": "2023-06-05T13:30:04.682Z"
   },
   {
    "duration": 0,
    "start_time": "2023-06-05T13:30:04.683Z"
   },
   {
    "duration": 0,
    "start_time": "2023-06-05T13:30:04.684Z"
   },
   {
    "duration": 0,
    "start_time": "2023-06-05T13:30:04.685Z"
   },
   {
    "duration": 0,
    "start_time": "2023-06-05T13:30:04.686Z"
   },
   {
    "duration": 0,
    "start_time": "2023-06-05T13:30:04.687Z"
   },
   {
    "duration": 0,
    "start_time": "2023-06-05T13:30:04.688Z"
   },
   {
    "duration": 0,
    "start_time": "2023-06-05T13:30:04.688Z"
   },
   {
    "duration": 0,
    "start_time": "2023-06-05T13:30:04.689Z"
   },
   {
    "duration": 0,
    "start_time": "2023-06-05T13:30:04.690Z"
   },
   {
    "duration": 90,
    "start_time": "2023-06-05T21:17:35.669Z"
   },
   {
    "duration": 3841,
    "start_time": "2023-06-06T11:13:29.843Z"
   },
   {
    "duration": 1895,
    "start_time": "2023-06-06T11:13:33.687Z"
   },
   {
    "duration": 0,
    "start_time": "2023-06-06T11:13:35.584Z"
   },
   {
    "duration": 0,
    "start_time": "2023-06-06T11:13:35.585Z"
   },
   {
    "duration": 0,
    "start_time": "2023-06-06T11:13:35.586Z"
   },
   {
    "duration": 0,
    "start_time": "2023-06-06T11:13:35.587Z"
   },
   {
    "duration": 0,
    "start_time": "2023-06-06T11:13:35.588Z"
   },
   {
    "duration": 0,
    "start_time": "2023-06-06T11:13:35.589Z"
   },
   {
    "duration": 0,
    "start_time": "2023-06-06T11:13:35.590Z"
   },
   {
    "duration": 0,
    "start_time": "2023-06-06T11:13:35.592Z"
   },
   {
    "duration": 0,
    "start_time": "2023-06-06T11:13:35.592Z"
   },
   {
    "duration": 0,
    "start_time": "2023-06-06T11:13:35.594Z"
   },
   {
    "duration": 0,
    "start_time": "2023-06-06T11:13:35.595Z"
   },
   {
    "duration": 0,
    "start_time": "2023-06-06T11:13:35.596Z"
   },
   {
    "duration": 0,
    "start_time": "2023-06-06T11:13:35.597Z"
   },
   {
    "duration": 0,
    "start_time": "2023-06-06T11:13:35.598Z"
   },
   {
    "duration": 0,
    "start_time": "2023-06-06T11:13:35.600Z"
   },
   {
    "duration": 0,
    "start_time": "2023-06-06T11:13:35.601Z"
   },
   {
    "duration": 0,
    "start_time": "2023-06-06T11:13:35.602Z"
   },
   {
    "duration": 0,
    "start_time": "2023-06-06T11:13:35.603Z"
   },
   {
    "duration": 0,
    "start_time": "2023-06-06T11:13:35.604Z"
   },
   {
    "duration": 0,
    "start_time": "2023-06-06T11:13:35.605Z"
   },
   {
    "duration": 0,
    "start_time": "2023-06-06T11:13:35.606Z"
   },
   {
    "duration": 0,
    "start_time": "2023-06-06T11:13:35.607Z"
   },
   {
    "duration": 0,
    "start_time": "2023-06-06T11:13:35.608Z"
   },
   {
    "duration": 0,
    "start_time": "2023-06-06T11:13:35.610Z"
   },
   {
    "duration": 0,
    "start_time": "2023-06-06T11:13:35.610Z"
   },
   {
    "duration": 0,
    "start_time": "2023-06-06T11:13:35.612Z"
   },
   {
    "duration": 0,
    "start_time": "2023-06-06T11:13:35.613Z"
   },
   {
    "duration": 2261,
    "start_time": "2023-06-06T11:13:55.756Z"
   },
   {
    "duration": 1852,
    "start_time": "2023-06-06T11:13:58.019Z"
   },
   {
    "duration": 0,
    "start_time": "2023-06-06T11:13:59.874Z"
   },
   {
    "duration": 0,
    "start_time": "2023-06-06T11:13:59.875Z"
   },
   {
    "duration": 0,
    "start_time": "2023-06-06T11:13:59.877Z"
   },
   {
    "duration": 0,
    "start_time": "2023-06-06T11:13:59.878Z"
   },
   {
    "duration": 0,
    "start_time": "2023-06-06T11:13:59.879Z"
   },
   {
    "duration": 0,
    "start_time": "2023-06-06T11:13:59.881Z"
   },
   {
    "duration": 0,
    "start_time": "2023-06-06T11:13:59.883Z"
   },
   {
    "duration": 0,
    "start_time": "2023-06-06T11:13:59.884Z"
   },
   {
    "duration": 0,
    "start_time": "2023-06-06T11:13:59.885Z"
   },
   {
    "duration": 0,
    "start_time": "2023-06-06T11:13:59.886Z"
   },
   {
    "duration": 0,
    "start_time": "2023-06-06T11:13:59.888Z"
   },
   {
    "duration": 0,
    "start_time": "2023-06-06T11:13:59.889Z"
   },
   {
    "duration": 0,
    "start_time": "2023-06-06T11:13:59.892Z"
   },
   {
    "duration": 0,
    "start_time": "2023-06-06T11:13:59.893Z"
   },
   {
    "duration": 0,
    "start_time": "2023-06-06T11:13:59.895Z"
   },
   {
    "duration": 0,
    "start_time": "2023-06-06T11:13:59.897Z"
   },
   {
    "duration": 0,
    "start_time": "2023-06-06T11:13:59.898Z"
   },
   {
    "duration": 0,
    "start_time": "2023-06-06T11:13:59.899Z"
   },
   {
    "duration": 0,
    "start_time": "2023-06-06T11:13:59.900Z"
   },
   {
    "duration": 0,
    "start_time": "2023-06-06T11:13:59.902Z"
   },
   {
    "duration": 0,
    "start_time": "2023-06-06T11:13:59.904Z"
   },
   {
    "duration": 0,
    "start_time": "2023-06-06T11:13:59.905Z"
   },
   {
    "duration": 0,
    "start_time": "2023-06-06T11:13:59.908Z"
   },
   {
    "duration": 0,
    "start_time": "2023-06-06T11:13:59.909Z"
   },
   {
    "duration": 0,
    "start_time": "2023-06-06T11:13:59.911Z"
   },
   {
    "duration": 0,
    "start_time": "2023-06-06T11:13:59.913Z"
   },
   {
    "duration": 0,
    "start_time": "2023-06-06T11:13:59.915Z"
   },
   {
    "duration": 2479,
    "start_time": "2023-06-06T11:14:14.844Z"
   },
   {
    "duration": 1809,
    "start_time": "2023-06-06T11:14:17.325Z"
   },
   {
    "duration": 0,
    "start_time": "2023-06-06T11:14:19.137Z"
   },
   {
    "duration": 0,
    "start_time": "2023-06-06T11:14:19.138Z"
   },
   {
    "duration": 0,
    "start_time": "2023-06-06T11:14:19.139Z"
   },
   {
    "duration": 0,
    "start_time": "2023-06-06T11:14:19.140Z"
   },
   {
    "duration": 0,
    "start_time": "2023-06-06T11:14:19.141Z"
   },
   {
    "duration": 0,
    "start_time": "2023-06-06T11:14:19.142Z"
   },
   {
    "duration": 0,
    "start_time": "2023-06-06T11:14:19.144Z"
   },
   {
    "duration": 0,
    "start_time": "2023-06-06T11:14:19.145Z"
   },
   {
    "duration": 0,
    "start_time": "2023-06-06T11:14:19.146Z"
   },
   {
    "duration": 0,
    "start_time": "2023-06-06T11:14:19.147Z"
   },
   {
    "duration": 0,
    "start_time": "2023-06-06T11:14:19.148Z"
   },
   {
    "duration": 0,
    "start_time": "2023-06-06T11:14:19.149Z"
   },
   {
    "duration": 0,
    "start_time": "2023-06-06T11:14:19.149Z"
   },
   {
    "duration": 0,
    "start_time": "2023-06-06T11:14:19.150Z"
   },
   {
    "duration": 0,
    "start_time": "2023-06-06T11:14:19.152Z"
   },
   {
    "duration": 0,
    "start_time": "2023-06-06T11:14:19.152Z"
   },
   {
    "duration": 0,
    "start_time": "2023-06-06T11:14:19.177Z"
   },
   {
    "duration": 0,
    "start_time": "2023-06-06T11:14:19.178Z"
   },
   {
    "duration": 0,
    "start_time": "2023-06-06T11:14:19.180Z"
   },
   {
    "duration": 0,
    "start_time": "2023-06-06T11:14:19.181Z"
   },
   {
    "duration": 0,
    "start_time": "2023-06-06T11:14:19.183Z"
   },
   {
    "duration": 0,
    "start_time": "2023-06-06T11:14:19.184Z"
   },
   {
    "duration": 0,
    "start_time": "2023-06-06T11:14:19.186Z"
   },
   {
    "duration": 0,
    "start_time": "2023-06-06T11:14:19.187Z"
   },
   {
    "duration": 0,
    "start_time": "2023-06-06T11:14:19.189Z"
   },
   {
    "duration": 0,
    "start_time": "2023-06-06T11:14:19.191Z"
   },
   {
    "duration": 0,
    "start_time": "2023-06-06T11:14:19.192Z"
   },
   {
    "duration": 2697,
    "start_time": "2023-06-06T11:45:00.473Z"
   },
   {
    "duration": 2415,
    "start_time": "2023-06-06T11:45:03.172Z"
   },
   {
    "duration": 0,
    "start_time": "2023-06-06T11:45:05.590Z"
   },
   {
    "duration": 0,
    "start_time": "2023-06-06T11:45:05.593Z"
   },
   {
    "duration": 0,
    "start_time": "2023-06-06T11:45:05.594Z"
   },
   {
    "duration": 0,
    "start_time": "2023-06-06T11:45:05.595Z"
   },
   {
    "duration": 0,
    "start_time": "2023-06-06T11:45:05.596Z"
   },
   {
    "duration": 0,
    "start_time": "2023-06-06T11:45:05.598Z"
   },
   {
    "duration": 0,
    "start_time": "2023-06-06T11:45:05.599Z"
   },
   {
    "duration": 0,
    "start_time": "2023-06-06T11:45:05.600Z"
   },
   {
    "duration": 0,
    "start_time": "2023-06-06T11:45:05.601Z"
   },
   {
    "duration": 0,
    "start_time": "2023-06-06T11:45:05.602Z"
   },
   {
    "duration": 0,
    "start_time": "2023-06-06T11:45:05.604Z"
   },
   {
    "duration": 0,
    "start_time": "2023-06-06T11:45:05.605Z"
   },
   {
    "duration": 0,
    "start_time": "2023-06-06T11:45:05.606Z"
   },
   {
    "duration": 0,
    "start_time": "2023-06-06T11:45:05.607Z"
   },
   {
    "duration": 0,
    "start_time": "2023-06-06T11:45:05.608Z"
   },
   {
    "duration": 0,
    "start_time": "2023-06-06T11:45:05.609Z"
   },
   {
    "duration": 0,
    "start_time": "2023-06-06T11:45:05.610Z"
   },
   {
    "duration": 0,
    "start_time": "2023-06-06T11:45:05.611Z"
   },
   {
    "duration": 0,
    "start_time": "2023-06-06T11:45:05.612Z"
   },
   {
    "duration": 0,
    "start_time": "2023-06-06T11:45:05.613Z"
   },
   {
    "duration": 0,
    "start_time": "2023-06-06T11:45:05.614Z"
   },
   {
    "duration": 0,
    "start_time": "2023-06-06T11:45:05.615Z"
   },
   {
    "duration": 0,
    "start_time": "2023-06-06T11:45:05.616Z"
   },
   {
    "duration": 0,
    "start_time": "2023-06-06T11:45:05.617Z"
   },
   {
    "duration": 0,
    "start_time": "2023-06-06T11:45:05.618Z"
   },
   {
    "duration": 0,
    "start_time": "2023-06-06T11:45:05.619Z"
   },
   {
    "duration": 0,
    "start_time": "2023-06-06T11:45:05.620Z"
   },
   {
    "duration": 14,
    "start_time": "2023-06-06T11:58:54.079Z"
   },
   {
    "duration": 3304,
    "start_time": "2023-06-06T12:00:19.292Z"
   },
   {
    "duration": 2346,
    "start_time": "2023-06-06T12:00:29.560Z"
   },
   {
    "duration": 1701,
    "start_time": "2023-06-06T12:00:31.908Z"
   },
   {
    "duration": 1074,
    "start_time": "2023-06-06T12:00:33.611Z"
   },
   {
    "duration": 129,
    "start_time": "2023-06-06T12:00:34.688Z"
   },
   {
    "duration": 963,
    "start_time": "2023-06-06T12:00:34.818Z"
   },
   {
    "duration": 264,
    "start_time": "2023-06-06T12:00:35.783Z"
   },
   {
    "duration": 9,
    "start_time": "2023-06-06T12:00:36.048Z"
   },
   {
    "duration": 2011,
    "start_time": "2023-06-06T12:00:36.059Z"
   },
   {
    "duration": 2756,
    "start_time": "2023-06-06T12:00:38.072Z"
   },
   {
    "duration": 4482,
    "start_time": "2023-06-06T12:00:40.831Z"
   },
   {
    "duration": 355,
    "start_time": "2023-06-06T12:00:45.315Z"
   },
   {
    "duration": 163,
    "start_time": "2023-06-06T12:00:45.672Z"
   },
   {
    "duration": 382,
    "start_time": "2023-06-06T12:00:45.837Z"
   },
   {
    "duration": 94,
    "start_time": "2023-06-06T12:00:46.221Z"
   },
   {
    "duration": 345,
    "start_time": "2023-06-06T12:00:46.317Z"
   },
   {
    "duration": 33,
    "start_time": "2023-06-06T12:00:46.665Z"
   },
   {
    "duration": 1960,
    "start_time": "2023-06-06T12:00:46.700Z"
   },
   {
    "duration": 230,
    "start_time": "2023-06-06T12:00:48.663Z"
   },
   {
    "duration": 24,
    "start_time": "2023-06-06T12:00:48.896Z"
   },
   {
    "duration": 396,
    "start_time": "2023-06-06T12:00:48.922Z"
   },
   {
    "duration": 461,
    "start_time": "2023-06-06T12:00:49.321Z"
   },
   {
    "duration": 3,
    "start_time": "2023-06-06T12:00:49.784Z"
   },
   {
    "duration": 262,
    "start_time": "2023-06-06T12:00:49.789Z"
   },
   {
    "duration": 72,
    "start_time": "2023-06-06T12:00:50.052Z"
   },
   {
    "duration": 72,
    "start_time": "2023-06-06T12:00:50.126Z"
   },
   {
    "duration": 77,
    "start_time": "2023-06-06T12:00:50.200Z"
   },
   {
    "duration": 22,
    "start_time": "2023-06-06T12:00:50.279Z"
   },
   {
    "duration": 100,
    "start_time": "2023-06-06T12:00:50.304Z"
   },
   {
    "duration": 339,
    "start_time": "2023-06-06T12:00:50.406Z"
   },
   {
    "duration": 215,
    "start_time": "2023-06-06T12:08:25.541Z"
   },
   {
    "duration": 270,
    "start_time": "2023-06-06T12:08:50.295Z"
   },
   {
    "duration": 64,
    "start_time": "2023-06-06T12:11:06.974Z"
   },
   {
    "duration": 3940,
    "start_time": "2023-06-06T12:11:29.647Z"
   },
   {
    "duration": 3,
    "start_time": "2023-06-06T12:12:30.745Z"
   },
   {
    "duration": 12,
    "start_time": "2023-06-06T12:13:06.509Z"
   },
   {
    "duration": 6,
    "start_time": "2023-06-06T12:14:22.123Z"
   },
   {
    "duration": 59719,
    "start_time": "2023-06-06T12:17:57.006Z"
   },
   {
    "duration": 2224,
    "start_time": "2023-06-06T13:08:58.236Z"
   },
   {
    "duration": 1687,
    "start_time": "2023-06-06T13:09:00.462Z"
   },
   {
    "duration": 794,
    "start_time": "2023-06-06T13:09:02.150Z"
   },
   {
    "duration": 134,
    "start_time": "2023-06-06T13:09:02.946Z"
   },
   {
    "duration": 947,
    "start_time": "2023-06-06T13:09:03.082Z"
   },
   {
    "duration": 252,
    "start_time": "2023-06-06T13:09:04.031Z"
   },
   {
    "duration": 7,
    "start_time": "2023-06-06T13:09:04.285Z"
   },
   {
    "duration": 1854,
    "start_time": "2023-06-06T13:09:04.293Z"
   },
   {
    "duration": 2888,
    "start_time": "2023-06-06T13:09:06.149Z"
   },
   {
    "duration": 4341,
    "start_time": "2023-06-06T13:09:09.040Z"
   },
   {
    "duration": 344,
    "start_time": "2023-06-06T13:09:13.383Z"
   },
   {
    "duration": 129,
    "start_time": "2023-06-06T13:09:13.729Z"
   },
   {
    "duration": 362,
    "start_time": "2023-06-06T13:09:13.860Z"
   },
   {
    "duration": 83,
    "start_time": "2023-06-06T13:09:14.224Z"
   },
   {
    "duration": 256,
    "start_time": "2023-06-06T13:09:14.309Z"
   },
   {
    "duration": 33,
    "start_time": "2023-06-06T13:09:14.566Z"
   },
   {
    "duration": 1842,
    "start_time": "2023-06-06T13:09:14.601Z"
   },
   {
    "duration": 259,
    "start_time": "2023-06-06T13:09:16.445Z"
   },
   {
    "duration": 28,
    "start_time": "2023-06-06T13:09:16.706Z"
   },
   {
    "duration": 394,
    "start_time": "2023-06-06T13:09:16.738Z"
   },
   {
    "duration": 421,
    "start_time": "2023-06-06T13:09:17.134Z"
   },
   {
    "duration": 2,
    "start_time": "2023-06-06T13:09:17.557Z"
   },
   {
    "duration": 222,
    "start_time": "2023-06-06T13:09:17.561Z"
   },
   {
    "duration": 64,
    "start_time": "2023-06-06T13:09:17.785Z"
   },
   {
    "duration": 78,
    "start_time": "2023-06-06T13:09:17.851Z"
   },
   {
    "duration": 60,
    "start_time": "2023-06-06T13:09:17.931Z"
   },
   {
    "duration": 25,
    "start_time": "2023-06-06T13:09:17.992Z"
   },
   {
    "duration": 106,
    "start_time": "2023-06-06T13:09:18.021Z"
   },
   {
    "duration": 334,
    "start_time": "2023-06-06T13:09:18.129Z"
   },
   {
    "duration": 226,
    "start_time": "2023-06-06T13:09:18.465Z"
   },
   {
    "duration": 260,
    "start_time": "2023-06-06T13:09:18.693Z"
   },
   {
    "duration": 68,
    "start_time": "2023-06-06T13:09:18.955Z"
   },
   {
    "duration": 3256,
    "start_time": "2023-06-06T13:09:19.025Z"
   },
   {
    "duration": 4,
    "start_time": "2023-06-06T13:09:22.283Z"
   },
   {
    "duration": 105,
    "start_time": "2023-06-06T13:09:22.289Z"
   },
   {
    "duration": 83,
    "start_time": "2023-06-06T13:09:22.398Z"
   },
   {
    "duration": 61210,
    "start_time": "2023-06-06T13:09:22.483Z"
   },
   {
    "duration": 3011,
    "start_time": "2023-06-09T17:14:55.805Z"
   },
   {
    "duration": 1913,
    "start_time": "2023-06-09T17:14:58.818Z"
   },
   {
    "duration": 1138,
    "start_time": "2023-06-09T17:15:00.734Z"
   },
   {
    "duration": 114,
    "start_time": "2023-06-09T17:15:01.874Z"
   },
   {
    "duration": 1031,
    "start_time": "2023-06-09T17:15:01.990Z"
   },
   {
    "duration": 262,
    "start_time": "2023-06-09T17:15:03.023Z"
   },
   {
    "duration": 10,
    "start_time": "2023-06-09T17:15:03.287Z"
   },
   {
    "duration": 2007,
    "start_time": "2023-06-09T17:15:03.299Z"
   },
   {
    "duration": 2641,
    "start_time": "2023-06-09T17:15:05.307Z"
   },
   {
    "duration": 4629,
    "start_time": "2023-06-09T17:15:07.951Z"
   },
   {
    "duration": 343,
    "start_time": "2023-06-09T17:15:12.581Z"
   },
   {
    "duration": 114,
    "start_time": "2023-06-09T17:15:12.926Z"
   },
   {
    "duration": 378,
    "start_time": "2023-06-09T17:15:13.042Z"
   },
   {
    "duration": 85,
    "start_time": "2023-06-09T17:15:13.422Z"
   },
   {
    "duration": 279,
    "start_time": "2023-06-09T17:15:13.509Z"
   },
   {
    "duration": 27,
    "start_time": "2023-06-09T17:15:13.790Z"
   },
   {
    "duration": 2014,
    "start_time": "2023-06-09T17:15:13.819Z"
   },
   {
    "duration": 227,
    "start_time": "2023-06-09T17:15:15.835Z"
   },
   {
    "duration": 33,
    "start_time": "2023-06-09T17:15:16.064Z"
   },
   {
    "duration": 421,
    "start_time": "2023-06-09T17:15:16.099Z"
   },
   {
    "duration": 476,
    "start_time": "2023-06-09T17:15:16.522Z"
   },
   {
    "duration": 3,
    "start_time": "2023-06-09T17:15:17.000Z"
   },
   {
    "duration": 216,
    "start_time": "2023-06-09T17:15:17.004Z"
   },
   {
    "duration": 87,
    "start_time": "2023-06-09T17:15:17.222Z"
   },
   {
    "duration": 64,
    "start_time": "2023-06-09T17:15:17.311Z"
   },
   {
    "duration": 51,
    "start_time": "2023-06-09T17:15:17.376Z"
   },
   {
    "duration": 44,
    "start_time": "2023-06-09T17:15:17.429Z"
   },
   {
    "duration": 72,
    "start_time": "2023-06-09T17:15:17.477Z"
   },
   {
    "duration": 342,
    "start_time": "2023-06-09T17:15:17.550Z"
   },
   {
    "duration": 238,
    "start_time": "2023-06-09T17:15:17.893Z"
   },
   {
    "duration": 250,
    "start_time": "2023-06-09T17:15:18.132Z"
   },
   {
    "duration": 66,
    "start_time": "2023-06-09T17:15:18.384Z"
   },
   {
    "duration": 3026,
    "start_time": "2023-06-09T17:15:18.451Z"
   },
   {
    "duration": 4,
    "start_time": "2023-06-09T17:15:21.480Z"
   },
   {
    "duration": 98,
    "start_time": "2023-06-09T17:15:21.486Z"
   },
   {
    "duration": 91,
    "start_time": "2023-06-09T17:15:21.586Z"
   },
   {
    "duration": 64185,
    "start_time": "2023-06-09T17:15:21.679Z"
   },
   {
    "duration": 2099,
    "start_time": "2023-06-09T17:16:52.882Z"
   },
   {
    "duration": 1756,
    "start_time": "2023-06-09T17:16:54.983Z"
   },
   {
    "duration": 909,
    "start_time": "2023-06-09T17:16:56.741Z"
   },
   {
    "duration": 132,
    "start_time": "2023-06-09T17:16:57.653Z"
   },
   {
    "duration": 1124,
    "start_time": "2023-06-09T17:16:57.787Z"
   },
   {
    "duration": 276,
    "start_time": "2023-06-09T17:16:58.913Z"
   },
   {
    "duration": 10,
    "start_time": "2023-06-09T17:16:59.191Z"
   },
   {
    "duration": 2258,
    "start_time": "2023-06-09T17:16:59.203Z"
   },
   {
    "duration": 2698,
    "start_time": "2023-06-09T17:17:01.464Z"
   },
   {
    "duration": 4610,
    "start_time": "2023-06-09T17:17:04.173Z"
   },
   {
    "duration": 345,
    "start_time": "2023-06-09T17:17:08.785Z"
   },
   {
    "duration": 195,
    "start_time": "2023-06-09T17:17:09.133Z"
   },
   {
    "duration": 417,
    "start_time": "2023-06-09T17:17:09.331Z"
   },
   {
    "duration": 74,
    "start_time": "2023-06-09T17:17:09.750Z"
   },
   {
    "duration": 275,
    "start_time": "2023-06-09T17:17:09.826Z"
   },
   {
    "duration": 27,
    "start_time": "2023-06-09T17:17:10.102Z"
   },
   {
    "duration": 1972,
    "start_time": "2023-06-09T17:17:10.131Z"
   },
   {
    "duration": 224,
    "start_time": "2023-06-09T17:17:12.105Z"
   },
   {
    "duration": 22,
    "start_time": "2023-06-09T17:17:12.331Z"
   },
   {
    "duration": 379,
    "start_time": "2023-06-09T17:17:12.355Z"
   },
   {
    "duration": 419,
    "start_time": "2023-06-09T17:17:12.736Z"
   },
   {
    "duration": 4,
    "start_time": "2023-06-09T17:17:13.157Z"
   },
   {
    "duration": 245,
    "start_time": "2023-06-09T17:17:13.163Z"
   },
   {
    "duration": 68,
    "start_time": "2023-06-09T17:17:13.410Z"
   },
   {
    "duration": 59,
    "start_time": "2023-06-09T17:17:13.480Z"
   },
   {
    "duration": 63,
    "start_time": "2023-06-09T17:17:13.541Z"
   },
   {
    "duration": 27,
    "start_time": "2023-06-09T17:17:13.605Z"
   },
   {
    "duration": 90,
    "start_time": "2023-06-09T17:17:13.637Z"
   },
   {
    "duration": 335,
    "start_time": "2023-06-09T17:17:13.729Z"
   },
   {
    "duration": 235,
    "start_time": "2023-06-09T17:17:14.065Z"
   },
   {
    "duration": 262,
    "start_time": "2023-06-09T17:17:14.302Z"
   },
   {
    "duration": 63,
    "start_time": "2023-06-09T17:17:14.566Z"
   },
   {
    "duration": 3941,
    "start_time": "2023-06-09T17:17:14.631Z"
   },
   {
    "duration": 5,
    "start_time": "2023-06-09T17:17:18.574Z"
   },
   {
    "duration": 113,
    "start_time": "2023-06-09T17:17:18.582Z"
   },
   {
    "duration": 10,
    "start_time": "2023-06-09T17:17:18.697Z"
   },
   {
    "duration": 2149,
    "start_time": "2023-06-09T17:18:12.873Z"
   },
   {
    "duration": 1642,
    "start_time": "2023-06-09T17:18:15.025Z"
   },
   {
    "duration": 862,
    "start_time": "2023-06-09T17:18:16.669Z"
   },
   {
    "duration": 119,
    "start_time": "2023-06-09T17:18:17.533Z"
   },
   {
    "duration": 1031,
    "start_time": "2023-06-09T17:18:17.653Z"
   },
   {
    "duration": 265,
    "start_time": "2023-06-09T17:18:18.685Z"
   },
   {
    "duration": 8,
    "start_time": "2023-06-09T17:18:18.951Z"
   },
   {
    "duration": 2099,
    "start_time": "2023-06-09T17:18:18.960Z"
   },
   {
    "duration": 2700,
    "start_time": "2023-06-09T17:18:21.061Z"
   },
   {
    "duration": 4493,
    "start_time": "2023-06-09T17:18:23.771Z"
   },
   {
    "duration": 340,
    "start_time": "2023-06-09T17:18:28.266Z"
   },
   {
    "duration": 122,
    "start_time": "2023-06-09T17:18:28.607Z"
   },
   {
    "duration": 371,
    "start_time": "2023-06-09T17:18:28.731Z"
   },
   {
    "duration": 85,
    "start_time": "2023-06-09T17:18:29.103Z"
   },
   {
    "duration": 282,
    "start_time": "2023-06-09T17:18:29.190Z"
   },
   {
    "duration": 26,
    "start_time": "2023-06-09T17:18:29.473Z"
   },
   {
    "duration": 1892,
    "start_time": "2023-06-09T17:18:29.500Z"
   },
   {
    "duration": 204,
    "start_time": "2023-06-09T17:18:31.393Z"
   },
   {
    "duration": 20,
    "start_time": "2023-06-09T17:18:31.599Z"
   },
   {
    "duration": 378,
    "start_time": "2023-06-09T17:18:31.621Z"
   },
   {
    "duration": 471,
    "start_time": "2023-06-09T17:18:32.001Z"
   },
   {
    "duration": 4,
    "start_time": "2023-06-09T17:18:32.473Z"
   },
   {
    "duration": 219,
    "start_time": "2023-06-09T17:18:32.478Z"
   },
   {
    "duration": 76,
    "start_time": "2023-06-09T17:18:32.699Z"
   },
   {
    "duration": 61,
    "start_time": "2023-06-09T17:18:32.777Z"
   },
   {
    "duration": 70,
    "start_time": "2023-06-09T17:18:32.840Z"
   },
   {
    "duration": 22,
    "start_time": "2023-06-09T17:18:32.911Z"
   },
   {
    "duration": 94,
    "start_time": "2023-06-09T17:18:32.936Z"
   },
   {
    "duration": 326,
    "start_time": "2023-06-09T17:18:33.032Z"
   },
   {
    "duration": 221,
    "start_time": "2023-06-09T17:18:33.359Z"
   },
   {
    "duration": 291,
    "start_time": "2023-06-09T17:18:33.581Z"
   },
   {
    "duration": 80,
    "start_time": "2023-06-09T17:18:33.874Z"
   },
   {
    "duration": 2935,
    "start_time": "2023-06-09T17:18:33.956Z"
   },
   {
    "duration": 81,
    "start_time": "2023-06-09T17:18:36.893Z"
   },
   {
    "duration": 125,
    "start_time": "2023-06-09T17:18:36.976Z"
   },
   {
    "duration": 9,
    "start_time": "2023-06-09T17:18:37.103Z"
   },
   {
    "duration": 65763,
    "start_time": "2023-06-09T17:18:37.114Z"
   },
   {
    "duration": 4532744,
    "start_time": "2023-06-09T17:19:42.879Z"
   },
   {
    "duration": 7091775,
    "start_time": "2023-06-09T18:35:15.624Z"
   },
   {
    "duration": 62,
    "start_time": "2023-06-15T21:49:14.276Z"
   },
   {
    "duration": 3210,
    "start_time": "2023-06-15T22:15:45.366Z"
   },
   {
    "duration": 2461,
    "start_time": "2023-06-15T22:15:48.579Z"
   },
   {
    "duration": 1323,
    "start_time": "2023-06-15T22:15:51.041Z"
   },
   {
    "duration": 126,
    "start_time": "2023-06-15T22:15:52.366Z"
   },
   {
    "duration": 1180,
    "start_time": "2023-06-15T22:15:52.494Z"
   },
   {
    "duration": 291,
    "start_time": "2023-06-15T22:15:53.676Z"
   },
   {
    "duration": 8,
    "start_time": "2023-06-15T22:15:53.968Z"
   },
   {
    "duration": 2086,
    "start_time": "2023-06-15T22:15:53.978Z"
   },
   {
    "duration": 2772,
    "start_time": "2023-06-15T22:15:56.066Z"
   },
   {
    "duration": 4780,
    "start_time": "2023-06-15T22:15:58.841Z"
   },
   {
    "duration": 346,
    "start_time": "2023-06-15T22:16:03.623Z"
   },
   {
    "duration": 146,
    "start_time": "2023-06-15T22:16:03.971Z"
   },
   {
    "duration": 382,
    "start_time": "2023-06-15T22:16:04.119Z"
   },
   {
    "duration": 75,
    "start_time": "2023-06-15T22:16:04.503Z"
   },
   {
    "duration": 323,
    "start_time": "2023-06-15T22:16:04.580Z"
   },
   {
    "duration": 29,
    "start_time": "2023-06-15T22:16:04.908Z"
   },
   {
    "duration": 1923,
    "start_time": "2023-06-15T22:16:04.939Z"
   },
   {
    "duration": 250,
    "start_time": "2023-06-15T22:16:06.863Z"
   },
   {
    "duration": 26,
    "start_time": "2023-06-15T22:16:07.118Z"
   },
   {
    "duration": 379,
    "start_time": "2023-06-15T22:16:07.146Z"
   },
   {
    "duration": 488,
    "start_time": "2023-06-15T22:16:07.527Z"
   },
   {
    "duration": 3,
    "start_time": "2023-06-15T22:16:08.018Z"
   },
   {
    "duration": 251,
    "start_time": "2023-06-15T22:16:08.022Z"
   },
   {
    "duration": 88,
    "start_time": "2023-06-15T22:16:08.275Z"
   },
   {
    "duration": 83,
    "start_time": "2023-06-15T22:16:08.364Z"
   },
   {
    "duration": 69,
    "start_time": "2023-06-15T22:16:08.449Z"
   },
   {
    "duration": 23,
    "start_time": "2023-06-15T22:16:08.520Z"
   },
   {
    "duration": 92,
    "start_time": "2023-06-15T22:16:08.547Z"
   },
   {
    "duration": 398,
    "start_time": "2023-06-15T22:16:08.641Z"
   },
   {
    "duration": 257,
    "start_time": "2023-06-15T22:16:09.041Z"
   },
   {
    "duration": 310,
    "start_time": "2023-06-15T22:16:09.301Z"
   },
   {
    "duration": 73,
    "start_time": "2023-06-15T22:16:09.613Z"
   },
   {
    "duration": 3626,
    "start_time": "2023-06-15T22:16:09.688Z"
   },
   {
    "duration": 9,
    "start_time": "2023-06-15T22:16:13.318Z"
   },
   {
    "duration": 101,
    "start_time": "2023-06-15T22:16:13.330Z"
   },
   {
    "duration": 10,
    "start_time": "2023-06-15T22:16:13.433Z"
   },
   {
    "duration": 65652,
    "start_time": "2023-06-15T22:16:13.444Z"
   },
   {
    "duration": 4964368,
    "start_time": "2023-06-15T22:17:19.098Z"
   },
   {
    "duration": 258150,
    "start_time": "2023-06-15T23:40:03.467Z"
   },
   {
    "duration": 10809289,
    "start_time": "2023-06-15T23:44:21.619Z"
   },
   {
    "duration": 21605,
    "start_time": "2023-06-16T02:44:30.910Z"
   },
   {
    "duration": 0,
    "start_time": "2023-06-16T02:44:52.516Z"
   },
   {
    "duration": 0,
    "start_time": "2023-06-16T02:44:52.518Z"
   },
   {
    "duration": 856,
    "start_time": "2023-06-16T11:10:59.860Z"
   },
   {
    "duration": 21,
    "start_time": "2023-06-16T11:11:03.406Z"
   },
   {
    "duration": 133,
    "start_time": "2023-06-16T11:11:12.710Z"
   },
   {
    "duration": 110,
    "start_time": "2023-06-16T11:13:04.415Z"
   },
   {
    "duration": 23,
    "start_time": "2023-06-16T11:28:31.622Z"
   },
   {
    "duration": 95,
    "start_time": "2023-06-16T11:28:41.776Z"
   },
   {
    "duration": 8,
    "start_time": "2023-06-16T11:28:52.430Z"
   },
   {
    "duration": 240,
    "start_time": "2023-06-16T11:29:03.632Z"
   },
   {
    "duration": 110,
    "start_time": "2023-06-16T11:29:18.947Z"
   },
   {
    "duration": 76,
    "start_time": "2023-06-16T11:29:25.232Z"
   },
   {
    "duration": 136,
    "start_time": "2023-06-16T11:29:32.832Z"
   },
   {
    "duration": 167,
    "start_time": "2023-06-16T11:29:42.209Z"
   },
   {
    "duration": 68,
    "start_time": "2023-06-16T12:16:23.604Z"
   },
   {
    "duration": 23,
    "start_time": "2023-06-16T12:16:34.856Z"
   },
   {
    "duration": 24,
    "start_time": "2023-06-16T12:16:45.250Z"
   },
   {
    "duration": 460,
    "start_time": "2023-06-16T12:16:56.422Z"
   },
   {
    "duration": 123,
    "start_time": "2023-06-16T12:17:49.042Z"
   },
   {
    "duration": 32164,
    "start_time": "2023-06-16T12:18:02.872Z"
   },
   {
    "duration": 66,
    "start_time": "2023-06-16T12:19:00.439Z"
   },
   {
    "duration": 55,
    "start_time": "2023-06-16T12:19:11.228Z"
   },
   {
    "duration": 56,
    "start_time": "2023-06-16T12:19:20.721Z"
   },
   {
    "duration": 5,
    "start_time": "2023-06-16T12:22:04.102Z"
   },
   {
    "duration": 61,
    "start_time": "2023-06-16T12:22:25.615Z"
   },
   {
    "duration": 6,
    "start_time": "2023-06-16T12:22:37.912Z"
   },
   {
    "duration": 142,
    "start_time": "2023-06-16T12:22:50.339Z"
   },
   {
    "duration": 5,
    "start_time": "2023-06-16T12:22:58.952Z"
   },
   {
    "duration": 289124,
    "start_time": "2023-06-16T12:23:09.727Z"
   },
   {
    "duration": 89,
    "start_time": "2023-06-16T12:31:12.004Z"
   },
   {
    "duration": 136,
    "start_time": "2023-06-16T12:51:43.193Z"
   },
   {
    "duration": 9561596,
    "start_time": "2023-06-16T13:37:24.317Z"
   },
   {
    "duration": 14117,
    "start_time": "2023-06-16T16:24:21.587Z"
   },
   {
    "duration": 14291,
    "start_time": "2023-06-16T16:24:52.911Z"
   },
   {
    "duration": 34096,
    "start_time": "2023-06-16T16:25:36.560Z"
   },
   {
    "duration": 32727,
    "start_time": "2023-06-16T16:26:23.860Z"
   },
   {
    "duration": 9,
    "start_time": "2023-06-16T16:27:15.152Z"
   },
   {
    "duration": 6187,
    "start_time": "2023-06-17T14:45:27.365Z"
   },
   {
    "duration": 15,
    "start_time": "2023-06-17T14:45:33.554Z"
   },
   {
    "duration": 123,
    "start_time": "2023-06-17T14:45:33.570Z"
   },
   {
    "duration": 95,
    "start_time": "2023-06-17T14:45:33.695Z"
   },
   {
    "duration": 36,
    "start_time": "2023-06-17T14:45:33.791Z"
   },
   {
    "duration": 97,
    "start_time": "2023-06-17T14:45:33.828Z"
   },
   {
    "duration": 6,
    "start_time": "2023-06-17T14:45:33.927Z"
   },
   {
    "duration": 310,
    "start_time": "2023-06-17T14:45:33.935Z"
   },
   {
    "duration": 103,
    "start_time": "2023-06-17T14:45:34.247Z"
   },
   {
    "duration": 122,
    "start_time": "2023-06-17T14:45:34.352Z"
   },
   {
    "duration": 136,
    "start_time": "2023-06-17T14:45:34.475Z"
   },
   {
    "duration": 60,
    "start_time": "2023-06-17T14:45:34.614Z"
   },
   {
    "duration": 38,
    "start_time": "2023-06-17T14:45:34.675Z"
   },
   {
    "duration": 75,
    "start_time": "2023-06-17T14:45:34.715Z"
   },
   {
    "duration": 383,
    "start_time": "2023-06-17T14:45:34.792Z"
   },
   {
    "duration": 105,
    "start_time": "2023-06-17T14:45:35.177Z"
   },
   {
    "duration": 24913,
    "start_time": "2023-06-17T14:45:35.283Z"
   },
   {
    "duration": 17,
    "start_time": "2023-06-17T14:46:07.859Z"
   },
   {
    "duration": 17,
    "start_time": "2023-06-17T14:46:43.769Z"
   },
   {
    "duration": 2667,
    "start_time": "2023-06-17T19:39:10.789Z"
   },
   {
    "duration": 19,
    "start_time": "2023-06-17T19:39:21.495Z"
   },
   {
    "duration": 126,
    "start_time": "2023-06-17T19:39:23.961Z"
   },
   {
    "duration": 97,
    "start_time": "2023-06-17T19:39:27.195Z"
   },
   {
    "duration": 25,
    "start_time": "2023-06-17T19:39:30.728Z"
   },
   {
    "duration": 75,
    "start_time": "2023-06-17T19:39:42.901Z"
   },
   {
    "duration": 9,
    "start_time": "2023-06-17T19:39:45.283Z"
   },
   {
    "duration": 273,
    "start_time": "2023-06-17T19:39:48.468Z"
   },
   {
    "duration": 114,
    "start_time": "2023-06-17T19:39:51.661Z"
   },
   {
    "duration": 114,
    "start_time": "2023-06-17T19:39:54.329Z"
   },
   {
    "duration": 172,
    "start_time": "2023-06-17T19:39:56.463Z"
   },
   {
    "duration": 264,
    "start_time": "2023-06-17T19:39:59.088Z"
   },
   {
    "duration": 99,
    "start_time": "2023-06-17T19:41:05.396Z"
   },
   {
    "duration": 102,
    "start_time": "2023-06-17T19:41:09.437Z"
   },
   {
    "duration": 225,
    "start_time": "2023-06-17T19:41:55.243Z"
   },
   {
    "duration": 801,
    "start_time": "2023-06-17T19:42:15.652Z"
   },
   {
    "duration": 14,
    "start_time": "2023-06-17T19:42:18.956Z"
   },
   {
    "duration": 127,
    "start_time": "2023-06-17T19:42:21.261Z"
   },
   {
    "duration": 93,
    "start_time": "2023-06-17T19:42:24.533Z"
   },
   {
    "duration": 26,
    "start_time": "2023-06-17T19:42:26.937Z"
   },
   {
    "duration": 78,
    "start_time": "2023-06-17T19:42:29.351Z"
   },
   {
    "duration": 6,
    "start_time": "2023-06-17T19:42:32.818Z"
   },
   {
    "duration": 285,
    "start_time": "2023-06-17T19:42:36.230Z"
   },
   {
    "duration": 106,
    "start_time": "2023-06-17T19:42:39.420Z"
   },
   {
    "duration": 243,
    "start_time": "2023-06-17T19:42:46.119Z"
   },
   {
    "duration": 54,
    "start_time": "2023-06-17T19:44:21.418Z"
   },
   {
    "duration": 63,
    "start_time": "2023-06-17T19:46:23.854Z"
   },
   {
    "duration": 23,
    "start_time": "2023-06-17T19:46:27.177Z"
   },
   {
    "duration": 24,
    "start_time": "2023-06-17T19:46:29.983Z"
   },
   {
    "duration": 357,
    "start_time": "2023-06-17T19:46:34.405Z"
   },
   {
    "duration": 6645,
    "start_time": "2023-06-18T12:35:52.104Z"
   },
   {
    "duration": 30,
    "start_time": "2023-06-18T12:36:04.000Z"
   },
   {
    "duration": 243,
    "start_time": "2023-06-18T12:36:07.223Z"
   },
   {
    "duration": 114,
    "start_time": "2023-06-18T12:36:10.649Z"
   },
   {
    "duration": 32,
    "start_time": "2023-06-18T12:36:13.409Z"
   },
   {
    "duration": 4,
    "start_time": "2023-06-18T12:36:15.949Z"
   },
   {
    "duration": 3,
    "start_time": "2023-06-18T12:37:35.934Z"
   },
   {
    "duration": 85,
    "start_time": "2023-06-18T12:37:39.697Z"
   },
   {
    "duration": 10,
    "start_time": "2023-06-18T12:37:42.212Z"
   },
   {
    "duration": 304,
    "start_time": "2023-06-18T12:37:46.108Z"
   },
   {
    "duration": 124,
    "start_time": "2023-06-18T12:37:49.093Z"
   },
   {
    "duration": 5,
    "start_time": "2023-06-18T12:37:55.196Z"
   },
   {
    "duration": 3,
    "start_time": "2023-06-18T12:38:17.512Z"
   },
   {
    "duration": 272,
    "start_time": "2023-06-18T12:38:19.897Z"
   },
   {
    "duration": 3,
    "start_time": "2023-06-18T12:38:22.289Z"
   },
   {
    "duration": 898,
    "start_time": "2023-06-18T12:39:44.020Z"
   },
   {
    "duration": 862,
    "start_time": "2023-06-18T12:42:05.795Z"
   },
   {
    "duration": 20,
    "start_time": "2023-06-18T12:42:25.145Z"
   },
   {
    "duration": 215,
    "start_time": "2023-06-18T12:42:27.610Z"
   },
   {
    "duration": 105,
    "start_time": "2023-06-18T12:42:32.404Z"
   },
   {
    "duration": 4,
    "start_time": "2023-06-18T12:42:36.926Z"
   },
   {
    "duration": 33,
    "start_time": "2023-06-18T12:42:39.333Z"
   },
   {
    "duration": 3,
    "start_time": "2023-06-18T12:42:42.653Z"
   },
   {
    "duration": 146,
    "start_time": "2023-06-18T12:42:45.101Z"
   },
   {
    "duration": 7,
    "start_time": "2023-06-18T12:42:47.555Z"
   },
   {
    "duration": 299,
    "start_time": "2023-06-18T12:42:50.230Z"
   },
   {
    "duration": 115,
    "start_time": "2023-06-18T12:42:53.189Z"
   },
   {
    "duration": 3,
    "start_time": "2023-06-18T12:42:55.913Z"
   },
   {
    "duration": 263,
    "start_time": "2023-06-18T12:43:01.946Z"
   },
   {
    "duration": 3,
    "start_time": "2023-06-18T12:43:04.586Z"
   },
   {
    "duration": 5,
    "start_time": "2023-06-18T12:45:28.938Z"
   },
   {
    "duration": 3528,
    "start_time": "2023-06-18T16:40:00.382Z"
   },
   {
    "duration": 14,
    "start_time": "2023-06-18T16:40:07.289Z"
   },
   {
    "duration": 128,
    "start_time": "2023-06-18T16:40:10.235Z"
   },
   {
    "duration": 96,
    "start_time": "2023-06-18T16:40:13.244Z"
   },
   {
    "duration": 3,
    "start_time": "2023-06-18T16:40:14.708Z"
   },
   {
    "duration": 16,
    "start_time": "2023-06-18T16:40:19.117Z"
   },
   {
    "duration": 97,
    "start_time": "2023-06-18T16:40:21.158Z"
   },
   {
    "duration": 6,
    "start_time": "2023-06-18T16:40:23.624Z"
   },
   {
    "duration": 199,
    "start_time": "2023-06-18T16:40:25.397Z"
   },
   {
    "duration": 90,
    "start_time": "2023-06-18T16:40:27.384Z"
   },
   {
    "duration": 244,
    "start_time": "2023-06-18T16:40:30.790Z"
   },
   {
    "duration": 3,
    "start_time": "2023-06-18T16:40:32.412Z"
   },
   {
    "duration": 64,
    "start_time": "2023-06-18T16:40:39.733Z"
   },
   {
    "duration": 3,
    "start_time": "2023-06-18T16:41:26.910Z"
   },
   {
    "duration": 5,
    "start_time": "2023-06-18T18:02:58.784Z"
   },
   {
    "duration": 262,
    "start_time": "2023-06-18T18:03:21.493Z"
   },
   {
    "duration": 64,
    "start_time": "2023-06-18T18:03:41.188Z"
   },
   {
    "duration": 128,
    "start_time": "2023-06-18T18:03:43.398Z"
   },
   {
    "duration": 3222,
    "start_time": "2023-06-18T18:04:00.324Z"
   },
   {
    "duration": 13,
    "start_time": "2023-06-18T18:04:06.900Z"
   },
   {
    "duration": 153,
    "start_time": "2023-06-18T18:04:09.293Z"
   },
   {
    "duration": 184,
    "start_time": "2023-06-18T18:04:13.209Z"
   },
   {
    "duration": 2,
    "start_time": "2023-06-18T18:04:16.340Z"
   },
   {
    "duration": 21,
    "start_time": "2023-06-18T18:04:19.088Z"
   },
   {
    "duration": 125,
    "start_time": "2023-06-18T18:04:21.594Z"
   },
   {
    "duration": 8,
    "start_time": "2023-06-18T18:04:23.894Z"
   },
   {
    "duration": 269,
    "start_time": "2023-06-18T18:04:26.632Z"
   },
   {
    "duration": 105,
    "start_time": "2023-06-18T18:04:29.229Z"
   },
   {
    "duration": 13,
    "start_time": "2023-06-18T18:04:31.608Z"
   },
   {
    "duration": 269,
    "start_time": "2023-06-18T18:04:41.063Z"
   },
   {
    "duration": 297,
    "start_time": "2023-06-18T18:05:01.952Z"
   },
   {
    "duration": 3,
    "start_time": "2023-06-18T18:05:50.936Z"
   },
   {
    "duration": 53,
    "start_time": "2023-06-18T18:05:53.557Z"
   },
   {
    "duration": 24,
    "start_time": "2023-06-18T18:06:06.220Z"
   },
   {
    "duration": 468,
    "start_time": "2023-06-18T18:06:12.984Z"
   },
   {
    "duration": 3124,
    "start_time": "2023-06-18T20:54:16.012Z"
   },
   {
    "duration": 14,
    "start_time": "2023-06-18T20:54:24.438Z"
   },
   {
    "duration": 170,
    "start_time": "2023-06-18T20:54:27.184Z"
   },
   {
    "duration": 965,
    "start_time": "2023-06-18T20:54:29.894Z"
   },
   {
    "duration": 12,
    "start_time": "2023-06-18T20:55:35.653Z"
   },
   {
    "duration": 380,
    "start_time": "2023-06-18T20:55:42.985Z"
   },
   {
    "duration": 403,
    "start_time": "2023-06-18T20:55:52.625Z"
   },
   {
    "duration": 10,
    "start_time": "2023-06-18T20:57:09.126Z"
   },
   {
    "duration": 162,
    "start_time": "2023-06-18T20:57:14.729Z"
   },
   {
    "duration": 2,
    "start_time": "2023-06-18T20:58:58.642Z"
   },
   {
    "duration": 26,
    "start_time": "2023-06-18T20:59:02.285Z"
   },
   {
    "duration": 87,
    "start_time": "2023-06-18T20:59:05.512Z"
   },
   {
    "duration": 6,
    "start_time": "2023-06-18T20:59:08.050Z"
   },
   {
    "duration": 258,
    "start_time": "2023-06-18T20:59:12.652Z"
   },
   {
    "duration": 108,
    "start_time": "2023-06-18T20:59:23.125Z"
   },
   {
    "duration": 776,
    "start_time": "2023-06-18T21:00:06.121Z"
   },
   {
    "duration": 13,
    "start_time": "2023-06-18T21:00:11.595Z"
   },
   {
    "duration": 165,
    "start_time": "2023-06-18T21:00:13.886Z"
   },
   {
    "duration": 941,
    "start_time": "2023-06-18T21:00:16.354Z"
   },
   {
    "duration": 86,
    "start_time": "2023-06-18T21:00:19.749Z"
   },
   {
    "duration": 428,
    "start_time": "2023-06-18T21:00:22.384Z"
   },
   {
    "duration": 159,
    "start_time": "2023-06-18T21:00:27.728Z"
   },
   {
    "duration": 3,
    "start_time": "2023-06-18T21:00:31.989Z"
   },
   {
    "duration": 148,
    "start_time": "2023-06-18T21:00:54.299Z"
   },
   {
    "duration": 28,
    "start_time": "2023-06-18T21:00:56.676Z"
   },
   {
    "duration": 83,
    "start_time": "2023-06-18T21:01:07.989Z"
   },
   {
    "duration": 8,
    "start_time": "2023-06-18T21:01:10.380Z"
   },
   {
    "duration": 221,
    "start_time": "2023-06-18T21:01:12.792Z"
   },
   {
    "duration": 100,
    "start_time": "2023-06-18T21:01:15.350Z"
   },
   {
    "duration": 3,
    "start_time": "2023-06-18T21:01:17.416Z"
   },
   {
    "duration": 69,
    "start_time": "2023-06-18T21:01:21.407Z"
   },
   {
    "duration": 4,
    "start_time": "2023-06-18T21:01:25.440Z"
   },
   {
    "duration": 388,
    "start_time": "2023-06-18T21:04:16.234Z"
   },
   {
    "duration": 729,
    "start_time": "2023-06-18T21:04:22.628Z"
   },
   {
    "duration": 15,
    "start_time": "2023-06-18T21:04:26.358Z"
   },
   {
    "duration": 229,
    "start_time": "2023-06-18T21:04:28.452Z"
   },
   {
    "duration": 922,
    "start_time": "2023-06-18T21:04:29.757Z"
   },
   {
    "duration": 85,
    "start_time": "2023-06-18T21:04:32.590Z"
   },
   {
    "duration": 375,
    "start_time": "2023-06-18T21:04:34.207Z"
   },
   {
    "duration": 157,
    "start_time": "2023-06-18T21:04:37.091Z"
   },
   {
    "duration": 25,
    "start_time": "2023-06-18T21:04:39.227Z"
   },
   {
    "duration": 3,
    "start_time": "2023-06-18T21:04:41.817Z"
   },
   {
    "duration": 92,
    "start_time": "2023-06-18T21:04:44.464Z"
   },
   {
    "duration": 89,
    "start_time": "2023-06-18T21:04:57.537Z"
   },
   {
    "duration": 305,
    "start_time": "2023-06-18T21:06:30.100Z"
   },
   {
    "duration": 143,
    "start_time": "2023-06-18T21:06:33.950Z"
   },
   {
    "duration": 386,
    "start_time": "2023-06-18T21:06:36.016Z"
   },
   {
    "duration": 833,
    "start_time": "2023-06-18T21:06:42.393Z"
   },
   {
    "duration": 23,
    "start_time": "2023-06-18T21:06:45.784Z"
   },
   {
    "duration": 154,
    "start_time": "2023-06-18T21:06:47.099Z"
   },
   {
    "duration": 946,
    "start_time": "2023-06-18T21:06:48.395Z"
   },
   {
    "duration": 90,
    "start_time": "2023-06-18T21:06:51.314Z"
   },
   {
    "duration": 396,
    "start_time": "2023-06-18T21:06:53.232Z"
   },
   {
    "duration": 166,
    "start_time": "2023-06-18T21:06:56.086Z"
   },
   {
    "duration": 36,
    "start_time": "2023-06-18T21:06:58.386Z"
   },
   {
    "duration": 2,
    "start_time": "2023-06-18T21:07:00.248Z"
   },
   {
    "duration": 96,
    "start_time": "2023-06-18T21:07:02.693Z"
   },
   {
    "duration": 6,
    "start_time": "2023-06-18T21:07:04.706Z"
   },
   {
    "duration": 227,
    "start_time": "2023-06-18T21:07:06.387Z"
   },
   {
    "duration": 104,
    "start_time": "2023-06-18T21:07:09.693Z"
   },
   {
    "duration": 294,
    "start_time": "2023-06-18T21:07:13.720Z"
   },
   {
    "duration": 5,
    "start_time": "2023-06-18T21:07:16.328Z"
   },
   {
    "duration": 54,
    "start_time": "2023-06-18T21:07:34.598Z"
   },
   {
    "duration": 3,
    "start_time": "2023-06-18T21:07:45.562Z"
   },
   {
    "duration": 3,
    "start_time": "2023-06-18T21:08:48.612Z"
   },
   {
    "duration": 23,
    "start_time": "2023-06-18T21:08:50.482Z"
   },
   {
    "duration": 34,
    "start_time": "2023-06-18T21:08:54.087Z"
   },
   {
    "duration": 417,
    "start_time": "2023-06-18T21:08:59.541Z"
   },
   {
    "duration": 97,
    "start_time": "2023-06-18T21:09:09.828Z"
   },
   {
    "duration": 25727,
    "start_time": "2023-06-18T21:09:13.587Z"
   },
   {
    "duration": 3,
    "start_time": "2023-06-18T22:07:40.204Z"
   },
   {
    "duration": 21,
    "start_time": "2023-06-18T22:07:42.791Z"
   },
   {
    "duration": 27,
    "start_time": "2023-06-18T22:07:45.366Z"
   },
   {
    "duration": 319,
    "start_time": "2023-06-18T22:07:47.791Z"
   },
   {
    "duration": 117,
    "start_time": "2023-06-18T22:07:54.149Z"
   },
   {
    "duration": 23048,
    "start_time": "2023-06-18T22:07:58.983Z"
   },
   {
    "duration": 109,
    "start_time": "2023-06-18T22:11:13.614Z"
   },
   {
    "duration": 24410,
    "start_time": "2023-06-18T22:11:18.795Z"
   },
   {
    "duration": 61,
    "start_time": "2023-06-18T22:11:53.198Z"
   },
   {
    "duration": 261,
    "start_time": "2023-06-18T22:14:30.221Z"
   },
   {
    "duration": 257,
    "start_time": "2023-06-18T22:15:15.744Z"
   },
   {
    "duration": 287,
    "start_time": "2023-06-18T22:15:21.092Z"
   },
   {
    "duration": 233,
    "start_time": "2023-06-18T22:15:25.360Z"
   },
   {
    "duration": 233,
    "start_time": "2023-06-18T22:15:29.091Z"
   },
   {
    "duration": 236,
    "start_time": "2023-06-18T22:15:34.480Z"
   },
   {
    "duration": 240,
    "start_time": "2023-06-18T22:15:52.245Z"
   },
   {
    "duration": 233,
    "start_time": "2023-06-18T22:16:04.301Z"
   },
   {
    "duration": 246,
    "start_time": "2023-06-18T22:16:10.773Z"
   },
   {
    "duration": 247,
    "start_time": "2023-06-18T22:16:23.294Z"
   },
   {
    "duration": 233,
    "start_time": "2023-06-18T22:16:41.027Z"
   },
   {
    "duration": 270,
    "start_time": "2023-06-18T22:17:29.352Z"
   },
   {
    "duration": 256,
    "start_time": "2023-06-18T22:17:44.980Z"
   },
   {
    "duration": 182,
    "start_time": "2023-06-18T22:17:55.736Z"
   },
   {
    "duration": 261,
    "start_time": "2023-06-18T22:18:00.791Z"
   },
   {
    "duration": 36,
    "start_time": "2023-06-18T22:19:09.657Z"
   },
   {
    "duration": 343,
    "start_time": "2023-06-18T22:20:16.645Z"
   },
   {
    "duration": 9,
    "start_time": "2023-06-18T22:20:26.712Z"
   },
   {
    "duration": 10,
    "start_time": "2023-06-18T22:20:31.092Z"
   },
   {
    "duration": 56,
    "start_time": "2023-06-18T22:20:35.069Z"
   },
   {
    "duration": 201,
    "start_time": "2023-06-18T22:20:37.936Z"
   },
   {
    "duration": 43,
    "start_time": "2023-06-18T22:20:43.481Z"
   },
   {
    "duration": 241,
    "start_time": "2023-06-18T22:20:46.057Z"
   },
   {
    "duration": 4,
    "start_time": "2023-06-18T22:23:17.892Z"
   },
   {
    "duration": 771,
    "start_time": "2023-06-18T22:23:20.820Z"
   },
   {
    "duration": 138,
    "start_time": "2023-06-18T22:23:27.546Z"
   },
   {
    "duration": 893,
    "start_time": "2023-06-18T22:23:30.896Z"
   },
   {
    "duration": 89,
    "start_time": "2023-06-18T22:23:35.161Z"
   },
   {
    "duration": 380,
    "start_time": "2023-06-18T22:23:41.860Z"
   },
   {
    "duration": 150,
    "start_time": "2023-06-18T22:23:48.987Z"
   },
   {
    "duration": 25,
    "start_time": "2023-06-18T22:23:52.731Z"
   },
   {
    "duration": 5,
    "start_time": "2023-06-18T22:23:55.484Z"
   },
   {
    "duration": 101,
    "start_time": "2023-06-18T22:23:58.254Z"
   },
   {
    "duration": 6,
    "start_time": "2023-06-18T22:24:01.160Z"
   },
   {
    "duration": 268,
    "start_time": "2023-06-18T22:24:05.434Z"
   },
   {
    "duration": 202,
    "start_time": "2023-06-18T22:24:30.200Z"
   },
   {
    "duration": 248,
    "start_time": "2023-06-18T22:24:34.338Z"
   },
   {
    "duration": 114,
    "start_time": "2023-06-18T22:24:38.068Z"
   },
   {
    "duration": 228,
    "start_time": "2023-06-18T22:24:39.289Z"
   },
   {
    "duration": 4,
    "start_time": "2023-06-18T22:24:42.479Z"
   },
   {
    "duration": 55,
    "start_time": "2023-06-18T22:24:46.102Z"
   },
   {
    "duration": 4,
    "start_time": "2023-06-18T22:24:55.190Z"
   },
   {
    "duration": 21,
    "start_time": "2023-06-18T22:24:58.700Z"
   },
   {
    "duration": 23,
    "start_time": "2023-06-18T22:25:00.512Z"
   },
   {
    "duration": 364,
    "start_time": "2023-06-18T22:25:04.123Z"
   },
   {
    "duration": 101,
    "start_time": "2023-06-18T22:25:14.633Z"
   },
   {
    "duration": 24747,
    "start_time": "2023-06-18T22:25:19.343Z"
   },
   {
    "duration": 54,
    "start_time": "2023-06-18T22:25:51.188Z"
   },
   {
    "duration": 240,
    "start_time": "2023-06-18T22:25:57.367Z"
   },
   {
    "duration": 37,
    "start_time": "2023-06-18T22:26:04.037Z"
   },
   {
    "duration": 264,
    "start_time": "2023-06-18T22:28:25.589Z"
   },
   {
    "duration": 247,
    "start_time": "2023-06-18T22:29:03.790Z"
   },
   {
    "duration": 229,
    "start_time": "2023-06-18T22:29:35.157Z"
   },
   {
    "duration": 19,
    "start_time": "2023-06-18T22:30:44.990Z"
   },
   {
    "duration": 272,
    "start_time": "2023-06-18T22:31:53.061Z"
   },
   {
    "duration": 23,
    "start_time": "2023-06-18T22:32:03.944Z"
   },
   {
    "duration": 81,
    "start_time": "2023-06-18T22:35:00.028Z"
   },
   {
    "duration": 36,
    "start_time": "2023-06-18T22:35:27.201Z"
   },
   {
    "duration": 15,
    "start_time": "2023-06-18T22:36:44.413Z"
   },
   {
    "duration": 22,
    "start_time": "2023-06-18T22:36:56.985Z"
   },
   {
    "duration": 36,
    "start_time": "2023-06-18T22:37:29.042Z"
   },
   {
    "duration": 29,
    "start_time": "2023-06-18T22:37:46.985Z"
   },
   {
    "duration": 18,
    "start_time": "2023-06-18T22:40:16.222Z"
   },
   {
    "duration": 1070,
    "start_time": "2023-06-18T22:41:28.536Z"
   },
   {
    "duration": 1086,
    "start_time": "2023-06-18T22:41:59.948Z"
   },
   {
    "duration": 1063,
    "start_time": "2023-06-18T22:42:35.307Z"
   },
   {
    "duration": 1423,
    "start_time": "2023-06-18T22:42:53.137Z"
   },
   {
    "duration": 115,
    "start_time": "2023-06-18T22:43:54.846Z"
   },
   {
    "duration": 10,
    "start_time": "2023-06-18T22:45:55.360Z"
   },
   {
    "duration": 267,
    "start_time": "2023-06-18T22:45:59.653Z"
   },
   {
    "duration": 217,
    "start_time": "2023-06-18T22:46:02.803Z"
   },
   {
    "duration": 1558,
    "start_time": "2023-06-18T22:46:30.021Z"
   },
   {
    "duration": 834,
    "start_time": "2023-06-18T22:46:31.581Z"
   },
   {
    "duration": 132,
    "start_time": "2023-06-18T22:46:32.416Z"
   },
   {
    "duration": 1014,
    "start_time": "2023-06-18T22:46:32.549Z"
   },
   {
    "duration": 95,
    "start_time": "2023-06-18T22:46:33.564Z"
   },
   {
    "duration": 399,
    "start_time": "2023-06-18T22:46:33.660Z"
   },
   {
    "duration": 183,
    "start_time": "2023-06-18T22:46:34.061Z"
   },
   {
    "duration": 46,
    "start_time": "2023-06-18T22:46:34.245Z"
   },
   {
    "duration": 3,
    "start_time": "2023-06-18T22:46:34.292Z"
   },
   {
    "duration": 90,
    "start_time": "2023-06-18T22:46:34.297Z"
   },
   {
    "duration": 95,
    "start_time": "2023-06-18T22:46:34.388Z"
   },
   {
    "duration": 215,
    "start_time": "2023-06-18T22:46:34.484Z"
   },
   {
    "duration": 115,
    "start_time": "2023-06-18T22:46:34.701Z"
   },
   {
    "duration": 239,
    "start_time": "2023-06-18T22:46:34.818Z"
   },
   {
    "duration": 3,
    "start_time": "2023-06-18T22:46:35.059Z"
   },
   {
    "duration": 68,
    "start_time": "2023-06-18T22:46:35.067Z"
   },
   {
    "duration": 4,
    "start_time": "2023-06-18T22:46:35.136Z"
   },
   {
    "duration": 22,
    "start_time": "2023-06-18T22:46:35.141Z"
   },
   {
    "duration": 31,
    "start_time": "2023-06-18T22:46:35.168Z"
   },
   {
    "duration": 348,
    "start_time": "2023-06-18T22:46:35.201Z"
   },
   {
    "duration": 92,
    "start_time": "2023-06-18T22:46:35.551Z"
   },
   {
    "duration": 22810,
    "start_time": "2023-06-18T22:46:35.645Z"
   },
   {
    "duration": 64,
    "start_time": "2023-06-18T22:46:58.457Z"
   },
   {
    "duration": 233,
    "start_time": "2023-06-18T22:46:58.522Z"
   },
   {
    "duration": 236,
    "start_time": "2023-06-18T22:46:58.757Z"
   },
   {
    "duration": 29,
    "start_time": "2023-06-18T22:46:58.995Z"
   },
   {
    "duration": 1391,
    "start_time": "2023-06-18T22:46:59.026Z"
   },
   {
    "duration": 133,
    "start_time": "2023-06-18T22:47:00.420Z"
   },
   {
    "duration": 3,
    "start_time": "2023-06-18T22:47:00.555Z"
   },
   {
    "duration": 59,
    "start_time": "2023-06-18T22:47:00.570Z"
   },
   {
    "duration": 4,
    "start_time": "2023-06-18T22:47:00.631Z"
   },
   {
    "duration": 120,
    "start_time": "2023-06-18T22:47:00.637Z"
   },
   {
    "duration": 20,
    "start_time": "2023-06-18T22:47:00.759Z"
   },
   {
    "duration": 10407,
    "start_time": "2023-06-18T22:47:00.781Z"
   },
   {
    "duration": 95,
    "start_time": "2023-06-18T22:47:11.189Z"
   },
   {
    "duration": 57403,
    "start_time": "2023-06-18T22:47:11.286Z"
   },
   {
    "duration": 13,
    "start_time": "2023-06-18T22:48:08.691Z"
   },
   {
    "duration": 0,
    "start_time": "2023-06-18T22:48:08.706Z"
   },
   {
    "duration": 0,
    "start_time": "2023-06-18T22:48:08.781Z"
   },
   {
    "duration": 0,
    "start_time": "2023-06-18T22:48:08.782Z"
   },
   {
    "duration": 35,
    "start_time": "2023-06-18T22:48:09.563Z"
   },
   {
    "duration": 27,
    "start_time": "2023-06-18T22:48:22.563Z"
   },
   {
    "duration": 17,
    "start_time": "2023-06-18T22:48:52.608Z"
   },
   {
    "duration": 156,
    "start_time": "2023-06-18T23:03:17.695Z"
   },
   {
    "duration": 161,
    "start_time": "2023-06-18T23:05:38.543Z"
   },
   {
    "duration": 195,
    "start_time": "2023-06-18T23:05:42.360Z"
   },
   {
    "duration": 5,
    "start_time": "2023-06-18T23:07:44.765Z"
   },
   {
    "duration": 727,
    "start_time": "2023-06-18T23:07:55.803Z"
   },
   {
    "duration": 122,
    "start_time": "2023-06-18T23:07:58.851Z"
   },
   {
    "duration": 850,
    "start_time": "2023-06-18T23:08:00.918Z"
   },
   {
    "duration": 82,
    "start_time": "2023-06-18T23:08:19.394Z"
   },
   {
    "duration": 83,
    "start_time": "2023-06-18T23:08:24.604Z"
   },
   {
    "duration": 350,
    "start_time": "2023-06-18T23:08:26.950Z"
   },
   {
    "duration": 136,
    "start_time": "2023-06-18T23:08:58.806Z"
   },
   {
    "duration": 25,
    "start_time": "2023-06-18T23:09:02.518Z"
   },
   {
    "duration": 4,
    "start_time": "2023-06-18T23:09:04.006Z"
   },
   {
    "duration": 75,
    "start_time": "2023-06-18T23:09:11.367Z"
   },
   {
    "duration": 6,
    "start_time": "2023-06-18T23:09:14.126Z"
   },
   {
    "duration": 190,
    "start_time": "2023-06-18T23:09:17.703Z"
   },
   {
    "duration": 90,
    "start_time": "2023-06-18T23:09:27.251Z"
   },
   {
    "duration": 2,
    "start_time": "2023-06-18T23:09:29.067Z"
   },
   {
    "duration": 57,
    "start_time": "2023-06-18T23:09:38.564Z"
   },
   {
    "duration": 3,
    "start_time": "2023-06-18T23:09:42.157Z"
   },
   {
    "duration": 22,
    "start_time": "2023-06-18T23:09:48.369Z"
   },
   {
    "duration": 23,
    "start_time": "2023-06-18T23:09:50.165Z"
   },
   {
    "duration": 347,
    "start_time": "2023-06-18T23:09:53.176Z"
   },
   {
    "duration": 92,
    "start_time": "2023-06-18T23:10:02.713Z"
   },
   {
    "duration": 24687,
    "start_time": "2023-06-18T23:10:05.542Z"
   },
   {
    "duration": 56,
    "start_time": "2023-06-18T23:10:35.108Z"
   },
   {
    "duration": 224,
    "start_time": "2023-06-18T23:10:39.793Z"
   },
   {
    "duration": 222,
    "start_time": "2023-06-18T23:10:45.337Z"
   },
   {
    "duration": 32,
    "start_time": "2023-06-18T23:10:48.647Z"
   },
   {
    "duration": 18,
    "start_time": "2023-06-18T23:10:51.697Z"
   },
   {
    "duration": 1400,
    "start_time": "2023-06-18T23:11:07.321Z"
   },
   {
    "duration": 159,
    "start_time": "2023-06-18T23:11:22.470Z"
   },
   {
    "duration": 206,
    "start_time": "2023-06-18T23:11:25.607Z"
   },
   {
    "duration": 1358,
    "start_time": "2023-06-18T23:17:35.196Z"
   },
   {
    "duration": 154,
    "start_time": "2023-06-18T23:17:39.891Z"
   },
   {
    "duration": 189,
    "start_time": "2023-06-18T23:17:43.092Z"
   },
   {
    "duration": 1486,
    "start_time": "2023-06-18T23:17:57.168Z"
   },
   {
    "duration": 751,
    "start_time": "2023-06-18T23:17:58.656Z"
   },
   {
    "duration": 124,
    "start_time": "2023-06-18T23:17:59.408Z"
   },
   {
    "duration": 958,
    "start_time": "2023-06-18T23:17:59.534Z"
   },
   {
    "duration": 92,
    "start_time": "2023-06-18T23:18:00.493Z"
   },
   {
    "duration": 371,
    "start_time": "2023-06-18T23:18:00.586Z"
   },
   {
    "duration": 175,
    "start_time": "2023-06-18T23:18:00.959Z"
   },
   {
    "duration": 40,
    "start_time": "2023-06-18T23:18:01.135Z"
   },
   {
    "duration": 48,
    "start_time": "2023-06-18T23:18:01.177Z"
   },
   {
    "duration": 116,
    "start_time": "2023-06-18T23:18:01.228Z"
   },
   {
    "duration": 98,
    "start_time": "2023-06-18T23:18:01.345Z"
   },
   {
    "duration": 262,
    "start_time": "2023-06-18T23:18:01.445Z"
   },
   {
    "duration": 114,
    "start_time": "2023-06-18T23:18:01.709Z"
   },
   {
    "duration": 2,
    "start_time": "2023-06-18T23:18:01.825Z"
   },
   {
    "duration": 92,
    "start_time": "2023-06-18T23:18:01.829Z"
   },
   {
    "duration": 25,
    "start_time": "2023-06-18T23:18:01.923Z"
   },
   {
    "duration": 43,
    "start_time": "2023-06-18T23:18:01.950Z"
   },
   {
    "duration": 55,
    "start_time": "2023-06-18T23:18:01.995Z"
   },
   {
    "duration": 390,
    "start_time": "2023-06-18T23:18:02.052Z"
   },
   {
    "duration": 101,
    "start_time": "2023-06-18T23:18:02.444Z"
   },
   {
    "duration": 25477,
    "start_time": "2023-06-18T23:18:02.547Z"
   },
   {
    "duration": 64,
    "start_time": "2023-06-18T23:18:28.026Z"
   },
   {
    "duration": 222,
    "start_time": "2023-06-18T23:18:28.092Z"
   },
   {
    "duration": 225,
    "start_time": "2023-06-18T23:18:28.316Z"
   },
   {
    "duration": 36,
    "start_time": "2023-06-18T23:18:28.543Z"
   },
   {
    "duration": 18,
    "start_time": "2023-06-18T23:18:28.580Z"
   },
   {
    "duration": 1330,
    "start_time": "2023-06-18T23:18:28.599Z"
   },
   {
    "duration": 165,
    "start_time": "2023-06-18T23:18:29.931Z"
   },
   {
    "duration": 228,
    "start_time": "2023-06-18T23:18:30.098Z"
   },
   {
    "duration": 4,
    "start_time": "2023-06-18T23:18:30.327Z"
   },
   {
    "duration": 68,
    "start_time": "2023-06-18T23:18:30.332Z"
   },
   {
    "duration": 4,
    "start_time": "2023-06-18T23:18:30.401Z"
   },
   {
    "duration": 133,
    "start_time": "2023-06-18T23:18:30.407Z"
   },
   {
    "duration": 4,
    "start_time": "2023-06-18T23:18:30.542Z"
   },
   {
    "duration": 6022,
    "start_time": "2023-06-18T23:18:30.547Z"
   },
   {
    "duration": 195,
    "start_time": "2023-06-18T23:18:36.571Z"
   },
   {
    "duration": 11314,
    "start_time": "2023-06-18T23:18:36.768Z"
   },
   {
    "duration": 13,
    "start_time": "2023-06-18T23:18:48.084Z"
   },
   {
    "duration": 0,
    "start_time": "2023-06-18T23:18:48.098Z"
   },
   {
    "duration": 0,
    "start_time": "2023-06-18T23:18:48.099Z"
   },
   {
    "duration": 0,
    "start_time": "2023-06-18T23:18:48.100Z"
   },
   {
    "duration": 1288,
    "start_time": "2023-06-18T23:19:33.937Z"
   },
   {
    "duration": 1310,
    "start_time": "2023-06-18T23:19:54.994Z"
   },
   {
    "duration": 1350,
    "start_time": "2023-06-18T23:20:17.991Z"
   },
   {
    "duration": 169,
    "start_time": "2023-06-18T23:21:03.093Z"
   },
   {
    "duration": 202,
    "start_time": "2023-06-18T23:21:07.298Z"
   },
   {
    "duration": 1447,
    "start_time": "2023-06-18T23:21:19.313Z"
   },
   {
    "duration": 849,
    "start_time": "2023-06-18T23:21:20.761Z"
   },
   {
    "duration": 149,
    "start_time": "2023-06-18T23:21:21.611Z"
   },
   {
    "duration": 1044,
    "start_time": "2023-06-18T23:21:21.763Z"
   },
   {
    "duration": 93,
    "start_time": "2023-06-18T23:21:22.809Z"
   },
   {
    "duration": 363,
    "start_time": "2023-06-18T23:21:22.903Z"
   },
   {
    "duration": 163,
    "start_time": "2023-06-18T23:21:23.267Z"
   },
   {
    "duration": 44,
    "start_time": "2023-06-18T23:21:23.432Z"
   },
   {
    "duration": 2,
    "start_time": "2023-06-18T23:21:23.478Z"
   },
   {
    "duration": 88,
    "start_time": "2023-06-18T23:21:23.483Z"
   },
   {
    "duration": 76,
    "start_time": "2023-06-18T23:21:23.572Z"
   },
   {
    "duration": 243,
    "start_time": "2023-06-18T23:21:23.649Z"
   },
   {
    "duration": 125,
    "start_time": "2023-06-18T23:21:23.893Z"
   },
   {
    "duration": 3,
    "start_time": "2023-06-18T23:21:24.020Z"
   },
   {
    "duration": 75,
    "start_time": "2023-06-18T23:21:24.025Z"
   },
   {
    "duration": 3,
    "start_time": "2023-06-18T23:21:24.102Z"
   },
   {
    "duration": 23,
    "start_time": "2023-06-18T23:21:24.107Z"
   },
   {
    "duration": 38,
    "start_time": "2023-06-18T23:21:24.131Z"
   },
   {
    "duration": 365,
    "start_time": "2023-06-18T23:21:24.171Z"
   },
   {
    "duration": 97,
    "start_time": "2023-06-18T23:21:24.537Z"
   },
   {
    "duration": 24629,
    "start_time": "2023-06-18T23:21:24.635Z"
   },
   {
    "duration": 57,
    "start_time": "2023-06-18T23:21:49.265Z"
   },
   {
    "duration": 234,
    "start_time": "2023-06-18T23:21:49.324Z"
   },
   {
    "duration": 229,
    "start_time": "2023-06-18T23:21:49.559Z"
   },
   {
    "duration": 36,
    "start_time": "2023-06-18T23:21:49.789Z"
   },
   {
    "duration": 17,
    "start_time": "2023-06-18T23:21:49.827Z"
   },
   {
    "duration": 194,
    "start_time": "2023-06-18T23:21:49.845Z"
   },
   {
    "duration": 222,
    "start_time": "2023-06-18T23:21:50.043Z"
   },
   {
    "duration": 3,
    "start_time": "2023-06-18T23:21:50.268Z"
   },
   {
    "duration": 52,
    "start_time": "2023-06-18T23:21:50.273Z"
   },
   {
    "duration": 4,
    "start_time": "2023-06-18T23:21:50.327Z"
   },
   {
    "duration": 111,
    "start_time": "2023-06-18T23:21:50.332Z"
   },
   {
    "duration": 3,
    "start_time": "2023-06-18T23:21:50.445Z"
   },
   {
    "duration": 6536,
    "start_time": "2023-06-18T23:21:50.450Z"
   },
   {
    "duration": 206,
    "start_time": "2023-06-18T23:21:56.988Z"
   },
   {
    "duration": 11686,
    "start_time": "2023-06-18T23:21:57.196Z"
   },
   {
    "duration": 13,
    "start_time": "2023-06-18T23:22:08.884Z"
   },
   {
    "duration": 0,
    "start_time": "2023-06-18T23:22:08.898Z"
   },
   {
    "duration": 0,
    "start_time": "2023-06-18T23:22:08.899Z"
   },
   {
    "duration": 0,
    "start_time": "2023-06-18T23:22:08.900Z"
   },
   {
    "duration": 164,
    "start_time": "2023-06-18T23:22:26.093Z"
   },
   {
    "duration": 157,
    "start_time": "2023-06-18T23:22:31.934Z"
   },
   {
    "duration": 194,
    "start_time": "2023-06-18T23:22:37.742Z"
   },
   {
    "duration": 1657,
    "start_time": "2023-06-19T17:54:49.415Z"
   },
   {
    "duration": 1189,
    "start_time": "2023-06-19T17:54:54.390Z"
   },
   {
    "duration": 130,
    "start_time": "2023-06-19T17:54:57.384Z"
   },
   {
    "duration": 1182,
    "start_time": "2023-06-19T17:54:58.955Z"
   },
   {
    "duration": 104,
    "start_time": "2023-06-19T17:55:02.591Z"
   },
   {
    "duration": 361,
    "start_time": "2023-06-19T17:55:04.523Z"
   },
   {
    "duration": 158,
    "start_time": "2023-06-19T17:55:09.770Z"
   },
   {
    "duration": 46,
    "start_time": "2023-06-19T17:55:12.432Z"
   },
   {
    "duration": 2,
    "start_time": "2023-06-19T17:55:14.142Z"
   },
   {
    "duration": 70,
    "start_time": "2023-06-19T17:55:16.654Z"
   },
   {
    "duration": 12,
    "start_time": "2023-06-19T17:55:18.375Z"
   },
   {
    "duration": 326,
    "start_time": "2023-06-19T17:55:22.406Z"
   },
   {
    "duration": 114,
    "start_time": "2023-06-19T17:55:24.956Z"
   },
   {
    "duration": 3,
    "start_time": "2023-06-19T17:55:26.340Z"
   },
   {
    "duration": 56,
    "start_time": "2023-06-19T17:55:30.535Z"
   },
   {
    "duration": 3,
    "start_time": "2023-06-19T17:55:32.970Z"
   },
   {
    "duration": 21,
    "start_time": "2023-06-19T17:55:34.509Z"
   },
   {
    "duration": 22,
    "start_time": "2023-06-19T17:55:35.849Z"
   },
   {
    "duration": 99,
    "start_time": "2023-06-19T17:55:42.758Z"
   },
   {
    "duration": 27281,
    "start_time": "2023-06-19T17:55:46.118Z"
   },
   {
    "duration": 89,
    "start_time": "2023-06-19T17:56:20.686Z"
   },
   {
    "duration": 252,
    "start_time": "2023-06-19T17:56:25.967Z"
   },
   {
    "duration": 242,
    "start_time": "2023-06-19T17:56:29.442Z"
   },
   {
    "duration": 35,
    "start_time": "2023-06-19T17:56:34.550Z"
   },
   {
    "duration": 20,
    "start_time": "2023-06-19T17:56:37.422Z"
   },
   {
    "duration": 182,
    "start_time": "2023-06-19T17:56:42.643Z"
   },
   {
    "duration": 228,
    "start_time": "2023-06-19T17:56:47.115Z"
   },
   {
    "duration": 4,
    "start_time": "2023-06-19T17:56:56.283Z"
   },
   {
    "duration": 58,
    "start_time": "2023-06-19T17:57:02.528Z"
   },
   {
    "duration": 5,
    "start_time": "2023-06-19T17:57:06.716Z"
   },
   {
    "duration": 5,
    "start_time": "2023-06-19T17:57:08.225Z"
   },
   {
    "duration": 114,
    "start_time": "2023-06-19T17:57:20.980Z"
   },
   {
    "duration": 5,
    "start_time": "2023-06-19T17:58:01.647Z"
   },
   {
    "duration": 171,
    "start_time": "2023-06-19T17:58:10.731Z"
   },
   {
    "duration": 41,
    "start_time": "2023-06-19T17:58:54.076Z"
   },
   {
    "duration": 959,
    "start_time": "2023-06-19T17:59:03.505Z"
   },
   {
    "duration": 131,
    "start_time": "2023-06-19T17:59:06.655Z"
   },
   {
    "duration": 1204,
    "start_time": "2023-06-19T17:59:08.284Z"
   },
   {
    "duration": 115,
    "start_time": "2023-06-19T17:59:11.486Z"
   },
   {
    "duration": 417,
    "start_time": "2023-06-19T17:59:13.959Z"
   },
   {
    "duration": 148,
    "start_time": "2023-06-19T17:59:16.096Z"
   },
   {
    "duration": 32,
    "start_time": "2023-06-19T17:59:17.832Z"
   },
   {
    "duration": 3,
    "start_time": "2023-06-19T17:59:19.422Z"
   },
   {
    "duration": 82,
    "start_time": "2023-06-19T17:59:21.508Z"
   },
   {
    "duration": 9,
    "start_time": "2023-06-19T17:59:23.646Z"
   },
   {
    "duration": 294,
    "start_time": "2023-06-19T17:59:27.303Z"
   },
   {
    "duration": 108,
    "start_time": "2023-06-19T17:59:29.296Z"
   },
   {
    "duration": 76,
    "start_time": "2023-06-19T18:00:00.432Z"
   },
   {
    "duration": 3,
    "start_time": "2023-06-19T18:00:01.965Z"
   },
   {
    "duration": 58,
    "start_time": "2023-06-19T18:00:06.196Z"
   },
   {
    "duration": 4,
    "start_time": "2023-06-19T18:00:08.096Z"
   },
   {
    "duration": 25,
    "start_time": "2023-06-19T18:00:09.563Z"
   },
   {
    "duration": 24,
    "start_time": "2023-06-19T18:00:10.844Z"
   },
   {
    "duration": 364,
    "start_time": "2023-06-19T18:04:42.969Z"
   },
   {
    "duration": 285,
    "start_time": "2023-06-19T18:04:52.041Z"
   },
   {
    "duration": 389,
    "start_time": "2023-06-19T18:05:00.168Z"
   },
   {
    "duration": 249,
    "start_time": "2023-06-19T18:05:07.239Z"
   },
   {
    "duration": 274,
    "start_time": "2023-06-19T18:05:15.316Z"
   },
   {
    "duration": 250,
    "start_time": "2023-06-19T18:05:20.157Z"
   },
   {
    "duration": 191,
    "start_time": "2023-06-19T18:05:25.102Z"
   },
   {
    "duration": 195,
    "start_time": "2023-06-19T18:05:29.198Z"
   },
   {
    "duration": 69,
    "start_time": "2023-06-19T18:05:39.347Z"
   },
   {
    "duration": 3,
    "start_time": "2023-06-19T18:05:41.793Z"
   },
   {
    "duration": 56,
    "start_time": "2023-06-19T18:05:44.218Z"
   },
   {
    "duration": 3,
    "start_time": "2023-06-19T18:05:46.974Z"
   },
   {
    "duration": 20,
    "start_time": "2023-06-19T18:05:48.965Z"
   },
   {
    "duration": 24,
    "start_time": "2023-06-19T18:05:51.659Z"
   },
   {
    "duration": 432,
    "start_time": "2023-06-19T18:05:55.971Z"
   },
   {
    "duration": 96,
    "start_time": "2023-06-19T18:06:46.977Z"
   },
   {
    "duration": 26667,
    "start_time": "2023-06-19T18:06:50.255Z"
   },
   {
    "duration": 59,
    "start_time": "2023-06-19T18:08:48.910Z"
   },
   {
    "duration": 269,
    "start_time": "2023-06-19T18:08:52.537Z"
   },
   {
    "duration": 371,
    "start_time": "2023-06-19T18:08:54.731Z"
   },
   {
    "duration": 35,
    "start_time": "2023-06-19T18:08:56.909Z"
   },
   {
    "duration": 32,
    "start_time": "2023-06-19T18:08:58.450Z"
   },
   {
    "duration": 164,
    "start_time": "2023-06-19T18:09:01.184Z"
   },
   {
    "duration": 230,
    "start_time": "2023-06-19T18:09:06.349Z"
   },
   {
    "duration": 4,
    "start_time": "2023-06-19T18:09:10.569Z"
   },
   {
    "duration": 62,
    "start_time": "2023-06-19T18:09:15.287Z"
   },
   {
    "duration": 6,
    "start_time": "2023-06-19T18:09:18.190Z"
   },
   {
    "duration": 108,
    "start_time": "2023-06-19T18:09:22.559Z"
   },
   {
    "duration": 12,
    "start_time": "2023-06-19T18:13:31.505Z"
   },
   {
    "duration": 12,
    "start_time": "2023-06-19T18:14:21.989Z"
   },
   {
    "duration": 15,
    "start_time": "2023-06-19T18:43:53.500Z"
   },
   {
    "duration": 5,
    "start_time": "2023-06-19T18:48:23.089Z"
   },
   {
    "duration": 51162,
    "start_time": "2023-06-19T18:48:28.032Z"
   },
   {
    "duration": 74,
    "start_time": "2023-06-19T19:18:16.161Z"
   },
   {
    "duration": 70,
    "start_time": "2023-06-19T19:18:16.363Z"
   },
   {
    "duration": 7,
    "start_time": "2023-06-19T19:20:17.094Z"
   },
   {
    "duration": 799,
    "start_time": "2023-06-19T19:20:20.025Z"
   },
   {
    "duration": 128,
    "start_time": "2023-06-19T19:20:23.165Z"
   },
   {
    "duration": 958,
    "start_time": "2023-06-19T19:20:24.365Z"
   },
   {
    "duration": 94,
    "start_time": "2023-06-19T19:20:27.475Z"
   },
   {
    "duration": 413,
    "start_time": "2023-06-19T19:20:29.152Z"
   },
   {
    "duration": 135,
    "start_time": "2023-06-19T19:20:37.142Z"
   },
   {
    "duration": 40,
    "start_time": "2023-06-19T19:20:39.054Z"
   },
   {
    "duration": 4,
    "start_time": "2023-06-19T19:20:42.938Z"
   },
   {
    "duration": 84,
    "start_time": "2023-06-19T19:20:47.953Z"
   },
   {
    "duration": 8,
    "start_time": "2023-06-19T19:20:49.817Z"
   },
   {
    "duration": 247,
    "start_time": "2023-06-19T19:20:51.258Z"
   },
   {
    "duration": 111,
    "start_time": "2023-06-19T19:20:53.365Z"
   },
   {
    "duration": 3,
    "start_time": "2023-06-19T19:20:54.399Z"
   },
   {
    "duration": 54,
    "start_time": "2023-06-19T19:20:57.274Z"
   },
   {
    "duration": 4,
    "start_time": "2023-06-19T19:20:59.068Z"
   },
   {
    "duration": 22,
    "start_time": "2023-06-19T19:21:00.544Z"
   },
   {
    "duration": 23,
    "start_time": "2023-06-19T19:21:04.546Z"
   },
   {
    "duration": 418,
    "start_time": "2023-06-19T19:21:22.892Z"
   },
   {
    "duration": 111,
    "start_time": "2023-06-19T19:21:27.854Z"
   },
   {
    "duration": 28394,
    "start_time": "2023-06-19T19:21:30.015Z"
   },
   {
    "duration": 53,
    "start_time": "2023-06-19T19:22:11.924Z"
   },
   {
    "duration": 262,
    "start_time": "2023-06-19T19:22:46.689Z"
   },
   {
    "duration": 275,
    "start_time": "2023-06-19T19:22:49.885Z"
   },
   {
    "duration": 37,
    "start_time": "2023-06-19T19:22:53.514Z"
   },
   {
    "duration": 21,
    "start_time": "2023-06-19T19:22:56.309Z"
   },
   {
    "duration": 180,
    "start_time": "2023-06-19T19:22:59.724Z"
   },
   {
    "duration": 268,
    "start_time": "2023-06-19T19:23:02.332Z"
   },
   {
    "duration": 3,
    "start_time": "2023-06-19T19:23:06.215Z"
   },
   {
    "duration": 58,
    "start_time": "2023-06-19T19:23:09.701Z"
   },
   {
    "duration": 6,
    "start_time": "2023-06-19T19:23:12.796Z"
   },
   {
    "duration": 135,
    "start_time": "2023-06-19T19:23:23.740Z"
   },
   {
    "duration": 5,
    "start_time": "2023-06-19T19:23:35.850Z"
   },
   {
    "duration": 360323,
    "start_time": "2023-06-19T19:23:46.640Z"
   },
   {
    "duration": 119167,
    "start_time": "2023-06-19T20:09:39.787Z"
   },
   {
    "duration": 18,
    "start_time": "2023-06-19T20:11:50.976Z"
   },
   {
    "duration": 5,
    "start_time": "2023-06-19T20:11:54.495Z"
   },
   {
    "duration": 381719,
    "start_time": "2023-06-19T20:12:12.779Z"
   },
   {
    "duration": 7694026,
    "start_time": "2023-06-19T20:18:34.500Z"
   },
   {
    "duration": 298747,
    "start_time": "2023-06-19T22:26:48.528Z"
   },
   {
    "duration": 14,
    "start_time": "2023-06-19T22:31:47.277Z"
   },
   {
    "duration": 0,
    "start_time": "2023-06-19T22:31:47.293Z"
   },
   {
    "duration": 0,
    "start_time": "2023-06-19T22:31:47.294Z"
   },
   {
    "duration": 0,
    "start_time": "2023-06-19T22:31:47.295Z"
   },
   {
    "duration": 0,
    "start_time": "2023-06-19T22:31:47.298Z"
   },
   {
    "duration": 3215832,
    "start_time": "2023-06-19T22:41:51.633Z"
   },
   {
    "duration": 211351,
    "start_time": "2023-06-19T23:44:35.885Z"
   },
   {
    "duration": 117301,
    "start_time": "2023-06-19T23:48:09.752Z"
   },
   {
    "duration": 16109,
    "start_time": "2023-06-20T00:45:49.150Z"
   },
   {
    "duration": 59757,
    "start_time": "2023-06-20T00:46:33.395Z"
   },
   {
    "duration": 5,
    "start_time": "2023-06-20T00:48:43.342Z"
   },
   {
    "duration": 711,
    "start_time": "2023-06-20T00:48:47.140Z"
   },
   {
    "duration": 115,
    "start_time": "2023-06-20T00:48:49.349Z"
   },
   {
    "duration": 931,
    "start_time": "2023-06-20T00:48:50.871Z"
   },
   {
    "duration": 92,
    "start_time": "2023-06-20T00:48:53.710Z"
   },
   {
    "duration": 365,
    "start_time": "2023-06-20T00:48:55.394Z"
   },
   {
    "duration": 136,
    "start_time": "2023-06-20T00:48:57.811Z"
   },
   {
    "duration": 32,
    "start_time": "2023-06-20T00:48:59.508Z"
   },
   {
    "duration": 3,
    "start_time": "2023-06-20T00:49:01.258Z"
   },
   {
    "duration": 65,
    "start_time": "2023-06-20T00:49:03.144Z"
   },
   {
    "duration": 6,
    "start_time": "2023-06-20T00:49:04.727Z"
   },
   {
    "duration": 222,
    "start_time": "2023-06-20T00:49:07.159Z"
   },
   {
    "duration": 81,
    "start_time": "2023-06-20T00:49:09.341Z"
   },
   {
    "duration": 3,
    "start_time": "2023-06-20T00:49:10.824Z"
   },
   {
    "duration": 49,
    "start_time": "2023-06-20T00:49:13.617Z"
   },
   {
    "duration": 3,
    "start_time": "2023-06-20T00:49:15.561Z"
   },
   {
    "duration": 21,
    "start_time": "2023-06-20T00:49:17.096Z"
   },
   {
    "duration": 22,
    "start_time": "2023-06-20T00:49:18.404Z"
   },
   {
    "duration": 416,
    "start_time": "2023-06-20T00:49:22.161Z"
   },
   {
    "duration": 96,
    "start_time": "2023-06-20T00:49:26.734Z"
   },
   {
    "duration": 25809,
    "start_time": "2023-06-20T00:49:28.903Z"
   },
   {
    "duration": 52,
    "start_time": "2023-06-20T00:50:00.303Z"
   },
   {
    "duration": 249,
    "start_time": "2023-06-20T00:50:05.673Z"
   },
   {
    "duration": 234,
    "start_time": "2023-06-20T00:50:09.020Z"
   },
   {
    "duration": 37,
    "start_time": "2023-06-20T00:50:11.072Z"
   },
   {
    "duration": 18,
    "start_time": "2023-06-20T00:50:12.599Z"
   },
   {
    "duration": 170,
    "start_time": "2023-06-20T00:50:17.179Z"
   },
   {
    "duration": 237,
    "start_time": "2023-06-20T00:50:21.107Z"
   },
   {
    "duration": 4,
    "start_time": "2023-06-20T00:50:24.366Z"
   },
   {
    "duration": 58,
    "start_time": "2023-06-20T00:50:27.048Z"
   },
   {
    "duration": 5,
    "start_time": "2023-06-20T00:50:29.333Z"
   },
   {
    "duration": 100,
    "start_time": "2023-06-20T00:50:36.398Z"
   },
   {
    "duration": 4,
    "start_time": "2023-06-20T00:50:46.294Z"
   },
   {
    "duration": 6547,
    "start_time": "2023-06-20T00:50:56.912Z"
   },
   {
    "duration": 12995,
    "start_time": "2023-06-20T00:51:10.831Z"
   },
   {
    "duration": 169072,
    "start_time": "2023-06-20T00:52:04.190Z"
   },
   {
    "duration": 1498435,
    "start_time": "2023-06-20T00:55:54.728Z"
   },
   {
    "duration": 12659,
    "start_time": "2023-06-20T01:23:21.299Z"
   },
   {
    "duration": 13,
    "start_time": "2023-06-20T01:23:47.703Z"
   },
   {
    "duration": 13389,
    "start_time": "2023-06-20T01:26:54.579Z"
   },
   {
    "duration": 12,
    "start_time": "2023-06-20T01:27:26.212Z"
   },
   {
    "duration": 9,
    "start_time": "2023-06-20T01:29:02.747Z"
   },
   {
    "duration": 16,
    "start_time": "2023-06-20T01:29:13.046Z"
   },
   {
    "duration": 1451,
    "start_time": "2023-06-20T01:31:01.274Z"
   },
   {
    "duration": 793,
    "start_time": "2023-06-20T01:31:02.727Z"
   },
   {
    "duration": 105,
    "start_time": "2023-06-20T01:31:03.521Z"
   },
   {
    "duration": 996,
    "start_time": "2023-06-20T01:31:03.628Z"
   },
   {
    "duration": 94,
    "start_time": "2023-06-20T01:31:04.626Z"
   },
   {
    "duration": 359,
    "start_time": "2023-06-20T01:31:04.722Z"
   },
   {
    "duration": 160,
    "start_time": "2023-06-20T01:31:05.083Z"
   },
   {
    "duration": 41,
    "start_time": "2023-06-20T01:31:05.245Z"
   },
   {
    "duration": 3,
    "start_time": "2023-06-20T01:31:05.287Z"
   },
   {
    "duration": 95,
    "start_time": "2023-06-20T01:31:05.293Z"
   },
   {
    "duration": 10,
    "start_time": "2023-06-20T01:31:05.390Z"
   },
   {
    "duration": 276,
    "start_time": "2023-06-20T01:31:05.402Z"
   },
   {
    "duration": 113,
    "start_time": "2023-06-20T01:31:05.680Z"
   },
   {
    "duration": 2,
    "start_time": "2023-06-20T01:31:05.795Z"
   },
   {
    "duration": 75,
    "start_time": "2023-06-20T01:31:05.799Z"
   },
   {
    "duration": 38,
    "start_time": "2023-06-20T01:31:05.876Z"
   },
   {
    "duration": 50,
    "start_time": "2023-06-20T01:31:05.915Z"
   },
   {
    "duration": 65,
    "start_time": "2023-06-20T01:31:05.967Z"
   },
   {
    "duration": 525,
    "start_time": "2023-06-20T01:31:06.034Z"
   },
   {
    "duration": 112,
    "start_time": "2023-06-20T01:31:06.560Z"
   },
   {
    "duration": 27194,
    "start_time": "2023-06-20T01:31:06.674Z"
   },
   {
    "duration": 49,
    "start_time": "2023-06-20T01:31:33.871Z"
   },
   {
    "duration": 256,
    "start_time": "2023-06-20T01:31:33.922Z"
   },
   {
    "duration": 242,
    "start_time": "2023-06-20T01:31:34.181Z"
   },
   {
    "duration": 40,
    "start_time": "2023-06-20T01:31:34.425Z"
   },
   {
    "duration": 19,
    "start_time": "2023-06-20T01:31:34.466Z"
   },
   {
    "duration": 180,
    "start_time": "2023-06-20T01:31:34.487Z"
   },
   {
    "duration": 229,
    "start_time": "2023-06-20T01:31:34.670Z"
   },
   {
    "duration": 3,
    "start_time": "2023-06-20T01:31:34.901Z"
   },
   {
    "duration": 67,
    "start_time": "2023-06-20T01:31:34.905Z"
   },
   {
    "duration": 4,
    "start_time": "2023-06-20T01:31:34.973Z"
   },
   {
    "duration": 111,
    "start_time": "2023-06-20T01:31:34.979Z"
   },
   {
    "duration": 5,
    "start_time": "2023-06-20T01:31:35.091Z"
   },
   {
    "duration": 8477,
    "start_time": "2023-06-20T01:31:35.097Z"
   },
   {
    "duration": 2202550,
    "start_time": "2023-06-20T01:31:43.576Z"
   },
   {
    "duration": 1375324,
    "start_time": "2023-06-20T02:08:26.128Z"
   },
   {
    "duration": 41,
    "start_time": "2023-06-20T02:31:21.454Z"
   },
   {
    "duration": 0,
    "start_time": "2023-06-20T02:31:21.505Z"
   },
   {
    "duration": 0,
    "start_time": "2023-06-20T02:31:21.509Z"
   },
   {
    "duration": 0,
    "start_time": "2023-06-20T02:31:21.511Z"
   },
   {
    "duration": 0,
    "start_time": "2023-06-20T02:31:21.514Z"
   },
   {
    "duration": 1699,
    "start_time": "2023-06-20T02:39:44.331Z"
   },
   {
    "duration": 1070,
    "start_time": "2023-06-20T02:39:46.032Z"
   },
   {
    "duration": 150,
    "start_time": "2023-06-20T02:39:47.110Z"
   },
   {
    "duration": 1319,
    "start_time": "2023-06-20T02:39:47.263Z"
   },
   {
    "duration": 131,
    "start_time": "2023-06-20T02:39:48.586Z"
   },
   {
    "duration": 500,
    "start_time": "2023-06-20T02:39:48.724Z"
   },
   {
    "duration": 244,
    "start_time": "2023-06-20T02:39:49.227Z"
   },
   {
    "duration": 51,
    "start_time": "2023-06-20T02:39:49.475Z"
   },
   {
    "duration": 6,
    "start_time": "2023-06-20T02:39:49.528Z"
   },
   {
    "duration": 108,
    "start_time": "2023-06-20T02:39:49.536Z"
   },
   {
    "duration": 14,
    "start_time": "2023-06-20T02:39:49.646Z"
   },
   {
    "duration": 309,
    "start_time": "2023-06-20T02:39:49.662Z"
   },
   {
    "duration": 134,
    "start_time": "2023-06-20T02:39:49.973Z"
   },
   {
    "duration": 4,
    "start_time": "2023-06-20T02:39:50.109Z"
   },
   {
    "duration": 91,
    "start_time": "2023-06-20T02:39:50.115Z"
   },
   {
    "duration": 4,
    "start_time": "2023-06-20T02:39:50.211Z"
   },
   {
    "duration": 45,
    "start_time": "2023-06-20T02:39:50.217Z"
   },
   {
    "duration": 65,
    "start_time": "2023-06-20T02:39:50.264Z"
   },
   {
    "duration": 739,
    "start_time": "2023-06-20T02:39:50.331Z"
   },
   {
    "duration": 147,
    "start_time": "2023-06-20T02:39:51.073Z"
   },
   {
    "duration": 36173,
    "start_time": "2023-06-20T02:39:51.222Z"
   },
   {
    "duration": 88,
    "start_time": "2023-06-20T02:40:27.397Z"
   },
   {
    "duration": 363,
    "start_time": "2023-06-20T02:40:27.487Z"
   },
   {
    "duration": 343,
    "start_time": "2023-06-20T02:40:27.860Z"
   },
   {
    "duration": 77,
    "start_time": "2023-06-20T02:40:28.204Z"
   },
   {
    "duration": 32,
    "start_time": "2023-06-20T02:40:28.282Z"
   },
   {
    "duration": 263,
    "start_time": "2023-06-20T02:40:28.316Z"
   },
   {
    "duration": 372,
    "start_time": "2023-06-20T02:40:28.584Z"
   },
   {
    "duration": 6,
    "start_time": "2023-06-20T02:40:28.959Z"
   },
   {
    "duration": 145,
    "start_time": "2023-06-20T02:40:28.967Z"
   },
   {
    "duration": 5,
    "start_time": "2023-06-20T02:40:29.115Z"
   },
   {
    "duration": 146,
    "start_time": "2023-06-20T02:40:29.121Z"
   },
   {
    "duration": 6,
    "start_time": "2023-06-20T02:40:29.269Z"
   },
   {
    "duration": 1597,
    "start_time": "2023-06-20T02:41:46.238Z"
   },
   {
    "duration": 1036,
    "start_time": "2023-06-20T02:41:47.838Z"
   },
   {
    "duration": 140,
    "start_time": "2023-06-20T02:41:48.876Z"
   },
   {
    "duration": 1290,
    "start_time": "2023-06-20T02:41:49.019Z"
   },
   {
    "duration": 129,
    "start_time": "2023-06-20T02:41:50.311Z"
   },
   {
    "duration": 528,
    "start_time": "2023-06-20T02:41:50.441Z"
   },
   {
    "duration": 208,
    "start_time": "2023-06-20T02:41:50.971Z"
   },
   {
    "duration": 51,
    "start_time": "2023-06-20T02:41:51.182Z"
   },
   {
    "duration": 13,
    "start_time": "2023-06-20T02:41:51.235Z"
   },
   {
    "duration": 243,
    "start_time": "2023-06-20T02:41:51.251Z"
   },
   {
    "duration": 116,
    "start_time": "2023-06-20T02:41:51.496Z"
   },
   {
    "duration": 393,
    "start_time": "2023-06-20T02:41:51.614Z"
   },
   {
    "duration": 160,
    "start_time": "2023-06-20T02:41:52.009Z"
   },
   {
    "duration": 7,
    "start_time": "2023-06-20T02:41:52.172Z"
   },
   {
    "duration": 85,
    "start_time": "2023-06-20T02:41:52.180Z"
   },
   {
    "duration": 51,
    "start_time": "2023-06-20T02:41:52.270Z"
   },
   {
    "duration": 57,
    "start_time": "2023-06-20T02:41:52.324Z"
   },
   {
    "duration": 46,
    "start_time": "2023-06-20T02:41:52.383Z"
   },
   {
    "duration": 609,
    "start_time": "2023-06-20T02:41:52.431Z"
   },
   {
    "duration": 126,
    "start_time": "2023-06-20T02:41:53.042Z"
   },
   {
    "duration": 33458,
    "start_time": "2023-06-20T02:41:53.170Z"
   },
   {
    "duration": 68,
    "start_time": "2023-06-20T02:42:26.630Z"
   },
   {
    "duration": 291,
    "start_time": "2023-06-20T02:42:26.700Z"
   },
   {
    "duration": 279,
    "start_time": "2023-06-20T02:42:26.994Z"
   },
   {
    "duration": 45,
    "start_time": "2023-06-20T02:42:27.277Z"
   },
   {
    "duration": 50,
    "start_time": "2023-06-20T02:42:27.324Z"
   },
   {
    "duration": 177,
    "start_time": "2023-06-20T02:42:27.378Z"
   },
   {
    "duration": 248,
    "start_time": "2023-06-20T02:42:27.559Z"
   },
   {
    "duration": 4,
    "start_time": "2023-06-20T02:42:27.809Z"
   },
   {
    "duration": 77,
    "start_time": "2023-06-20T02:42:27.814Z"
   },
   {
    "duration": 4,
    "start_time": "2023-06-20T02:42:27.893Z"
   },
   {
    "duration": 133,
    "start_time": "2023-06-20T02:42:27.899Z"
   },
   {
    "duration": 4,
    "start_time": "2023-06-20T02:42:28.034Z"
   },
   {
    "duration": 171170,
    "start_time": "2023-06-20T02:42:28.039Z"
   },
   {
    "duration": 34,
    "start_time": "2023-06-20T02:45:19.212Z"
   },
   {
    "duration": 0,
    "start_time": "2023-06-20T02:45:19.248Z"
   },
   {
    "duration": 0,
    "start_time": "2023-06-20T02:45:19.250Z"
   },
   {
    "duration": 0,
    "start_time": "2023-06-20T02:45:19.252Z"
   },
   {
    "duration": 0,
    "start_time": "2023-06-20T02:45:19.257Z"
   },
   {
    "duration": 0,
    "start_time": "2023-06-20T02:45:19.258Z"
   },
   {
    "duration": 929,
    "start_time": "2023-06-20T02:48:40.101Z"
   },
   {
    "duration": 6,
    "start_time": "2023-06-20T02:48:41.031Z"
   },
   {
    "duration": 8,
    "start_time": "2023-06-20T02:48:43.023Z"
   },
   {
    "duration": 919,
    "start_time": "2023-06-20T02:48:47.705Z"
   },
   {
    "duration": 128,
    "start_time": "2023-06-20T02:48:51.724Z"
   },
   {
    "duration": 1137,
    "start_time": "2023-06-20T02:48:54.772Z"
   },
   {
    "duration": 147,
    "start_time": "2023-06-20T02:48:58.202Z"
   },
   {
    "duration": 403,
    "start_time": "2023-06-20T02:49:00.192Z"
   },
   {
    "duration": 193,
    "start_time": "2023-06-20T02:49:03.142Z"
   },
   {
    "duration": 31,
    "start_time": "2023-06-20T02:49:05.219Z"
   },
   {
    "duration": 4,
    "start_time": "2023-06-20T02:49:06.879Z"
   },
   {
    "duration": 67,
    "start_time": "2023-06-20T02:49:09.079Z"
   },
   {
    "duration": 14,
    "start_time": "2023-06-20T02:49:11.467Z"
   },
   {
    "duration": 270,
    "start_time": "2023-06-20T02:49:13.039Z"
   },
   {
    "duration": 113,
    "start_time": "2023-06-20T02:49:14.812Z"
   },
   {
    "duration": 2,
    "start_time": "2023-06-20T02:49:16.192Z"
   },
   {
    "duration": 73,
    "start_time": "2023-06-20T02:49:19.729Z"
   },
   {
    "duration": 5,
    "start_time": "2023-06-20T02:49:22.480Z"
   },
   {
    "duration": 31,
    "start_time": "2023-06-20T02:49:23.630Z"
   },
   {
    "duration": 24,
    "start_time": "2023-06-20T02:49:25.091Z"
   },
   {
    "duration": 419,
    "start_time": "2023-06-20T02:49:27.011Z"
   },
   {
    "duration": 171,
    "start_time": "2023-06-20T02:49:32.367Z"
   },
   {
    "duration": 30081,
    "start_time": "2023-06-20T02:49:36.397Z"
   },
   {
    "duration": 67,
    "start_time": "2023-06-20T02:50:18.682Z"
   },
   {
    "duration": 299,
    "start_time": "2023-06-20T02:50:22.875Z"
   },
   {
    "duration": 306,
    "start_time": "2023-06-20T02:50:26.892Z"
   },
   {
    "duration": 47,
    "start_time": "2023-06-20T02:50:30.048Z"
   },
   {
    "duration": 19,
    "start_time": "2023-06-20T02:50:31.685Z"
   },
   {
    "duration": 199,
    "start_time": "2023-06-20T02:50:34.034Z"
   },
   {
    "duration": 250,
    "start_time": "2023-06-20T02:50:36.110Z"
   },
   {
    "duration": 7,
    "start_time": "2023-06-20T02:50:39.849Z"
   },
   {
    "duration": 69,
    "start_time": "2023-06-20T02:50:44.846Z"
   },
   {
    "duration": 5,
    "start_time": "2023-06-20T02:50:46.796Z"
   },
   {
    "duration": 123,
    "start_time": "2023-06-20T02:50:54.883Z"
   },
   {
    "duration": 5,
    "start_time": "2023-06-20T02:51:00.390Z"
   },
   {
    "duration": 1613,
    "start_time": "2023-06-20T02:54:57.337Z"
   },
   {
    "duration": 1102,
    "start_time": "2023-06-20T02:54:58.955Z"
   },
   {
    "duration": 131,
    "start_time": "2023-06-20T02:55:00.059Z"
   },
   {
    "duration": 1232,
    "start_time": "2023-06-20T02:55:00.192Z"
   },
   {
    "duration": 116,
    "start_time": "2023-06-20T02:55:01.426Z"
   },
   {
    "duration": 427,
    "start_time": "2023-06-20T02:55:01.554Z"
   },
   {
    "duration": 167,
    "start_time": "2023-06-20T02:55:01.983Z"
   },
   {
    "duration": 45,
    "start_time": "2023-06-20T02:55:02.152Z"
   },
   {
    "duration": 61,
    "start_time": "2023-06-20T02:55:02.198Z"
   },
   {
    "duration": 154,
    "start_time": "2023-06-20T02:55:02.267Z"
   },
   {
    "duration": 10,
    "start_time": "2023-06-20T02:55:02.423Z"
   },
   {
    "duration": 262,
    "start_time": "2023-06-20T02:55:02.435Z"
   },
   {
    "duration": 105,
    "start_time": "2023-06-20T02:55:02.699Z"
   },
   {
    "duration": 11,
    "start_time": "2023-06-20T02:55:02.806Z"
   },
   {
    "duration": 133,
    "start_time": "2023-06-20T02:55:02.818Z"
   },
   {
    "duration": 38,
    "start_time": "2023-06-20T02:55:02.957Z"
   },
   {
    "duration": 33,
    "start_time": "2023-06-20T02:55:02.997Z"
   },
   {
    "duration": 62,
    "start_time": "2023-06-20T02:55:03.031Z"
   },
   {
    "duration": 527,
    "start_time": "2023-06-20T02:55:03.095Z"
   },
   {
    "duration": 113,
    "start_time": "2023-06-20T02:55:03.624Z"
   },
   {
    "duration": 30087,
    "start_time": "2023-06-20T02:55:03.739Z"
   },
   {
    "duration": 69,
    "start_time": "2023-06-20T02:55:33.828Z"
   },
   {
    "duration": 291,
    "start_time": "2023-06-20T02:55:33.899Z"
   },
   {
    "duration": 270,
    "start_time": "2023-06-20T02:55:34.191Z"
   },
   {
    "duration": 37,
    "start_time": "2023-06-20T02:55:34.465Z"
   },
   {
    "duration": 18,
    "start_time": "2023-06-20T02:55:34.504Z"
   },
   {
    "duration": 190,
    "start_time": "2023-06-20T02:55:34.524Z"
   },
   {
    "duration": 260,
    "start_time": "2023-06-20T02:55:34.717Z"
   },
   {
    "duration": 5,
    "start_time": "2023-06-20T02:55:34.978Z"
   },
   {
    "duration": 88,
    "start_time": "2023-06-20T02:55:34.985Z"
   },
   {
    "duration": 9,
    "start_time": "2023-06-20T02:55:35.074Z"
   },
   {
    "duration": 148,
    "start_time": "2023-06-20T02:55:35.085Z"
   },
   {
    "duration": 5,
    "start_time": "2023-06-20T02:55:35.235Z"
   },
   {
    "duration": 1705,
    "start_time": "2023-06-20T03:01:08.571Z"
   },
   {
    "duration": 1043,
    "start_time": "2023-06-20T03:01:10.278Z"
   },
   {
    "duration": 147,
    "start_time": "2023-06-20T03:01:11.323Z"
   },
   {
    "duration": 1257,
    "start_time": "2023-06-20T03:01:11.472Z"
   },
   {
    "duration": 118,
    "start_time": "2023-06-20T03:01:12.730Z"
   },
   {
    "duration": 461,
    "start_time": "2023-06-20T03:01:12.850Z"
   },
   {
    "duration": 200,
    "start_time": "2023-06-20T03:01:13.312Z"
   },
   {
    "duration": 45,
    "start_time": "2023-06-20T03:01:13.514Z"
   },
   {
    "duration": 41,
    "start_time": "2023-06-20T03:01:13.562Z"
   },
   {
    "duration": 86,
    "start_time": "2023-06-20T03:01:13.606Z"
   },
   {
    "duration": 17,
    "start_time": "2023-06-20T03:01:13.694Z"
   },
   {
    "duration": 297,
    "start_time": "2023-06-20T03:01:13.713Z"
   },
   {
    "duration": 119,
    "start_time": "2023-06-20T03:01:14.012Z"
   },
   {
    "duration": 3,
    "start_time": "2023-06-20T03:01:14.133Z"
   },
   {
    "duration": 91,
    "start_time": "2023-06-20T03:01:14.137Z"
   },
   {
    "duration": 4,
    "start_time": "2023-06-20T03:01:14.229Z"
   },
   {
    "duration": 56,
    "start_time": "2023-06-20T03:01:14.235Z"
   },
   {
    "duration": 37,
    "start_time": "2023-06-20T03:01:14.293Z"
   },
   {
    "duration": 614,
    "start_time": "2023-06-20T03:01:14.332Z"
   },
   {
    "duration": 143,
    "start_time": "2023-06-20T03:01:14.948Z"
   },
   {
    "duration": 31377,
    "start_time": "2023-06-20T03:01:15.099Z"
   },
   {
    "duration": 59,
    "start_time": "2023-06-20T03:01:46.479Z"
   },
   {
    "duration": 323,
    "start_time": "2023-06-20T03:01:46.541Z"
   },
   {
    "duration": 298,
    "start_time": "2023-06-20T03:01:46.869Z"
   },
   {
    "duration": 45,
    "start_time": "2023-06-20T03:01:47.169Z"
   },
   {
    "duration": 19,
    "start_time": "2023-06-20T03:01:47.215Z"
   },
   {
    "duration": 215,
    "start_time": "2023-06-20T03:01:47.236Z"
   },
   {
    "duration": 271,
    "start_time": "2023-06-20T03:01:47.454Z"
   },
   {
    "duration": 3,
    "start_time": "2023-06-20T03:01:47.727Z"
   },
   {
    "duration": 78,
    "start_time": "2023-06-20T03:01:47.732Z"
   },
   {
    "duration": 4,
    "start_time": "2023-06-20T03:01:47.812Z"
   },
   {
    "duration": 134,
    "start_time": "2023-06-20T03:01:47.818Z"
   },
   {
    "duration": 7,
    "start_time": "2023-06-20T03:01:47.954Z"
   },
   {
    "duration": 381388,
    "start_time": "2023-06-20T03:01:47.969Z"
   },
   {
    "duration": 91,
    "start_time": "2023-06-20T03:08:09.359Z"
   },
   {
    "duration": 0,
    "start_time": "2023-06-20T03:08:09.458Z"
   },
   {
    "duration": 0,
    "start_time": "2023-06-20T03:08:09.459Z"
   },
   {
    "duration": 0,
    "start_time": "2023-06-20T03:08:09.460Z"
   },
   {
    "duration": 0,
    "start_time": "2023-06-20T03:08:09.461Z"
   },
   {
    "duration": 0,
    "start_time": "2023-06-20T03:08:09.462Z"
   },
   {
    "duration": 175276,
    "start_time": "2023-06-20T03:12:57.655Z"
   },
   {
    "duration": 1802,
    "start_time": "2023-06-20T03:19:34.680Z"
   },
   {
    "duration": 1034,
    "start_time": "2023-06-20T03:19:36.488Z"
   },
   {
    "duration": 148,
    "start_time": "2023-06-20T03:19:37.523Z"
   },
   {
    "duration": 1403,
    "start_time": "2023-06-20T03:19:37.673Z"
   },
   {
    "duration": 118,
    "start_time": "2023-06-20T03:19:39.081Z"
   },
   {
    "duration": 515,
    "start_time": "2023-06-20T03:19:39.201Z"
   },
   {
    "duration": 200,
    "start_time": "2023-06-20T03:19:39.718Z"
   },
   {
    "duration": 65,
    "start_time": "2023-06-20T03:19:39.921Z"
   },
   {
    "duration": 19,
    "start_time": "2023-06-20T03:19:39.991Z"
   },
   {
    "duration": 185,
    "start_time": "2023-06-20T03:19:40.014Z"
   },
   {
    "duration": 10,
    "start_time": "2023-06-20T03:19:40.201Z"
   },
   {
    "duration": 325,
    "start_time": "2023-06-20T03:19:40.213Z"
   },
   {
    "duration": 177,
    "start_time": "2023-06-20T03:19:40.540Z"
   },
   {
    "duration": 3,
    "start_time": "2023-06-20T03:19:40.719Z"
   },
   {
    "duration": 86,
    "start_time": "2023-06-20T03:19:40.724Z"
   },
   {
    "duration": 17,
    "start_time": "2023-06-20T03:19:40.812Z"
   },
   {
    "duration": 40,
    "start_time": "2023-06-20T03:19:40.831Z"
   },
   {
    "duration": 51,
    "start_time": "2023-06-20T03:19:40.876Z"
   },
   {
    "duration": 626,
    "start_time": "2023-06-20T03:19:40.929Z"
   },
   {
    "duration": 143,
    "start_time": "2023-06-20T03:19:41.557Z"
   },
   {
    "duration": 35039,
    "start_time": "2023-06-20T03:19:41.703Z"
   },
   {
    "duration": 73,
    "start_time": "2023-06-20T03:20:16.744Z"
   },
   {
    "duration": 311,
    "start_time": "2023-06-20T03:20:16.819Z"
   },
   {
    "duration": 311,
    "start_time": "2023-06-20T03:20:17.132Z"
   },
   {
    "duration": 53,
    "start_time": "2023-06-20T03:20:17.444Z"
   },
   {
    "duration": 22,
    "start_time": "2023-06-20T03:20:17.499Z"
   },
   {
    "duration": 223,
    "start_time": "2023-06-20T03:20:17.523Z"
   },
   {
    "duration": 279,
    "start_time": "2023-06-20T03:20:17.752Z"
   },
   {
    "duration": 5,
    "start_time": "2023-06-20T03:20:18.033Z"
   },
   {
    "duration": 130,
    "start_time": "2023-06-20T03:20:18.040Z"
   },
   {
    "duration": 18,
    "start_time": "2023-06-20T03:20:18.173Z"
   },
   {
    "duration": 171,
    "start_time": "2023-06-20T03:20:18.193Z"
   },
   {
    "duration": 17,
    "start_time": "2023-06-20T03:20:18.369Z"
   },
   {
    "duration": 240998,
    "start_time": "2023-06-20T03:20:18.389Z"
   },
   {
    "duration": 20519,
    "start_time": "2023-06-20T03:24:19.390Z"
   }
  ],
  "kernelspec": {
   "display_name": "Python 3 (ipykernel)",
   "language": "python",
   "name": "python3"
  },
  "language_info": {
   "codemirror_mode": {
    "name": "ipython",
    "version": 3
   },
   "file_extension": ".py",
   "mimetype": "text/x-python",
   "name": "python",
   "nbconvert_exporter": "python",
   "pygments_lexer": "ipython3",
   "version": "3.9.13"
  },
  "toc": {
   "base_numbering": 1,
   "nav_menu": {},
   "number_sections": true,
   "sideBar": true,
   "skip_h1_title": true,
   "title_cell": "Table of Contents",
   "title_sidebar": "Contents",
   "toc_cell": false,
   "toc_position": {
    "height": "calc(100% - 180px)",
    "left": "10px",
    "top": "150px",
    "width": "371px"
   },
   "toc_section_display": true,
   "toc_window_display": true
  }
 },
 "nbformat": 4,
 "nbformat_minor": 2
}
